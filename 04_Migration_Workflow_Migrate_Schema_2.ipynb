{
 "cells": [
  {
   "attachments": {},
   "cell_type": "markdown",
   "metadata": {
    "deletable": false,
    "editable": false
   },
   "source": [
    "<div style=\"width:100%; background-color: #000041\"><a target=\"_blank\" href=\"http://university.yugabyte.com\"><img src=\"assets/YBU_Logo.png\" /></a></div><br>\n",
    "\n",
    "> **Migrate and Modernize with YugabyteDB Voyager**\n",
    ">\n",
    "> Enroll for free at [Yugabyte University](https://university.yugabyte.com/courses/YugabyteDB-Voyager).\n",
    ">\n",
    "\n",
    "<br>\n",
    "This notebook file is:\n",
    "\n",
    "`04_Migration_Workflow_Migrate_Schema_2.ipynb`"
   ]
  },
  {
   "attachments": {},
   "cell_type": "markdown",
   "metadata": {},
   "source": [
    "## 🛠️ Requirements\n",
    "Here are the requirements for this notebook:\n",
    "- ✅ Create the notebook variables in `01_Lab_Setup.ipynb`, which you previously did\n",
    "- ✅ Create the `db_ybu` database, which you previously did\n",
    "- ☑️ A Python 3.12 or higher kernel for the notebook, *which you need to select right now!!!*\n",
    "- ☑️ Import the notebook variables, *which you must do next*\n",
    "- ☑️ Migrate schema workflow (2), *which you must do next*\n",
    "\n",
    "\n",
    "### Select your notebook kernel\n",
    "- In the Notebook toolbar, click **Select Kernel**.\n",
    "<br>\n",
    "<img width=50% src=\"assets/01_01_Select_Kernel_Toolbar.png\" />\n",
    "\n",
    "- Next, in the dropdown, select **Python 3.12** or higher.\n",
    "<br>\n",
    "<img width=50% src=\"assets/01_02_Select_Kernel_Dropdown.png\" />\n",
    "\n",
    "That's it!"
   ]
  },
  {
   "attachments": {},
   "cell_type": "markdown",
   "metadata": {},
   "source": [
    "## ⛑️ Getting help\n",
    "The best way to get help us from the Yugabyte University team. You can post your question in YugabyteDB Community Slack in the #training or #yb-university channels. Join our [community](https://communityinviter.com/apps/yugabyte-db/register)."
   ]
  },
  {
   "attachments": {},
   "cell_type": "markdown",
   "metadata": {
    "deletable": false,
    "editable": false
   },
   "source": [
    "## 👣 Set up steps for this notebook\n",
    "Here are the steps to setup this lab:\n",
    "\n",
    "- Import the notebook variables"
   ]
  },
  {
   "attachments": {},
   "cell_type": "markdown",
   "metadata": {
    "deletable": false,
    "editable": false
   },
   "source": [
    "### 👇 Import the notebook variables\n",
    "\n",
    "> 👉 IMPORTANT! 👈\n",
    "> \n",
    "> Do **NOT** skip running the following cell. \n",
    "> \n",
    "\n",
    "The following Python cell reads the stored variables created in the `01_Lab_Setup.ipynb` notebook. To run the script, select Execute Cell (Play Arrow) in the left gutter of the cell. \n",
    "\n",
    "👇 👇 👇 "
   ]
  },
  {
   "cell_type": "code",
   "execution_count": null,
   "metadata": {
    "deletable": false,
    "editable": false
   },
   "outputs": [],
   "source": [
    "# Use %store -r to read 01_Lab_Setup variables\n",
    "%store -r \n",
    "%config SqlMagic.autopandas=False\n",
    "# %config SqlMagic.named_parameters=True\n",
    "%config SqlMagic.displaylimit=30\n",
    "%config SqlMagic.displaycon=False"
   ]
  },
  {
   "cell_type": "markdown",
   "metadata": {},
   "source": [
    "**Update the notebook styling**"
   ]
  },
  {
   "cell_type": "code",
   "execution_count": null,
   "metadata": {},
   "outputs": [],
   "source": [
    "from IPython.core.display import HTML\n",
    "def css_styling():\n",
    "    styles = open(\"./styles/custom.css\", \"r\").read()\n",
    "    return HTML(styles)\n",
    "css_styling()"
   ]
  },
  {
   "cell_type": "markdown",
   "metadata": {},
   "source": [
    "---\n",
    "# Workflow: Migrate schema (2)\n",
    "\n",
    "\n",
    "<div style=\"width:100%; background-color: #000041\"><img src=\"assets/MVOY100_03_2-Migrate_Schema_2.png\" /></div>"
   ]
  },
  {
   "cell_type": "markdown",
   "metadata": {},
   "source": [
    "---\n",
    "# Import the modified schema\n",
    "\n",
    " `yb-voyager` imports the source database into the `public` schema of the target database. This is applicable only for MySQL and Oracle databases. \n",
    " \n",
    " By specifying `--target-db-schema` argument during import, you can instruct `yb-voyager` to create a non-public schema and use it for the import.\n",
    "\n"
   ]
  },
  {
   "cell_type": "code",
   "execution_count": null,
   "metadata": {
    "vscode": {
     "languageId": "shellscript"
    }
   },
   "outputs": [],
   "source": [
    "%%bash\n",
    "\n",
    "yb-voyager import schema --help"
   ]
  },
  {
   "cell_type": "markdown",
   "metadata": {},
   "source": [
    "Import the modified schema to the target YugabyteDB database using the `yb-voyager import schema` command."
   ]
  },
  {
   "cell_type": "code",
   "execution_count": null,
   "metadata": {
    "vscode": {
     "languageId": "shellscript"
    }
   },
   "outputs": [],
   "source": [
    "%%bash -s \"$NB_DB_NAME\"  \"$NB_DB_PORT\" \"$NB_HOST_IPv4_01\" \"$NB_NOTEBOOK_VOYAGER_TMP\"\n",
    "DB_NAME=${1}\n",
    "DB_PORT=${2}\n",
    "DB_HOST=${3}\n",
    "NOTEBOOK_VOYAGER_TMP=${4}\n",
    "\n",
    "yb-voyager import schema  -y  \\\n",
    "  --start-clean true \\\n",
    "  --export-dir $NOTEBOOK_VOYAGER_TMP/export-dir \\\n",
    "  --target-db-host ${DB_HOST} \\\n",
    "  --target-db-port  ${DB_PORT} \\\n",
    "  --target-db-name  ${DB_NAME} \\\n",
    "  --target-db-user \"ybvoyager\" \\\n",
    "  --target-db-password \"Password\" \\\n",
    "  --target-db-schema \"sakila\"\n"
   ]
  },
  {
   "cell_type": "markdown",
   "metadata": {},
   "source": [
    "That raised an error: \n",
    "\n",
    "`ERROR: in an aggregate with DISTINCT, ORDER BY expressions must appear in argument list (SQLSTATE 42P10)`\n",
    "\n",
    "There may be more than one!"
   ]
  },
  {
   "cell_type": "markdown",
   "metadata": {},
   "source": [
    "---\n",
    "## Resolve the schema import issues"
   ]
  },
  {
   "cell_type": "markdown",
   "metadata": {},
   "source": [
    "Oh no! Errors!\n",
    "\n",
    "Grep the log files to get a better understanding of the related errors. Start with the first one that has to do with a table. Typically resolving errors with the DDL of a table will help solve other errors with views and other dependent objects."
   ]
  },
  {
   "cell_type": "code",
   "execution_count": null,
   "metadata": {
    "vscode": {
     "languageId": "shellscript"
    }
   },
   "outputs": [],
   "source": [
    "%%bash -s \"$NB_NOTEBOOK_VOYAGER_TMP\"\n",
    "NOTEBOOK_VOYAGER_TMP=${1}\n",
    "IMPORT_SCHEMA_LOG=yb-voyager-import-schema.log\n",
    " \n",
    "tail -n 2000 $NOTEBOOK_VOYAGER_TMP/export-dir/logs/$IMPORT_SCHEMA_LOG| grep 'SQLSTATE'"
   ]
  },
  {
   "cell_type": "markdown",
   "metadata": {},
   "source": [
    "The logs reveal two main issues:\n",
    "-  `DDL Execution Failed`\n",
    "-  `ERROR: in an aggregate with DISTINCT, ORDER BY expressions must appear in argument list (SQLSTATE 42P10)`.  \n",
    "\n",
    "The first issue `DDL Execution Failed` issue is with the `CREATE TABLE address`. There is an error code for the failed execution:\n",
    "`ERROR: type \"geometry\" does not exist (SQLSTATE 42704)`.\n",
    "\n",
    "Begin by resolving the issue this `CREATE TABLE address` statement."
   ]
  },
  {
   "cell_type": "markdown",
   "metadata": {},
   "source": [
    "```\n",
    "ERROR importData.go:942 DDL Execution Failed for \"CREATE TABLE address (\\n\\taddress_id serial,\\n\\taddress varchar(50) NOT NULL,\\n\\taddress2 varchar(50),\\n\\tdistrict varchar(20) NOT NULL,\\n\\tcity_id integer NOT NULL,\\n\\tpostal_code varchar(10),\\n\\tphone varchar(20) NOT NULL,\\n\\tlocation GEOMETRY NOT NULL,\\n\\tlast_update timestamp NOT NULL DEFAULT CURRENT_TIMESTAMP,\\n\\tPRIMARY KEY (address_id)\\n) ;\": ERROR: type \"geometry\" does not exist (SQLSTATE 42704)\n",
    "```"
   ]
  },
  {
   "cell_type": "markdown",
   "metadata": {},
   "source": [
    "View the table definition from the source database as well as row."
   ]
  },
  {
   "cell_type": "code",
   "execution_count": null,
   "metadata": {
    "vscode": {
     "languageId": "shellscript"
    }
   },
   "outputs": [],
   "source": [
    "%%bash -s \"$NB_MYSQL_DB_NAME\"  # create database\n",
    "DB_NAME=${1}\n",
    "\n",
    "mysql -h 0 -u root ${DB_NAME} -e \"SHOW CREATE TABLE address; \"  \n",
    "mysql -h 0 -u root ${DB_NAME} -e \"select location from address where location is not null limit 1; \"  "
   ]
  },
  {
   "cell_type": "markdown",
   "metadata": {},
   "source": [
    "The GEOMETRY datatype for  MYSQL 8.0+ an be in several formats:\n",
    "- Well-Known Text (WKT) Format\n",
    "- Well-Known Binary (WKB) Format\n",
    "- Internal Geometry Storage Format\n",
    "\n",
    "> Learn more\n",
    "> \n",
    "> For more details, visit:\n",
    "> [https://docs.yugabyte.com/preview/api/ysql/datatypes/type_binary/](https://docs.yugabyte.com/preview/api/ysql/datatypes/type_binary/)"
   ]
  },
  {
   "cell_type": "markdown",
   "metadata": {},
   "source": [
    "Modify the DDL of the `address` table to use a different datatype in the export schema file. Change the data type to a binary data type, `BYTEA`, which is variable length binary string. "
   ]
  },
  {
   "cell_type": "code",
   "execution_count": null,
   "metadata": {
    "vscode": {
     "languageId": "shellscript"
    }
   },
   "outputs": [],
   "source": [
    "%%bash -s \"$NB_NOTEBOOK_VOYAGER_TMP\"\n",
    "NOTEBOOK_VOYAGER_TMP=${1}\n",
    "\n",
    "SEARCH=\"GEOMETRY\"\n",
    "REPLACE=\"BYTEA\"\n",
    "FILE_PATH=$NOTEBOOK_VOYAGER_TMP/export-dir/schema/tables/table.sql\n",
    "\n",
    "sed -i \"s/$SEARCH/$REPLACE/\" $FILE_PATH"
   ]
  },
  {
   "cell_type": "markdown",
   "metadata": {},
   "source": [
    "Confirm the change to the file."
   ]
  },
  {
   "cell_type": "code",
   "execution_count": null,
   "metadata": {
    "vscode": {
     "languageId": "shellscript"
    }
   },
   "outputs": [],
   "source": [
    "%%bash -s \"$NB_NOTEBOOK_VOYAGER_TMP\"\n",
    "NOTEBOOK_VOYAGER_TMP=${1}\n",
    "\n",
    "FILE_PATH=$NOTEBOOK_VOYAGER_TMP/export-dir/schema/tables/table.sql\n",
    "\n",
    "cat $FILE_PATH  | grep -B 10 'BYTEA'"
   ]
  },
  {
   "cell_type": "markdown",
   "metadata": {},
   "source": [
    "The next issues is with the `actor_info` view. The DDL failed due because of issue with the keyword `distinct`:\n",
    "-  `ERROR: in an aggregate with DISTINCT, ORDER BY expressions must appear in argument list (SQLSTATE 42P10)`.  \n",
    "\n",
    "Continue by resolving this issue."
   ]
  },
  {
   "cell_type": "code",
   "execution_count": null,
   "metadata": {
    "vscode": {
     "languageId": "shellscript"
    }
   },
   "outputs": [],
   "source": [
    "%%bash -s \"$NB_NOTEBOOK_VOYAGER_TMP\"\n",
    "NOTEBOOK_VOYAGER_TMP=${1}\n",
    "\n",
    "FILE_PATH=$NOTEBOOK_VOYAGER_TMP/export-dir/schema/views/view.sql\n",
    "\n",
    "cat $FILE_PATH  | grep -A 1 'CREATE OR REPLACE VIEW actor_info'"
   ]
  },
  {
   "cell_type": "markdown",
   "metadata": {},
   "source": [
    "The challenge here has to do with the functions, `array_to_string() and array_agg()` . \n",
    "\n",
    "These are being used to replace the `group_concat()` built-in function of MySQL. \n",
    "\n",
    "The best solution, which is long, is to comment out the view, and after successfully importing the schema and data, do the following: \n",
    "- create the `_group_concat` function \n",
    "- create the `group_concat` aggregate function \n",
    "- create the `actor_info` view that uses the `group_concat` function \n",
    "\n",
    "The solution looks something like the following, but **don't execute this cell**, just review the code:"
   ]
  },
  {
   "cell_type": "code",
   "execution_count": null,
   "metadata": {
    "vscode": {
     "languageId": "sql"
    }
   },
   "outputs": [],
   "source": [
    "/* Do NOT run this cell, it's for illustration only */\n",
    "CREATE FUNCTION _group_concat(text, text) RETURNS text\n",
    "    AS $_$\n",
    "SELECT CASE\n",
    "  WHEN $2 IS NULL THEN $1\n",
    "  WHEN $1 IS NULL THEN $2\n",
    "  ELSE $1 || ', ' || $2\n",
    "END\n",
    "$_$\n",
    "LANGUAGE sql IMMUTABLE;\n",
    "\n",
    "\n",
    "ALTER FUNCTION sakila._group_concat(text, text) OWNER TO yugabyte;\n",
    "\n",
    "\n",
    "CREATE AGGREGATE group_concat(text) (\n",
    "    SFUNC = _group_concat,\n",
    "    STYPE = text\n",
    ");\n",
    "\n",
    "\n",
    "ALTER AGGREGATE sakila.group_concat(text) OWNER TO yugabyte;\n",
    "\n",
    "DROP VIEW  actor_info;\n",
    "CREATE VIEW actor_info AS\n",
    "    SELECT a.actor_id, \n",
    "    a.first_name, \n",
    "    a.last_name, \n",
    "    group_concat(DISTINCT (((c.name)::text || ': '::text) || (SELECT group_concat((f.title)::text) AS group_concat FROM ((film f JOIN film_category fc ON ((f.film_id = fc.film_id))) JOIN film_actor fa ON ((f.film_id = fa.film_id))) WHERE ((fc.category_id = c.category_id) AND (fa.actor_id = a.actor_id)) GROUP BY fa.actor_id))) AS film_info \n",
    "    FROM (((actor a LEFT JOIN film_actor fa ON ((a.actor_id = fa.actor_id))) LEFT JOIN film_category fc ON ((fa.film_id = fc.film_id))) LEFT JOIN category c ON ((fc.category_id = c.category_id))) \n",
    "    GROUP BY a.actor_id, a.first_name, a.last_name;"
   ]
  },
  {
   "cell_type": "markdown",
   "metadata": {},
   "source": [
    "But for now, simply remove the distinct clause from the view."
   ]
  },
  {
   "cell_type": "code",
   "execution_count": null,
   "metadata": {
    "vscode": {
     "languageId": "sql"
    }
   },
   "outputs": [],
   "source": [
    "%%bash -s \"$NB_NOTEBOOK_VOYAGER_TMP\"\n",
    "NOTEBOOK_VOYAGER_TMP=${1}\n",
    "\n",
    "SEARCH=\"distinct\"\n",
    "REPLACE=\"\"\n",
    "FILE_PATH=$NOTEBOOK_VOYAGER_TMP/export-dir/schema/views/view.sql\n",
    "\n",
    "sed -i \"s/$SEARCH/$REPLACE/\" $FILE_PATH"
   ]
  },
  {
   "cell_type": "markdown",
   "metadata": {},
   "source": [
    "---\n",
    "## Rinse & Repeat (1): Import the modified schema and resolve DDL errors"
   ]
  },
  {
   "cell_type": "code",
   "execution_count": null,
   "metadata": {
    "vscode": {
     "languageId": "shellscript"
    }
   },
   "outputs": [],
   "source": [
    "%%bash -s \"$NB_DB_NAME\"  \"$NB_DB_PORT\" \"$NB_HOST_IPv4_01\" \"$NB_NOTEBOOK_VOYAGER_TMP\"\n",
    "DB_NAME=${1}\n",
    "DB_PORT=${2}\n",
    "DB_HOST=${3}\n",
    "NOTEBOOK_VOYAGER_TMP=${4}\n",
    "IMPORT_SCHEMA_LOG=yb-voyager-import-schema.log\n",
    "\n",
    "# delete the log so that we can get a fresh view\n",
    "rm -rf $NOTEBOOK_VOYAGER_TMP/export-dir/logs/$IMPORT_SCHEMA_LOG\n",
    "\n",
    "yb-voyager import schema -y  \\\n",
    "  --start-clean true \\\n",
    "  --export-dir $NOTEBOOK_VOYAGER_TMP/export-dir \\\n",
    "  --target-db-host ${DB_HOST} \\\n",
    "  --target-db-port  ${DB_PORT} \\\n",
    "  --target-db-name  ${DB_NAME} \\\n",
    "  --target-db-user \"ybvoyager\" \\\n",
    "  --target-db-password \"Password\" \\\n",
    "  --target-db-schema \"sakila\" \n"
   ]
  },
  {
   "cell_type": "markdown",
   "metadata": {},
   "source": [
    "Ah, more import schema errors! Take a look at the `yb-voyager-import-schema.log` file."
   ]
  },
  {
   "cell_type": "code",
   "execution_count": null,
   "metadata": {
    "vscode": {
     "languageId": "shellscript"
    }
   },
   "outputs": [],
   "source": [
    "%%bash -s \"$NB_NOTEBOOK_VOYAGER_TMP\"\n",
    "NOTEBOOK_VOYAGER_TMP=${1}\n",
    "IMPORT_SCHEMA_LOG=yb-voyager-import-schema.log\n",
    " \n",
    "tail -n 2000 $NOTEBOOK_VOYAGER_TMP/export-dir/logs/$IMPORT_SCHEMA_LOG| grep 'SQLSTATE'"
   ]
  },
  {
   "cell_type": "markdown",
   "metadata": {},
   "source": [
    "Resolve another error. In this case, look at the error for the view, `customer_list`."
   ]
  },
  {
   "cell_type": "markdown",
   "metadata": {},
   "source": [
    "```\n",
    "DDL Execution Failed for \"CREATE OR REPLACE VIEW customer_list AS select cu.customer_id AS ID,concat(cu.first_name,' ',cu.last_name) AS name,a.address AS address,a.postal_code AS zip code,a.phone AS phone,city.city AS city,country.country AS country,CASE WHEN cu.active THEN 'active' ELSE '' END  AS notes,cu.store_id AS SID FROM (((customer cu join address a on (cu.address_id = a.address_id)) join city on (a.city_id = city.city_id)) join country on (city.country_id = country.country_id));\": ERROR: syntax error at or near \"code\" (SQLSTATE 42601)\n",
    "```\n"
   ]
  },
  {
   "cell_type": "markdown",
   "metadata": {},
   "source": [
    "Use sed or the open editor to make your changes."
   ]
  },
  {
   "cell_type": "code",
   "execution_count": null,
   "metadata": {
    "vscode": {
     "languageId": "shellscript"
    }
   },
   "outputs": [],
   "source": [
    "%%bash -s \"$NB_NOTEBOOK_VOYAGER_TMP\"\n",
    "NOTEBOOK_VOYAGER_TMP=${1}\n",
    "\n",
    "SEARCH=\"zip code\"\n",
    "REPLACE=\"zip_code\"\n",
    "FILE_PATH=$NOTEBOOK_VOYAGER_TMP/export-dir/schema/views/view.sql\n",
    "\n",
    "sed -i \"s/$SEARCH/$REPLACE/\" $FILE_PATH\n",
    "gp open $FILE_PATH"
   ]
  },
  {
   "cell_type": "markdown",
   "metadata": {},
   "source": [
    "Verify the change."
   ]
  },
  {
   "cell_type": "code",
   "execution_count": null,
   "metadata": {
    "vscode": {
     "languageId": "shellscript"
    }
   },
   "outputs": [],
   "source": [
    "%%bash -s \"$NB_NOTEBOOK_VOYAGER_TMP\"\n",
    "NOTEBOOK_VOYAGER_TMP=${1}\n",
    "\n",
    "FILE_PATH=$NOTEBOOK_VOYAGER_TMP/export-dir/schema/views/view.sql\n",
    "\n",
    "cat $FILE_PATH  | grep 'zip_code'"
   ]
  },
  {
   "cell_type": "markdown",
   "metadata": {},
   "source": [
    "The operation resolved two errors with the space in the `zip code` column name, for both the  `customer_list` and `staff_list` views."
   ]
  },
  {
   "cell_type": "markdown",
   "metadata": {},
   "source": [
    "---\n",
    "## Rinse & Repeat (2): Import the modified schema and resolve DDL errors"
   ]
  },
  {
   "cell_type": "code",
   "execution_count": null,
   "metadata": {
    "vscode": {
     "languageId": "shellscript"
    }
   },
   "outputs": [],
   "source": [
    "%%bash -s \"$NB_DB_NAME\"  \"$NB_DB_PORT\" \"$NB_HOST_IPv4_01\" \"$NB_NOTEBOOK_VOYAGER_TMP\"\n",
    "DB_NAME=${1}\n",
    "DB_PORT=${2}\n",
    "DB_HOST=${3}\n",
    "NOTEBOOK_VOYAGER_TMP=${4}\n",
    "IMPORT_SCHEMA_LOG=yb-voyager-import-schema.log\n",
    "\n",
    "# delete the log so that we can get a fresh view\n",
    "rm -rf $NOTEBOOK_VOYAGER_TMP/export-dir/logs/$IMPORT_SCHEMA_LOG\n",
    "\n",
    "yb-voyager import schema  -y  \\\n",
    "  --start-clean true \\\n",
    "  --export-dir $NOTEBOOK_VOYAGER_TMP/export-dir \\\n",
    "  --target-db-host ${DB_HOST} \\\n",
    "  --target-db-port  ${DB_PORT} \\\n",
    "  --target-db-name  ${DB_NAME} \\\n",
    "  --target-db-user \"ybvoyager\" \\\n",
    "  --target-db-password \"Password\" \\\n",
    "  --target-db-schema \"sakila\" \n"
   ]
  },
  {
   "cell_type": "markdown",
   "metadata": {},
   "source": [
    "Another error!\n",
    "\n",
    "`ERROR: argument of CASE/WHEN must be type boolean, not type smallint (SQLSTATE 42804)`"
   ]
  },
  {
   "cell_type": "markdown",
   "metadata": {},
   "source": [
    "Look at the log for more details."
   ]
  },
  {
   "cell_type": "code",
   "execution_count": null,
   "metadata": {
    "vscode": {
     "languageId": "shellscript"
    }
   },
   "outputs": [],
   "source": [
    "%%bash -s \"$NB_NOTEBOOK_VOYAGER_TMP\"\n",
    "NOTEBOOK_VOYAGER_TMP=${1}\n",
    "IMPORT_SCHEMA_LOG=yb-voyager-import-schema.log\n",
    " \n",
    "tail -n 2000 $NOTEBOOK_VOYAGER_TMP/export-dir/logs/$IMPORT_SCHEMA_LOG | grep 'SQLSTATE'"
   ]
  },
  {
   "cell_type": "markdown",
   "metadata": {},
   "source": [
    "```\n",
    " Execution Failed for \"CREATE OR REPLACE VIEW customer_list ....\n",
    " CASE WHEN cu.active THEN 'active' ELSE '' END \n",
    "```\n",
    "\n",
    "The `cu` alias is the  `customer` table, and the issue is with the `active` column."
   ]
  },
  {
   "cell_type": "code",
   "execution_count": null,
   "metadata": {
    "vscode": {
     "languageId": "shellscript"
    }
   },
   "outputs": [],
   "source": [
    "%%bash -s \"$NB_NOTEBOOK_VOYAGER_TMP\"\n",
    "NOTEBOOK_VOYAGER_TMP=${1}\n",
    "\n",
    "FILE_PATH=$NOTEBOOK_VOYAGER_TMP/export-dir/schema/tables/table.sql\n",
    "\n",
    "cat $FILE_PATH  | grep -A 11 'CREATE TABLE customer'"
   ]
  },
  {
   "cell_type": "markdown",
   "metadata": {},
   "source": [
    "The `active` column uses `smallint`. "
   ]
  },
  {
   "cell_type": "markdown",
   "metadata": {},
   "source": [
    "Update the `table.sql` file using sed or the editor. \n",
    "\n",
    "Change the `smallint` to a `boolean`."
   ]
  },
  {
   "cell_type": "code",
   "execution_count": null,
   "metadata": {
    "vscode": {
     "languageId": "shellscript"
    }
   },
   "outputs": [],
   "source": [
    "%%bash -s \"$NB_NOTEBOOK_VOYAGER_TMP\"\n",
    "NOTEBOOK_VOYAGER_TMP=${1}\n",
    "\n",
    "SEARCH=\"active smallint NOT NULL DEFAULT 1\"\n",
    "REPLACE=\"active boolean NOT NULL DEFAULT TRUE\"\n",
    "FILE_PATH=$NOTEBOOK_VOYAGER_TMP/export-dir/schema/tables/table.sql\n",
    "\n",
    "sed -i \"s/$SEARCH/$REPLACE/\" $FILE_PATH\n",
    "gp open $FILE_PATH\n"
   ]
  },
  {
   "cell_type": "markdown",
   "metadata": {},
   "source": [
    "Verify the changes"
   ]
  },
  {
   "cell_type": "code",
   "execution_count": null,
   "metadata": {
    "vscode": {
     "languageId": "shellscript"
    }
   },
   "outputs": [],
   "source": [
    "%%bash -s \"$NB_NOTEBOOK_VOYAGER_TMP\"\n",
    "NOTEBOOK_VOYAGER_TMP=${1}\n",
    "\n",
    "FILE_PATH=$NOTEBOOK_VOYAGER_TMP/export-dir/schema/tables/table.sql\n",
    "\n",
    "cat $FILE_PATH  | grep -A 11 'CREATE TABLE customer'"
   ]
  },
  {
   "cell_type": "markdown",
   "metadata": {},
   "source": [
    "---\n",
    "## Rinse & Repeat (3): Import the modified schema and resolve DDL errors"
   ]
  },
  {
   "cell_type": "markdown",
   "metadata": {},
   "source": [
    "Rerun `import schema` again."
   ]
  },
  {
   "cell_type": "code",
   "execution_count": null,
   "metadata": {
    "vscode": {
     "languageId": "shellscript"
    }
   },
   "outputs": [],
   "source": [
    "%%bash -s \"$NB_DB_NAME\"  \"$NB_DB_PORT\" \"$NB_HOST_IPv4_01\" \"$NB_NOTEBOOK_VOYAGER_TMP\"\n",
    "DB_NAME=${1}\n",
    "DB_PORT=${2}\n",
    "DB_HOST=${3}\n",
    "NOTEBOOK_VOYAGER_TMP=${4}\n",
    "IMPORT_SCHEMA_LOG=yb-voyager-import-schema.log\n",
    "\n",
    "# delete the log so that we can get a fresh view\n",
    "rm -rf $NOTEBOOK_VOYAGER_TMP/export-dir/logs/$IMPORT_SCHEMA_LOG\n",
    "\n",
    "yb-voyager import schema  -y  \\\n",
    "  --start-clean true \\\n",
    "  --export-dir $NOTEBOOK_VOYAGER_TMP/export-dir \\\n",
    "  --target-db-host ${DB_HOST} \\\n",
    "  --target-db-port  ${DB_PORT} \\\n",
    "  --target-db-name  ${DB_NAME} \\\n",
    "  --target-db-user \"ybvoyager\" \\\n",
    "  --target-db-password \"Password\" \\\n",
    "  --target-db-schema \"sakila\" "
   ]
  },
  {
   "cell_type": "markdown",
   "metadata": {},
   "source": [
    "Oops! Another error:\n",
    "\n",
    "`error: ERROR: column \"c.city\" must appear in the GROUP BY clause or be used in an aggregate function (SQLSTATE 42803)`"
   ]
  },
  {
   "cell_type": "markdown",
   "metadata": {
    "vscode": {
     "languageId": "shellscript"
    }
   },
   "source": [
    "This error has to do the view, `sales_by_store`:\n",
    "\n",
    "```\n",
    "DDL Execution Failed for \"CREATE OR REPLACE VIEW sales_by_store AS select concat(c.city,',',cy.country) AS store,concat(m.first_name,' ',m.last_name) AS manager,sum(p.amount) AS total_sales FROM (((((((payment p join rental r on (p.rental_id = r.rental_id)) join inventory i on (r.inventory_id = i.inventory_id)) join store s on (i.store_id = s.store_id)) join address a on (s.address_id = a.address_id)) join city c on (a.city_id = c.city_id)) join country cy on (c.country_id = cy.country_id)) join staff m on (s.manager_staff_id = m.staff_id)) group by s.store_id order by cy.country,c.city;\": ERROR: column \"c.city\" must appear in the GROUP BY clause or be used in an aggregate function (SQLSTATE 42803)\n",
    "```"
   ]
  },
  {
   "cell_type": "markdown",
   "metadata": {},
   "source": [
    "PostgreSQL, like most sensible DBMSs, does `group by` properly, insisting that everything that you select must be either \"grouped by\" or be aggregated through a function, like sum(). \n",
    "\n",
    "Unfortunately, MySQL is not as strict.\n",
    "\n",
    "To resolve this, you will need to replace the view in the `view.sql` file.\n",
    "\n",
    "Copy the following SQL."
   ]
  },
  {
   "cell_type": "code",
   "execution_count": null,
   "metadata": {
    "vscode": {
     "languageId": "sql"
    }
   },
   "outputs": [],
   "source": [
    "/* Do not run this cell. \n",
    "   The view.sql file tab is open.\n",
    "   Copy and paste the following into the view.sql file \n",
    "   Comment out  (--) the original sales_by_store view */\n",
    "   \n",
    "CREATE OR REPLACE VIEW sales_by_store AS \n",
    "select \n",
    "    concat(c.city,',',cy.country) AS store,\n",
    "    concat(m.first_name,' ',m.last_name) AS manager,\n",
    "    sum(p.amount) AS total_sales \n",
    "FROM (((((((payment p join rental r on (p.rental_id = r.rental_id)) join inventory i on (r.inventory_id = i.inventory_id)) join store s on (i.store_id = s.store_id)) join address a on (s.address_id = a.address_id)) join city c on (a.city_id = c.city_id)) join country cy on (c.country_id = cy.country_id)) join staff m on (s.manager_staff_id = m.staff_id))\n",
    "group by c.city, cy.country, m.first_name, m.last_name\n",
    "order by cy.country, c.city;"
   ]
  },
  {
   "cell_type": "markdown",
   "metadata": {},
   "source": [
    "And then open the `view.sql` file, comment out the old view, and then paste in the new one."
   ]
  },
  {
   "cell_type": "code",
   "execution_count": null,
   "metadata": {
    "vscode": {
     "languageId": "sql"
    }
   },
   "outputs": [],
   "source": [
    "%%bash -s \"$NB_NOTEBOOK_VOYAGER_TMP\"\n",
    "NOTEBOOK_VOYAGER_TMP=${1}\n",
    "\n",
    "FILE_PATH=$NOTEBOOK_VOYAGER_TMP/export-dir/schema/views/view.sql\n",
    "\n",
    "gp open $FILE_PATH"
   ]
  },
  {
   "cell_type": "markdown",
   "metadata": {},
   "source": [
    "Remember to comment out line `11`, the original `sales_by_store` view.\n",
    "\n",
    "Save your changes to the `view.sql` file."
   ]
  },
  {
   "cell_type": "markdown",
   "metadata": {},
   "source": [
    "---\n",
    "## Rinse & Repeat (4): Import the modified schema and resolve DDL errors"
   ]
  },
  {
   "cell_type": "markdown",
   "metadata": {},
   "source": [
    "Rerun `import schema` again."
   ]
  },
  {
   "cell_type": "code",
   "execution_count": null,
   "metadata": {
    "vscode": {
     "languageId": "shellscript"
    }
   },
   "outputs": [],
   "source": [
    "%%bash -s \"$NB_DB_NAME\"  \"$NB_DB_PORT\" \"$NB_HOST_IPv4_01\" \"$NB_NOTEBOOK_VOYAGER_TMP\"\n",
    "DB_NAME=${1}\n",
    "DB_PORT=${2}\n",
    "DB_HOST=${3}\n",
    "NOTEBOOK_VOYAGER_TMP=${4}\n",
    "IMPORT_SCHEMA_LOG=yb-voyager-import-schema.log\n",
    "\n",
    "# delete the log so that we can get a fresh view\n",
    "rm -rf $NOTEBOOK_VOYAGER_TMP/export-dir/logs/$IMPORT_SCHEMA_LOG\n",
    "\n",
    "yb-voyager import schema  -y  \\\n",
    "  --start-clean true \\\n",
    "  --export-dir $NOTEBOOK_VOYAGER_TMP/export-dir \\\n",
    "  --target-db-host ${DB_HOST} \\\n",
    "  --target-db-port  ${DB_PORT} \\\n",
    "  --target-db-name  ${DB_NAME} \\\n",
    "  --target-db-user \"ybvoyager\" \\\n",
    "  --target-db-password \"Password\" \\\n",
    "  --target-db-schema \"sakila\" "
   ]
  },
  {
   "cell_type": "markdown",
   "metadata": {},
   "source": [
    "Great! That worked!\n",
    "\n",
    "No errors! \n",
    "\n",
    "Nicely done 🙌 "
   ]
  },
  {
   "cell_type": "markdown",
   "metadata": {},
   "source": [
    "> Note: `failed.sql`\n",
    ">\n",
    "> Depending on the type of error or erros, the `import schema` command may fail silently. \n",
    "> \n",
    "> Check to see if there is a `failed.sql` file in the `schema` directory.\n",
    "> "
   ]
  },
  {
   "cell_type": "markdown",
   "metadata": {},
   "source": [
    "---\n",
    "## Sanity check: Verify the imported schema in YugabyteDB"
   ]
  },
  {
   "cell_type": "markdown",
   "metadata": {},
   "source": [
    "First, list the schemas using the `\\dn` meta command."
   ]
  },
  {
   "cell_type": "code",
   "execution_count": null,
   "metadata": {
    "vscode": {
     "languageId": "shellscript"
    }
   },
   "outputs": [],
   "source": [
    "%%bash -s \"$NB_YB_PATH_BIN\" \"$NB_DB_NAME\"  # create database\n",
    "YB_PATH_BIN=${1}\n",
    "DB_NAME=${2}\n",
    "\n",
    "cd $YB_PATH_BIN\n",
    "\n",
    "# meta commands\n",
    "\n",
    "./ysqlsh -d ${DB_NAME} -U ybvoyager -c \"\\dn\""
   ]
  },
  {
   "cell_type": "markdown",
   "metadata": {},
   "source": [
    "> Note: `ybvoyager_metadata`\n",
    ">\n",
    "> Voyager creates it's own database from keeping track of the migration in the target database. The database name is `ybvoyager_metadata`.\n",
    "> "
   ]
  },
  {
   "cell_type": "markdown",
   "metadata": {},
   "source": [
    "Next, list the tables using the `\\dt` meta command."
   ]
  },
  {
   "cell_type": "code",
   "execution_count": null,
   "metadata": {
    "vscode": {
     "languageId": "shellscript"
    }
   },
   "outputs": [],
   "source": [
    "%%bash -s \"$NB_YB_PATH_BIN\" \"$NB_DB_NAME\"  # create database\n",
    "YB_PATH_BIN=${1}\n",
    "DB_NAME=${2}\n",
    "\n",
    "cd $YB_PATH_BIN\n",
    "\n",
    "# meta commands\n",
    "\n",
    "./ysqlsh -d ${DB_NAME} -U ybvoyager -c \"\\dt sakila.\"\n"
   ]
  },
  {
   "cell_type": "markdown",
   "metadata": {
    "vscode": {
     "languageId": "shellscript"
    }
   },
   "source": [
    "Verify the views using the `\\dv` meta command."
   ]
  },
  {
   "cell_type": "code",
   "execution_count": null,
   "metadata": {
    "vscode": {
     "languageId": "shellscript"
    }
   },
   "outputs": [],
   "source": [
    "%%bash -s \"$NB_YB_PATH_BIN\" \"$NB_DB_NAME\"  # create database\n",
    "YB_PATH_BIN=${1}\n",
    "DB_NAME=${2}\n",
    "\n",
    "cd $YB_PATH_BIN\n",
    "\n",
    "./ysqlsh -d ${DB_NAME} -U ybvoyager -c \"\\dv sakila.\""
   ]
  },
  {
   "cell_type": "markdown",
   "metadata": {},
   "source": [
    "Verify the index creation with a PostgreSQL query. This may not be a complete list as additional indexes may be created after importing data. Typically, these indexes are unique indexes for primary keys.\n"
   ]
  },
  {
   "cell_type": "code",
   "execution_count": null,
   "metadata": {
    "vscode": {
     "languageId": "shellscript"
    }
   },
   "outputs": [],
   "source": [
    "%%bash -s \"$NB_YB_PATH_BIN\" \"$NB_DB_NAME\"  # create database\n",
    "YB_PATH_BIN=${1}\n",
    "DB_NAME=${2}\n",
    "SQL_PG_INDEXES=\"select tablename, indexname, indexdef from pg_indexes where schemaname = 'sakila' order by tablename, indexname;\"\n",
    "cd $YB_PATH_BIN\n",
    "\n",
    "# query\n",
    "\n",
    "./ysqlsh -d ${DB_NAME} -U ybvoyager -c \"${SQL_PG_INDEXES}\""
   ]
  },
  {
   "cell_type": "markdown",
   "metadata": {},
   "source": [
    "Verify the trigger creation with a PostgreSQL query. This may not be a complete list as additional triggers may be created after importing data."
   ]
  },
  {
   "cell_type": "code",
   "execution_count": null,
   "metadata": {
    "vscode": {
     "languageId": "shellscript"
    }
   },
   "outputs": [],
   "source": [
    "%%bash -s \"$NB_YB_PATH_BIN\" \"$NB_DB_NAME\"  # create database\n",
    "YB_PATH_BIN=${1}\n",
    "DB_NAME=${2}\n",
    "\n",
    "SQL_PG_TRIGGERS=\"select  event_object_table AS table_name, trigger_name from information_schema.triggers where trigger_schema = 'sakila' group by table_name, trigger_name order by table_name, trigger_name;\"\n",
    "\n",
    "\n",
    "cd $YB_PATH_BIN\n",
    "./ysqlsh -d ${DB_NAME} -U ybvoyager -c \"${SQL_PG_TRIGGERS}\""
   ]
  },
  {
   "attachments": {},
   "cell_type": "markdown",
   "metadata": {
    "deletable": false,
    "editable": false
   },
   "source": [
    "---\n",
    "\n",
    "## 😊 Next up!\n",
    "Continue your learning by opening the next notebook, `05_Migration_Workflow_Migrate_Data.ipynb`. \n",
    "\n",
    "Or, if using GitPod, run the following cell:"
   ]
  },
  {
   "cell_type": "code",
   "execution_count": null,
   "metadata": {
    "vscode": {
     "languageId": "shellscript"
    }
   },
   "outputs": [],
   "source": [
    "%%bash\n",
    "gp open '05_Migration_Workflow_Migrate_Data.ipynb'"
   ]
  }
 ],
 "metadata": {
  "kernelspec": {
   "display_name": "Python 3.7.9 64-bit",
   "language": "python",
   "name": "python3"
  },
  "language_info": {
   "codemirror_mode": {
    "name": "ipython",
    "version": 3
   },
   "file_extension": ".py",
   "mimetype": "text/x-python",
   "name": "python",
   "nbconvert_exporter": "python",
   "pygments_lexer": "ipython3",
   "version": "3.11.2"
  },
  "orig_nbformat": 4,
  "vscode": {
   "interpreter": {
    "hash": "aee8b7b246df8f9039afb4144a1f6fd8d2ca17a180786b69acc140d282b71a49"
   }
  }
 },
 "nbformat": 4,
 "nbformat_minor": 2
}
