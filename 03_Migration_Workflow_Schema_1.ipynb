{
 "cells": [
  {
   "attachments": {},
   "cell_type": "markdown",
   "metadata": {
    "deletable": false,
    "editable": false
   },
   "source": [
    "<div style=\"width:100%; background-color: #000041\"><a target=\"_blank\" href=\"bit.ly/45U3TvK\"><img src=\"assets/YugabyteDB_DSS-Virtual_LinkedIn-Cover_1584x396.jpg\" /></a></div>\n",
    "\n",
    "<br>\n",
    "\n",
    "> **Migrate from MySQL to Distributed, Highly Available PostgreSQL!**\n",
    ">\n",
    "> Registration is free  [Distributed SQL Summit](bit.ly/45U3TvK).\n",
    ">"
   ]
  },
  {
   "attachments": {},
   "cell_type": "markdown",
   "metadata": {},
   "source": [
    "## 🛠️ Requirements\n",
    "Here are the requirements for this notebook:\n",
    "- ✅ Create the notebook variables in `01_Lab_Setup.ipynb`, which you previously did\n",
    "- ✅ Create the `ds_ybu` database, which you previously did\n",
    "- ☑️ Import the notebook variables, *which you must do next*\n",
    "- ☑️ Review the source database, *which you must do next*\n",
    "- ☑️ Migration workflow (1)\n",
    "\n",
    "### Select your notebook kernel\n",
    "- In the Notebook toolbar, click **Select Kernel**.\n",
    "<br>\n",
    "<img width=50% src=\"assets/01_01_Select_Kernel_Toolbar.png\" />\n",
    "\n",
    "- Next, in the dropdown, select **Python 3.8.13** or higher.\n",
    "<br>\n",
    "<img width=50% src=\"assets/01_02_Select_Kernel_Dropdown.png\" />\n",
    "\n",
    "That's it!"
   ]
  },
  {
   "attachments": {},
   "cell_type": "markdown",
   "metadata": {},
   "source": [
    "## ⛑️ Getting help\n",
    "The best way to get help us from the Yugabyte University team. You can post your question in YugabyteDB Community Slack in the #training or #yb-university channels. Join our [community](https://communityinviter.com/apps/yugabyte-db/register)."
   ]
  },
  {
   "attachments": {},
   "cell_type": "markdown",
   "metadata": {
    "deletable": false,
    "editable": false
   },
   "source": [
    "## 👣 Set up steps for this notebook\n",
    "Here are the steps to setup this lab:\n",
    "\n",
    "- Import the notebook variables"
   ]
  },
  {
   "attachments": {},
   "cell_type": "markdown",
   "metadata": {
    "deletable": false,
    "editable": false
   },
   "source": [
    "### Import the notebook variables \n",
    "\n",
    "> ‼️ Important\n",
    "> \n",
    "> Do **NOT** skip running the following cell. \n",
    "> \n",
    "\n",
    "The following Python cell reads the stored variables created in the `01_Lab_Setup.ipynb` notebook. To run the script, select Execute Cell (Play Arrow) in the left gutter of the cell."
   ]
  },
  {
   "cell_type": "code",
   "execution_count": null,
   "metadata": {
    "deletable": false,
    "editable": false
   },
   "outputs": [],
   "source": [
    "# Use %store -r to read 01_Lab_Setup variables\n",
    "%store -r MY_YB_PATH\n",
    "%store -r MY_YB_PATH_DATA\n",
    "\n",
    "%store -r MY_GITPOD_WORKSPACE_URL\n",
    "\n",
    "%store -r MY_DB_NAME\n",
    "%store -r MY_DB_PORT\n",
    "%store -rMY_MYSQL_DB_NAME\n",
    "\n",
    "%store -r MY_HOST_IPv4_01\n",
    "%store -r MY_HOST_IPv4_02\n",
    "%store -r MY_HOST_IPv4_03\n",
    "\n",
    "%store -r MY_TSERVER_WEBSERVER_PORT\n",
    "%store -r MY_MYSQL_PORT\n",
    "\n",
    "%store -r MY_YB_MASTER_HOST_GITPOD_URL\n",
    "%store -r MY_YB_TSERVER_HOST_GITPOD_URL\n",
    "\n",
    "%store -r MY_NOTEBOOK_DIR\n",
    "%store -r MY_NOTEBOOK_DATA_FOLDER\n",
    "%store -r MY_NOTEBOOK_UTILS_FOLDER\n",
    "%store -r MY_NOTEBOOK_VOYAGER_TMP\n",
    "\n",
    "%store -r MY_UTIL_FUNCTIONS_FILE\n",
    "%store -r MY_UTIL_YBTSERVER_METRICS_FILE\n",
    "\n",
    "%store -r BETA_FAST_DATA_EXPORT"
   ]
  },
  {
   "cell_type": "markdown",
   "metadata": {},
   "source": [
    "---\n",
    "# Migration workflow (2)\n",
    "\n",
    "\n",
    "<div style=\"width:100%; background-color: #000041\"><img src=\"assets/Migration_Workflow_02.png\" /></div>"
   ]
  },
  {
   "cell_type": "markdown",
   "metadata": {},
   "source": [
    "---\n",
    "# Export the source schema\n",
    "\n",
    "In MySQL, there is no difference between a schema and a database. In fact, the `CREATE SCHEMA` command is a synonym for the `CREATE DATABASE` command. To learn more, see [MySQL CREATE DATABASE Statement](https://dev.mysql.com/doc/refman/8.0/en/create-database.html).\n",
    "\n",
    "In PostgreSQL, a database contains one or more named schemas, which in turn contain tables and other kinds of named objects, including data types, functions, and so on. In fact, the same object name can be used in different schemas without conflict. For example, both `my_schema` and `your_schema` can contain the same table, `table_shared`. \n",
    "\n",
    "Unlike databases, schemas are not rigidly separated in PostgreSQL. A user can access objects in any of the schemas in the database they are connected to, as long as they user has the required privileges to do so.\n",
    "\n",
    "In this step, you will convert the MySQL database to a PostgreSQL format using the `yb-voyager export schema` command. \n",
    "\n",
    "Begin by creating an export directory, `export-dir`."
   ]
  },
  {
   "cell_type": "code",
   "execution_count": null,
   "metadata": {
    "vscode": {
     "languageId": "shellscript"
    }
   },
   "outputs": [],
   "source": [
    "%%bash -s \"$MY_NOTEBOOK_VOYAGER_TMP\"\n",
    "\n",
    "NOTEBOOK_VOYAGER_TMP=${1}\n",
    "echo $NOTEBOOK_VOYAGER_TMP\n",
    "rm -rf $NOTEBOOK_VOYAGER_TMP/export-dir\n",
    "mkdir $NOTEBOOK_VOYAGER_TMP/export-dir"
   ]
  },
  {
   "cell_type": "markdown",
   "metadata": {},
   "source": [
    "Next, export the schema using the `yb-voyager` CLI."
   ]
  },
  {
   "cell_type": "code",
   "execution_count": null,
   "metadata": {
    "vscode": {
     "languageId": "shellscript"
    }
   },
   "outputs": [],
   "source": [
    "%%bash -s \"$MY_MYSQL_DB_NAME\"  \"$MY_MYSQL_PORT\" \"$MY_HOST_IPv4_01\"  \"$MY_NOTEBOOK_VOYAGER_TMP\"\n",
    "DB_NAME=${1}\n",
    "DB_PORT=${2}\n",
    "DB_HOST=${3}\n",
    "NOTEBOOK_VOYAGER_TMP=${4}\n",
    "\n",
    "yb-voyager export schema --start-clean -y --export-dir $NOTEBOOK_VOYAGER_TMP/export-dir \\\n",
    "        --source-db-type \"MYSQL\" \\\n",
    "        --source-db-host ${DB_HOST} \\\n",
    "        --source-db-port  ${DB_PORT} \\\n",
    "        --source-db-name  ${DB_NAME} \\\n",
    "        --source-db-user \"ybvoyager\" \\\n",
    "        --source-db-password \"Yugabyte#1\" \\ "
   ]
  },
  {
   "cell_type": "markdown",
   "metadata": {},
   "source": [
    "List folders and files:\n",
    "- `reports` contains the generated Schema Analysis Report.\n",
    "- `schema` contains the source database schema translated to PostgreSQL. The schema is partitioned into smaller files by the schema object type such as tables, views, and so on.\n",
    "- `data` contains `.TSV` (Tab Separated Values) files that are passed to the `COPY` command on the target database.\n",
    "- `metainfo` and `temp` are internal to by yb-voyager\n",
    "- `log/yb-voyager.log` contains log messages"
   ]
  },
  {
   "cell_type": "code",
   "execution_count": null,
   "metadata": {
    "vscode": {
     "languageId": "shellscript"
    }
   },
   "outputs": [],
   "source": [
    "%%bash -s \"$MY_NOTEBOOK_VOYAGER_TMP\"\n",
    "NOTEBOOK_VOYAGER_TMP=${1}\n",
    "\n",
    "ls $NOTEBOOK_VOYAGER_TMP/export-dir"
   ]
  },
  {
   "cell_type": "markdown",
   "metadata": {},
   "source": [
    "Review the Voyager log."
   ]
  },
  {
   "cell_type": "code",
   "execution_count": null,
   "metadata": {
    "vscode": {
     "languageId": "shellscript"
    }
   },
   "outputs": [],
   "source": [
    "%%bash -s \"$MY_NOTEBOOK_VOYAGER_TMP\"\n",
    "NOTEBOOK_VOYAGER_TMP=${1}\n",
    "\n",
    "cat $NOTEBOOK_VOYAGER_TMP/export-dir/logs/yb-voyager.log\n",
    "\n",
    "gp open $NOTEBOOK_VOYAGER_TMP/export-dir/logs/yb-voyager.log"
   ]
  },
  {
   "cell_type": "markdown",
   "metadata": {},
   "source": [
    " > Important!\n",
    " >\n",
    " > 👆 In the above output cell, select **Adjust cell output settings...**. \n",
    " >\n",
    " > In the **Settings** tab, in `Notebook > Output: Scrolling`, select the checkbox ✅.\n",
    " >\n",
    " > In `Notebook > Output: Text Line Limit`, enter `200`.\n",
    " >\n",
    " > To save, close the **Settings** tab.\n",
    " > \n",
    " > Well done! 🙌 "
   ]
  },
  {
   "cell_type": "markdown",
   "metadata": {},
   "source": [
    "---\n",
    "# Analyze the exported schema\n",
    "Generate a Schema Analysis Report using the `yb-voyager analyze-schema` command. \n",
    "\n",
    "The report suggests changes to the PostgreSQL schema ao that it is appropriate for YugabyteDB."
   ]
  },
  {
   "cell_type": "code",
   "execution_count": null,
   "metadata": {
    "vscode": {
     "languageId": "shellscript"
    }
   },
   "outputs": [],
   "source": [
    "%%bash -s \"$MY_NOTEBOOK_VOYAGER_TMP\"\n",
    "NOTEBOOK_VOYAGER_TMP=${1}\n",
    " \n",
    "# Replace the argument values with those applicable for your migration.\n",
    "# html, txt, json, or xml\n",
    "yb-voyager analyze-schema --export-dir $NOTEBOOK_VOYAGER_TMP/export-dir  --output-format txt\n",
    "\n",
    "ls  $NOTEBOOK_VOYAGER_TMP/export-dir"
   ]
  },
  {
   "cell_type": "markdown",
   "metadata": {},
   "source": [
    "View the entire analysis report. "
   ]
  },
  {
   "cell_type": "code",
   "execution_count": null,
   "metadata": {
    "vscode": {
     "languageId": "shellscript"
    }
   },
   "outputs": [],
   "source": [
    "%%bash -s \"$MY_NOTEBOOK_VOYAGER_TMP\"\n",
    "NOTEBOOK_VOYAGER_TMP=${1}\n",
    "\n",
    "cat  $NOTEBOOK_VOYAGER_TMP/export-dir/reports/report.txt\n",
    "\n",
    "gp open $NOTEBOOK_VOYAGER_TMP/export-dir/reports/report.txt"
   ]
  },
  {
   "cell_type": "markdown",
   "metadata": {},
   "source": [
    "The report details the following initial error:\n",
    "```\n",
    "Issues:\n",
    "\n",
    "Error in Object INDEX:\n",
    "-Object Name: address_location\n",
    "-Reason: Schema contains gist index which is not supported.\n",
    "-SQL Statement: CREATE INDEX address_location ON address USING gist(location);\n",
    "-File Path: /home/gitpod/export-dir/schema/tables/INDEXES_table.sql\n",
    "-Github Issue Link: https://github.com/YugaByte/yugabyte-db/issues/1337\n",
    "```"
   ]
  },
  {
   "cell_type": "markdown",
   "metadata": {},
   "source": [
    "View the `INDEXES_table.sql` file."
   ]
  },
  {
   "cell_type": "code",
   "execution_count": null,
   "metadata": {
    "vscode": {
     "languageId": "shellscript"
    }
   },
   "outputs": [],
   "source": [
    "%%bash -s \"$MY_NOTEBOOK_VOYAGER_TMP\"\n",
    "NOTEBOOK_VOYAGER_TMP=${1}\n",
    "\n",
    "cat  $NOTEBOOK_VOYAGER_TMP/export-dir/schema/tables/INDEXES_table.sql\n",
    "\n",
    "gp open $NOTEBOOK_VOYAGER_TMP/export-dir/schema/tables/INDEXES_table.sql"
   ]
  },
  {
   "cell_type": "markdown",
   "metadata": {},
   "source": [
    "---\n",
    "# Modify the exported schema\n",
    "Using the report recommendations, manually change the exported schema. \n",
    "\n",
    "In this case, since YugabyteDB does not currently support `GIST` indexes, it makes sense to not create this index.  So the procedure here is to simply delete the `CREATE INDEX address_location` statement.\n",
    "\n",
    "You can do this in the open editor for `INDEXES_table.sql` or simply run the following `sed` command."
   ]
  },
  {
   "cell_type": "code",
   "execution_count": null,
   "metadata": {
    "vscode": {
     "languageId": "shellscript"
    }
   },
   "outputs": [],
   "source": [
    "%%bash -s \"$MY_NOTEBOOK_VOYAGER_TMP\"\n",
    "NOTEBOOK_VOYAGER_TMP=${1}\n",
    "\n",
    "sed -i '/gist/d'  $NOTEBOOK_VOYAGER_TMP/export-dir/schema/tables/INDEXES_table.sql"
   ]
  },
  {
   "cell_type": "markdown",
   "metadata": {},
   "source": [
    "Verify the deletion of the line."
   ]
  },
  {
   "cell_type": "code",
   "execution_count": null,
   "metadata": {
    "vscode": {
     "languageId": "shellscript"
    }
   },
   "outputs": [],
   "source": [
    "%%bash -s \"$MY_NOTEBOOK_VOYAGER_TMP\"\n",
    "NOTEBOOK_VOYAGER_TMP=${1}\n",
    "\n",
    "cat  $NOTEBOOK_VOYAGER_TMP/export-dir/schema/tables/INDEXES_table.sql"
   ]
  },
  {
   "cell_type": "markdown",
   "metadata": {},
   "source": [
    "---\n",
    "# Rinse & Repeat: Analyze the modified schema"
   ]
  },
  {
   "cell_type": "markdown",
   "metadata": {},
   "source": [
    "After making the manual changes, re-run the `yb-voyager analyze-schema` command and generate a new report. Rinse and repeat until the generated report contains no known issues."
   ]
  },
  {
   "cell_type": "code",
   "execution_count": null,
   "metadata": {
    "vscode": {
     "languageId": "shellscript"
    }
   },
   "outputs": [],
   "source": [
    "%%bash -s \"$MY_NOTEBOOK_VOYAGER_TMP\"\n",
    "NOTEBOOK_VOYAGER_TMP=${1}\n",
    " \n",
    "# Replace the argument values with those applicable for your migration.\n",
    "# html, txt, json, or xml\n",
    "yb-voyager analyze-schema --export-dir  $NOTEBOOK_VOYAGER_TMP/export-dir  --output-format txt\n",
    "\n",
    "cat  $NOTEBOOK_VOYAGER_TMP/export-dir/reports/report.txt\n",
    "\n",
    "gp open  $NOTEBOOK_VOYAGER_TMP/export-dir/reports/report.txt"
   ]
  },
  {
   "cell_type": "markdown",
   "metadata": {},
   "source": [
    "No errors! Nicely done 🙌 \n",
    "\n",
    "But before moving on, it is important to a look at the primary key definitions. YugabyteDB is a distributed SQL database. YugabyteDB automatically shards data in a table into tablets. The primary key in YSQL defines the shard key, also known as a partition key. In fact a primary key can consist of a partition key and clustering key. A partition key can implement one of two sharding strategies: consistent hash sharding or range sharding. By default, this is consistent hash sharding. \n",
    "\n",
    "So, as a next step, review the `table.sql` file. In particular, review the table definitions for the primary key. "
   ]
  },
  {
   "cell_type": "code",
   "execution_count": null,
   "metadata": {
    "vscode": {
     "languageId": "shellscript"
    }
   },
   "outputs": [],
   "source": [
    "%%bash -s \"$MY_NOTEBOOK_VOYAGER_TMP\"\n",
    "NOTEBOOK_VOYAGER_TMP=${1}\n",
    " \n",
    "cat   $NOTEBOOK_VOYAGER_TMP/export-dir/schema/tables/table.sql\n",
    "\n",
    "gp open  $NOTEBOOK_VOYAGER_TMP/export-dir/schema/tables/table.sql\n"
   ]
  },
  {
   "cell_type": "markdown",
   "metadata": {},
   "source": [
    "One observation is to make is that the Primary Key columns in the schema export are of the type `serial`. This means that the source MYSQL database used auto-increment primary key of the type `int` or similar. YugabyteDB supports this using the `SERIAL` datatype.\n",
    "\n",
    "In YugabyteDB, a `SERIAL` type is a sequence. Sequence are cached on the YB-TServer. There are numerous strategies to help with sequence caching that can be managed post migration."
   ]
  },
  {
   "cell_type": "code",
   "execution_count": null,
   "metadata": {
    "vscode": {
     "languageId": "shellscript"
    }
   },
   "outputs": [],
   "source": [
    "%%bash -s \"$MY_NOTEBOOK_VOYAGER_TMP\"\n",
    "NOTEBOOK_VOYAGER_TMP=${1}\n",
    " \n",
    "cat  $NOTEBOOK_VOYAGER_TMP/export-dir/schema/tables/table.sql | grep 'PRIMARY KEY'\n",
    "cat  $NOTEBOOK_VOYAGER_TMP/export-dir/schema/tables/table.sql | grep -B 1 'serial'"
   ]
  },
  {
   "cell_type": "markdown",
   "metadata": {},
   "source": [
    "### Sequence migration considerations\n",
    "\n",
    "The auto-increment column in MySQL migrates to YugabyteDB as a normal column of the type `serial` backed by a sequence. \n",
    "\n",
    "Sequence migration consists of two steps: sequence creation and setting the resume value. The resume value refers to the `NEXTVAL` of a sequence.\n",
    "\n",
    "YugabyteDB Voyager creates the DDL for the sequence objects as a result of the `export schema` command. These resume values are then set on the target database just after the data is imported for all tables.\n",
    "\n",
    "Unlike PostgreSQL, YugabyteDB is a distributed database and clients can connect to any node in a universe. For this reason, sequences in YugabyteDB often needs additional tuning."
   ]
  },
  {
   "attachments": {},
   "cell_type": "markdown",
   "metadata": {
    "deletable": false,
    "editable": false
   },
   "source": [
    "---\n",
    "\n",
    "## 😊 Next up!\n",
    "Continue your learning by opening the next notebook, `04_Migration_Workflow_Schema_2.ipynb`. \n",
    "\n",
    "Or, if using GitPod, run the following cell:"
   ]
  },
  {
   "cell_type": "code",
   "execution_count": null,
   "metadata": {
    "vscode": {
     "languageId": "shellscript"
    }
   },
   "outputs": [],
   "source": [
    "%%bash\n",
    "gp open '04_Migration_Workflow_Schema_2.ipynb'"
   ]
  }
 ],
 "metadata": {
  "kernelspec": {
   "display_name": "Python 3.7.9 64-bit",
   "language": "python",
   "name": "python3"
  },
  "language_info": {
   "codemirror_mode": {
    "name": "ipython",
    "version": 3
   },
   "file_extension": ".py",
   "mimetype": "text/x-python",
   "name": "python",
   "nbconvert_exporter": "python",
   "pygments_lexer": "ipython3",
   "version": "3.11.2"
  },
  "orig_nbformat": 4,
  "vscode": {
   "interpreter": {
    "hash": "aee8b7b246df8f9039afb4144a1f6fd8d2ca17a180786b69acc140d282b71a49"
   }
  }
 },
 "nbformat": 4,
 "nbformat_minor": 2
}
