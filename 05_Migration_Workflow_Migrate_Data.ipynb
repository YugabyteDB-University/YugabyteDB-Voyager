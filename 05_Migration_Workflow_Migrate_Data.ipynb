{
 "cells": [
  {
   "attachments": {},
   "cell_type": "markdown",
   "metadata": {
    "deletable": false,
    "editable": false
   },
   "source": [
    "<div style=\"width:100%; background-color: #000041\"><a target=\"_blank\" href=\"http://university.yugabyte.com\"><img src=\"assets/YBU_Logo.png\" /></a></div><br>\n",
    "\n",
    "> **Migrate and Modernize with YugabyteDB Voyager**\n",
    ">\n",
    "> Enroll for free at [Yugabyte University](https://university.yugabyte.com/courses/YugabyteDB-Voyager).\n",
    ">\n",
    "\n",
    "<br>\n",
    "This notebook file is:\n",
    "\n",
    "`05_Migration_Workflow_Migrate_Data.ipynb`\n"
   ]
  },
  {
   "attachments": {},
   "cell_type": "markdown",
   "metadata": {},
   "source": [
    "## 🛠️ Requirements\n",
    "Here are the requirements for this notebook:\n",
    "- ✅ Create the notebook variables in `01_Lab_Setup.ipynb`, which you previously did\n",
    "- ✅ Create the `ds_ybu` database, which you previously did\n",
    "- ☑️ A Python 3.12 or higher kernel for the notebook, *which you need to select right now!!!*\n",
    "- ☑️ Import the notebook variables, *which you must do next*\n",
    "- ☑️ Migrate data workflow, *which you must do next*\n",
    "\n",
    "\n",
    "### Select your notebook kernel\n",
    "- In the Notebook toolbar, click **Select Kernel**.\n",
    "<br>\n",
    "<img width=50% src=\"assets/01_01_Select_Kernel_Toolbar.png\" />\n",
    "\n",
    "- Next, in the dropdown, select **Python 3.12** or higher.\n",
    "<br>\n",
    "<img width=50% src=\"assets/01_02_Select_Kernel_Dropdown.png\" />\n",
    "\n",
    "That's it!"
   ]
  },
  {
   "attachments": {},
   "cell_type": "markdown",
   "metadata": {},
   "source": [
    "## ⛑️ Getting help\n",
    "The best way to get help us from the Yugabyte University team. You can post your question in YugabyteDB Community Slack in the #training or #yb-university channels. Join our [community](https://communityinviter.com/apps/yugabyte-db/register)."
   ]
  },
  {
   "attachments": {},
   "cell_type": "markdown",
   "metadata": {
    "deletable": false,
    "editable": false
   },
   "source": [
    "## 👣 Set up steps for this notebook\n",
    "Here are the steps to setup this lab:\n",
    "\n",
    "- Import the notebook variables"
   ]
  },
  {
   "attachments": {},
   "cell_type": "markdown",
   "metadata": {
    "deletable": false,
    "editable": false
   },
   "source": [
    "### 👇 Import the notebook variables\n",
    "\n",
    "> 👉 IMPORTANT! 👈\n",
    "> \n",
    "> Do **NOT** skip running the following cell. \n",
    "> \n",
    "\n",
    "The following Python cell reads the stored variables created in the `01_Lab_Setup.ipynb` notebook. To run the script, select Execute Cell (Play Arrow) in the left gutter of the cell. \n",
    "\n",
    "👇 👇 👇 "
   ]
  },
  {
   "cell_type": "code",
   "execution_count": null,
   "metadata": {
    "deletable": false,
    "editable": false
   },
   "outputs": [],
   "source": [
    "# Use %store -r to read 01_Lab_Setup variables\n",
    "%store -r MY_YB_PATH\n",
    "%store -r MY_YB_PATH_DATA\n",
    "\n",
    "%store -r MY_GITPOD_WORKSPACE_URL\n",
    "\n",
    "%store -r MY_DB_NAME\n",
    "%store -r MY_DB_PORT\n",
    "%store -r MY_MYSQL_DB_NAME\n",
    "\n",
    "%store -r MY_HOST_IPv4_01\n",
    "%store -r MY_HOST_IPv4_02\n",
    "%store -r MY_HOST_IPv4_03\n",
    "\n",
    "%store -r MY_TSERVER_WEBSERVER_PORT\n",
    "%store -r MY_MYSQL_PORT\n",
    "\n",
    "%store -r MY_YB_MASTER_HOST_GITPOD_URL\n",
    "%store -r MY_YB_TSERVER_HOST_GITPOD_URL\n",
    "\n",
    "%store -r MY_NOTEBOOK_DIR\n",
    "%store -r MY_NOTEBOOK_DATA_FOLDER\n",
    "%store -r MY_NOTEBOOK_UTILS_FOLDER\n",
    "%store -r MY_NOTEBOOK_VOYAGER_TMP\n",
    "\n",
    "%store -r MY_UTIL_FUNCTIONS_FILE\n",
    "%store -r MY_UTIL_YBTSERVER_METRICS_FILE\n",
    "\n",
    "%store -r BETA_FAST_DATA_EXPORT"
   ]
  },
  {
   "cell_type": "markdown",
   "metadata": {},
   "source": [
    "---\n",
    "# Workflow: Migrate data\n",
    "\n",
    "\n",
    "<div style=\"width:100%; background-color: #000041\"><img src=\"assets/MVOY100_03_3-Migrate_Data.png\" /></div>"
   ]
  },
  {
   "cell_type": "markdown",
   "metadata": {},
   "source": [
    "---\n",
    "## Export source data\n",
    "Export the source data from the source database using `yb-voyager`.  First, review the help for the command, `yb-voyager export data`.\n"
   ]
  },
  {
   "cell_type": "code",
   "execution_count": null,
   "metadata": {
    "vscode": {
     "languageId": "shellscript"
    }
   },
   "outputs": [],
   "source": [
    "%%bash\n",
    "\n",
    "yb-voyager export data --help"
   ]
  },
  {
   "cell_type": "markdown",
   "metadata": {},
   "source": [
    "\n",
    "> Note:\n",
    "> \n",
    "> The `source-db-schema` argument is not applicable to MySQL.\n",
    ">\n",
    "> The `-y` argument says yes to all prompts.\n",
    ">\n",
    "> BETA_FAST_DATA_EXPORT=1 is an environment variable.\n",
    "> "
   ]
  },
  {
   "cell_type": "markdown",
   "metadata": {},
   "source": [
    "Run the `export data` command."
   ]
  },
  {
   "cell_type": "code",
   "execution_count": null,
   "metadata": {
    "vscode": {
     "languageId": "shellscript"
    }
   },
   "outputs": [],
   "source": [
    "%%bash -s \"$MY_MYSQL_DB_NAME\"  \"$MY_MYSQL_PORT\" \"$MY_HOST_IPv4_01\" \"$MY_NOTEBOOK_VOYAGER_TMP\"\n",
    "DB_NAME=${1}\n",
    "DB_PORT=${2}\n",
    "DB_HOST=${3}\n",
    "NOTEBOOK_VOYAGER_TMP=${4}\n",
    "\n",
    "yb-voyager export data -y  \\\n",
    "  --start-clean true \\\n",
    "  --disable-pb true \\\n",
    "  --send-diagnostics false \\\n",
    "  --export-dir $NOTEBOOK_VOYAGER_TMP/export-dir \\\n",
    "  --source-db-type \"MYSQL\" \\\n",
    "  --source-db-host ${DB_HOST} \\\n",
    "  --source-db-port  ${DB_PORT} \\\n",
    "  --source-db-name  ${DB_NAME} \\\n",
    "  --source-db-user \"ybvoyager\" \\\n",
    "  --source-db-password \"Yugabyte#1\" > /dev/null\n",
    "  \n",
    "       "
   ]
  },
  {
   "cell_type": "markdown",
   "metadata": {},
   "source": [
    "> Problems?\n",
    "> \n",
    "> In case there are issues with the above and you need to kill the process, you can uncomment and run the following:"
   ]
  },
  {
   "cell_type": "code",
   "execution_count": null,
   "metadata": {
    "vscode": {
     "languageId": "shellscript"
    }
   },
   "outputs": [],
   "source": [
    "%%bash \n",
    "# ps -eaf | grep yb-voyager | grep -v grep | awk '{ print $2 }' | xargs kill -9\n",
    "# ps -aux | grep 'yb-voyager'"
   ]
  },
  {
   "cell_type": "markdown",
   "metadata": {},
   "source": [
    "Review the status of the export and run the `export data status` command."
   ]
  },
  {
   "cell_type": "code",
   "execution_count": null,
   "metadata": {
    "vscode": {
     "languageId": "shellscript"
    }
   },
   "outputs": [],
   "source": [
    "%%bash -s \"$MY_MYSQL_DB_NAME\"  \"$MY_MYSQL_PORT\" \"$MY_HOST_IPv4_01\" \"$MY_NOTEBOOK_VOYAGER_TMP\"\n",
    "DB_NAME=${1}\n",
    "DB_PORT=${2}\n",
    "DB_HOST=${3}\n",
    "NOTEBOOK_VOYAGER_TMP=${4}\n",
    "\n",
    "yb-voyager export data status \\\n",
    "  --export-dir $NOTEBOOK_VOYAGER_TMP/export-dir \n"
   ]
  },
  {
   "cell_type": "markdown",
   "metadata": {},
   "source": [
    "To view more details, open the `export_status.json` file."
   ]
  },
  {
   "cell_type": "code",
   "execution_count": null,
   "metadata": {
    "vscode": {
     "languageId": "shellscript"
    }
   },
   "outputs": [],
   "source": [
    "%%bash -s \"$MY_NOTEBOOK_VOYAGER_TMP\"\n",
    "NOTEBOOK_VOYAGER_TMP=${1}\n",
    "\n",
    "cat $NOTEBOOK_VOYAGER_TMP/export-dir/data/export_status.json"
   ]
  },
  {
   "cell_type": "markdown",
   "metadata": {},
   "source": [
    "Review the Voyager log file for the export."
   ]
  },
  {
   "cell_type": "code",
   "execution_count": null,
   "metadata": {
    "vscode": {
     "languageId": "shellscript"
    }
   },
   "outputs": [],
   "source": [
    "%%bash -s \"$MY_NOTEBOOK_VOYAGER_TMP\"\n",
    "NOTEBOOK_VOYAGER_TMP=${1}\n",
    "EXPORT_DATA_LOG=yb-voyager-export-data.log\n",
    "\n",
    "tail -n 200 $NOTEBOOK_VOYAGER_TMP/export-dir/logs/$EXPORT_DATA_LOG\n",
    "gp open $NOTEBOOK_VOYAGER_TMP/export-dir/logs/$EXPORT_DATA_LOG"
   ]
  },
  {
   "cell_type": "markdown",
   "metadata": {},
   "source": [
    "---\n",
    "## Import source data\n",
    "Import the source data to the target YugabyteDB database using the `yb-voyager import data` command."
   ]
  },
  {
   "cell_type": "code",
   "execution_count": null,
   "metadata": {
    "vscode": {
     "languageId": "shellscript"
    }
   },
   "outputs": [],
   "source": [
    "%%bash -s \"$MY_DB_NAME\"  \"$MY_DB_PORT\" \"$MY_HOST_IPv4_01\" \"$MY_NOTEBOOK_VOYAGER_TMP\"\n",
    "DB_NAME=${1}\n",
    "DB_PORT=${2}\n",
    "DB_HOST=${3}\n",
    "NOTEBOOK_VOYAGER_TMP=${4}\n",
    "\n",
    "yb-voyager import data  \\\n",
    "  --export-dir $NOTEBOOK_VOYAGER_TMP/export-dir \\\n",
    "  --target-db-host ${DB_HOST} \\\n",
    "  --target-db-port  ${DB_PORT} \\\n",
    "  --target-db-name  ${DB_NAME} \\\n",
    "  --target-db-user \"ybvoyager\" \\\n",
    "  --target-db-password \"Password\" \\\n",
    "  --target-db-schema \"sakila\" > /dev/null"
   ]
  },
  {
   "cell_type": "markdown",
   "metadata": {},
   "source": [
    "You can check the status of the import."
   ]
  },
  {
   "cell_type": "code",
   "execution_count": null,
   "metadata": {
    "vscode": {
     "languageId": "shellscript"
    }
   },
   "outputs": [],
   "source": [
    "%%bash -s \"$MY_MYSQL_DB_NAME\"  \"$MY_MYSQL_PORT\" \"$MY_HOST_IPv4_01\" \"$MY_NOTEBOOK_VOYAGER_TMP\"\n",
    "DB_NAME=${1}\n",
    "DB_PORT=${2}\n",
    "DB_HOST=${3}\n",
    "NOTEBOOK_VOYAGER_TMP=${4}\n",
    "\n",
    "yb-voyager import data status \\\n",
    "  --export-dir $NOTEBOOK_VOYAGER_TMP/export-dir \n"
   ]
  },
  {
   "cell_type": "markdown",
   "metadata": {},
   "source": [
    "> Did you know?\n",
    ">\n",
    "> You can import data from cloud storage such as:\n",
    "> - AWS S3 \n",
    "> - GCS buckets\n",
    "> - Azure blob \n",
    "> \n",
    "> For more details, review [Import Data File](https://docs.yugabyte.com/preview/yugabyte-voyager/migrate-steps/#import-data-file) in Voyager documentation.\n",
    "> \n"
   ]
  },
  {
   "cell_type": "markdown",
   "metadata": {},
   "source": [
    "---\n",
    "## Post import data\n",
    "After importing the data, rerun the import schema command, but this time, using the arguments, `post-import-data` and `refresh-mviews`.\n",
    "\n",
    "The `post-import-data` argument creates indexes, foreign keys, and triggers in the target database. \n",
    "\n",
    "The `refresh-mviews` argument instructs Voyager to refresh any materialized views on the target database during the post import data phase. "
   ]
  },
  {
   "cell_type": "code",
   "execution_count": null,
   "metadata": {
    "vscode": {
     "languageId": "shellscript"
    }
   },
   "outputs": [],
   "source": [
    "%%bash -s \"$MY_DB_NAME\"  \"$MY_DB_PORT\" \"$MY_HOST_IPv4_01\" \"$MY_NOTEBOOK_VOYAGER_TMP\"\n",
    "DB_NAME=${1}\n",
    "DB_PORT=${2}\n",
    "DB_HOST=${3}\n",
    "NOTEBOOK_VOYAGER_TMP=${4}\n",
    "IMPORT_SCHEMA_LOG=yb-voyager-import-schema.log\n",
    "\n",
    "# delete the log so that we can get a fresh view\n",
    "rm -rf $NOTEBOOK_VOYAGER_TMP/export-dir/logs/$IMPORT_SCHEMA_LOG\n",
    "\n",
    "yb-voyager import schema  -y  \\\n",
    "  --post-import-data true \\\n",
    "  --refresh-mviews true \\\n",
    "  --export-dir $NOTEBOOK_VOYAGER_TMP/export-dir  \\\n",
    "  --target-db-host ${DB_HOST}  \\\n",
    "  --target-db-port  ${DB_PORT}  \\\n",
    "  --target-db-name  ${DB_NAME}  \\\n",
    "  --target-db-user \"ybvoyager\"  \\\n",
    "  --target-db-password \"Password\"  \\\n",
    "  --target-db-schema \"sakila\" > /dev/null\n",
    "  "
   ]
  },
  {
   "attachments": {},
   "cell_type": "markdown",
   "metadata": {
    "deletable": false,
    "editable": false
   },
   "source": [
    "---\n",
    "## Verify migration\n",
    "After completing the migration of the schema and the data,the automated migration is finished. Next is the manual verification of the migration success. \n",
    "\n",
    "You need to manually validate the successful migration of database objects, including the post import data objects such as triggers and indexes.\n",
    "\n",
    "You also need to manually run validation queries on both the source and target database to ensure that the data is correctly migrated. A sample query to validate the databases can include checking the row count of each table.\n"
   ]
  },
  {
   "attachments": {},
   "cell_type": "markdown",
   "metadata": {
    "deletable": false,
    "editable": false
   },
   "source": [
    "### Connect to YugabyteDB using the PostgreSQL Driver for Python"
   ]
  },
  {
   "cell_type": "code",
   "execution_count": null,
   "metadata": {
    "deletable": false,
    "editable": false
   },
   "outputs": [],
   "source": [
    "# Connect to db_ybu\n",
    "# Inspiration from https://medium.com/analytics-vidhya/postgresql-integration-with-jupyter-notebook-deb97579a38d\n",
    "import psycopg2\n",
    "import sqlalchemy as alc\n",
    "from sqlalchemy import create_engine\n",
    "\n",
    "# env_var.env\n",
    "db_host=MY_HOST_IPv4_01\n",
    "db_name=MY_DB_NAME\n",
    "\n",
    "connection_str='postgresql://yugabyte@'+db_host+':5433/'+db_name\n",
    "print(connection_str)\n",
    "engine = create_engine(connection_str)"
   ]
  },
  {
   "attachments": {},
   "cell_type": "markdown",
   "metadata": {
    "deletable": false,
    "editable": false
   },
   "source": [
    "#### Load SQL magic extension\n",
    ">IMPORTANT!\n",
    ">\n",
    "> To use SQL magic, you must run the following cell that loads the notebook extension."
   ]
  },
  {
   "cell_type": "code",
   "execution_count": null,
   "metadata": {},
   "outputs": [],
   "source": [
    "%reload_ext sql\n",
    "# creates connection for sql magic\n",
    "%sql {connection_str}"
   ]
  },
  {
   "cell_type": "markdown",
   "metadata": {},
   "source": [
    "### Run queries to validate objects"
   ]
  },
  {
   "cell_type": "markdown",
   "metadata": {},
   "source": [
    "Verify the creation of indexes."
   ]
  },
  {
   "cell_type": "code",
   "execution_count": null,
   "metadata": {},
   "outputs": [],
   "source": [
    "%%sql\n",
    "select tablename, indexname, indexdef from pg_indexes where schemaname = 'sakila' order by tablename, indexname;"
   ]
  },
  {
   "cell_type": "markdown",
   "metadata": {},
   "source": [
    "Verify the creation of triggers."
   ]
  },
  {
   "cell_type": "code",
   "execution_count": null,
   "metadata": {},
   "outputs": [],
   "source": [
    "%%sql\n",
    "select  event_object_table AS table_name, trigger_name from information_schema.triggers where trigger_schema = 'sakila' group by table_name, trigger_name order by table_name, trigger_name;"
   ]
  },
  {
   "cell_type": "markdown",
   "metadata": {},
   "source": [
    "### Run queries"
   ]
  },
  {
   "cell_type": "code",
   "execution_count": null,
   "metadata": {},
   "outputs": [],
   "source": [
    "%%sql\n",
    "select * from sakila.actor where UPPER(first_name) = 'SCARLETT';"
   ]
  },
  {
   "cell_type": "code",
   "execution_count": null,
   "metadata": {},
   "outputs": [],
   "source": [
    "%%sql\n",
    "select count(distinct last_name) from sakila.actor;"
   ]
  },
  {
   "cell_type": "code",
   "execution_count": null,
   "metadata": {},
   "outputs": [],
   "source": [
    "%%sql\n",
    "select actor.actor_id, actor.first_name, actor.last_name,\n",
    "       count(actor_id) as film_count\n",
    "from sakila.actor join sakila.film_actor using (actor_id)\n",
    "group by actor_id\n",
    "order by film_count desc\n",
    "limit 1;"
   ]
  },
  {
   "attachments": {},
   "cell_type": "markdown",
   "metadata": {
    "deletable": false,
    "editable": false
   },
   "source": [
    "### Cleanup the migration user"
   ]
  },
  {
   "cell_type": "code",
   "execution_count": null,
   "metadata": {
    "vscode": {
     "languageId": "sql"
    }
   },
   "outputs": [],
   "source": [
    "%%sql \n",
    "\n",
    "REASSIGN OWNED BY ybvoyager TO yugabyte;\n",
    "DROP OWNED BY ybvoyager;\n",
    "DROP USER ybvoyager;"
   ]
  },
  {
   "attachments": {},
   "cell_type": "markdown",
   "metadata": {
    "deletable": false,
    "editable": false
   },
   "source": [
    "---\n",
    "\n",
    "## 😊 Next up!\n",
    "Continue your learning by opening the next notebook, `06_Migration_Workflow_End_Migration.ipynb`. \n",
    "\n",
    "Or, to open the notebook from GitPod, run the following:"
   ]
  },
  {
   "cell_type": "code",
   "execution_count": null,
   "metadata": {
    "vscode": {
     "languageId": "shellscript"
    }
   },
   "outputs": [],
   "source": [
    "%%bash\n",
    "gp open '06_Migration_Workflow_End_Migration.ipynb'"
   ]
  }
 ],
 "metadata": {
  "kernelspec": {
   "display_name": "Python 3.7.9 64-bit",
   "language": "python",
   "name": "python3"
  },
  "language_info": {
   "codemirror_mode": {
    "name": "ipython",
    "version": 3
   },
   "file_extension": ".py",
   "mimetype": "text/x-python",
   "name": "python",
   "nbconvert_exporter": "python",
   "pygments_lexer": "ipython3",
   "version": "3.11.2"
  },
  "orig_nbformat": 4,
  "vscode": {
   "interpreter": {
    "hash": "aee8b7b246df8f9039afb4144a1f6fd8d2ca17a180786b69acc140d282b71a49"
   }
  }
 },
 "nbformat": 4,
 "nbformat_minor": 2
}
