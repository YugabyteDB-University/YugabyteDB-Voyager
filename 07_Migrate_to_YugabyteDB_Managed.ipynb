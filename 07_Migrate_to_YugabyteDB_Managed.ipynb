{
 "cells": [
  {
   "attachments": {},
   "cell_type": "markdown",
   "metadata": {
    "deletable": false,
    "editable": false
   },
   "source": [
    "<div style=\"width:100%; background-color: #121017;\"><a target=\"_blank\" href=\"http://university.yugabyte.com?utm_source=gitpod&utm_medium=notebook\"><img src=\"assets/YBU_Logo.png\" /></a></div><br>\n",
    "\n",
    "> **Migrate and Modernize with YugabyteDB Voyager**\n",
    ">\n",
    "> Enroll for free at  [Yugabyte University](https://university.yugabyte.com/courses/YugabyteDB-Voyager?utm_source=gitpod&utm_medium=notebook).\n",
    ">\n",
    "\n",
    "<br>\n",
    "This notebook file is:\n",
    "\n",
    "`07_Migrate_to_YugabyteDB_Managed.ipynb`"
   ]
  },
  {
   "attachments": {},
   "cell_type": "markdown",
   "metadata": {},
   "source": [
    "## 🛠️ Requirements\n",
    "Here are the requirements for this notebook:\n",
    "- ✅ Create the notebook variables in `01_Lab_Setup.ipynb`, which you previously did\n",
    "- ✅ Create the `db_ybu` database, which you previously did\n",
    "- ☑️ A Python 3.12 or higher kernel for the notebook, *which you need to select right now!!!*\n",
    "- ☑️ Import the notebook variables, *which you must do next*\n",
    "- ☑️ Create a YugabyteDB Managed free, sandbox cluster at [https://cloud.yugabyte.com](https://cloud.yugabyte.com), *which you must do next*\n",
    "- ☑️ Prepare, Migrate schema, and Migrate data, *which you must do next*\n",
    "\n",
    "\n",
    "### Select your notebook kernel\n",
    "- In the Notebook toolbar, click **Select Kernel**.\n",
    "<br>\n",
    "<img width=50% src=\"assets/01_01_Select_Kernel_Toolbar.png\" />\n",
    "\n",
    "- Next, in the dropdown, select **Python 3.12** or higher.\n",
    "<br>\n",
    "<img width=50% src=\"assets/01_02_Select_Kernel_Dropdown.png\" />\n",
    "\n",
    "That's it!"
   ]
  },
  {
   "attachments": {},
   "cell_type": "markdown",
   "metadata": {},
   "source": [
    "## ⛑️ Getting help\n",
    "The best way to get help us from the Yugabyte University team. You can post your question in YugabyteDB Community Slack in the #training or #yb-university channels. Join our [community](https://communityinviter.com/apps/yugabyte-db/register)."
   ]
  },
  {
   "attachments": {},
   "cell_type": "markdown",
   "metadata": {
    "deletable": false,
    "editable": false
   },
   "source": [
    "## 👣 Set up steps for this notebook\n",
    "Here are the steps to setup this lab:\n",
    "\n",
    "- Import the notebook variables"
   ]
  },
  {
   "attachments": {},
   "cell_type": "markdown",
   "metadata": {
    "deletable": false,
    "editable": false
   },
   "source": [
    "### 👇 Import the notebook variables\n",
    "\n",
    "> 👉 IMPORTANT! 👈\n",
    "> \n",
    "> Do **NOT** skip running the following cell. \n",
    "> \n",
    "\n",
    "The following Python cell reads the stored variables created in the `01_Lab_Setup.ipynb` notebook. To run the script, select Execute Cell (Play Arrow) in the left gutter of the cell. \n",
    "\n",
    "👇 👇 👇 "
   ]
  },
  {
   "cell_type": "code",
   "execution_count": null,
   "metadata": {
    "deletable": false,
    "editable": false
   },
   "outputs": [],
   "source": [
    "# Use %store -r to read 01_Lab_Setup variables\n",
    "%store -r \n",
    "%config SqlMagic.autopandas=False\n",
    "# %config SqlMagic.named_parameters=True\n",
    "%config SqlMagic.displaylimit=30\n",
    "%config SqlMagic.displaycon=False"
   ]
  },
  {
   "cell_type": "markdown",
   "metadata": {},
   "source": [
    "**Update the notebook styling**"
   ]
  },
  {
   "cell_type": "code",
   "execution_count": null,
   "metadata": {},
   "outputs": [],
   "source": [
    "from IPython.core.display import HTML\n",
    "def css_styling():\n",
    "    styles = open(\"./styles/custom.css\", \"r\").read()\n",
    "    return HTML(styles)\n",
    "css_styling()"
   ]
  },
  {
   "cell_type": "markdown",
   "metadata": {},
   "source": [
    "### Get Your Gitpod to the IP address\n",
    "Run the following to determine the public ip address of your Gitpod host."
   ]
  },
  {
   "cell_type": "code",
   "execution_count": null,
   "metadata": {
    "vscode": {
     "languageId": "shellscript"
    }
   },
   "outputs": [],
   "source": [
    "%%bash --out MY_GITPOD_IP_ADDRESS\n",
    "MY_GITPOD_IP_ADDRESS=`curl -s https://ipinfo.io/ip`\n",
    "echo $MY_GITPOD_IP_ADDRESS"
   ]
  },
  {
   "cell_type": "markdown",
   "metadata": {},
   "source": [
    "> No IP Address ???\n",
    ">\n",
    "> If you don't get an IP address, rerun the above again! It may make a few tries!"
   ]
  },
  {
   "cell_type": "markdown",
   "metadata": {},
   "source": [
    "Store your address as a notebook variable."
   ]
  },
  {
   "cell_type": "code",
   "execution_count": null,
   "metadata": {},
   "outputs": [],
   "source": [
    "%store MY_GITPOD_IP_ADDRESS\n",
    "print(MY_GITPOD_IP_ADDRESS)"
   ]
  },
  {
   "cell_type": "markdown",
   "metadata": {},
   "source": [
    "> No output ???\n",
    ">\n",
    "> Rerun the above two cells and confirm that the output of the IP address."
   ]
  },
  {
   "cell_type": "markdown",
   "metadata": {},
   "source": [
    "---\n",
    "## Prepare YugabyteDB Managed\n",
    "- Create a sandbox cluster\n",
    "- Create a New IP Allow List and add your Gitpod IP to the IP Allow List\n",
    "- Download the `root.crt` file\n",
    "- Copy the DNS Host name\n",
    "- Create a target database and Voyager user"
   ]
  },
  {
   "cell_type": "markdown",
   "metadata": {},
   "source": [
    "### Create a sandbox cluster \n",
    "\n",
    "Create a YugabyteDB Managed free, sandbox cluster at [https://cloud.yugabyte.com](https://cloud.yugabyte.com/utm_source=gitpod&utm_medium=notebook). \n",
    "- Sign up or Sign in\n",
    "- Select **Create a Free** cluster.\n",
    "- In **Choose a cluster type**, select the **Sandbox** card, and select **Choose**.\n",
    "- In **(1) Cluster Settings**...\n",
    "  - In **Cluster Name**, enter `migrate-mysql`.\n",
    "  - Select a provide such as AWS or GCP.\n",
    "  - Select a region.\n",
    "  - Select **Next**.\n",
    "- In **(2) Network Access**...\n",
    "  - Select **Create New IP Allow List**.\n",
    "  - In the **Create New IP Allow List** dialog...\n",
    "    - For **IP ALLOW LIST NAME**, enter `ybu-yugabytedb-voyager-gitpod`\n",
    "    - In **IP ADDRESS(ES) OR CIDR RANGE**, copy the output value of the bash cell above this one, e.g, `$MY_GITPOD_IP_ADDRESS`.\n",
    "    - Select **Create**.\n",
    "  - Select **Next**.\n",
    "- In **(3) DB Credentials**...\n",
    "  - Select **Add your own credentials**\n",
    "  - For **User**, enter `admin`.\n",
    "  - For **Password** and **Confirm Password**, enter `Yugabyte#1`.\n",
    "  - Select **Download Credentials**.\n",
    "  - Select **Create Cluster**."
   ]
  },
  {
   "cell_type": "markdown",
   "metadata": {},
   "source": [
    "While the cluster is spinning up, which may take about 5 minutes, store your User and Password as notebook variables. The cell below has the default values in the instructions above."
   ]
  },
  {
   "cell_type": "code",
   "execution_count": null,
   "metadata": {},
   "outputs": [],
   "source": [
    "MY_YUGABYTEDB_MANAGED_YSQL_USER = 'admin'\n",
    "MY_YUGABYTEDB_MANAGED_YSQL_PASSWORD = 'Yugabyte#1'\n",
    "\n",
    "%store MY_YUGABYTEDB_MANAGED_YSQL_USER\n",
    "%store MY_YUGABYTEDB_MANAGED_YSQL_PASSWORD\n",
    "\n",
    "print(MY_YUGABYTEDB_MANAGED_YSQL_USER)\n",
    "print(MY_YUGABYTEDB_MANAGED_YSQL_PASSWORD)"
   ]
  },
  {
   "cell_type": "markdown",
   "metadata": {},
   "source": [
    "Wait until your YugabyteDB Managed cluster is running."
   ]
  },
  {
   "cell_type": "markdown",
   "metadata": {},
   "source": [
    "Download the `root.crt` file.\n",
    "- In the Cluster dashboard, select **Connect**.\n",
    "- In the **Connect to Cluster** dialog, in **Connection Methods**, in **Connect to your Application**, select **View Guide**.\n",
    "- In the **Connect to Cluster** dialog, in **1) Download the CA certificate...**, select **Download CA Cert**.\n",
    "- Drag and drop the `root.crt` file into the `\\tmp` directory in the Explorer panel, here in this Gitpod VS Code environment. \n",
    "\n",
    "> 👉 IMPORTANT! 👈\n",
    "> Copy your `root.crt` to the `\\tmp` directory in the file explorer of the Gitpod environment. You can literally drag and drop the file to the `\\tmp` in the Explorer panel. \n",
    "> \n",
    "> There is file already there that you can ignore, `nada.txt`.\n",
    ">\n",
    "\n",
    "- Keep the dialog open as you will need to copy parameter values."
   ]
  },
  {
   "cell_type": "markdown",
   "metadata": {},
   "source": [
    "Verify that you have the `root.crt` file and that this notebook can read it."
   ]
  },
  {
   "cell_type": "code",
   "execution_count": null,
   "metadata": {
    "vscode": {
     "languageId": "shellscript"
    }
   },
   "outputs": [],
   "source": [
    "%%bash -s \"$NB_NOTEBOOK_VOYAGER_TMP\"\n",
    "NOTEBOOK_VOYAGER_TMP=${1}\n",
    "echo $NOTEBOOK_VOYAGER_TMP\n",
    "cat  $NOTEBOOK_VOYAGER_TMP/root.crt"
   ]
  },
  {
   "cell_type": "markdown",
   "metadata": {},
   "source": [
    "Next, copy the Host parameter  and assign the values to a notebook variable.\n",
    "-  In the **Connect to Cluster** dialog, in **2) Use the following parameters...**, select **YSQL**.\n",
    "-  Select the **Parameters** tab.\n",
    "-  For Host, select the Copy icon.\n",
    "-  Store the Host value in the following notebook variable."
   ]
  },
  {
   "cell_type": "code",
   "execution_count": null,
   "metadata": {},
   "outputs": [],
   "source": [
    "MY_YUGABYTEDB_MANAGED_HOST = 'ADD_HOST_HERE';\n",
    "%store MY_YUGABYTEDB_MANAGED_HOST\n",
    "print(MY_YUGABYTEDB_MANAGED_HOST)"
   ]
  },
  {
   "cell_type": "markdown",
   "metadata": {},
   "source": [
    "> 👉 IMPORTANT! 👈\n",
    ">\n",
    "> Make sure that you copy the Host for your YugabyteDB Managed sandbox cluster. \n",
    "> \n",
    "> It should be something like: <br>\n",
    "> `us-east-1.fb67380f-e7d8-4709-8fe0-5a7182146558.aws.ybdb.io`"
   ]
  },
  {
   "cell_type": "markdown",
   "metadata": {},
   "source": [
    "- Close the **Connect to Cluster** dialog."
   ]
  },
  {
   "cell_type": "markdown",
   "metadata": {},
   "source": [
    "### Create a target database and Voyager user\n",
    "\n",
    "Create the target database in your YugabyteDB cluster. The database name can be the same or different from the source database name. If the target database name is not provided, yb-voyager assumes the target database name to be yugabyte. If you do not want to import in the default yugabyte database, specify the name of the target database name using the --target-db-name argument to the yb-voyager import commands.\n",
    "\n",
    "```sql\n",
    "CREATE DATABASE target_db_name;\n",
    "```\n",
    "\n",
    "```sql\n",
    "CREATE USER ybvoyager PASSWORD 'password';\n",
    "GRANT yb_superuser TO ybvoyager;\n",
    "```\n"
   ]
  },
  {
   "cell_type": "markdown",
   "metadata": {},
   "source": [
    "> 👉 IMPORTANT! 👈\n",
    "> \n",
    "> Copy your `root.crt` to the `\\tmp` directory in the file explorer of the Gitpod environment. You can literally drag and drop the file to the `\\tmp` in the Explorer panel. "
   ]
  },
  {
   "cell_type": "code",
   "execution_count": null,
   "metadata": {
    "vscode": {
     "languageId": "shellscript"
    }
   },
   "outputs": [],
   "source": [
    "%%bash -s \"$NB_YB_PATH_BIN\" \"$NB_DB_NAME\" \"$NB_NOTEBOOK_VOYAGER_TMP\" \"$MY_YUGABYTEDB_MANAGED_HOST\" \"$MY_YUGABYTEDB_MANAGED_YSQL_USER\" \"$MY_YUGABYTEDB_MANAGED_YSQL_PASSWORD\"\n",
    "YB_PATH_BIN=${1}\n",
    "DB_NAME=${2}\n",
    "NOTEBOOK_VOYAGER_TMP=${3}\n",
    "YUGABYTEDB_MANAGED_HOST=${4}\n",
    "YUGABYTEDB_MANAGED_YSQL_USER=${5}\n",
    "YUGABYTEDB_MANAGED_YSQL_PASSWORD=${6}\n",
    "\n",
    "cd $YB_PATH_BIN\n",
    "\n",
    "MY_YUGABYTEDB_MANAGED_PORT=5433\n",
    "MY_YUGABYTEDB_MANAGED_HOST_PORT=${YUGABYTEDB_MANAGED_HOST}:${MY_YUGABYTEDB_MANAGED_PORT}\n",
    "MY_YUGABYTEDB_MANAGED_CRT=${NOTEBOOK_VOYAGER_TMP}/root.crt\n",
    "MY_YUGABYTEDB_MANAGED_CONN=\"postgresql://${YUGABYTEDB_MANAGED_YSQL_USER}:${YUGABYTEDB_MANAGED_YSQL_PASSWORD}@${MY_YUGABYTEDB_MANAGED_HOST_PORT}/yugabyte?ssl=true&sslmode=verify-full&sslrootcert=${MY_YUGABYTEDB_MANAGED_CRT}\"\n",
    "echo $MY_YUGABYTEDB_MANAGED_CONN\n",
    "\n",
    "./ysqlsh $MY_YUGABYTEDB_MANAGED_CONN -c \"drop database if exists \"${DB_NAME}\";\"\n",
    "./ysqlsh $MY_YUGABYTEDB_MANAGED_CONN -c \"drop database if exists ybvoyager_metadata;\" \n",
    "./ysqlsh $MY_YUGABYTEDB_MANAGED_CONN -c \"create database \"${DB_NAME}\";\"\n",
    "./ysqlsh $MY_YUGABYTEDB_MANAGED_CONN -c \"drop user if exists ybvoyager; create user ybvoyager PASSWORD 'Yugabyte#1'; GRANT yb_superuser TO ybvoyager;\" \n"
   ]
  },
  {
   "cell_type": "markdown",
   "metadata": {},
   "source": [
    "Verify that the `ybvoyager` user can connect.\n"
   ]
  },
  {
   "cell_type": "code",
   "execution_count": null,
   "metadata": {
    "vscode": {
     "languageId": "shellscript"
    }
   },
   "outputs": [],
   "source": [
    "%%bash -s \"$NB_YB_PATH_BIN\" \"$NB_DB_NAME\" \"$NB_NOTEBOOK_VOYAGER_TMP\" \"$MY_YUGABYTEDB_MANAGED_HOST\" \n",
    "YB_PATH_BIN=${1}\n",
    "DB_NAME=${2}\n",
    "NOTEBOOK_VOYAGER_TMP=${3}\n",
    "YUGABYTEDB_MANAGED_HOST=${4}\n",
    "\n",
    "cd $YB_PATH_BIN\n",
    "\n",
    "MY_YUGABYTEDB_MANAGED_VOYAGER_USER=ybvoyager\n",
    "MY_YUGABYTEDB_MANAGED_VOYAGER_PASSWORD=Yugabyte#1\n",
    "\n",
    "MY_YUGABYTEDB_MANAGED_PORT=5433\n",
    "MY_YUGABYTEDB_MANAGED_HOST_PORT=${YUGABYTEDB_MANAGED_HOST}:${MY_YUGABYTEDB_MANAGED_PORT}\n",
    "MY_YUGABYTEDB_MANAGED_CRT=${NOTEBOOK_VOYAGER_TMP}/root.crt\n",
    "MY_YUGABYTEDB_MANAGED_CONN=\"postgresql://${MY_YUGABYTEDB_MANAGED_VOYAGER_USER}:${MY_YUGABYTEDB_MANAGED_VOYAGER_PASSWORD}@${MY_YUGABYTEDB_MANAGED_HOST_PORT}/${DB_NAME}?ssl=true&sslmode=verify-full&sslrootcert=${MY_YUGABYTEDB_MANAGED_CRT}\"\n",
    "echo $MY_YUGABYTEDB_MANAGED_CONN\n",
    "\n",
    "./ysqlsh $MY_YUGABYTEDB_MANAGED_CONN  -c \"select 1 as yes_connected;\" \n",
    "./ysqlsh $MY_YUGABYTEDB_MANAGED_CONN  -c \"\\l\" "
   ]
  },
  {
   "cell_type": "markdown",
   "metadata": {},
   "source": [
    "---\n",
    "## Import modified schema\n",
    "\n",
    "In the previous notebook, you ran a cell that ended the migration. In doing so, you also copied the original export directory. You will use this copy of the export directory for the migration to your YugabyteDB Managed cluster."
   ]
  },
  {
   "cell_type": "code",
   "execution_count": null,
   "metadata": {
    "vscode": {
     "languageId": "shellscript"
    }
   },
   "outputs": [],
   "source": [
    "%%bash -s \"$NB_DB_NAME\" \"$NB_NOTEBOOK_VOYAGER_TMP\" \"$MY_YUGABYTEDB_MANAGED_HOST\" \n",
    "DB_NAME=${1}\n",
    "NOTEBOOK_VOYAGER_TMP=${2}\n",
    "YUGABYTEDB_MANAGED_HOST=${3}\n",
    "\n",
    "MY_YUGABYTEDB_MANAGED_VOYAGER_USER=ybvoyager\n",
    "MY_YUGABYTEDB_MANAGED_VOYAGER_PASSWORD=Yugabyte#1\n",
    "\n",
    "MY_YUGABYTEDB_MANAGED_PORT=5433\n",
    "MY_YUGABYTEDB_MANAGED_CRT=${NOTEBOOK_VOYAGER_TMP}/root.crt\n",
    "\n",
    "\n",
    "yb-voyager import schema  -y  \\\n",
    "  --start-clean true \\\n",
    "  --export-dir $NOTEBOOK_VOYAGER_TMP/my-export-dir \\\n",
    "  --target-db-host ${YUGABYTEDB_MANAGED_HOST} \\\n",
    "  --target-db-port  ${MY_YUGABYTEDB_MANAGED_PORT} \\\n",
    "  --target-db-name  ${DB_NAME} \\\n",
    "  --target-db-user ${MY_YUGABYTEDB_MANAGED_VOYAGER_USER} \\\n",
    "  --target-db-password ${MY_YUGABYTEDB_MANAGED_VOYAGER_PASSWORD} \\\n",
    "  --target-ssl-mode \"verify-full\" \\\n",
    "  --target-ssl-root-cert ${MY_YUGABYTEDB_MANAGED_CRT} \\\n",
    "  --target-db-schema \"sakila\" > /dev/null\n",
    "  "
   ]
  },
  {
   "cell_type": "markdown",
   "metadata": {},
   "source": [
    "Verify the schema creation in your YugabyteDB Managed cluster."
   ]
  },
  {
   "cell_type": "code",
   "execution_count": null,
   "metadata": {
    "vscode": {
     "languageId": "shellscript"
    }
   },
   "outputs": [],
   "source": [
    "%%bash -s \"$NB_YB_PATH_BIN\" \"$NB_DB_NAME\" \"$NB_NOTEBOOK_VOYAGER_TMP\" \"$MY_YUGABYTEDB_MANAGED_HOST\" \n",
    "YB_PATH_BIN=${1}\n",
    "DB_NAME=${2}\n",
    "NOTEBOOK_VOYAGER_TMP=${3}\n",
    "YUGABYTEDB_MANAGED_HOST=${4}\n",
    "\n",
    "cd $YB_PATH_BIN\n",
    "\n",
    "MY_YUGABYTEDB_MANAGED_VOYAGER_USER=ybvoyager\n",
    "MY_YUGABYTEDB_MANAGED_VOYAGER_PASSWORD=Yugabyte#1\n",
    "\n",
    "MY_YUGABYTEDB_MANAGED_PORT=5433\n",
    "MY_YUGABYTEDB_MANAGED_HOST_PORT=${YUGABYTEDB_MANAGED_HOST}:${MY_YUGABYTEDB_MANAGED_PORT}\n",
    "MY_YUGABYTEDB_MANAGED_CRT=${NOTEBOOK_VOYAGER_TMP}/root.crt\n",
    "MY_YUGABYTEDB_MANAGED_CONN=\"postgresql://${MY_YUGABYTEDB_MANAGED_VOYAGER_USER}:${MY_YUGABYTEDB_MANAGED_VOYAGER_PASSWORD}@${MY_YUGABYTEDB_MANAGED_HOST_PORT}/${DB_NAME}?ssl=true&sslmode=verify-full&sslrootcert=${MY_YUGABYTEDB_MANAGED_CRT}\"\n",
    "echo $MY_YUGABYTEDB_MANAGED_CONN\n",
    "\n",
    "./ysqlsh $MY_YUGABYTEDB_MANAGED_CONN -c \"\\dn\" "
   ]
  },
  {
   "cell_type": "markdown",
   "metadata": {},
   "source": [
    "---\n",
    "## Import source data\n",
    "Import the source data to the target YugabyteDB database using the `yb-voyager import data` command.\n"
   ]
  },
  {
   "cell_type": "code",
   "execution_count": null,
   "metadata": {
    "vscode": {
     "languageId": "shellscript"
    }
   },
   "outputs": [],
   "source": [
    "%%bash -s \"$NB_DB_NAME\" \"$NB_NOTEBOOK_VOYAGER_TMP\" \"$MY_YUGABYTEDB_MANAGED_HOST\" \n",
    "DB_NAME=${1}\n",
    "NOTEBOOK_VOYAGER_TMP=${2}\n",
    "YUGABYTEDB_MANAGED_HOST=${3}\n",
    "\n",
    "\n",
    "MY_YUGABYTEDB_MANAGED_VOYAGER_USER=ybvoyager\n",
    "MY_YUGABYTEDB_MANAGED_VOYAGER_PASSWORD=Yugabyte#1\n",
    "MY_YUGABYTEDB_MANAGED_PORT=5433\n",
    "MY_YUGABYTEDB_MANAGED_CRT=${NOTEBOOK_VOYAGER_TMP}/root.crt\n",
    "\n",
    "\n",
    "##update to use connection string, user, and SSL?\n",
    "yb-voyager import data -y \\\n",
    "  --start-clean true \\\n",
    "  --export-dir $NOTEBOOK_VOYAGER_TMP/my-export-dir \\\n",
    "  --target-db-host ${YUGABYTEDB_MANAGED_HOST} \\\n",
    "  --target-db-port  ${MY_YUGABYTEDB_MANAGED_PORT} \\\n",
    "  --target-db-name  ${DB_NAME} \\\n",
    "  --target-db-user ${MY_YUGABYTEDB_MANAGED_VOYAGER_USER} \\\n",
    "  --target-db-password ${MY_YUGABYTEDB_MANAGED_VOYAGER_PASSWORD} \\\n",
    "  --target-ssl-mode \"verify-full\" \\\n",
    "  --target-ssl-root-cert ${MY_YUGABYTEDB_MANAGED_CRT} \\\n",
    "  --target-db-schema \"sakila\" "
   ]
  },
  {
   "cell_type": "markdown",
   "metadata": {},
   "source": [
    "You can check the status of the import."
   ]
  },
  {
   "cell_type": "code",
   "execution_count": null,
   "metadata": {
    "vscode": {
     "languageId": "shellscript"
    }
   },
   "outputs": [],
   "source": [
    "%%bash -s \"$NB_NOTEBOOK_VOYAGER_TMP\"\n",
    "NOTEBOOK_VOYAGER_TMP=${1}\n",
    "\n",
    "yb-voyager import data status \\\n",
    "  --export-dir $NOTEBOOK_VOYAGER_TMP/my-export-dir\n"
   ]
  },
  {
   "cell_type": "markdown",
   "metadata": {},
   "source": [
    "---\n",
    "## Post Import Data\n",
    "After importing the data, rerun the import schema command, but this time, using the arguments, `post-import-data` and `refresh-mviews`.\n",
    "\n",
    "\n",
    "> 👉 IMPORTANT! 👈\n",
    "> - Change the values in the variables for `ADD_HOST_HERE` \n",
    "> - Copy your `root.crt` to the `\\tmp` directory in the file explorer\n"
   ]
  },
  {
   "cell_type": "code",
   "execution_count": null,
   "metadata": {
    "vscode": {
     "languageId": "shellscript"
    }
   },
   "outputs": [],
   "source": [
    "%%bash -s \"$NB_DB_NAME\" \"$NB_NOTEBOOK_VOYAGER_TMP\" \"$MY_YUGABYTEDB_MANAGED_HOST\" \n",
    "DB_NAME=${1}\n",
    "NOTEBOOK_VOYAGER_TMP=${2}\n",
    "YUGABYTEDB_MANAGED_HOST=${3}\n",
    "\n",
    "\n",
    "MY_YUGABYTEDB_MANAGED_VOYAGER_USER=ybvoyager\n",
    "MY_YUGABYTEDB_MANAGED_VOYAGER_PASSWORD=Yugabyte#1\n",
    "MY_YUGABYTEDB_MANAGED_PORT=5433\n",
    "MY_YUGABYTEDB_MANAGED_CRT=${NOTEBOOK_VOYAGER_TMP}/root.crt\n",
    "\n",
    "\n",
    "yb-voyager import schema  -y \\\n",
    "  --post-import-data true \\\n",
    "  --refresh-mviews true \\\n",
    "  --export-dir $NOTEBOOK_VOYAGER_TMP/my-export-dir \\\n",
    "  --target-db-host ${YUGABYTEDB_MANAGED_HOST} \\\n",
    "  --target-db-port  ${MY_YUGABYTEDB_MANAGED_PORT} \\\n",
    "  --target-db-name  ${DB_NAME} \\\n",
    "  --target-db-user ${MY_YUGABYTEDB_MANAGED_VOYAGER_USER} \\\n",
    "  --target-db-password ${MY_YUGABYTEDB_MANAGED_VOYAGER_PASSWORD} \\\n",
    "  --target-ssl-mode \"verify-full\" \\\n",
    "  --target-ssl-root-cert ${MY_YUGABYTEDB_MANAGED_CRT} \\\n",
    "  --target-db-schema \"sakila\""
   ]
  },
  {
   "attachments": {},
   "cell_type": "markdown",
   "metadata": {
    "deletable": false,
    "editable": false
   },
   "source": [
    "---\n",
    "## Verify migration\n",
    "After completing the migration of the schema and the data,the automated migration is finished. Next is the manual verification of the migration success. \n",
    "\n",
    "You need to manually validate the successful migration of database objects, including the post import data objects such as triggers and indexes.\n",
    "\n",
    "You also need to manually run validation queries on both the source and target database to ensure that the data is correctly migrated. A sample query to validate the databases can include checking the row count of each table.\n"
   ]
  },
  {
   "attachments": {},
   "cell_type": "markdown",
   "metadata": {
    "deletable": false,
    "editable": false
   },
   "source": [
    "### Connect to your cluster in YugabyteDB Managed using the PostgreSQL Driver for Python\n",
    "\n",
    "> 👉 IMPORTANT! 👈\n",
    "> - Change the values in the variables for `ADD_HOST_HERE`."
   ]
  },
  {
   "cell_type": "markdown",
   "metadata": {},
   "source": [
    "Copy the connection string from the above cell output into `conn_str`"
   ]
  },
  {
   "cell_type": "code",
   "execution_count": null,
   "metadata": {
    "deletable": false,
    "editable": false
   },
   "outputs": [],
   "source": [
    "# Connect to db_ybu in YugabyteDB Managed, requires you to update `ADD_HOST_HERE`\n",
    "\n",
    "import psycopg2\n",
    "import sqlalchemy as alc\n",
    "from sqlalchemy import create_engine\n",
    "\n",
    "\n",
    "db_name=NB_DB_NAME\n",
    "\n",
    "managed_host=MY_YUGABYTEDB_MANAGED_HOST\n",
    "\n",
    "connection_managed_str='postgresql://ybvoyager:Yugabyte#1@'+managed_host+':5433/'+db_name\n",
    "print(connection_managed_str)\n",
    "engine = create_engine(connection_managed_str)"
   ]
  },
  {
   "attachments": {},
   "cell_type": "markdown",
   "metadata": {
    "deletable": false,
    "editable": false
   },
   "source": [
    "#### Load SQL magic extension\n",
    ">IMPORTANT!\n",
    ">\n",
    "> To use SQL magic, you must run the following cell that loads the notebook extension."
   ]
  },
  {
   "cell_type": "code",
   "execution_count": null,
   "metadata": {},
   "outputs": [],
   "source": [
    "%reload_ext sql\n",
    "# creates connection for sql magic\n",
    "%sql {connection_managed_str}"
   ]
  },
  {
   "cell_type": "markdown",
   "metadata": {},
   "source": [
    "### Run queries to validate objects"
   ]
  },
  {
   "cell_type": "markdown",
   "metadata": {},
   "source": [
    "Verify the creation of indexes."
   ]
  },
  {
   "cell_type": "code",
   "execution_count": null,
   "metadata": {},
   "outputs": [],
   "source": [
    "%%sql\n",
    "select tablename, indexname, indexdef from pg_indexes where schemaname = 'sakila' order by tablename, indexname;"
   ]
  },
  {
   "cell_type": "markdown",
   "metadata": {},
   "source": [
    "Verify the creation of triggers."
   ]
  },
  {
   "cell_type": "code",
   "execution_count": null,
   "metadata": {},
   "outputs": [],
   "source": [
    "%%sql\n",
    "select  event_object_table AS table_name, trigger_name from information_schema.triggers where trigger_schema = 'sakila' group by table_name, trigger_name order by table_name, trigger_name;"
   ]
  },
  {
   "cell_type": "markdown",
   "metadata": {},
   "source": [
    "### Run queries"
   ]
  },
  {
   "cell_type": "code",
   "execution_count": null,
   "metadata": {},
   "outputs": [],
   "source": [
    "%%sql\n",
    "select * from sakila.actor where UPPER(first_name) = 'SCARLETT';"
   ]
  },
  {
   "cell_type": "code",
   "execution_count": null,
   "metadata": {},
   "outputs": [],
   "source": [
    "%%sql\n",
    "select count(distinct last_name) from sakila.actor;"
   ]
  },
  {
   "cell_type": "code",
   "execution_count": null,
   "metadata": {},
   "outputs": [],
   "source": [
    "%%sql\n",
    "select actor.actor_id, actor.first_name, actor.last_name,\n",
    "       count(actor_id) as film_count\n",
    "from sakila.actor join sakila.film_actor using (actor_id)\n",
    "group by actor_id\n",
    "order by film_count desc\n",
    "limit 1;"
   ]
  },
  {
   "cell_type": "markdown",
   "metadata": {},
   "source": [
    "---\n",
    "## End the migration"
   ]
  },
  {
   "cell_type": "markdown",
   "metadata": {},
   "source": [
    "Run the `end migration` command."
   ]
  },
  {
   "cell_type": "code",
   "execution_count": null,
   "metadata": {
    "vscode": {
     "languageId": "shellscript"
    }
   },
   "outputs": [],
   "source": [
    "%%bash -s \"$NB_NOTEBOOK_VOYAGER_TMP\" \"$TARGET_DB_PASSWORD\"\n",
    "NOTEBOOK_VOYAGER_TMP=${1}\n",
    "export TARGET_DB_PASSWORD=${2}\n",
    "#echo $NOTEBOOK_VOYAGER_TMP\n",
    "#echo $TARGET_DB_PASSWORD\n",
    "printenv TARGET_DB_PASSWORD\n",
    "\n",
    "yb-voyager end migration -y \\\n",
    "  --export-dir $NOTEBOOK_VOYAGER_TMP/my-export-dir \\\n",
    "  --backup-dir $NOTEBOOK_VOYAGER_TMP/backup-dir \\\n",
    "  --backup-data-files false \\\n",
    "  --backup-schema-files false \\\n",
    "  --backup-log-files false \\\n",
    "  --save-migration-reports false \n"
   ]
  },
  {
   "attachments": {},
   "cell_type": "markdown",
   "metadata": {
    "deletable": false,
    "editable": false
   },
   "source": [
    "---\n",
    "\n",
    "## 😊 That's it!\n",
    "Nicely done!!! \n",
    "\n",
    "You migrated again, this time from this Gitpod environment to your cluster in YugabyteDB Managed! \n",
    "\n",
    "Awesome !!!\n",
    "\n",
    "You can now close this Gitpod browser and continue with the course at Yugabyte University.\n",
    "\n",
    "> **Migrate and Modernize with YugabyteDB Voyager**\n",
    ">\n",
    "> Enroll for free at [Yugabyte University](https://university.yugabyte.com/courses/YugabyteDB-Voyager?utm_source=gitpod&utm_medium=notebook).\n",
    ">\n"
   ]
  }
 ],
 "metadata": {
  "kernelspec": {
   "display_name": "Python 3.7.9 64-bit",
   "language": "python",
   "name": "python3"
  },
  "language_info": {
   "codemirror_mode": {
    "name": "ipython",
    "version": 3
   },
   "file_extension": ".py",
   "mimetype": "text/x-python",
   "name": "python",
   "nbconvert_exporter": "python",
   "pygments_lexer": "ipython3",
   "version": "3.11.2"
  },
  "orig_nbformat": 4,
  "vscode": {
   "interpreter": {
    "hash": "aee8b7b246df8f9039afb4144a1f6fd8d2ca17a180786b69acc140d282b71a49"
   }
  }
 },
 "nbformat": 4,
 "nbformat_minor": 2
}
