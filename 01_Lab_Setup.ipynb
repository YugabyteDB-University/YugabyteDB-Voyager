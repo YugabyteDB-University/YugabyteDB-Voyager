{
 "cells": [
  {
   "attachments": {},
   "cell_type": "markdown",
   "metadata": {
    "deletable": false,
    "editable": false
   },
   "source": [
    "<div style=\"width:100%; background-color: #000041\"><a target=\"_blank\" href=\"http://university.yugabyte.com\"><img src=\"assets/YBU_Logo.png\" /></a></div>\n",
    "\n",
    "> **YugabyteDB YSQL Development**\n",
    ">\n",
    "> Enroll for free  [Yugabyte University](https://university.yugabyte.com/).\n",
    ">"
   ]
  },
  {
   "attachments": {},
   "cell_type": "markdown",
   "metadata": {},
   "source": [
    "# About these notebook Labs\n",
    "The labs for this course consists of several Jupyter notebooks that run in Gitpod. [Gitpod](https://www.gitpod.io/) facilitates runtime environments using Ubuntu and VS Code in a Chromium (browser) environment. \n",
    "\n",
    "A Gitpod instance belongs to your Gitpod workspace. The instance automatically runs a three node, YugabyteDB database cluster. YugabyteDB is the world's #1 open source, distributed SQL database. \n",
    "\n",
    "> Although a three node cluster is up and running, Gitpod does not support visiting loopback addresses over a web ui, even if exposed on a different port.\n",
    "> 127.0.0.1 is the only web user interface that is exposed. To see all available ports in Gitpod, in the Terminal tab, you can run `gp ports list`.\n",
    "> "
   ]
  },
  {
   "attachments": {},
   "cell_type": "markdown",
   "metadata": {},
   "source": [
    "## 🛠️ Requirements\n",
    "Here are the requirements for this lab:\n",
    "- ✅ Launch using this Gitpod workspace, which you are already doing\n",
    "- ✅ A running, standalone MySQL database, which is already running\n",
    "- ✅ A running, 3 node YugabyteDB cluster, which is already running\n",
    "- ☑️ A Python 3.8.13 or higher kernel for the notebook, *which you need to select right now!!!*\n",
    "\n",
    "### Select your notebook kernel\n",
    "- In the Notebook toolbar, click **Select Kernel**.\n",
    "<br>\n",
    "<img width=50% src=\"assets/01_01_Select_Kernel_Toolbar.png\" />\n",
    "\n",
    "- Next, in the dropdown, select **Python 3.8.13** or higher.\n",
    "<br>\n",
    "<img width=50% src=\"assets/01_02_Select_Kernel_Dropdown.png\" />\n",
    "\n",
    "That's it!"
   ]
  },
  {
   "attachments": {},
   "cell_type": "markdown",
   "metadata": {},
   "source": [
    "## About Jupyter notebooks"
   ]
  },
  {
   "attachments": {},
   "cell_type": "markdown",
   "metadata": {},
   "source": [
    "A Juypter notebook is a runtime environment for executing code. A notebook consists of one or more cells. There are three types of cells in a notebook: Markdown, Code, and Output. This is a Markdown cell.\n",
    "\n",
    "A cell has two modes: read-mode and edit-mode. By default, the cells in a notebook are in read-mode. You can run a read-mode cell that is code. To execute a code cell, select the play icon in the cell's left gutter. \n",
    "\n",
    "The execution of a code cell often results in Output. An Output cell shows the `stdout` of the previous executed code cell. You can delete an Output cell. You can also collapse the cell. In addition, you can also select `Clear Outputs of All Cells`.\n",
    "\n",
    "To modify a cell, select `Enter` or `Return`. In edit-mode, you can modify the contents of a cell. Certain labs contain challenges or experiments that require you to do just that: modify a code cell and re-run it! To switch from edit-mode to read-mode, use the `Shift+Enter` or `Shift+Return` keystroke."
   ]
  },
  {
   "attachments": {},
   "cell_type": "markdown",
   "metadata": {
    "deletable": false,
    "editable": false
   },
   "source": [
    "#### Notebook keyboard shortcuts\n",
    "The Jupyter extension for Gitpod supports the following keyboard shortcuts:\n",
    "| Keystroke | Description |\n",
    "|--|--|\n",
    "| ESC | Change the cell mode |\n",
    "| A | Add a cell above |\n",
    "| B | Add a cell below |\n",
    "| J or down arrow key |  Change a cell to below | \n",
    "| K or up arrow key | Change a cell to above | \n",
    "| Ctrl+Enter | Run the currently selected cell |\n",
    "| Shift+Enter | Run the currently selected cell and insert a new cell immediately below (focus moves to new cell) |\n",
    "| Alt+Enter | Run the currently selected cell and insert a new cell immediately below (focus remains on current cell) |\n",
    "| dd | Delete a selected cell |\n",
    "| z | Undo the last change | \n",
    "| M | switch the cell type to Markdown | \n",
    "| Y | switch the cell type to code |\n",
    "| L | Enable/Disable line numbers |\n",
    "```\n"
   ]
  },
  {
   "attachments": {},
   "cell_type": "markdown",
   "metadata": {},
   "source": [
    "## ⛑️ Getting help\n",
    "The best way to get help from the Yugabyte University team is to post your question on YugabyteDB Community Slack in the #training or #yb-university channels. To sign up, visit [https://communityinviter.com/apps/yugabyte-db/register](https://communityinviter.com/apps/yugabyte-db/register)."
   ]
  },
  {
   "attachments": {},
   "cell_type": "markdown",
   "metadata": {
    "deletable": false,
    "editable": false
   },
   "source": [
    "---\n",
    "# 👣 Setup steps\n",
    "Here are the steps to setup this lab:\n",
    "- Install missing dependencies and restart the notebook\n",
    "- Create the notebook variables\n",
    "- Create the `db_ybu` database"
   ]
  },
  {
   "attachments": {},
   "cell_type": "markdown",
   "metadata": {},
   "source": [
    "### Install missing dependencies and restart the notebook\n",
    "Run the following cell to ensure that the notebook dependencies are available to the notebook. "
   ]
  },
  {
   "attachments": {},
   "cell_type": "markdown",
   "metadata": {
    "deletable": false,
    "editable": false
   },
   "source": [
    "### Create the notebook variables \n",
    "\n",
    "> IMPORTANT!\n",
    "> \n",
    "> Do NOT skip running this cell. \n",
    "> \n",
    "\n",
    "The following Python cell creates and stores variables that all the notebooks in this lab will use. You can view these variables in the Jupyter tab.\n",
    "\n",
    "- To run the script, select Execute Cell (Play Arrow) in the left gutter of the cell.\n",
    "- Verify the accuracy of the output values"
   ]
  },
  {
   "cell_type": "code",
   "execution_count": null,
   "metadata": {
    "deletable": false,
    "editable": false
   },
   "outputs": [],
   "source": [
    "# Env variables for Notebook\n",
    "import os\n",
    "\n",
    "# read env_vars.env\n",
    "env_vars = !cat env_vars.env\n",
    "for var in env_vars:\n",
    "    key, value = var.split('=')\n",
    "    os.environ[key] = value\n",
    "\n",
    "### Begin: Gitpod or local\n",
    "#\n",
    "### Uncomment Gitpod specific\n",
    "#\n",
    "MY_YB_PATH=os.environ.get('MY_YB_PATH_GITPOD')\n",
    "MY_YB_PATH_DATA=os.environ.get('MY_YB_PATH_DATA_GITPOD')\n",
    "MY_GITPOD_WORKSPACE_URL=os.environ.get('GITPOD_WORKSPACE_URL')\n",
    "#\n",
    "\n",
    "\n",
    "# env_vars defines the following\n",
    "MY_DB_NAME=os.environ.get('MY_DB_NAME')\n",
    "MY_MYSQL_DB_NAME=os.environ.get('MY_MYSQL_DB_NAME')\n",
    "\n",
    "MY_HOST_IPv4_01=os.environ.get('MY_HOST_IPv4_01')\n",
    "MY_HOST_IPv4_02=os.environ.get('MY_HOST_IPv4_02')\n",
    "MY_HOST_IPv4_03=os.environ.get('MY_HOST_IPv4_03')\n",
    "\n",
    "MY_TSERVER_WEBSERVER_PORT=os.environ.get('MY_TSERVER_WEBSERVER_PORT')\n",
    "MY_MYSQL_PORT=os.environ.get('MY_MYSQL_PORT')\n",
    "\n",
    "# Gitpod URLS\n",
    "MY_YB_MASTER_HOST_GITPOD_URL = MY_GITPOD_WORKSPACE_URL.replace('https://','https://7000-')\n",
    "MY_YB_TSERVER_HOST_GITPOD_URL = MY_GITPOD_WORKSPACE_URL.replace('https://','https://'+MY_TSERVER_WEBSERVER_PORT+'-')\n",
    "\n",
    "# Current directory of project and related child folders\n",
    "MY_NOTEBOOK_DIR=os.getcwd()\n",
    "MY_NOTEBOOK_DATA_FOLDER=MY_NOTEBOOK_DIR +'/data' \n",
    "MY_NOTEBOOK_UTILS_FOLDER=MY_NOTEBOOK_DIR + '/utils'\n",
    "\n",
    "\n",
    "# Store the note book values for other notebooks to use\n",
    "%store MY_YB_PATH\n",
    "%store MY_YB_PATH_DATA\n",
    "\n",
    "%store MY_GITPOD_WORKSPACE_URL\n",
    "\n",
    "%store MY_DB_NAME\n",
    "%store MY_MYSQL_DB_NAME\n",
    "\n",
    "%store MY_HOST_IPv4_01\n",
    "%store MY_HOST_IPv4_02\n",
    "%store MY_HOST_IPv4_03\n",
    "\n",
    "%store MY_TSERVER_WEBSERVER_PORT\n",
    "%store MY_MYSQL_PORT\n",
    "\n",
    "%store MY_YB_MASTER_HOST_GITPOD_URL\n",
    "%store MY_YB_TSERVER_HOST_GITPOD_URL\n",
    "\n",
    "%store MY_NOTEBOOK_DIR\n",
    "%store MY_NOTEBOOK_DATA_FOLDER\n",
    "%store MY_NOTEBOOK_UTILS_FOLDER\n"
   ]
  },
  {
   "attachments": {},
   "cell_type": "markdown",
   "metadata": {
    "deletable": false,
    "editable": false
   },
   "source": [
    "---\n",
    "# Verify the MySQL database for the migration\n",
    "\n",
    "Here is the related schema for the Sakila database.\n",
    "\n",
    "<div style=\"width:100%; background-color: #000041\"><a target=\"_blank\" href=\"https://dev.mysql.com/doc/sakila/en/sakila-structure.html\"><img src=\"assets/sakila-schema.png\" /></a></div>\n",
    "\n",
    "The following commands are MySQL shell commands. Using `mysql`, you can execute MySQL statements. "
   ]
  },
  {
   "cell_type": "markdown",
   "metadata": {},
   "source": [
    "To review the **tables** in the MySQL database, run the following cell:"
   ]
  },
  {
   "cell_type": "code",
   "execution_count": null,
   "metadata": {
    "vscode": {
     "languageId": "shellscript"
    }
   },
   "outputs": [],
   "source": [
    "%%bash -s \"$MY_MYSQL_DB_NAME\"  # create database\n",
    "DB_NAME=${1}\n",
    "\n",
    "# terminate connections, drop, and create\n",
    "mysql -h 0 -u root ${DB_NAME} -e \"SHOW TABLES; \"  "
   ]
  },
  {
   "cell_type": "markdown",
   "metadata": {},
   "source": [
    "To review the **views** in the MySQL database, run the following cell:"
   ]
  },
  {
   "cell_type": "code",
   "execution_count": null,
   "metadata": {
    "vscode": {
     "languageId": "shellscript"
    }
   },
   "outputs": [],
   "source": [
    "%%bash -s \"$MY_MYSQL_DB_NAME\"  # create database\n",
    "DB_NAME=${1}\n",
    "\n",
    "# terminate connections, drop, and create\n",
    "mysql -h 0 -u root ${DB_NAME} -e \"SHOW FULL TABLES WHERE Table_Type LIKE 'VIEW';\"\n"
   ]
  },
  {
   "cell_type": "markdown",
   "metadata": {},
   "source": [
    "To review the **user-defined functions** in the MySQL database, run the following cell:"
   ]
  },
  {
   "cell_type": "code",
   "execution_count": null,
   "metadata": {
    "vscode": {
     "languageId": "shellscript"
    }
   },
   "outputs": [],
   "source": [
    "%%bash -s \"$MY_MYSQL_DB_NAME\"  # create database\n",
    "DB_NAME=${1}\n",
    "\n",
    "# terminate connections, drop, and create\n",
    "mysql -h 0 -u root ${DB_NAME} -e \"SHOW FUNCTION STATUS WHERE db = '${DB_NAME}'; \"  "
   ]
  },
  {
   "cell_type": "markdown",
   "metadata": {},
   "source": [
    "To review the **triggers** in the MySQL database, run the following cell:"
   ]
  },
  {
   "cell_type": "code",
   "execution_count": null,
   "metadata": {
    "vscode": {
     "languageId": "shellscript"
    }
   },
   "outputs": [],
   "source": [
    "%%bash -s \"$MY_MYSQL_DB_NAME\"  # create database\n",
    "DB_NAME=${1}\n",
    "\n",
    "# terminate connections, drop, and create\n",
    "mysql -h 0 -u root ${DB_NAME} -e \"SHOW TRIGGERS;\""
   ]
  },
  {
   "cell_type": "markdown",
   "metadata": {},
   "source": [
    "To review the **stored procedures** in the MySQL database, run the following cell:"
   ]
  },
  {
   "cell_type": "code",
   "execution_count": null,
   "metadata": {
    "vscode": {
     "languageId": "shellscript"
    }
   },
   "outputs": [],
   "source": [
    "%%bash -s \"$MY_MYSQL_DB_NAME\"  # create database\n",
    "DB_NAME=${1}\n",
    "\n",
    "# terminate connections, drop, and create\n",
    "mysql -h 0 -u root ${DB_NAME} -e \"SHOW PROCEDURE STATUS WHERE db = '${DB_NAME}'; \"   \n"
   ]
  },
  {
   "cell_type": "markdown",
   "metadata": {},
   "source": [
    "## Create the required user and roles in the source database"
   ]
  },
  {
   "cell_type": "markdown",
   "metadata": {},
   "source": [
    "### Verify the Voyager Installation\n",
    "\n",
    "You can learn more about Voyager at. Enter this doc.\n"
   ]
  },
  {
   "cell_type": "code",
   "execution_count": null,
   "metadata": {
    "vscode": {
     "languageId": "shellscript"
    }
   },
   "outputs": [],
   "source": [
    "%%bash\n",
    "yb-voyager version"
   ]
  },
  {
   "cell_type": "markdown",
   "metadata": {},
   "source": [
    "### Prepare the target database\n",
    "\n",
    "Create a user with superuser privileges."
   ]
  },
  {
   "cell_type": "code",
   "execution_count": null,
   "metadata": {},
   "outputs": [],
   "source": [
    "from __future__ import print_function\n",
    "from datetime import date, datetime, timedelta\n",
    "import mysql.connector\n",
    "\n",
    "# env_var.env\n",
    "db_host=MY_HOST_IPv4_01\n",
    "db_name=MY_MYSQL_DB_NAME\n",
    "db_port=MY_MYSQL_PORT\n",
    "\n",
    "# sql statements for grants for ybvoyager user\n",
    "SQL_STATEMENTS = {} \n",
    "\n",
    "SQL_STATEMENTS['create_user_1'] = (\"CREATE USER 'ybvoyager'@'127.0.0.1' IDENTIFIED WITH  mysql_native_password BY 'Yugabyte#1'\")\n",
    "#SQL_STATEMENTS['create_user_2'] = (\"CREATE USER 'ybvoyager'@'locahost' IDENTIFIED WITH  mysql_native_password BY 'Yugabyte#1'\")\n",
    "\n",
    "SQL_STATEMENTS['grant_process_1'] = (\"GRANT PROCESS ON *.* TO 'ybvoyager'@'127.0.0.1'\")\n",
    "#SQL_STATEMENTS['grant_process_2'] = (\"GRANT PROCESS ON *.* TO 'ybvoyager'@'localhost'\")\n",
    "\n",
    "SQL_STATEMENTS['grant_select_1'] = (\"GRANT SELECT ON sakila.* TO 'ybvoyager'@'127.0.0.1'\")\n",
    "#SQL_STATEMENTS['grant_select_2'] = (\"GRANT SELECT ON sakila.* TO 'ybvoyager'@'localhost'\")\n",
    "\n",
    "SQL_STATEMENTS['grant_show_view_1'] = (\"GRANT SHOW VIEW ON sakila.* TO 'ybvoyager'@'127.0.0.1'\")\n",
    "#SQL_STATEMENTS['grant_show_view_2'] = (\"GRANT SHOW VIEW ON sakila.* TO 'ybvoyager'@'localhost'\")\n",
    "\n",
    "SQL_STATEMENTS['grant_trigger_1'] = (\"GRANT TRIGGER ON sakila.* TO 'ybvoyager'@'127.0.0.1'\")\n",
    "#SQL_STATEMENTS['grant_trigger_2'] = (\"GRANT TRIGGER ON sakila.* TO 'ybvoyager'@'localhost'\")\n",
    "\n",
    "SQL_STATEMENTS['grant_flush_1'] = (\"GRANT FLUSH_TABLES ON *.* TO 'ybvoyager'@'127.0.0.1'\")\n",
    "#SQL_STATEMENTS['grant_flush_2'] = (\"GRANT FLUSH_TABLES ON *.* TO 'ybvoyager'@'localhost'\")\n",
    "\n",
    "SQL_STATEMENTS['grant_replication_1'] = (\"GRANT REPLICATION CLIENT ON *.* TO 'ybvoyager'@'127.0.0.1'\")\n",
    "#SQL_STATEMENTS['grant_replication_2'] = (\"GRANT REPLICATION CLIENT ON *.* TO 'ybvoyager'@'localhost'\")\n",
    "\n",
    "SQL_STATEMENTS['grant_routine_1'] = (\"GRANT SHOW_ROUTINE ON *.* TO 'ybvoyager'@'127.0.0.1'\")\n",
    "#SQL_STATEMENTS['grant_routine_2'] = (\"GRANT SHOW_ROUTINE ON *.* TO 'ybvoyager'@'localhost'\")\n",
    "\n",
    "\n",
    "# Create connection\n",
    "cnx = mysql.connector.connect(user='root',\n",
    "                              host='127.0.0.1',\n",
    "                              database=db_name)\n",
    "cursor = cnx.cursor()\n",
    "\n",
    "# Execute statements\n",
    "for sql_name in SQL_STATEMENTS:\n",
    "    sql_statement = SQL_STATEMENTS[sql_name]\n",
    "    try:\n",
    "        print(\"Running sql statement  {}: \".format(sql_name), end='')\n",
    "        cursor.execute(sql_statement)\n",
    "    except mysql.connector.Error as err:\n",
    "        print(err.msg)\n",
    "    else:\n",
    "        print(\"OK\")\n",
    "\n",
    "cursor.close()"
   ]
  },
  {
   "cell_type": "markdown",
   "metadata": {},
   "source": [
    "```\n",
    "Running sql statement  create_user_1: OK\n",
    "Running sql statement  create_user_2: OK\n",
    "Running sql statement  grant_process_1: OK\n",
    "Running sql statement  grant_process_2: You are not allowed to create a user with GRANT\n",
    "Running sql statement  grant_select_1: OK\n",
    "Running sql statement  grant_select_2: You are not allowed to create a user with GRANT\n",
    "Running sql statement  grant_show_view_1: OK\n",
    "Running sql statement  grant_show_view_2: You are not allowed to create a user with GRANT\n",
    "Running sql statement  grant_trigger_1: OK\n",
    "Running sql statement  grant_trigger_2: You are not allowed to create a user with GRANT\n",
    "Running sql statement  grant_flush_1: OK\n",
    "Running sql statement  grant_flush_2: You are not allowed to create a user with GRANT\n",
    "Running sql statement  grant_replication_1: OK\n",
    "Running sql statement  grant_replication_2: You are not allowed to create a user with GRANT\n",
    "Running sql statement  grant_routine_1: OK\n",
    "Running sql statement  grant_routine_2: You are not allowed to create a user with GRANT\n",
    "```"
   ]
  },
  {
   "cell_type": "markdown",
   "metadata": {},
   "source": [
    "## Export schema\n",
    "Convert the database schema to PostgreSQL format using the yb-voyager export schema command.\n",
    "\n",
    "First, create an export directory"
   ]
  },
  {
   "cell_type": "code",
   "execution_count": null,
   "metadata": {
    "vscode": {
     "languageId": "shellscript"
    }
   },
   "outputs": [],
   "source": [
    "%%bash\n",
    "\n",
    "mkdir $HOME/export-dir"
   ]
  },
  {
   "cell_type": "markdown",
   "metadata": {},
   "source": [
    "Next, export the schema using the `yb-voyager` CLI."
   ]
  },
  {
   "cell_type": "code",
   "execution_count": null,
   "metadata": {
    "vscode": {
     "languageId": "shellscript"
    }
   },
   "outputs": [],
   "source": [
    "%%bash\n",
    "\n",
    "yb-voyager export schema --export-dir $HOME/export-dir \\\n",
    "        --source-db-type \"MYSQL\" \\\n",
    "        --source-db-host \"127.0.0.1\" \\\n",
    "        --source-db-port \"3306\" \\\n",
    "        --source-db-name \"sakila\" \\\n",
    "        --source-db-user \"ybvoyager\" \\\n",
    "        --source-db-password \"Yugabyte#1\" \\ "
   ]
  },
  {
   "cell_type": "markdown",
   "metadata": {},
   "source": [
    "List folders and files:\n",
    "- `reports` contains the generated Schema Analysis Report.\n",
    "- `schema` contains the source database schema translated to PostgreSQL. The schema is partitioned into smaller files by the schema object type such as tables, views, and so on.\n",
    "- `data` contains `.TSV` (Tab Separated Values) files that are passed to the `COPY` command on the target database.\n",
    "- `metainfo` and `temp` are internal to by yb-voyager\n",
    "- `log/yb-voyager.log` contains log messages"
   ]
  },
  {
   "cell_type": "code",
   "execution_count": null,
   "metadata": {
    "vscode": {
     "languageId": "shellscript"
    }
   },
   "outputs": [],
   "source": [
    "%%bash\n",
    "\n",
    "ls $HOME/export-dir"
   ]
  },
  {
   "cell_type": "markdown",
   "metadata": {},
   "source": [
    "View the log."
   ]
  },
  {
   "cell_type": "code",
   "execution_count": null,
   "metadata": {
    "vscode": {
     "languageId": "shellscript"
    }
   },
   "outputs": [],
   "source": [
    "%%bash\n",
    "\n",
    "cat $HOME/export-dir/logs/yb-voyager.log"
   ]
  },
  {
   "cell_type": "markdown",
   "metadata": {},
   "source": [
    "## Analyze schema\n",
    "Generate a Schema Analysis Report using the yb-voyager analyze-schema command. The report suggests changes to the PostgreSQL schema to make it appropriate for YugabyteDB."
   ]
  },
  {
   "cell_type": "code",
   "execution_count": null,
   "metadata": {
    "vscode": {
     "languageId": "shellscript"
    }
   },
   "outputs": [],
   "source": [
    "%%bash\n",
    "\n",
    "# Replace the argument values with those applicable for your migration.\n",
    "# html, txt, json, or xml\n",
    "yb-voyager analyze-schema --export-dir $HOME/export-dir  --output-format txt\n",
    "\n",
    "#Note: Using \"/home/gitpod/export-dir\" as export directory\n",
    "##-- find schema analysis report at: /home/gitpod/export-dir/reports/report.txt"
   ]
  },
  {
   "cell_type": "code",
   "execution_count": null,
   "metadata": {
    "vscode": {
     "languageId": "shellscript"
    }
   },
   "outputs": [],
   "source": [
    "%%bash\n",
    "\n",
    "cat $HOME/export-dir/reports/report.txt"
   ]
  },
  {
   "cell_type": "markdown",
   "metadata": {},
   "source": [
    "```\n",
    "Issues:\n",
    "\n",
    "Error in Object INDEX:\n",
    "-Object Name: address_location\n",
    "-Reason: Schema contains gist index which is not supported.\n",
    "-SQL Statement: CREATE INDEX address_location ON address USING gist(location);\n",
    "-File Path: /home/gitpod/export-dir/schema/tables/INDEXES_table.sql\n",
    "-Github Issue Link: https://github.com/YugaByte/yugabyte-db/issues/1337\n",
    "```"
   ]
  },
  {
   "cell_type": "markdown",
   "metadata": {},
   "source": [
    "## Modify schema\n",
    "Using the report recommendations, manually change the exported schema. \n",
    "\n",
    "In this case, since YugabyteDB does not currently support GIST indexes, it make sense to not create this index.  So the procedure is to simply comment out or delete the CREATE INDEX address_location statement."
   ]
  },
  {
   "cell_type": "code",
   "execution_count": 1,
   "metadata": {
    "vscode": {
     "languageId": "shellscript"
    }
   },
   "outputs": [
    {
     "name": "stderr",
     "output_type": "stream",
     "text": [
      "cat: /Users/seth/export-dir/schema/tables/INDEXES_table.sql: No such file or directory\n"
     ]
    },
    {
     "ename": "CalledProcessError",
     "evalue": "Command 'b'\\ncat $HOME/export-dir/schema/tables/INDEXES_table.sql\\n\\n'' returned non-zero exit status 1.",
     "output_type": "error",
     "traceback": [
      "\u001b[0;31m---------------------------------------------------------------------------\u001b[0m",
      "\u001b[0;31mCalledProcessError\u001b[0m                        Traceback (most recent call last)",
      "Cell \u001b[0;32mIn[1], line 1\u001b[0m\n\u001b[0;32m----> 1\u001b[0m get_ipython()\u001b[39m.\u001b[39;49mrun_cell_magic(\u001b[39m'\u001b[39;49m\u001b[39mbash\u001b[39;49m\u001b[39m'\u001b[39;49m, \u001b[39m'\u001b[39;49m\u001b[39m'\u001b[39;49m, \u001b[39m'\u001b[39;49m\u001b[39m\\n\u001b[39;49;00m\u001b[39mcat $HOME/export-dir/schema/tables/INDEXES_table.sql\u001b[39;49m\u001b[39m\\n\u001b[39;49;00m\u001b[39m\\n\u001b[39;49;00m\u001b[39m'\u001b[39;49m)\n",
      "File \u001b[0;32m~/.pyenv/versions/3.11.2/lib/python3.11/site-packages/IPython/core/interactiveshell.py:2478\u001b[0m, in \u001b[0;36mInteractiveShell.run_cell_magic\u001b[0;34m(self, magic_name, line, cell)\u001b[0m\n\u001b[1;32m   2476\u001b[0m \u001b[39mwith\u001b[39;00m \u001b[39mself\u001b[39m\u001b[39m.\u001b[39mbuiltin_trap:\n\u001b[1;32m   2477\u001b[0m     args \u001b[39m=\u001b[39m (magic_arg_s, cell)\n\u001b[0;32m-> 2478\u001b[0m     result \u001b[39m=\u001b[39m fn(\u001b[39m*\u001b[39;49margs, \u001b[39m*\u001b[39;49m\u001b[39m*\u001b[39;49mkwargs)\n\u001b[1;32m   2480\u001b[0m \u001b[39m# The code below prevents the output from being displayed\u001b[39;00m\n\u001b[1;32m   2481\u001b[0m \u001b[39m# when using magics with decodator @output_can_be_silenced\u001b[39;00m\n\u001b[1;32m   2482\u001b[0m \u001b[39m# when the last Python token in the expression is a ';'.\u001b[39;00m\n\u001b[1;32m   2483\u001b[0m \u001b[39mif\u001b[39;00m \u001b[39mgetattr\u001b[39m(fn, magic\u001b[39m.\u001b[39mMAGIC_OUTPUT_CAN_BE_SILENCED, \u001b[39mFalse\u001b[39;00m):\n",
      "File \u001b[0;32m~/.pyenv/versions/3.11.2/lib/python3.11/site-packages/IPython/core/magics/script.py:154\u001b[0m, in \u001b[0;36mScriptMagics._make_script_magic.<locals>.named_script_magic\u001b[0;34m(line, cell)\u001b[0m\n\u001b[1;32m    152\u001b[0m \u001b[39melse\u001b[39;00m:\n\u001b[1;32m    153\u001b[0m     line \u001b[39m=\u001b[39m script\n\u001b[0;32m--> 154\u001b[0m \u001b[39mreturn\u001b[39;00m \u001b[39mself\u001b[39;49m\u001b[39m.\u001b[39;49mshebang(line, cell)\n",
      "File \u001b[0;32m~/.pyenv/versions/3.11.2/lib/python3.11/site-packages/IPython/core/magics/script.py:314\u001b[0m, in \u001b[0;36mScriptMagics.shebang\u001b[0;34m(self, line, cell)\u001b[0m\n\u001b[1;32m    309\u001b[0m \u001b[39mif\u001b[39;00m args\u001b[39m.\u001b[39mraise_error \u001b[39mand\u001b[39;00m p\u001b[39m.\u001b[39mreturncode \u001b[39m!=\u001b[39m \u001b[39m0\u001b[39m:\n\u001b[1;32m    310\u001b[0m     \u001b[39m# If we get here and p.returncode is still None, we must have\u001b[39;00m\n\u001b[1;32m    311\u001b[0m     \u001b[39m# killed it but not yet seen its return code. We don't wait for it,\u001b[39;00m\n\u001b[1;32m    312\u001b[0m     \u001b[39m# in case it's stuck in uninterruptible sleep. -9 = SIGKILL\u001b[39;00m\n\u001b[1;32m    313\u001b[0m     rc \u001b[39m=\u001b[39m p\u001b[39m.\u001b[39mreturncode \u001b[39mor\u001b[39;00m \u001b[39m-\u001b[39m\u001b[39m9\u001b[39m\n\u001b[0;32m--> 314\u001b[0m     \u001b[39mraise\u001b[39;00m CalledProcessError(rc, cell)\n",
      "\u001b[0;31mCalledProcessError\u001b[0m: Command 'b'\\ncat $HOME/export-dir/schema/tables/INDEXES_table.sql\\n\\n'' returned non-zero exit status 1."
     ]
    }
   ],
   "source": [
    "%%bash\n",
    "\n",
    "cat $HOME/export-dir/schema/tables/INDEXES_table.sql\n",
    "\n"
   ]
  },
  {
   "cell_type": "markdown",
   "metadata": {},
   "source": [
    "NOTE TO SELF --> USE VIM or run schema"
   ]
  },
  {
   "cell_type": "markdown",
   "metadata": {},
   "source": [
    "## Export data\n",
    "Dump the source database to the target machine (where yb-voyager is installed), using the yb-voyager export data command."
   ]
  },
  {
   "cell_type": "code",
   "execution_count": null,
   "metadata": {
    "vscode": {
     "languageId": "shellscript"
    }
   },
   "outputs": [],
   "source": [
    "%%bash\n",
    "\n",
    "ls $HOME/export-dir"
   ]
  },
  {
   "cell_type": "markdown",
   "metadata": {},
   "source": [
    "## Import schema\n",
    "Import the modified schema to the target YugabyteDB database using the yb-voyager import schema command."
   ]
  },
  {
   "cell_type": "code",
   "execution_count": null,
   "metadata": {
    "vscode": {
     "languageId": "shellscript"
    }
   },
   "outputs": [],
   "source": [
    "%%bash\n",
    "\n",
    "ls $HOME/export-dir"
   ]
  },
  {
   "cell_type": "markdown",
   "metadata": {},
   "source": [
    "## Import data\n",
    "Import the data to the target YugabyteDB database using the yb-voyager import data command."
   ]
  },
  {
   "cell_type": "code",
   "execution_count": null,
   "metadata": {
    "vscode": {
     "languageId": "shellscript"
    }
   },
   "outputs": [],
   "source": [
    "%%bash\n",
    "\n",
    "ls $HOME/export-dir"
   ]
  },
  {
   "cell_type": "markdown",
   "metadata": {},
   "source": [
    "## Import indexes and triggers\n",
    "Import indexes and triggers to the target YugabyteDB database using the yb-voyager import schema command with an additional --post-import-data flag."
   ]
  },
  {
   "cell_type": "code",
   "execution_count": null,
   "metadata": {
    "vscode": {
     "languageId": "shellscript"
    }
   },
   "outputs": [],
   "source": [
    "%%bash\n",
    "\n",
    "ls $HOME/export-dir"
   ]
  },
  {
   "attachments": {},
   "cell_type": "markdown",
   "metadata": {
    "deletable": false,
    "editable": false
   },
   "source": [
    "##### Create tables, load data, and review relations\n",
    "Run the following cell to execute the DDL and DML scripts using `ysqlsh`."
   ]
  },
  {
   "attachments": {},
   "cell_type": "markdown",
   "metadata": {
    "deletable": false,
    "editable": false
   },
   "source": [
    "##### View DDL for tbl_countries\n",
    "Run the following cell using `ysqlsh` to view a table definition.\n",
    "\n",
    "> Note\n",
    "> \n",
    "> SQL magic does not support PostgreSQL `psql` commands. In order to execute `psql` commands, the notebook uses bash and `ysqlsh`.\n",
    "\n"
   ]
  },
  {
   "cell_type": "code",
   "execution_count": null,
   "metadata": {
    "vscode": {
     "languageId": "shellscript"
    }
   },
   "outputs": [],
   "source": [
    "%%bash -s \"$MY_YB_PATH\" \"$MY_DB_NAME\"  # \\d tbl_countriees\n",
    "\n",
    "YB_PATH=${1}\n",
    "DB_NAME=${2}\n",
    "\n",
    "cd $YB_PATH\n",
    "\n",
    "\n",
    "./bin/ysqlsh -d ${DB_NAME} -c \"\\d tbl_countries\"\n",
    "#./bin/ysqlsh -d ${DBNAME} -c \"\\d tbl_countries\"\n",
    "#./bin/ysqlsh -d ${DBNAME} -c \"\\d tbl_states\"\n"
   ]
  },
  {
   "cell_type": "markdown",
   "metadata": {},
   "source": [
    "## Connect to MySQL using the MySQL Driver for Python\n",
    "The following cells requires:\n",
    "- Python 3.8+ and psycopg2"
   ]
  },
  {
   "cell_type": "code",
   "execution_count": null,
   "metadata": {},
   "outputs": [],
   "source": [
    "# Connect to db_ybu\n",
    "# Inspiration from https://medium.com/analytics-vidhya/postgresql-integration-with-jupyter-notebook-deb97579a38d\n",
    "import psycopg2\n",
    "import sqlalchemy as alc\n",
    "from sqlalchemy import create_engine\n",
    "\n",
    "# env_var.env\n",
    "db_host=MY_HOST_IPv4_01\n",
    "db_name=MY_MYSQL_DB_NAME\n",
    "db_port=MY_MYSQL_PORT\n",
    "\n",
    "connection_str='postgresql://yugabyte@'+db_port+':3306/'+db_name\n",
    "print(connection_str)\n",
    "engine = create_engine(connection_str)"
   ]
  },
  {
   "attachments": {},
   "cell_type": "markdown",
   "metadata": {
    "deletable": false,
    "editable": false
   },
   "source": [
    "## Connect to YugabyteDB using the PostgreSQL Driver for Python\n",
    "The following cells requires:\n",
    "- Python 3.8+ and psycopg2"
   ]
  },
  {
   "cell_type": "code",
   "execution_count": null,
   "metadata": {
    "deletable": false,
    "editable": false
   },
   "outputs": [],
   "source": [
    "# Connect to db_ybu\n",
    "# Inspiration from https://medium.com/analytics-vidhya/postgresql-integration-with-jupyter-notebook-deb97579a38d\n",
    "import psycopg2\n",
    "import sqlalchemy as alc\n",
    "from sqlalchemy import create_engine\n",
    "\n",
    "# env_var.env\n",
    "db_host=MY_HOST_IPv4_01\n",
    "db_name=MY_DB_NAME\n",
    "\n",
    "connection_str='postgresql://yugabyte@'+db_host+':5433/'+db_name\n",
    "print(connection_str)\n",
    "engine = create_engine(connection_str)"
   ]
  },
  {
   "attachments": {},
   "cell_type": "markdown",
   "metadata": {
    "deletable": false,
    "editable": false
   },
   "source": [
    "#### Load SQL magic extension\n",
    ">IMPORTANT!\n",
    ">\n",
    "> To use SQL magic, you must run the following cell that loads the notebook extension."
   ]
  },
  {
   "cell_type": "code",
   "execution_count": null,
   "metadata": {},
   "outputs": [],
   "source": [
    "%reload_ext sql\n",
    "# creates connection for sql magic\n",
    "%sql {connection_str}"
   ]
  },
  {
   "attachments": {},
   "cell_type": "markdown",
   "metadata": {},
   "source": [
    "Optional."
   ]
  },
  {
   "cell_type": "code",
   "execution_count": null,
   "metadata": {},
   "outputs": [],
   "source": [
    " %config SqlMagic"
   ]
  },
  {
   "attachments": {},
   "cell_type": "markdown",
   "metadata": {
    "deletable": false,
    "editable": false
   },
   "source": [
    "#### Create Voyager user"
   ]
  },
  {
   "cell_type": "code",
   "execution_count": null,
   "metadata": {
    "vscode": {
     "languageId": "sql"
    }
   },
   "outputs": [],
   "source": [
    "%%sql \n",
    "\n",
    "CREATE USER ybvoyager SUPERUSER PASSWORD 'password';"
   ]
  },
  {
   "attachments": {},
   "cell_type": "markdown",
   "metadata": {},
   "source": [
    "---\n",
    "Make directory"
   ]
  },
  {
   "cell_type": "code",
   "execution_count": null,
   "metadata": {
    "vscode": {
     "languageId": "shellscript"
    }
   },
   "outputs": [],
   "source": [
    "%%bash \n",
    "mkdir $HOME/export-dir\n",
    "export EXPORT_DIR=$HOME/export-dir\n",
    "\n"
   ]
  },
  {
   "attachments": {},
   "cell_type": "markdown",
   "metadata": {},
   "source": [
    "---\n",
    "## Remove Node and view the data distribution"
   ]
  },
  {
   "cell_type": "code",
   "execution_count": null,
   "metadata": {
    "vscode": {
     "languageId": "shellscript"
    }
   },
   "outputs": [],
   "source": [
    "%%bash\n",
    "# Replace the argument values with those applicable for your migration.\n",
    "\n",
    "yb-voyager export schema --export-dir $HOME/export-dir \\\n",
    "        --source-db-type \"MYSQL\" \\\n",
    "        --source-db-host \"127.0.0.1\" \\\n",
    "        --source-db-port \"3306\" \\\n",
    "        --source-db-name \"sakila\" \\\n",
    "        --source-db-user \"ybvoyager\" \\\n",
    "        --source-db-password \"Yugabyte#1\" \\ \n"
   ]
  },
  {
   "attachments": {},
   "cell_type": "markdown",
   "metadata": {
    "deletable": false,
    "editable": false
   },
   "source": [
    "---\n",
    "# 🌟 Well done! \n",
    "In this notebook, you completed the following:\n",
    "- Setup steps\n",
    "- Connect to YugabyteDB using ysqlsh\n",
    "  - Created the `db_ybu` database with `ysqlsh`\n",
    "  - Created utils\n",
    "  - Created tables and loaded data using DDL and DML scripts\n",
    "  - Connected to the database using a PostgreSQL driver for Python\n",
    "  - Executed queries with SQL Magic\n",
    "\n",
    "\n",
    "## 😊 Next up!\n",
    "Continue your learning by opening the next notebook, `02_Demystifying_table_sharding_tablets_and_data_distribution`. \n",
    "\n",
    "Or, if using GitPod, run the following cell:"
   ]
  },
  {
   "cell_type": "code",
   "execution_count": null,
   "metadata": {
    "vscode": {
     "languageId": "shellscript"
    }
   },
   "outputs": [],
   "source": [
    "%%bash\n",
    "gp open '02_Demystifying_table_sharding_tablets_and_data_distribution'"
   ]
  }
 ],
 "metadata": {
  "kernelspec": {
   "display_name": "Python 3.7.9 64-bit",
   "language": "python",
   "name": "python3"
  },
  "language_info": {
   "codemirror_mode": {
    "name": "ipython",
    "version": 3
   },
   "file_extension": ".py",
   "mimetype": "text/x-python",
   "name": "python",
   "nbconvert_exporter": "python",
   "pygments_lexer": "ipython3",
   "version": "3.11.2"
  },
  "orig_nbformat": 4,
  "vscode": {
   "interpreter": {
    "hash": "aee8b7b246df8f9039afb4144a1f6fd8d2ca17a180786b69acc140d282b71a49"
   }
  }
 },
 "nbformat": 4,
 "nbformat_minor": 2
}
