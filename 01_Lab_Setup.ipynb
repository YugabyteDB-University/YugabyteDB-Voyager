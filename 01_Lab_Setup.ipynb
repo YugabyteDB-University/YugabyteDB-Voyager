{
 "cells": [
  {
   "attachments": {},
   "cell_type": "markdown",
   "metadata": {
    "deletable": false,
    "editable": false
   },
   "source": [
    "<div style=\"width:100%; background-color: #000041\"><a target=\"_blank\" href=\"http://university.yugabyte.com\"><img src=\"assets/YBU_Logo.png\" /></a></div>\n",
    "\n",
    "> **YugabyteDB YSQL Development**\n",
    ">\n",
    "> Enroll for free  [Yugabyte University](https://university.yugabyte.com/).\n",
    ">"
   ]
  },
  {
   "attachments": {},
   "cell_type": "markdown",
   "metadata": {},
   "source": [
    "# About these notebook Labs\n",
    "The labs for this course consists of several Jupyter notebooks that run in Gitpod. [Gitpod](https://www.gitpod.io/) facilitates runtime environments using Ubuntu and VS Code in a Chromium (browser) environment. \n",
    "\n",
    "A Gitpod instance belongs to your Gitpod workspace. The instance automatically runs a three node, YugabyteDB database cluster. YugabyteDB is the world's #1 open source, distributed SQL database. \n",
    "\n",
    "> Although a three node cluster is up and running, Gitpod does not support visiting loopback addresses over a web ui, even if exposed on a different port.\n",
    "> 127.0.0.1 is the only web user interface that is exposed. To see all available ports in Gitpod, in the Terminal tab, you can run `gp ports list`.\n",
    "> "
   ]
  },
  {
   "attachments": {},
   "cell_type": "markdown",
   "metadata": {},
   "source": [
    "## 🛠️ Requirements\n",
    "Here are the requirements for this lab:\n",
    "- ✅ Launch using this Gitpod workspace, which you are already doing\n",
    "- ✅ A running, standalone MySQL database, which is already running\n",
    "- ✅ A running, 3 node YugabyteDB cluster, which is already running\n",
    "- ☑️ A Python 3.8.13 or higher kernel for the notebook, *which you need to select right now!!!*\n",
    "\n",
    "### Select your notebook kernel\n",
    "- In the Notebook toolbar, click **Select Kernel**.\n",
    "<br>\n",
    "<img width=50% src=\"assets/01_01_Select_Kernel_Toolbar.png\" />\n",
    "\n",
    "- Next, in the dropdown, select **Python 3.8.13** or higher.\n",
    "<br>\n",
    "<img width=50% src=\"assets/01_02_Select_Kernel_Dropdown.png\" />\n",
    "\n",
    "That's it!"
   ]
  },
  {
   "attachments": {},
   "cell_type": "markdown",
   "metadata": {},
   "source": [
    "## About Jupyter notebooks"
   ]
  },
  {
   "attachments": {},
   "cell_type": "markdown",
   "metadata": {},
   "source": [
    "A Juypter notebook is a runtime environment for executing code. A notebook consists of one or more cells. There are three types of cells in a notebook: Markdown, Code, and Output. This is a Markdown cell.\n",
    "\n",
    "A cell has two modes: read-mode and edit-mode. By default, the cells in a notebook are in read-mode. You can run a read-mode cell that is code. To execute a code cell, select the play icon in the cell's left gutter. \n",
    "\n",
    "The execution of a code cell often results in Output. An Output cell shows the `stdout` of the previous executed code cell. You can delete an Output cell. You can also collapse the cell. In addition, you can also select `Clear Outputs of All Cells`.\n",
    "\n",
    "To modify a cell, select `Enter` or `Return`. In edit-mode, you can modify the contents of a cell. Certain labs contain challenges or experiments that require you to do just that: modify a code cell and re-run it! To switch from edit-mode to read-mode, use the `Shift+Enter` or `Shift+Return` keystroke."
   ]
  },
  {
   "attachments": {},
   "cell_type": "markdown",
   "metadata": {
    "deletable": false,
    "editable": false
   },
   "source": [
    "#### Notebook keyboard shortcuts\n",
    "The Jupyter extension for Gitpod supports the following keyboard shortcuts:\n",
    "| Keystroke | Description |\n",
    "|--|--|\n",
    "| ESC | Change the cell mode |\n",
    "| A | Add a cell above |\n",
    "| B | Add a cell below |\n",
    "| J or down arrow key |  Change a cell to below | \n",
    "| K or up arrow key | Change a cell to above | \n",
    "| Ctrl+Enter | Run the currently selected cell |\n",
    "| Shift+Enter | Run the currently selected cell and insert a new cell immediately below (focus moves to new cell) |\n",
    "| Alt+Enter | Run the currently selected cell and insert a new cell immediately below (focus remains on current cell) |\n",
    "| dd | Delete a selected cell |\n",
    "| z | Undo the last change | \n",
    "| M | switch the cell type to Markdown | \n",
    "| Y | switch the cell type to code |\n",
    "| L | Enable/Disable line numbers |\n",
    "```\n"
   ]
  },
  {
   "attachments": {},
   "cell_type": "markdown",
   "metadata": {},
   "source": [
    "## ⛑️ Getting help\n",
    "The best way to get help from the Yugabyte University team is to post your question on YugabyteDB Community Slack in the #training or #yb-university channels. To sign up, visit [https://communityinviter.com/apps/yugabyte-db/register](https://communityinviter.com/apps/yugabyte-db/register)."
   ]
  },
  {
   "attachments": {},
   "cell_type": "markdown",
   "metadata": {
    "deletable": false,
    "editable": false
   },
   "source": [
    "---\n",
    "# 👣 Setup steps\n",
    "Here are the steps to setup this lab:\n",
    "- Install missing dependencies and restart the notebook\n",
    "- Create the notebook variables\n",
    "- Create the `db_ybu` database"
   ]
  },
  {
   "attachments": {},
   "cell_type": "markdown",
   "metadata": {},
   "source": [
    "### Install missing dependencies and restart the notebook\n",
    "Run the following cell to ensure that the notebook dependencies are available to the notebook. "
   ]
  },
  {
   "attachments": {},
   "cell_type": "markdown",
   "metadata": {
    "deletable": false,
    "editable": false
   },
   "source": [
    "### Create the notebook variables \n",
    "\n",
    "> IMPORTANT!\n",
    "> \n",
    "> Do NOT skip running this cell. \n",
    "> \n",
    "\n",
    "The following Python cell creates and stores variables that all the notebooks in this lab will use. You can view these variables in the Jupyter tab.\n",
    "\n",
    "- To run the script, select Execute Cell (Play Arrow) in the left gutter of the cell.\n",
    "- Verify the accuracy of the output values"
   ]
  },
  {
   "cell_type": "code",
   "execution_count": null,
   "metadata": {
    "deletable": false,
    "editable": false
   },
   "outputs": [],
   "source": [
    "# Env variables for Notebook\n",
    "import os\n",
    "\n",
    "# read env_vars.env\n",
    "env_vars = !cat env_vars.env\n",
    "for var in env_vars:\n",
    "    key, value = var.split('=')\n",
    "    os.environ[key] = value\n",
    "\n",
    "### Begin: Gitpod or local\n",
    "#\n",
    "### Uncomment Gitpod specific\n",
    "#\n",
    "MY_YB_PATH=os.environ.get('MY_YB_PATH_GITPOD')\n",
    "MY_YB_PATH_DATA=os.environ.get('MY_YB_PATH_DATA_GITPOD')\n",
    "MY_GITPOD_WORKSPACE_URL=os.environ.get('GITPOD_WORKSPACE_URL')\n",
    "#\n",
    "\n",
    "\n",
    "# env_vars defines the following\n",
    "MY_DB_NAME=os.environ.get('MY_DB_NAME')\n",
    "MY_MYSQL_DB_NAME=os.environ.get('MY_MYSQL_DB_NAME')\n",
    "\n",
    "MY_HOST_IPv4_01=os.environ.get('MY_HOST_IPv4_01')\n",
    "MY_HOST_IPv4_02=os.environ.get('MY_HOST_IPv4_02')\n",
    "MY_HOST_IPv4_03=os.environ.get('MY_HOST_IPv4_03')\n",
    "\n",
    "MY_TSERVER_WEBSERVER_PORT=os.environ.get('MY_TSERVER_WEBSERVER_PORT')\n",
    "MY_MYSQL_PORT=os.environ.get('MY_MYSQL_PORT')\n",
    "\n",
    "# Gitpod URLS\n",
    "MY_YB_MASTER_HOST_GITPOD_URL = MY_GITPOD_WORKSPACE_URL.replace('https://','https://7000-')\n",
    "MY_YB_TSERVER_HOST_GITPOD_URL = MY_GITPOD_WORKSPACE_URL.replace('https://','https://'+MY_TSERVER_WEBSERVER_PORT+'-')\n",
    "\n",
    "# Current directory of project and related child folders\n",
    "MY_NOTEBOOK_DIR=os.getcwd()\n",
    "MY_NOTEBOOK_DATA_FOLDER=MY_NOTEBOOK_DIR +'/data' \n",
    "MY_NOTEBOOK_UTILS_FOLDER=MY_NOTEBOOK_DIR + '/utils'\n",
    "\n",
    "# BETA_FAST_DATA_EXPORT=1\n",
    "BETA_FAST_DATA_EXPORT=os.environ.get('BETA_FAST_DATA_EXPORT')\n",
    "\n",
    "# Store the note book values for other notebooks to use\n",
    "%store MY_YB_PATH\n",
    "%store MY_YB_PATH_DATA\n",
    "\n",
    "%store MY_GITPOD_WORKSPACE_URL\n",
    "\n",
    "%store MY_DB_NAME\n",
    "%store MY_MYSQL_DB_NAME\n",
    "\n",
    "%store MY_HOST_IPv4_01\n",
    "%store MY_HOST_IPv4_02\n",
    "%store MY_HOST_IPv4_03\n",
    "\n",
    "%store MY_TSERVER_WEBSERVER_PORT\n",
    "%store MY_MYSQL_PORT\n",
    "\n",
    "%store MY_YB_MASTER_HOST_GITPOD_URL\n",
    "%store MY_YB_TSERVER_HOST_GITPOD_URL\n",
    "\n",
    "%store MY_NOTEBOOK_DIR\n",
    "%store MY_NOTEBOOK_DATA_FOLDER\n",
    "%store MY_NOTEBOOK_UTILS_FOLDER\n",
    "\n",
    "%store BETA_FAST_DATA_EXPORT"
   ]
  },
  {
   "attachments": {},
   "cell_type": "markdown",
   "metadata": {
    "deletable": false,
    "editable": false
   },
   "source": [
    "---\n",
    "# Verify the MySQL database for the migration\n",
    "\n",
    "Here is the related schema for the Sakila database.\n",
    "\n",
    "<div style=\"width:100%; background-color: #000041\"><a target=\"_blank\" href=\"https://dev.mysql.com/doc/sakila/en/sakila-structure.html\"><img src=\"assets/sakila-schema.png\" /></a></div>\n",
    "\n",
    "The following commands are MySQL shell commands. Using `mysql`, you can execute MySQL statements. "
   ]
  },
  {
   "cell_type": "markdown",
   "metadata": {},
   "source": [
    "To review the **tables** in the MySQL database, run the following cell:"
   ]
  },
  {
   "cell_type": "code",
   "execution_count": null,
   "metadata": {
    "vscode": {
     "languageId": "shellscript"
    }
   },
   "outputs": [],
   "source": [
    "%%bash -s \"$MY_MYSQL_DB_NAME\"  # create database\n",
    "DB_NAME=${1}\n",
    "\n",
    "# terminate connections, drop, and create\n",
    "mysql -h 0 -u root ${DB_NAME} -e \"SHOW TABLES; \"  "
   ]
  },
  {
   "cell_type": "markdown",
   "metadata": {},
   "source": [
    "To review the **views** in the MySQL database, run the following cell:"
   ]
  },
  {
   "cell_type": "code",
   "execution_count": null,
   "metadata": {
    "vscode": {
     "languageId": "shellscript"
    }
   },
   "outputs": [],
   "source": [
    "%%bash -s \"$MY_MYSQL_DB_NAME\"  # create database\n",
    "DB_NAME=${1}\n",
    "\n",
    "# terminate connections, drop, and create\n",
    "mysql -h 0 -u root ${DB_NAME} -e \"SHOW FULL TABLES WHERE Table_Type LIKE 'VIEW';\"\n"
   ]
  },
  {
   "cell_type": "markdown",
   "metadata": {},
   "source": [
    "To view all the **indexes** for the tables, run the following the following cell:"
   ]
  },
  {
   "cell_type": "code",
   "execution_count": null,
   "metadata": {
    "vscode": {
     "languageId": "shellscript"
    }
   },
   "outputs": [],
   "source": [
    "%%bash -s \"$MY_MYSQL_DB_NAME\"  # create database\n",
    "DB_NAME=${1}\n",
    "\n",
    "# terminate connections, drop, and create\n",
    "mysql -h 0 -u root ${DB_NAME} -e \"SELECT DISTINCT TABLE_NAME, INDEX_NAME FROM INFORMATION_SCHEMA.STATISTICS WHERE TABLE_SCHEMA = '${DB_NAME}'; \" "
   ]
  },
  {
   "cell_type": "markdown",
   "metadata": {},
   "source": [
    "To review the **user-defined functions** in the MySQL database, run the following cell:"
   ]
  },
  {
   "cell_type": "code",
   "execution_count": null,
   "metadata": {
    "vscode": {
     "languageId": "shellscript"
    }
   },
   "outputs": [],
   "source": [
    "%%bash -s \"$MY_MYSQL_DB_NAME\"  # create database\n",
    "DB_NAME=${1}\n",
    "\n",
    "# terminate connections, drop, and create\n",
    "mysql -h 0 -u root ${DB_NAME} -e \"SHOW FUNCTION STATUS WHERE db = '${DB_NAME}'; \"  "
   ]
  },
  {
   "cell_type": "markdown",
   "metadata": {},
   "source": [
    "To review the **triggers** in the MySQL database, run the following cell:"
   ]
  },
  {
   "cell_type": "code",
   "execution_count": null,
   "metadata": {
    "vscode": {
     "languageId": "shellscript"
    }
   },
   "outputs": [],
   "source": [
    "%%bash -s \"$MY_MYSQL_DB_NAME\"  # create database\n",
    "DB_NAME=${1}\n",
    "\n",
    "# terminate connections, drop, and create\n",
    "mysql -h 0 -u root ${DB_NAME} -e \"SHOW TRIGGERS;\""
   ]
  },
  {
   "cell_type": "markdown",
   "metadata": {},
   "source": [
    "To review the **stored procedures** in the MySQL database, run the following cell:"
   ]
  },
  {
   "cell_type": "code",
   "execution_count": null,
   "metadata": {
    "vscode": {
     "languageId": "shellscript"
    }
   },
   "outputs": [],
   "source": [
    "%%bash -s \"$MY_MYSQL_DB_NAME\"  # create database\n",
    "DB_NAME=${1}\n",
    "\n",
    "# terminate connections, drop, and create\n",
    "mysql -h 0 -u root ${DB_NAME} -e \"SHOW PROCEDURE STATUS WHERE db = '${DB_NAME}'; \"   \n"
   ]
  },
  {
   "cell_type": "markdown",
   "metadata": {},
   "source": [
    "## Create the required user and roles in the source database"
   ]
  },
  {
   "cell_type": "markdown",
   "metadata": {},
   "source": [
    "### Verify the Voyager Installation\n",
    "\n",
    "You can learn more about Voyager at. Enter this doc.\n"
   ]
  },
  {
   "cell_type": "code",
   "execution_count": null,
   "metadata": {
    "vscode": {
     "languageId": "shellscript"
    }
   },
   "outputs": [],
   "source": [
    "%%bash\n",
    "yb-voyager version"
   ]
  },
  {
   "cell_type": "markdown",
   "metadata": {},
   "source": [
    "### Prepare the target database\n",
    "\n",
    "Create a user with superuser privileges."
   ]
  },
  {
   "cell_type": "code",
   "execution_count": null,
   "metadata": {},
   "outputs": [],
   "source": [
    "from __future__ import print_function\n",
    "from datetime import date, datetime, timedelta\n",
    "import mysql.connector\n",
    "\n",
    "# env_var.env\n",
    "db_host=MY_HOST_IPv4_01\n",
    "db_name=MY_MYSQL_DB_NAME\n",
    "db_port=MY_MYSQL_PORT\n",
    "\n",
    "# sql statements for grants for ybvoyager user\n",
    "SQL_STATEMENTS = {} \n",
    "\n",
    "SQL_STATEMENTS['create_user_1'] = (\"CREATE USER 'ybvoyager'@'127.0.0.1' IDENTIFIED WITH  mysql_native_password BY 'Yugabyte#1'\")\n",
    "#SQL_STATEMENTS['create_user_2'] = (\"CREATE USER 'ybvoyager'@'locahost' IDENTIFIED WITH  mysql_native_password BY 'Yugabyte#1'\")\n",
    "\n",
    "SQL_STATEMENTS['grant_process_1'] = (\"GRANT PROCESS ON *.* TO 'ybvoyager'@'127.0.0.1'\")\n",
    "#SQL_STATEMENTS['grant_process_2'] = (\"GRANT PROCESS ON *.* TO 'ybvoyager'@'localhost'\")\n",
    "\n",
    "SQL_STATEMENTS['grant_select_1'] = (\"GRANT SELECT ON sakila.* TO 'ybvoyager'@'127.0.0.1'\")\n",
    "#SQL_STATEMENTS['grant_select_2'] = (\"GRANT SELECT ON sakila.* TO 'ybvoyager'@'localhost'\")\n",
    "\n",
    "SQL_STATEMENTS['grant_show_view_1'] = (\"GRANT SHOW VIEW ON sakila.* TO 'ybvoyager'@'127.0.0.1'\")\n",
    "#SQL_STATEMENTS['grant_show_view_2'] = (\"GRANT SHOW VIEW ON sakila.* TO 'ybvoyager'@'localhost'\")\n",
    "\n",
    "SQL_STATEMENTS['grant_trigger_1'] = (\"GRANT TRIGGER ON sakila.* TO 'ybvoyager'@'127.0.0.1'\")\n",
    "#SQL_STATEMENTS['grant_trigger_2'] = (\"GRANT TRIGGER ON sakila.* TO 'ybvoyager'@'localhost'\")\n",
    "\n",
    "SQL_STATEMENTS['grant_flush_1'] = (\"GRANT FLUSH_TABLES ON *.* TO 'ybvoyager'@'127.0.0.1'\")\n",
    "#SQL_STATEMENTS['grant_flush_2'] = (\"GRANT FLUSH_TABLES ON *.* TO 'ybvoyager'@'localhost'\")\n",
    "\n",
    "SQL_STATEMENTS['grant_replication_1'] = (\"GRANT REPLICATION CLIENT ON *.* TO 'ybvoyager'@'127.0.0.1'\")\n",
    "#SQL_STATEMENTS['grant_replication_2'] = (\"GRANT REPLICATION CLIENT ON *.* TO 'ybvoyager'@'localhost'\")\n",
    "\n",
    "SQL_STATEMENTS['grant_routine_1'] = (\"GRANT SHOW_ROUTINE ON *.* TO 'ybvoyager'@'127.0.0.1'\")\n",
    "#SQL_STATEMENTS['grant_routine_2'] = (\"GRANT SHOW_ROUTINE ON *.* TO 'ybvoyager'@'localhost'\")\n",
    "\n",
    "\n",
    "# Create connection\n",
    "cnx = mysql.connector.connect(user='root',\n",
    "                              host='127.0.0.1',\n",
    "                              database=db_name)\n",
    "cursor = cnx.cursor()\n",
    "\n",
    "# Execute statements\n",
    "for sql_name in SQL_STATEMENTS:\n",
    "    sql_statement = SQL_STATEMENTS[sql_name]\n",
    "    try:\n",
    "        print(\"Running sql statement  {}: \".format(sql_name), end='')\n",
    "        cursor.execute(sql_statement)\n",
    "    except mysql.connector.Error as err:\n",
    "        print(err.msg)\n",
    "    else:\n",
    "        print(\"OK\")\n",
    "\n",
    "cursor.close()"
   ]
  },
  {
   "cell_type": "markdown",
   "metadata": {},
   "source": [
    "```\n",
    "Running sql statement  create_user_1: OK\n",
    "Running sql statement  grant_process_1: OK\n",
    "Running sql statement  grant_select_1: OK\n",
    "Running sql statement  grant_show_view_1: OK\n",
    "Running sql statement  grant_trigger_1: OK\n",
    "Running sql statement  grant_flush_1: OK\n",
    "Running sql statement  grant_replication_1: OK\n",
    "Running sql statement  grant_routine_1: OK\n",
    "```"
   ]
  },
  {
   "cell_type": "markdown",
   "metadata": {},
   "source": [
    "## Export schema\n",
    "Convert the database schema to PostgreSQL format using the yb-voyager export schema command.\n",
    "\n",
    "First, create an export directory"
   ]
  },
  {
   "cell_type": "code",
   "execution_count": null,
   "metadata": {
    "vscode": {
     "languageId": "shellscript"
    }
   },
   "outputs": [],
   "source": [
    "%%bash\n",
    "\n",
    "mkdir $HOME/export-dir"
   ]
  },
  {
   "cell_type": "markdown",
   "metadata": {},
   "source": [
    "Next, export the schema using the `yb-voyager` CLI."
   ]
  },
  {
   "cell_type": "code",
   "execution_count": null,
   "metadata": {
    "vscode": {
     "languageId": "shellscript"
    }
   },
   "outputs": [],
   "source": [
    "%%bash -s \"$MY_MYSQL_DB_NAME\"  \"$MY_MYSQL_PORT\" \"$MY_HOST_IPv4_01\"\n",
    "DB_NAME=${1}\n",
    "DB_PORT=${2}\n",
    "DB_HOST=${3}\n",
    "\n",
    "yb-voyager export schema --export-dir $HOME/export-dir \\\n",
    "        --source-db-type \"MYSQL\" \\\n",
    "        --source-db-host ${DB_HOST} \\\n",
    "        --source-db-port  ${DB_PORT} \\\n",
    "        --source-db-name  ${DB_NAME} \\\n",
    "        --source-db-user \"ybvoyager\" \\\n",
    "        --source-db-password \"Yugabyte#1\" \\ "
   ]
  },
  {
   "cell_type": "markdown",
   "metadata": {},
   "source": [
    "List folders and files:\n",
    "- `reports` contains the generated Schema Analysis Report.\n",
    "- `schema` contains the source database schema translated to PostgreSQL. The schema is partitioned into smaller files by the schema object type such as tables, views, and so on.\n",
    "- `data` contains `.TSV` (Tab Separated Values) files that are passed to the `COPY` command on the target database.\n",
    "- `metainfo` and `temp` are internal to by yb-voyager\n",
    "- `log/yb-voyager.log` contains log messages"
   ]
  },
  {
   "cell_type": "code",
   "execution_count": null,
   "metadata": {
    "vscode": {
     "languageId": "shellscript"
    }
   },
   "outputs": [],
   "source": [
    "%%bash\n",
    "\n",
    "ls $HOME/export-dir"
   ]
  },
  {
   "cell_type": "markdown",
   "metadata": {},
   "source": [
    "View the log."
   ]
  },
  {
   "cell_type": "code",
   "execution_count": null,
   "metadata": {
    "vscode": {
     "languageId": "shellscript"
    }
   },
   "outputs": [],
   "source": [
    "%%bash\n",
    "\n",
    "cat $HOME/export-dir/logs/yb-voyager.log"
   ]
  },
  {
   "cell_type": "markdown",
   "metadata": {},
   "source": [
    " > Important!\n",
    " >\n",
    " > 👆 In the above output cell, select **Adjust cell output settings...**. \n",
    " >\n",
    " > In the **Settings** tab, in `Notebook > Output: Scrolling`, select the checkbox ✅.\n",
    " >\n",
    " > In `Notebook > Output: Text Line Limit`, enter `200`.\n",
    " >\n",
    " > To save, close the **Settings** tab.\n",
    " > \n",
    " > 🙌 Well done!"
   ]
  },
  {
   "cell_type": "markdown",
   "metadata": {},
   "source": [
    "## Analyze schema\n",
    "Generate a Schema Analysis Report using the yb-voyager analyze-schema command. The report suggests changes to the PostgreSQL schema to make it appropriate for YugabyteDB."
   ]
  },
  {
   "cell_type": "code",
   "execution_count": null,
   "metadata": {
    "vscode": {
     "languageId": "shellscript"
    }
   },
   "outputs": [],
   "source": [
    "%%bash\n",
    " \n",
    "# Replace the argument values with those applicable for your migration.\n",
    "# html, txt, json, or xml\n",
    "yb-voyager analyze-schema --export-dir $HOME/export-dir  --output-format txt\n",
    "\n",
    "ls $HOME/export-dir"
   ]
  },
  {
   "cell_type": "markdown",
   "metadata": {},
   "source": [
    "View the entire analysis report. "
   ]
  },
  {
   "cell_type": "code",
   "execution_count": null,
   "metadata": {
    "vscode": {
     "languageId": "shellscript"
    }
   },
   "outputs": [],
   "source": [
    "%%bash\n",
    "\n",
    "cat $HOME/export-dir/reports/report.txt"
   ]
  },
  {
   "cell_type": "markdown",
   "metadata": {},
   "source": [
    "```\n",
    "Issues:\n",
    "\n",
    "Error in Object INDEX:\n",
    "-Object Name: address_location\n",
    "-Reason: Schema contains gist index which is not supported.\n",
    "-SQL Statement: CREATE INDEX address_location ON address USING gist(location);\n",
    "-File Path: /home/gitpod/export-dir/schema/tables/INDEXES_table.sql\n",
    "-Github Issue Link: https://github.com/YugaByte/yugabyte-db/issues/1337\n",
    "```"
   ]
  },
  {
   "cell_type": "markdown",
   "metadata": {},
   "source": [
    "View the `INDEXES_table.sql` file."
   ]
  },
  {
   "cell_type": "code",
   "execution_count": null,
   "metadata": {
    "vscode": {
     "languageId": "shellscript"
    }
   },
   "outputs": [],
   "source": [
    "%%bash\n",
    "\n",
    "cat $HOME/export-dir/schema/tables/INDEXES_table.sql"
   ]
  },
  {
   "cell_type": "markdown",
   "metadata": {},
   "source": [
    "## Modify schema\n",
    "Using the report recommendations, manually change the exported schema. \n",
    "\n",
    "In this case, since YugabyteDB does not currently support `GIST` indexes, it make sense to not create this index.  So the procedure here is to simply delete the `CREATE INDEX address_location` statement."
   ]
  },
  {
   "cell_type": "code",
   "execution_count": null,
   "metadata": {
    "vscode": {
     "languageId": "shellscript"
    }
   },
   "outputs": [],
   "source": [
    "%%bash\n",
    "\n",
    "sed -i '/gist/d' $HOME/export-dir/schema/tables/INDEXES_table.sql"
   ]
  },
  {
   "cell_type": "markdown",
   "metadata": {},
   "source": [
    "Verify the deletion of the line."
   ]
  },
  {
   "cell_type": "code",
   "execution_count": null,
   "metadata": {
    "vscode": {
     "languageId": "shellscript"
    }
   },
   "outputs": [],
   "source": [
    "%%bash\n",
    "\n",
    "cat $HOME/export-dir/schema/tables/INDEXES_table.sql"
   ]
  },
  {
   "cell_type": "markdown",
   "metadata": {},
   "source": [
    "## Re-run Analyze schema"
   ]
  },
  {
   "cell_type": "markdown",
   "metadata": {},
   "source": [
    "After making the manual changes, re-run the `yb-voyager analyze-schema` command and generate a new report. Rinse and repeat until the generated report contains no known issues."
   ]
  },
  {
   "cell_type": "code",
   "execution_count": null,
   "metadata": {
    "vscode": {
     "languageId": "shellscript"
    }
   },
   "outputs": [],
   "source": [
    "%%bash\n",
    " \n",
    "# Replace the argument values with those applicable for your migration.\n",
    "# html, txt, json, or xml\n",
    "yb-voyager analyze-schema --export-dir $HOME/export-dir  --output-format txt\n",
    "\n",
    "cat $HOME/export-dir/reports/report.txt"
   ]
  },
  {
   "cell_type": "markdown",
   "metadata": {},
   "source": [
    "Next, view the `table.sql` file. In particular, review the table definitions for the primary key. "
   ]
  },
  {
   "cell_type": "code",
   "execution_count": null,
   "metadata": {
    "vscode": {
     "languageId": "shellscript"
    }
   },
   "outputs": [],
   "source": [
    "%%bash\n",
    " \n",
    "cat  $HOME/export-dir/schema/tables/table.sql\n"
   ]
  },
  {
   "cell_type": "markdown",
   "metadata": {},
   "source": [
    "One observation is the use of auto-incremented primary keys. YugabyteDB supports this using the `SERIAL` datatype.\n",
    "\n",
    "In YugabyteDB, a `SERIAL` type is a sequence. Sequence are cached on the YB-TServer. There are numerous strategies to help with sequence caching that can be managed post migration.\n",
    "\n",
    "### Sequence migration considerations\n",
    "\n",
    "Sequence migration consists of two steps: sequence creation and setting resume value (resume value refers to the `NEXTVAL`` of a sequence on a source database). A sequence object is generated during export schema and the resume values for sequences are generated during export data. These resume values are then set on the target database just after the data is imported for all tables.\n",
    "\n",
    "> Note:\n",
    "> \n",
    "> There are some special cases involving sequences such as the following:\n",
    ">\n",
    "> - For MySQL, the auto-increment column migrates to YugbayteDB as a normal column backed by a sequence\n"
   ]
  },
  {
   "cell_type": "code",
   "execution_count": null,
   "metadata": {
    "vscode": {
     "languageId": "shellscript"
    }
   },
   "outputs": [],
   "source": [
    "%%bash\n",
    " \n",
    "cat  $HOME/export-dir/schema/tables/table.sql | grep 'PRIMARY KEY'\n",
    "cat  $HOME/export-dir/schema/tables/table.sql | grep -B 1 'serial'"
   ]
  },
  {
   "cell_type": "markdown",
   "metadata": {},
   "source": [
    "---\n",
    "## Export data\n",
    "Dump the source database to the target machine (where yb-voyager is installed), using the yb-voyager export data command.\n",
    "\n",
    "> Note:\n",
    "> \n",
    "> Not applicable for MySQL is the `source-db-schema` argument\n",
    ">\n",
    "> The `-y` argument says yes to all prompts.\n",
    ">\n",
    "> BETA_FAST_DATA_EXPORT=1\n",
    "> "
   ]
  },
  {
   "cell_type": "code",
   "execution_count": null,
   "metadata": {
    "vscode": {
     "languageId": "shellscript"
    }
   },
   "outputs": [],
   "source": [
    "%%bash -s \"$MY_MYSQL_DB_NAME\"  \"$MY_MYSQL_PORT\" \"$MY_HOST_IPv4_01\"\n",
    "DB_NAME=${1}\n",
    "DB_PORT=${2}\n",
    "DB_HOST=${3}\n",
    "\n",
    "yb-voyager export data --help"
   ]
  },
  {
   "cell_type": "markdown",
   "metadata": {},
   "source": [
    "Run the export command."
   ]
  },
  {
   "cell_type": "code",
   "execution_count": null,
   "metadata": {
    "vscode": {
     "languageId": "shellscript"
    }
   },
   "outputs": [],
   "source": [
    "%%bash -s \"$MY_MYSQL_DB_NAME\"  \"$MY_MYSQL_PORT\" \"$MY_HOST_IPv4_01\"\n",
    "DB_NAME=${1}\n",
    "DB_PORT=${2}\n",
    "DB_HOST=${3}\n",
    "\n",
    "yb-voyager export data -y --start-clean --disable-pb --send-diagnostics false \\\n",
    "  --export-dir $HOME/export-dir \\\n",
    "  --source-db-type \"MYSQL\" \\\n",
    "  --source-db-host ${DB_HOST} \\\n",
    "  --source-db-port  ${DB_PORT} \\\n",
    "  --source-db-name  ${DB_NAME} \\\n",
    "  --source-db-user \"ybvoyager\" \\\n",
    "  --source-db-password \"Yugabyte#1\" > /dev/null\n",
    "  \n",
    "       "
   ]
  },
  {
   "cell_type": "markdown",
   "metadata": {},
   "source": [
    "In case there are issues with the above and you need to kill the process, you can uncomment and run the following:"
   ]
  },
  {
   "cell_type": "code",
   "execution_count": null,
   "metadata": {
    "vscode": {
     "languageId": "shellscript"
    }
   },
   "outputs": [],
   "source": [
    "%%bash \n",
    "# ps -eaf | grep yb-voyager | grep -v grep | awk '{ print $2 }' | xargs kill -9\n",
    "# ps -aux | grep 'yb-voyager'"
   ]
  },
  {
   "cell_type": "markdown",
   "metadata": {},
   "source": [
    "https://docs.yugabyte.com/preview/yugabyte-voyager/reference/datatype-mapping-mysql/"
   ]
  },
  {
   "cell_type": "code",
   "execution_count": null,
   "metadata": {
    "vscode": {
     "languageId": "shellscript"
    }
   },
   "outputs": [],
   "source": [
    "%%bash\n",
    " \n",
    "tail -n 200 $HOME/export-dir/logs/yb-voyager.log\n"
   ]
  },
  {
   "cell_type": "markdown",
   "metadata": {},
   "source": [
    "## Import schema\n",
    "Import the modified schema to the target YugabyteDB database using the yb-voyager import schema command."
   ]
  },
  {
   "cell_type": "code",
   "execution_count": null,
   "metadata": {
    "vscode": {
     "languageId": "shellscript"
    }
   },
   "outputs": [],
   "source": [
    "%%bash\n",
    "\n",
    "ls $HOME/export-dir"
   ]
  },
  {
   "cell_type": "markdown",
   "metadata": {},
   "source": [
    "## Import data\n",
    "Import the data to the target YugabyteDB database using the yb-voyager import data command."
   ]
  },
  {
   "cell_type": "code",
   "execution_count": null,
   "metadata": {
    "vscode": {
     "languageId": "shellscript"
    }
   },
   "outputs": [],
   "source": [
    "%%bash\n",
    "\n",
    "ls $HOME/export-dir"
   ]
  },
  {
   "cell_type": "markdown",
   "metadata": {},
   "source": [
    "## Import indexes and triggers\n",
    "Import indexes and triggers to the target YugabyteDB database using the yb-voyager import schema command with an additional --post-import-data flag."
   ]
  },
  {
   "cell_type": "code",
   "execution_count": null,
   "metadata": {
    "vscode": {
     "languageId": "shellscript"
    }
   },
   "outputs": [],
   "source": [
    "%%bash\n",
    "\n",
    "ls $HOME/export-dir"
   ]
  },
  {
   "attachments": {},
   "cell_type": "markdown",
   "metadata": {
    "deletable": false,
    "editable": false
   },
   "source": [
    "##### Create tables, load data, and review relations\n",
    "Run the following cell to execute the DDL and DML scripts using `ysqlsh`."
   ]
  },
  {
   "attachments": {},
   "cell_type": "markdown",
   "metadata": {
    "deletable": false,
    "editable": false
   },
   "source": [
    "##### View DDL for tbl_countries\n",
    "Run the following cell using `ysqlsh` to view a table definition.\n",
    "\n",
    "> Note\n",
    "> \n",
    "> SQL magic does not support PostgreSQL `psql` commands. In order to execute `psql` commands, the notebook uses bash and `ysqlsh`.\n",
    "\n"
   ]
  },
  {
   "cell_type": "code",
   "execution_count": null,
   "metadata": {
    "vscode": {
     "languageId": "shellscript"
    }
   },
   "outputs": [],
   "source": [
    "%%bash -s \"$MY_YB_PATH\" \"$MY_DB_NAME\"  # \\d tbl_countriees\n",
    "\n",
    "YB_PATH=${1}\n",
    "DB_NAME=${2}\n",
    "\n",
    "cd $YB_PATH\n",
    "\n",
    "\n",
    "./bin/ysqlsh -d ${DB_NAME} -c \"\\d tbl_countries\"\n",
    "#./bin/ysqlsh -d ${DBNAME} -c \"\\d tbl_countries\"\n",
    "#./bin/ysqlsh -d ${DBNAME} -c \"\\d tbl_states\"\n"
   ]
  },
  {
   "cell_type": "markdown",
   "metadata": {},
   "source": [
    "## Connect to MySQL using the MySQL Driver for Python\n",
    "The following cells requires:\n",
    "- Python 3.8+ and psycopg2"
   ]
  },
  {
   "cell_type": "code",
   "execution_count": null,
   "metadata": {},
   "outputs": [],
   "source": [
    "# Connect to db_ybu\n",
    "# Inspiration from https://medium.com/analytics-vidhya/postgresql-integration-with-jupyter-notebook-deb97579a38d\n",
    "import psycopg2\n",
    "import sqlalchemy as alc\n",
    "from sqlalchemy import create_engine\n",
    "\n",
    "# env_var.env\n",
    "db_host=MY_HOST_IPv4_01\n",
    "db_name=MY_MYSQL_DB_NAME\n",
    "db_port=MY_MYSQL_PORT\n",
    "\n",
    "connection_str='postgresql://yugabyte@'+db_port+':3306/'+db_name\n",
    "print(connection_str)\n",
    "engine = create_engine(connection_str)"
   ]
  },
  {
   "attachments": {},
   "cell_type": "markdown",
   "metadata": {
    "deletable": false,
    "editable": false
   },
   "source": [
    "## Connect to YugabyteDB using the PostgreSQL Driver for Python\n",
    "The following cells requires:\n",
    "- Python 3.8+ and psycopg2"
   ]
  },
  {
   "cell_type": "code",
   "execution_count": null,
   "metadata": {
    "deletable": false,
    "editable": false
   },
   "outputs": [],
   "source": [
    "# Connect to db_ybu\n",
    "# Inspiration from https://medium.com/analytics-vidhya/postgresql-integration-with-jupyter-notebook-deb97579a38d\n",
    "import psycopg2\n",
    "import sqlalchemy as alc\n",
    "from sqlalchemy import create_engine\n",
    "\n",
    "# env_var.env\n",
    "db_host=MY_HOST_IPv4_01\n",
    "db_name=MY_DB_NAME\n",
    "\n",
    "connection_str='postgresql://yugabyte@'+db_host+':5433/'+db_name\n",
    "print(connection_str)\n",
    "engine = create_engine(connection_str)"
   ]
  },
  {
   "attachments": {},
   "cell_type": "markdown",
   "metadata": {
    "deletable": false,
    "editable": false
   },
   "source": [
    "#### Load SQL magic extension\n",
    ">IMPORTANT!\n",
    ">\n",
    "> To use SQL magic, you must run the following cell that loads the notebook extension."
   ]
  },
  {
   "cell_type": "code",
   "execution_count": null,
   "metadata": {},
   "outputs": [],
   "source": [
    "%reload_ext sql\n",
    "# creates connection for sql magic\n",
    "%sql {connection_str}"
   ]
  },
  {
   "attachments": {},
   "cell_type": "markdown",
   "metadata": {},
   "source": [
    "Optional."
   ]
  },
  {
   "cell_type": "code",
   "execution_count": null,
   "metadata": {},
   "outputs": [],
   "source": [
    " %config SqlMagic"
   ]
  },
  {
   "attachments": {},
   "cell_type": "markdown",
   "metadata": {
    "deletable": false,
    "editable": false
   },
   "source": [
    "#### Create Voyager user"
   ]
  },
  {
   "cell_type": "code",
   "execution_count": null,
   "metadata": {
    "vscode": {
     "languageId": "sql"
    }
   },
   "outputs": [],
   "source": [
    "%%sql \n",
    "\n",
    "CREATE USER ybvoyager SUPERUSER PASSWORD 'password';"
   ]
  },
  {
   "attachments": {},
   "cell_type": "markdown",
   "metadata": {},
   "source": [
    "---\n",
    "Make directory"
   ]
  },
  {
   "cell_type": "code",
   "execution_count": null,
   "metadata": {
    "vscode": {
     "languageId": "shellscript"
    }
   },
   "outputs": [],
   "source": [
    "%%bash \n",
    "mkdir $HOME/export-dir\n",
    "export EXPORT_DIR=$HOME/export-dir\n",
    "\n"
   ]
  },
  {
   "attachments": {},
   "cell_type": "markdown",
   "metadata": {},
   "source": [
    "---\n",
    "## Remove Node and view the data distribution"
   ]
  },
  {
   "cell_type": "code",
   "execution_count": null,
   "metadata": {
    "vscode": {
     "languageId": "shellscript"
    }
   },
   "outputs": [],
   "source": [
    "%%bash\n",
    "# Replace the argument values with those applicable for your migration.\n",
    "\n",
    "yb-voyager export schema --export-dir $HOME/export-dir \\\n",
    "        --source-db-type \"MYSQL\" \\\n",
    "        --source-db-host \"127.0.0.1\" \\\n",
    "        --source-db-port \"3306\" \\\n",
    "        --source-db-name \"sakila\" \\\n",
    "        --source-db-user \"ybvoyager\" \\\n",
    "        --source-db-password \"Yugabyte#1\" \\ \n"
   ]
  },
  {
   "attachments": {},
   "cell_type": "markdown",
   "metadata": {
    "deletable": false,
    "editable": false
   },
   "source": [
    "---\n",
    "# 🌟 Well done! \n",
    "In this notebook, you completed the following:\n",
    "- Setup steps\n",
    "- Connect to YugabyteDB using ysqlsh\n",
    "  - Created the `db_ybu` database with `ysqlsh`\n",
    "  - Created utils\n",
    "  - Created tables and loaded data using DDL and DML scripts\n",
    "  - Connected to the database using a PostgreSQL driver for Python\n",
    "  - Executed queries with SQL Magic\n",
    "\n",
    "\n",
    "## 😊 Next up!\n",
    "Continue your learning by opening the next notebook, `02_Demystifying_table_sharding_tablets_and_data_distribution`. \n",
    "\n",
    "Or, if using GitPod, run the following cell:"
   ]
  },
  {
   "cell_type": "code",
   "execution_count": null,
   "metadata": {
    "vscode": {
     "languageId": "shellscript"
    }
   },
   "outputs": [],
   "source": [
    "%%bash\n",
    "gp open '02_Demystifying_table_sharding_tablets_and_data_distribution'"
   ]
  }
 ],
 "metadata": {
  "kernelspec": {
   "display_name": "Python 3.7.9 64-bit",
   "language": "python",
   "name": "python3"
  },
  "language_info": {
   "codemirror_mode": {
    "name": "ipython",
    "version": 3
   },
   "file_extension": ".py",
   "mimetype": "text/x-python",
   "name": "python",
   "nbconvert_exporter": "python",
   "pygments_lexer": "ipython3",
   "version": "3.11.2"
  },
  "orig_nbformat": 4,
  "vscode": {
   "interpreter": {
    "hash": "aee8b7b246df8f9039afb4144a1f6fd8d2ca17a180786b69acc140d282b71a49"
   }
  }
 },
 "nbformat": 4,
 "nbformat_minor": 2
}
