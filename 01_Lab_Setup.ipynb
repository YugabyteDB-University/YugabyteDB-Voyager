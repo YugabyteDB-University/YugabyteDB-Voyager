{
 "cells": [
  {
   "attachments": {},
   "cell_type": "markdown",
   "metadata": {
    "deletable": false,
    "editable": false
   },
   "source": [
    "<div style=\"width:100%; background-color: #000041\"><a target=\"_blank\" href=\"http://university.yugabyte.com\"><img src=\"assets/YBU_Logo.png\" /></a></div>\n",
    "\n",
    "> **YugabyteDB YSQL Development**\n",
    ">\n",
    "> Enroll for free  [Yugabyte University](https://university.yugabyte.com/).\n",
    ">"
   ]
  },
  {
   "attachments": {},
   "cell_type": "markdown",
   "metadata": {},
   "source": [
    "# About these notebook Labs\n",
    "The labs for this course consists of several Jupyter notebooks that run in Gitpod. [Gitpod](https://www.gitpod.io/) facilitates runtime environments using Ubuntu and VS Code in a Chromium (browser) environment. \n",
    "\n",
    "A Gitpod instance belongs to your Gitpod workspace. The instance automatically runs a three node, YugabyteDB database cluster. YugabyteDB is the world's #1 open source, distributed SQL database. \n",
    "\n",
    "> Although a three node cluster is up and running, Gitpod does not support visiting loopback addresses over a web ui, even if exposed on a different port.\n",
    "> 127.0.0.1 is the only web user interface that is exposed. To see all available ports in Gitpod, in the Terminal tab, you can run `gp ports list`.\n",
    "> "
   ]
  },
  {
   "attachments": {},
   "cell_type": "markdown",
   "metadata": {},
   "source": [
    "## 🛠️ Requirements\n",
    "Here are the requirements for this lab:\n",
    "- ✅ Launch using this Gitpod workspace, which you are already doing\n",
    "- ✅ A running, standalone MySQL database, which is already running\n",
    "- ✅ A running, 3 node YugabyteDB cluster, which is already running\n",
    "- ☑️ A Python 3.8.13 or higher kernel for the notebook, *which you need to select right now!!!*\n",
    "\n",
    "### Select your notebook kernel\n",
    "- In the Notebook toolbar, click **Select Kernel**.\n",
    "<br>\n",
    "<img width=50% src=\"assets/01_01_Select_Kernel_Toolbar.png\" />\n",
    "\n",
    "- Next, in the dropdown, select **Python 3.8.13** or higher.\n",
    "<br>\n",
    "<img width=50% src=\"assets/01_02_Select_Kernel_Dropdown.png\" />\n",
    "\n",
    "That's it!"
   ]
  },
  {
   "attachments": {},
   "cell_type": "markdown",
   "metadata": {},
   "source": [
    "## About Jupyter notebooks"
   ]
  },
  {
   "attachments": {},
   "cell_type": "markdown",
   "metadata": {},
   "source": [
    "A Juypter notebook is a runtime environment for executing code. A notebook consists of one or more cells. There are three types of cells in a notebook: Markdown, Code, and Output. This is a Markdown cell.\n",
    "\n",
    "A cell has two modes: read-mode and edit-mode. By default, the cells in a notebook are in read-mode. You can run a read-mode cell that is code. To execute a code cell, select the play icon in the cell's left gutter. \n",
    "\n",
    "The execution of a code cell often results in Output. An Output cell shows the `stdout` of the previous executed code cell. You can delete an Output cell. You can also collapse the cell. In addition, you can also select `Clear Outputs of All Cells`.\n",
    "\n",
    "To modify a cell, select `Enter` or `Return`. In edit-mode, you can modify the contents of a cell. Certain labs contain challenges or experiments that require you to do just that: modify a code cell and re-run it! To switch from edit-mode to read-mode, use the `Shift+Enter` or `Shift+Return` keystroke."
   ]
  },
  {
   "attachments": {},
   "cell_type": "markdown",
   "metadata": {
    "deletable": false,
    "editable": false
   },
   "source": [
    "#### Notebook keyboard shortcuts\n",
    "The Jupyter extension for Gitpod supports the following keyboard shortcuts:\n",
    "| Keystroke | Description |\n",
    "|--|--|\n",
    "| ESC | Change the cell mode |\n",
    "| A | Add a cell above |\n",
    "| B | Add a cell below |\n",
    "| J or down arrow key |  Change a cell to below | \n",
    "| K or up arrow key | Change a cell to above | \n",
    "| Ctrl+Enter | Run the currently selected cell |\n",
    "| Shift+Enter | Run the currently selected cell and insert a new cell immediately below (focus moves to new cell) |\n",
    "| Alt+Enter | Run the currently selected cell and insert a new cell immediately below (focus remains on current cell) |\n",
    "| dd | Delete a selected cell |\n",
    "| z | Undo the last change | \n",
    "| M | switch the cell type to Markdown | \n",
    "| Y | switch the cell type to code |\n",
    "| L | Enable/Disable line numbers |\n",
    "```\n"
   ]
  },
  {
   "attachments": {},
   "cell_type": "markdown",
   "metadata": {},
   "source": [
    "## ⛑️ Getting help\n",
    "The best way to get help from the Yugabyte University team is to post your question on YugabyteDB Community Slack in the #training or #yb-university channels. To sign up, visit [https://communityinviter.com/apps/yugabyte-db/register](https://communityinviter.com/apps/yugabyte-db/register)."
   ]
  },
  {
   "attachments": {},
   "cell_type": "markdown",
   "metadata": {
    "deletable": false,
    "editable": false
   },
   "source": [
    "---\n",
    "TODO: Cleanup\n",
    "# 👣 Setup steps\n",
    "Here are the steps to setup this lab:\n",
    "- Install missing dependencies and restart the notebook\n",
    "- Create the notebook variables\n",
    "- Create the `db_ybu` database"
   ]
  },
  {
   "attachments": {},
   "cell_type": "markdown",
   "metadata": {},
   "source": [
    "### Install missing dependencies and restart the notebook\n",
    "Run the following cell to ensure that the notebook dependencies are available to the notebook. "
   ]
  },
  {
   "attachments": {},
   "cell_type": "markdown",
   "metadata": {
    "deletable": false,
    "editable": false
   },
   "source": [
    "### Create the notebook variables \n",
    "\n",
    "> IMPORTANT!\n",
    "> \n",
    "> Do NOT skip running this cell. \n",
    "> \n",
    "\n",
    "The following Python cell creates and stores variables that all the notebooks in this lab will use. You can view these variables in the Jupyter tab.\n",
    "\n",
    "- To run the script, select Execute Cell (Play Arrow) in the left gutter of the cell.\n",
    "- Verify the accuracy of the output values"
   ]
  },
  {
   "cell_type": "code",
   "execution_count": null,
   "metadata": {
    "deletable": false,
    "editable": false
   },
   "outputs": [],
   "source": [
    "# Env variables for Notebook\n",
    "import os\n",
    "\n",
    "# read env_vars.env\n",
    "env_vars = !cat env_vars.env\n",
    "for var in env_vars:\n",
    "    key, value = var.split('=')\n",
    "    os.environ[key] = value\n",
    "\n",
    "### Begin: Gitpod or local\n",
    "#\n",
    "### Uncomment Gitpod specific\n",
    "#\n",
    "MY_YB_PATH=os.environ.get('MY_YB_PATH_GITPOD')\n",
    "MY_YB_PATH_DATA=os.environ.get('MY_YB_PATH_DATA_GITPOD')\n",
    "MY_GITPOD_WORKSPACE_URL=os.environ.get('GITPOD_WORKSPACE_URL')\n",
    "#\n",
    "\n",
    "\n",
    "# env_vars defines the following\n",
    "MY_DB_NAME=os.environ.get('MY_DB_NAME')\n",
    "MY_DB_PORT=os.environ.get('MY_DB_PORT')\n",
    "MY_MYSQL_DB_NAME=os.environ.get('MY_MYSQL_DB_NAME')\n",
    "\n",
    "\n",
    "MY_HOST_IPv4_01=os.environ.get('MY_HOST_IPv4_01')\n",
    "MY_HOST_IPv4_02=os.environ.get('MY_HOST_IPv4_02')\n",
    "MY_HOST_IPv4_03=os.environ.get('MY_HOST_IPv4_03')\n",
    "\n",
    "MY_TSERVER_WEBSERVER_PORT=os.environ.get('MY_TSERVER_WEBSERVER_PORT')\n",
    "MY_MYSQL_PORT=os.environ.get('MY_MYSQL_PORT')\n",
    "\n",
    "# Gitpod URLS\n",
    "MY_YB_MASTER_HOST_GITPOD_URL = MY_GITPOD_WORKSPACE_URL.replace('https://','https://7000-')\n",
    "MY_YB_TSERVER_HOST_GITPOD_URL = MY_GITPOD_WORKSPACE_URL.replace('https://','https://'+MY_TSERVER_WEBSERVER_PORT+'-')\n",
    "\n",
    "# Current directory of project and related child folders\n",
    "MY_NOTEBOOK_DIR=os.getcwd()\n",
    "MY_NOTEBOOK_DATA_FOLDER=MY_NOTEBOOK_DIR +'/data' \n",
    "MY_NOTEBOOK_UTILS_FOLDER=MY_NOTEBOOK_DIR + '/utils'\n",
    "\n",
    "# For Voyager files so that we can edit\n",
    "MY_NOTEBOOK_VOYAGER_TMP=MY_NOTEBOOK_DIR +'/tmp'\n",
    "\n",
    "# BETA_FAST_DATA_EXPORT=1\n",
    "BETA_FAST_DATA_EXPORT=os.environ.get('BETA_FAST_DATA_EXPORT')\n",
    "\n",
    "# Store the note book values for other notebooks to use\n",
    "%store MY_YB_PATH\n",
    "%store MY_YB_PATH_DATA\n",
    "\n",
    "%store MY_GITPOD_WORKSPACE_URL\n",
    "\n",
    "%store MY_DB_NAME\n",
    "%store MY_DB_PORT\n",
    "%store MY_MYSQL_DB_NAME\n",
    "\n",
    "%store MY_HOST_IPv4_01\n",
    "%store MY_HOST_IPv4_02\n",
    "%store MY_HOST_IPv4_03\n",
    "\n",
    "%store MY_TSERVER_WEBSERVER_PORT\n",
    "%store MY_MYSQL_PORT\n",
    "\n",
    "%store MY_YB_MASTER_HOST_GITPOD_URL\n",
    "%store MY_YB_TSERVER_HOST_GITPOD_URL\n",
    "\n",
    "%store MY_NOTEBOOK_DIR\n",
    "%store MY_NOTEBOOK_DATA_FOLDER\n",
    "%store MY_NOTEBOOK_UTILS_FOLDER\n",
    "%store MY_NOTEBOOK_VOYAGER_TMP\n",
    "\n",
    "%store BETA_FAST_DATA_EXPORT"
   ]
  },
  {
   "cell_type": "markdown",
   "metadata": {},
   "source": [
    "### Verify the Voyager Installation\n",
    "\n",
    "You can learn more about Voyager at. Enter this doc.\n"
   ]
  },
  {
   "cell_type": "code",
   "execution_count": null,
   "metadata": {
    "vscode": {
     "languageId": "shellscript"
    }
   },
   "outputs": [],
   "source": [
    "%%bash\n",
    "yb-voyager version"
   ]
  },
  {
   "attachments": {},
   "cell_type": "markdown",
   "metadata": {
    "deletable": false,
    "editable": false
   },
   "source": [
    "---\n",
    "# Verify the MySQL database for the migration\n",
    "\n",
    "Here is the related schema for the Sakila database.\n",
    "\n",
    "<div style=\"width:100%; background-color: #000041\"><a target=\"_blank\" href=\"https://dev.mysql.com/doc/sakila/en/sakila-structure.html\"><img src=\"assets/sakila-schema.png\" /></a></div>\n",
    "\n",
    "The following commands are MySQL shell commands. Using `mysql`, you can execute MySQL statements. "
   ]
  },
  {
   "cell_type": "markdown",
   "metadata": {},
   "source": [
    "To review the **tables** in the MySQL database, run the following cell:"
   ]
  },
  {
   "cell_type": "code",
   "execution_count": null,
   "metadata": {
    "vscode": {
     "languageId": "shellscript"
    }
   },
   "outputs": [],
   "source": [
    "%%bash -s \"$MY_MYSQL_DB_NAME\"  # create database\n",
    "DB_NAME=${1}\n",
    "\n",
    "mysql -h 0 -u root ${DB_NAME} -e \"SHOW TABLE STATUS; \"  "
   ]
  },
  {
   "cell_type": "markdown",
   "metadata": {},
   "source": [
    "To review the **views** in the MySQL database, run the following cell:"
   ]
  },
  {
   "cell_type": "code",
   "execution_count": null,
   "metadata": {
    "vscode": {
     "languageId": "shellscript"
    }
   },
   "outputs": [],
   "source": [
    "%%bash -s \"$MY_MYSQL_DB_NAME\"  # create database\n",
    "DB_NAME=${1}\n",
    "\n",
    "# terminate connections, drop, and create\n",
    "mysql -h 0 -u root ${DB_NAME} -e \"SHOW FULL TABLES WHERE Table_Type LIKE 'VIEW';\"\n"
   ]
  },
  {
   "cell_type": "markdown",
   "metadata": {},
   "source": [
    "To view all the **indexes** for the tables, run the following the following cell:"
   ]
  },
  {
   "cell_type": "code",
   "execution_count": null,
   "metadata": {
    "vscode": {
     "languageId": "shellscript"
    }
   },
   "outputs": [],
   "source": [
    "%%bash -s \"$MY_MYSQL_DB_NAME\"  # create database\n",
    "DB_NAME=${1}\n",
    "\n",
    "# terminate connections, drop, and create\n",
    "mysql -h 0 -u root ${DB_NAME} -e \"SELECT DISTINCT TABLE_NAME, INDEX_NAME FROM INFORMATION_SCHEMA.STATISTICS WHERE TABLE_SCHEMA = '${DB_NAME}'; \" "
   ]
  },
  {
   "cell_type": "markdown",
   "metadata": {},
   "source": [
    "To review the **user-defined functions** in the MySQL database, run the following cell:"
   ]
  },
  {
   "cell_type": "code",
   "execution_count": null,
   "metadata": {
    "vscode": {
     "languageId": "shellscript"
    }
   },
   "outputs": [],
   "source": [
    "%%bash -s \"$MY_MYSQL_DB_NAME\"  # create database\n",
    "DB_NAME=${1}\n",
    "\n",
    "# terminate connections, drop, and create\n",
    "mysql -h 0 -u root ${DB_NAME} -e \"SHOW FUNCTION STATUS WHERE db = '${DB_NAME}'; \"  "
   ]
  },
  {
   "cell_type": "markdown",
   "metadata": {},
   "source": [
    "To review the **triggers** in the MySQL database, run the following cell:"
   ]
  },
  {
   "cell_type": "code",
   "execution_count": null,
   "metadata": {
    "vscode": {
     "languageId": "shellscript"
    }
   },
   "outputs": [],
   "source": [
    "%%bash -s \"$MY_MYSQL_DB_NAME\"  # create database\n",
    "DB_NAME=${1}\n",
    "\n",
    "# terminate connections, drop, and create\n",
    "mysql -h 0 -u root ${DB_NAME} -e \"SHOW TRIGGERS;\""
   ]
  },
  {
   "cell_type": "markdown",
   "metadata": {},
   "source": [
    "To review the **stored procedures** in the MySQL database, run the following cell:"
   ]
  },
  {
   "cell_type": "code",
   "execution_count": null,
   "metadata": {
    "vscode": {
     "languageId": "shellscript"
    }
   },
   "outputs": [],
   "source": [
    "%%bash -s \"$MY_MYSQL_DB_NAME\"  # create database\n",
    "DB_NAME=${1}\n",
    "\n",
    "# terminate connections, drop, and create\n",
    "mysql -h 0 -u root ${DB_NAME} -e \"SHOW PROCEDURE STATUS WHERE db = '${DB_NAME}'; \"   \n"
   ]
  },
  {
   "cell_type": "markdown",
   "metadata": {},
   "source": [
    "## Create the required user and roles in the source database"
   ]
  },
  {
   "cell_type": "markdown",
   "metadata": {},
   "source": [
    "### Prepare the source database\n",
    "\n",
    "Create a user with superuser privileges."
   ]
  },
  {
   "cell_type": "code",
   "execution_count": null,
   "metadata": {},
   "outputs": [],
   "source": [
    "from __future__ import print_function\n",
    "from datetime import date, datetime, timedelta\n",
    "import mysql.connector\n",
    "\n",
    "# env_var.env\n",
    "db_host=MY_HOST_IPv4_01\n",
    "db_name=MY_MYSQL_DB_NAME\n",
    "db_port=MY_MYSQL_PORT\n",
    "\n",
    "# sql statements for grants for ybvoyager user\n",
    "SQL_STATEMENTS = {} \n",
    "\n",
    "SQL_STATEMENTS['create_user_1'] = (\"CREATE USER 'ybvoyager'@'127.0.0.1' IDENTIFIED WITH  mysql_native_password BY 'Yugabyte#1'\")\n",
    "#SQL_STATEMENTS['create_user_2'] = (\"CREATE USER 'ybvoyager'@'locahost' IDENTIFIED WITH  mysql_native_password BY 'Yugabyte#1'\")\n",
    "\n",
    "SQL_STATEMENTS['grant_process_1'] = (\"GRANT PROCESS ON *.* TO 'ybvoyager'@'127.0.0.1'\")\n",
    "#SQL_STATEMENTS['grant_process_2'] = (\"GRANT PROCESS ON *.* TO 'ybvoyager'@'localhost'\")\n",
    "\n",
    "SQL_STATEMENTS['grant_select_1'] = (\"GRANT SELECT ON sakila.* TO 'ybvoyager'@'127.0.0.1'\")\n",
    "#SQL_STATEMENTS['grant_select_2'] = (\"GRANT SELECT ON sakila.* TO 'ybvoyager'@'localhost'\")\n",
    "\n",
    "SQL_STATEMENTS['grant_show_view_1'] = (\"GRANT SHOW VIEW ON sakila.* TO 'ybvoyager'@'127.0.0.1'\")\n",
    "#SQL_STATEMENTS['grant_show_view_2'] = (\"GRANT SHOW VIEW ON sakila.* TO 'ybvoyager'@'localhost'\")\n",
    "\n",
    "SQL_STATEMENTS['grant_trigger_1'] = (\"GRANT TRIGGER ON sakila.* TO 'ybvoyager'@'127.0.0.1'\")\n",
    "#SQL_STATEMENTS['grant_trigger_2'] = (\"GRANT TRIGGER ON sakila.* TO 'ybvoyager'@'localhost'\")\n",
    "\n",
    "SQL_STATEMENTS['grant_flush_1'] = (\"GRANT FLUSH_TABLES ON *.* TO 'ybvoyager'@'127.0.0.1'\")\n",
    "#SQL_STATEMENTS['grant_flush_2'] = (\"GRANT FLUSH_TABLES ON *.* TO 'ybvoyager'@'localhost'\")\n",
    "\n",
    "SQL_STATEMENTS['grant_replication_1'] = (\"GRANT REPLICATION CLIENT ON *.* TO 'ybvoyager'@'127.0.0.1'\")\n",
    "#SQL_STATEMENTS['grant_replication_2'] = (\"GRANT REPLICATION CLIENT ON *.* TO 'ybvoyager'@'localhost'\")\n",
    "\n",
    "SQL_STATEMENTS['grant_routine_1'] = (\"GRANT SHOW_ROUTINE ON *.* TO 'ybvoyager'@'127.0.0.1'\")\n",
    "#SQL_STATEMENTS['grant_routine_2'] = (\"GRANT SHOW_ROUTINE ON *.* TO 'ybvoyager'@'localhost'\")\n",
    "\n",
    "\n",
    "# Create connection\n",
    "cnx = mysql.connector.connect(user='root',\n",
    "                              host='127.0.0.1',\n",
    "                              database=db_name)\n",
    "cursor = cnx.cursor()\n",
    "\n",
    "# Execute statements\n",
    "for sql_name in SQL_STATEMENTS:\n",
    "    sql_statement = SQL_STATEMENTS[sql_name]\n",
    "    try:\n",
    "        print(\"Running sql statement  {}: \".format(sql_name), end='')\n",
    "        cursor.execute(sql_statement)\n",
    "    except mysql.connector.Error as err:\n",
    "        print(err.msg)\n",
    "    else:\n",
    "        print(\"OK\")\n",
    "\n",
    "cursor.close()"
   ]
  },
  {
   "cell_type": "markdown",
   "metadata": {},
   "source": [
    "## Export schema\n",
    "Convert the database schema to PostgreSQL format using the yb-voyager export schema command.\n",
    "\n",
    "First, create an export directory"
   ]
  },
  {
   "cell_type": "code",
   "execution_count": null,
   "metadata": {
    "vscode": {
     "languageId": "shellscript"
    }
   },
   "outputs": [],
   "source": [
    "%%bash -s \"$MY_NOTEBOOK_VOYAGER_TMP\"\n",
    "\n",
    "NOTEBOOK_VOYAGER_TMP=${1}\n",
    "echo $NOTEBOOK_VOYAGER_TMP\n",
    "rm -rf $NOTEBOOK_VOYAGER_TMP/export-dir\n",
    "mkdir $NOTEBOOK_VOYAGER_TMP/export-dir"
   ]
  },
  {
   "cell_type": "markdown",
   "metadata": {},
   "source": [
    "Next, export the schema using the `yb-voyager` CLI."
   ]
  },
  {
   "cell_type": "code",
   "execution_count": null,
   "metadata": {
    "vscode": {
     "languageId": "shellscript"
    }
   },
   "outputs": [],
   "source": [
    "%%bash -s \"$MY_MYSQL_DB_NAME\"  \"$MY_MYSQL_PORT\" \"$MY_HOST_IPv4_01\"  \"$MY_NOTEBOOK_VOYAGER_TMP\"\n",
    "DB_NAME=${1}\n",
    "DB_PORT=${2}\n",
    "DB_HOST=${3}\n",
    "NOTEBOOK_VOYAGER_TMP=${4}\n",
    "\n",
    "yb-voyager export schema --start-clean -y --export-dir $NOTEBOOK_VOYAGER_TMP/export-dir \\\n",
    "        --source-db-type \"MYSQL\" \\\n",
    "        --source-db-host ${DB_HOST} \\\n",
    "        --source-db-port  ${DB_PORT} \\\n",
    "        --source-db-name  ${DB_NAME} \\\n",
    "        --source-db-user \"ybvoyager\" \\\n",
    "        --source-db-password \"Yugabyte#1\" \\ "
   ]
  },
  {
   "cell_type": "markdown",
   "metadata": {},
   "source": [
    "List folders and files:\n",
    "- `reports` contains the generated Schema Analysis Report.\n",
    "- `schema` contains the source database schema translated to PostgreSQL. The schema is partitioned into smaller files by the schema object type such as tables, views, and so on.\n",
    "- `data` contains `.TSV` (Tab Separated Values) files that are passed to the `COPY` command on the target database.\n",
    "- `metainfo` and `temp` are internal to by yb-voyager\n",
    "- `log/yb-voyager.log` contains log messages"
   ]
  },
  {
   "cell_type": "code",
   "execution_count": null,
   "metadata": {
    "vscode": {
     "languageId": "shellscript"
    }
   },
   "outputs": [],
   "source": [
    "%%bash -s \"$MY_NOTEBOOK_VOYAGER_TMP\"\n",
    "NOTEBOOK_VOYAGER_TMP=${1}\n",
    "\n",
    "ls $NOTEBOOK_VOYAGER_TMP/export-dir"
   ]
  },
  {
   "cell_type": "markdown",
   "metadata": {},
   "source": [
    "View the log."
   ]
  },
  {
   "cell_type": "code",
   "execution_count": null,
   "metadata": {
    "vscode": {
     "languageId": "shellscript"
    }
   },
   "outputs": [],
   "source": [
    "%%bash -s \"$MY_NOTEBOOK_VOYAGER_TMP\"\n",
    "NOTEBOOK_VOYAGER_TMP=${1}\n",
    "\n",
    "cat  $NOTEBOOK_VOYAGER_TMP/export-dir/logs/yb-voyager.log"
   ]
  },
  {
   "cell_type": "markdown",
   "metadata": {},
   "source": [
    " > Important!\n",
    " >\n",
    " > 👆 In the above output cell, select **Adjust cell output settings...**. \n",
    " >\n",
    " > In the **Settings** tab, in `Notebook > Output: Scrolling`, select the checkbox ✅.\n",
    " >\n",
    " > In `Notebook > Output: Text Line Limit`, enter `200`.\n",
    " >\n",
    " > To save, close the **Settings** tab.\n",
    " > \n",
    " > Well done! 🙌 "
   ]
  },
  {
   "cell_type": "markdown",
   "metadata": {},
   "source": [
    "## Analyze schema\n",
    "Generate a Schema Analysis Report using the yb-voyager analyze-schema command. The report suggests changes to the PostgreSQL schema to make it appropriate for YugabyteDB."
   ]
  },
  {
   "cell_type": "code",
   "execution_count": null,
   "metadata": {
    "vscode": {
     "languageId": "shellscript"
    }
   },
   "outputs": [],
   "source": [
    "%%bash -s \"$MY_NOTEBOOK_VOYAGER_TMP\"\n",
    "NOTEBOOK_VOYAGER_TMP=${1}\n",
    " \n",
    "# Replace the argument values with those applicable for your migration.\n",
    "# html, txt, json, or xml\n",
    "yb-voyager analyze-schema --export-dir $NOTEBOOK_VOYAGER_TMP/export-dir  --output-format txt\n",
    "\n",
    "ls  $NOTEBOOK_VOYAGER_TMP/export-dir"
   ]
  },
  {
   "cell_type": "markdown",
   "metadata": {},
   "source": [
    "View the entire analysis report. "
   ]
  },
  {
   "cell_type": "code",
   "execution_count": null,
   "metadata": {
    "vscode": {
     "languageId": "shellscript"
    }
   },
   "outputs": [],
   "source": [
    "%%bash -s \"$MY_NOTEBOOK_VOYAGER_TMP\"\n",
    "NOTEBOOK_VOYAGER_TMP=${1}\n",
    "\n",
    "cat  $NOTEBOOK_VOYAGER_TMP/export-dir/reports/report.txt"
   ]
  },
  {
   "cell_type": "markdown",
   "metadata": {},
   "source": [
    "The report details the following initial error:\n",
    "```\n",
    "Issues:\n",
    "\n",
    "Error in Object INDEX:\n",
    "-Object Name: address_location\n",
    "-Reason: Schema contains gist index which is not supported.\n",
    "-SQL Statement: CREATE INDEX address_location ON address USING gist(location);\n",
    "-File Path: /home/gitpod/export-dir/schema/tables/INDEXES_table.sql\n",
    "-Github Issue Link: https://github.com/YugaByte/yugabyte-db/issues/1337\n",
    "```"
   ]
  },
  {
   "cell_type": "markdown",
   "metadata": {},
   "source": [
    "View the `INDEXES_table.sql` file."
   ]
  },
  {
   "cell_type": "code",
   "execution_count": null,
   "metadata": {
    "vscode": {
     "languageId": "shellscript"
    }
   },
   "outputs": [],
   "source": [
    "%%bash -s \"$MY_NOTEBOOK_VOYAGER_TMP\"\n",
    "NOTEBOOK_VOYAGER_TMP=${1}\n",
    "\n",
    "cat  $NOTEBOOK_VOYAGER_TMP/export-dir/schema/tables/INDEXES_table.sql"
   ]
  },
  {
   "cell_type": "markdown",
   "metadata": {},
   "source": [
    "## Modify the exported schema\n",
    "Using the report recommendations, manually change the exported schema. \n",
    "\n",
    "In this case, since YugabyteDB does not currently support `GIST` indexes, it make sense to not create this index.  So the procedure here is to simply delete the `CREATE INDEX address_location` statement."
   ]
  },
  {
   "cell_type": "code",
   "execution_count": null,
   "metadata": {
    "vscode": {
     "languageId": "shellscript"
    }
   },
   "outputs": [],
   "source": [
    "%%bash -s \"$MY_NOTEBOOK_VOYAGER_TMP\"\n",
    "NOTEBOOK_VOYAGER_TMP=${1}\n",
    "\n",
    "sed -i '/gist/d'  $NOTEBOOK_VOYAGER_TMP/export-dir/schema/tables/INDEXES_table.sql"
   ]
  },
  {
   "cell_type": "markdown",
   "metadata": {},
   "source": [
    "Verify the deletion of the line."
   ]
  },
  {
   "cell_type": "code",
   "execution_count": null,
   "metadata": {
    "vscode": {
     "languageId": "shellscript"
    }
   },
   "outputs": [],
   "source": [
    "%%bash -s \"$MY_NOTEBOOK_VOYAGER_TMP\"\n",
    "NOTEBOOK_VOYAGER_TMP=${1}\n",
    "\n",
    "cat  $NOTEBOOK_VOYAGER_TMP/export-dir/schema/tables/INDEXES_table.sql"
   ]
  },
  {
   "cell_type": "markdown",
   "metadata": {},
   "source": [
    "## Re-run Analyze schema"
   ]
  },
  {
   "cell_type": "markdown",
   "metadata": {},
   "source": [
    "After making the manual changes, re-run the `yb-voyager analyze-schema` command and generate a new report. Rinse and repeat until the generated report contains no known issues."
   ]
  },
  {
   "cell_type": "code",
   "execution_count": null,
   "metadata": {
    "vscode": {
     "languageId": "shellscript"
    }
   },
   "outputs": [],
   "source": [
    "%%bash -s \"$MY_NOTEBOOK_VOYAGER_TMP\"\n",
    "NOTEBOOK_VOYAGER_TMP=${1}\n",
    " \n",
    "# Replace the argument values with those applicable for your migration.\n",
    "# html, txt, json, or xml\n",
    "yb-voyager analyze-schema --export-dir  $NOTEBOOK_VOYAGER_TMP/export-dir  --output-format txt\n",
    "\n",
    "cat  $NOTEBOOK_VOYAGER_TMP/export-dir/reports/report.txt"
   ]
  },
  {
   "cell_type": "markdown",
   "metadata": {},
   "source": [
    "No errors! Nicely done 🙌 \n",
    "\n",
    "But before moving on, it is important to a look at the primary key definitions. YugabyteDB is a distributed SQL database. YugabyteDB automatically shards data in a table into tablets. The primary key in YSQL defines the shard key, also known as a partition key. In fact a primary key can consist of a partition key and clustering key. A partition key can implement one of two sharding strategies: consistent hash sharding or range sharding. By default, this is consistent hash sharding. \n",
    "\n",
    "So, as a next step, review the `table.sql` file. In particular, review the table definitions for the primary key. "
   ]
  },
  {
   "cell_type": "code",
   "execution_count": null,
   "metadata": {
    "vscode": {
     "languageId": "shellscript"
    }
   },
   "outputs": [],
   "source": [
    "%%bash -s \"$MY_NOTEBOOK_VOYAGER_TMP\"\n",
    "NOTEBOOK_VOYAGER_TMP=${1}\n",
    " \n",
    "cat   $NOTEBOOK_VOYAGER_TMP/export-dir/schema/tables/table.sql\n"
   ]
  },
  {
   "cell_type": "markdown",
   "metadata": {},
   "source": [
    "One observation is to make is that the Primary Key columns in the schema export are of the type `serial`. This means that the source MYSQL database used auto-increment primary key of the type `int` or similar. YugabyteDB supports this using the `SERIAL` datatype.\n",
    "\n",
    "In YugabyteDB, a `SERIAL` type is a sequence. Sequence are cached on the YB-TServer. There are numerous strategies to help with sequence caching that can be managed post migration."
   ]
  },
  {
   "cell_type": "code",
   "execution_count": null,
   "metadata": {
    "vscode": {
     "languageId": "shellscript"
    }
   },
   "outputs": [],
   "source": [
    "%%bash -s \"$MY_NOTEBOOK_VOYAGER_TMP\"\n",
    "NOTEBOOK_VOYAGER_TMP=${1}\n",
    " \n",
    "cat  $NOTEBOOK_VOYAGER_TMP/export-dir/schema/tables/table.sql | grep 'PRIMARY KEY'\n",
    "cat  $NOTEBOOK_VOYAGER_TMP/export-dir/schema/tables/table.sql | grep -B 1 'serial'"
   ]
  },
  {
   "cell_type": "markdown",
   "metadata": {},
   "source": [
    "\n",
    "#### Sequence migration considerations\n",
    "\n",
    "Sequence migration consists of two steps: sequence creation and setting resume value (resume value refers to the `NEXTVAL`` of a sequence on a source database). A sequence object is generated during export schema and the resume values for sequences are generated during export data. These resume values are then set on the target database just after the data is imported for all tables.\n",
    "\n",
    "> Note:\n",
    "> \n",
    "> There are some special cases involving sequences such as the following:\n",
    ">\n",
    "> - For MySQL, the auto-increment column migrates to YugbayteDB as a normal column backed by a sequence\n"
   ]
  },
  {
   "cell_type": "markdown",
   "metadata": {},
   "source": [
    "---\n",
    "## Export data\n",
    "Dump the source database to the target machine (where yb-voyager is installed), using the yb-voyager export data command.\n",
    "\n",
    "> Note:\n",
    "> \n",
    "> Not applicable for MySQL is the `source-db-schema` argument\n",
    ">\n",
    "> The `-y` argument says yes to all prompts.\n",
    ">\n",
    "> BETA_FAST_DATA_EXPORT=1\n",
    "> "
   ]
  },
  {
   "cell_type": "code",
   "execution_count": null,
   "metadata": {
    "vscode": {
     "languageId": "shellscript"
    }
   },
   "outputs": [],
   "source": [
    "%%bash\n",
    "\n",
    "yb-voyager export data --help"
   ]
  },
  {
   "cell_type": "markdown",
   "metadata": {},
   "source": [
    "Run the export data command."
   ]
  },
  {
   "cell_type": "code",
   "execution_count": null,
   "metadata": {
    "vscode": {
     "languageId": "shellscript"
    }
   },
   "outputs": [],
   "source": [
    "%%bash -s \"$MY_MYSQL_DB_NAME\"  \"$MY_MYSQL_PORT\" \"$MY_HOST_IPv4_01\" \"$MY_NOTEBOOK_VOYAGER_TMP\"\n",
    "DB_NAME=${1}\n",
    "DB_PORT=${2}\n",
    "DB_HOST=${3}\n",
    "NOTEBOOK_VOYAGER_TMP=${4}\n",
    "\n",
    "yb-voyager export data -y --start-clean --disable-pb --send-diagnostics false \\\n",
    "  --export-dir $NOTEBOOK_VOYAGER_TMP/export-dir \\\n",
    "  --source-db-type \"MYSQL\" \\\n",
    "  --source-db-host ${DB_HOST} \\\n",
    "  --source-db-port  ${DB_PORT} \\\n",
    "  --source-db-name  ${DB_NAME} \\\n",
    "  --source-db-user \"ybvoyager\" \\\n",
    "  --source-db-password \"Yugabyte#1\" > /dev/null\n",
    "  \n",
    "       "
   ]
  },
  {
   "cell_type": "markdown",
   "metadata": {},
   "source": [
    "> Problems?\n",
    "> \n",
    "> In case there are issues with the above and you need to kill the process, you can uncomment and run the following:"
   ]
  },
  {
   "cell_type": "code",
   "execution_count": null,
   "metadata": {
    "vscode": {
     "languageId": "shellscript"
    }
   },
   "outputs": [],
   "source": [
    "%%bash \n",
    "# ps -eaf | grep yb-voyager | grep -v grep | awk '{ print $2 }' | xargs kill -9\n",
    "# ps -aux | grep 'yb-voyager'"
   ]
  },
  {
   "cell_type": "markdown",
   "metadata": {},
   "source": [
    "https://docs.yugabyte.com/preview/yugabyte-voyager/reference/datatype-mapping-mysql/"
   ]
  },
  {
   "cell_type": "markdown",
   "metadata": {},
   "source": [
    "Review the Voyager log file for the export."
   ]
  },
  {
   "cell_type": "code",
   "execution_count": null,
   "metadata": {
    "vscode": {
     "languageId": "shellscript"
    }
   },
   "outputs": [],
   "source": [
    "%%bash -s \"$MY_NOTEBOOK_VOYAGER_TMP\"\n",
    "NOTEBOOK_VOYAGER_TMP=${1}\n",
    " \n",
    "tail -n 200 $NOTEBOOK_VOYAGER_TMP/export-dir/logs/yb-voyager.log\n"
   ]
  },
  {
   "cell_type": "markdown",
   "metadata": {},
   "source": [
    "Anything interesting in the above output?"
   ]
  },
  {
   "cell_type": "markdown",
   "metadata": {},
   "source": [
    "## Prepare the target database in YugabyteDB"
   ]
  },
  {
   "cell_type": "markdown",
   "metadata": {},
   "source": [
    "Create the target database in your YugabyteDB cluster. The database name can be the same or different from the source database name. If the target database name is not provided, yb-voyager assumes the target database name to be yugabyte. If you do not want to import in the default yugabyte database, specify the name of the target database name using the --target-db-name argument to the yb-voyager import commands.\n",
    "\n",
    "```\n",
    "CREATE DATABASE target_db_name;\n",
    "``````\n",
    "\n",
    "### Create a user with SUPERUSER role.\n",
    "\n",
    "For a local YugabyteDB cluster or YugabyteDB Anywhere, create a user and role with the superuser privileges using the following command:\n",
    "\n",
    "```\n",
    "CREATE USER ybvoyager SUPERUSER PASSWORD 'password';\n",
    "```\n",
    "\n",
    "For YugabyteDB Managed, create a user with yb_superuser role using the following command:\n",
    "\n",
    "```\n",
    "CREATE USER ybvoyager PASSWORD 'password';\n",
    "GRANT yb_superuser TO ybvoyager;\n",
    "```"
   ]
  },
  {
   "cell_type": "code",
   "execution_count": null,
   "metadata": {
    "vscode": {
     "languageId": "shellscript"
    }
   },
   "outputs": [],
   "source": [
    "%%bash -s \"$MY_YB_PATH\" \"$MY_DB_NAME\"  # create database\n",
    "YB_PATH=${1}\n",
    "DB_NAME=${2}\n",
    "\n",
    "cd $YB_PATH\n",
    "\n",
    "# select version\n",
    "\n",
    "./bin/ysqlsh -d yugabyte -c \"drop database if exists ${DB_NAME};\"  \n",
    "./bin/ysqlsh -d yugabyte -c \"create database ${DB_NAME};\"  \n",
    "./bin/ysqlsh -d yugabyte -c \"drop user if exists ybvoyager;\"  \n",
    "./bin/ysqlsh -d yugabyte -c \"create user ybvoyager SUPERUSER PASSWORD 'password';\"  \n",
    "\n",
    "./bin/ysqlsh -d yugabyte -c \"\\l\"  "
   ]
  },
  {
   "cell_type": "markdown",
   "metadata": {},
   "source": [
    "## Import schema\n",
    " `yb-voyager` imports the source database into the `public` schema of the target database. This is applicable only for MySQL and Oracle databases. \n",
    " \n",
    " By specifying `--target-db-schema` argument during import, you can instruct `yb-voyager` to create a non-public schema and use it for the import.\n",
    "\n",
    "Import the modified schema to the target YugabyteDB database using the yb-voyager import schema command."
   ]
  },
  {
   "cell_type": "code",
   "execution_count": null,
   "metadata": {
    "vscode": {
     "languageId": "shellscript"
    }
   },
   "outputs": [],
   "source": [
    "%%bash -s \"$MY_DB_NAME\"  \"$MY_DB_PORT\" \"$MY_HOST_IPv4_01\"\n",
    "DB_NAME=${1}\n",
    "DB_PORT=${2}\n",
    "DB_HOST=${3}\n",
    "\n",
    "yb-voyager import schema --help\n",
    "  "
   ]
  },
  {
   "cell_type": "code",
   "execution_count": null,
   "metadata": {
    "vscode": {
     "languageId": "shellscript"
    }
   },
   "outputs": [],
   "source": [
    "%%bash -s \"$MY_DB_NAME\"  \"$MY_DB_PORT\" \"$MY_HOST_IPv4_01\" \"$MY_NOTEBOOK_VOYAGER_TMP\"\n",
    "DB_NAME=${1}\n",
    "DB_PORT=${2}\n",
    "DB_HOST=${3}\n",
    "NOTEBOOK_VOYAGER_TMP=${4}\n",
    "\n",
    "yb-voyager import schema  --start-clean -y    \\\n",
    "  --export-dir $NOTEBOOK_VOYAGER_TMP/export-dir \\\n",
    "  --target-db-host ${DB_HOST} \\\n",
    "  --target-db-port  ${DB_PORT} \\\n",
    "  --target-db-name  ${DB_NAME} \\\n",
    "  --target-db-user \"ybvoyager\" \\\n",
    "  --target-db-password \"Password\" \\\n",
    "  --target-db-schema \"sakila\" > /dev/null\n",
    "  \n",
    "  "
   ]
  },
  {
   "cell_type": "markdown",
   "metadata": {},
   "source": [
    "Oh no! Errors!\n",
    "\n",
    "Grep the log files to get a better understanding of the related errors."
   ]
  },
  {
   "cell_type": "code",
   "execution_count": null,
   "metadata": {
    "vscode": {
     "languageId": "shellscript"
    }
   },
   "outputs": [],
   "source": [
    "%%bash -s \"$MY_NOTEBOOK_VOYAGER_TMP\"\n",
    "NOTEBOOK_VOYAGER_TMP=${1}\n",
    " \n",
    "tail -n 2000 $NOTEBOOK_VOYAGER_TMP/export-dir/logs/yb-voyager.log | grep 'SQLSTATE'"
   ]
  },
  {
   "cell_type": "markdown",
   "metadata": {},
   "source": [
    "#### Fix errors in DDL related files"
   ]
  },
  {
   "cell_type": "markdown",
   "metadata": {},
   "source": [
    "`: ERROR: type \"geometry\" does not exist (SQLSTATE 42704)`\n",
    "```\n",
    "2023-09-08 17:52:40 ERROR importData.go:942 DDL Execution Failed for \"CREATE TABLE address (\\n\\taddress_id serial,\\n\\taddress varchar(50) NOT NULL,\\n\\taddress2 varchar(50),\\n\\tdistrict varchar(20) NOT NULL,\\n\\tcity_id integer NOT NULL,\\n\\tpostal_code varchar(10),\\n\\tphone varchar(20) NOT NULL,\\n\\tlocation GEOMETRY NOT NULL,\\n\\tlast_update timestamp NOT NULL DEFAULT CURRENT_TIMESTAMP,\\n\\tPRIMARY KEY (address_id)\\n) ;\": ERROR: type \"geometry\" does not exist (SQLSTATE 42704)\n",
    "```"
   ]
  },
  {
   "cell_type": "markdown",
   "metadata": {},
   "source": [
    "View the table definition from the source database as well as row."
   ]
  },
  {
   "cell_type": "code",
   "execution_count": null,
   "metadata": {
    "vscode": {
     "languageId": "shellscript"
    }
   },
   "outputs": [],
   "source": [
    "%%bash -s \"$MY_MYSQL_DB_NAME\"  # create database\n",
    "DB_NAME=${1}\n",
    "\n",
    "mysql -h 0 -u root ${DB_NAME} -e \"SHOW CREATE TABLE address; \"  \n",
    "mysql -h 0 -u root ${DB_NAME} -e \"select location from address where location is not null limit 1; \"  \n",
    "\n",
    "https://dev.mysql.com/doc/refman/8.0/en/gis-data-formats.html"
   ]
  },
  {
   "cell_type": "markdown",
   "metadata": {},
   "source": [
    "The GEOMETRY datatype for  MYSQL 8.0+ an be in several formats:\n",
    "- Well-Known Text (WKT) Format\n",
    "- Well-Known Binary (WKB) Format\n",
    "- Internal Geometry Storage Format"
   ]
  },
  {
   "cell_type": "markdown",
   "metadata": {},
   "source": [
    "Modify the table to use a different datatype i the export schema file, `table.sql`, in this case a binary data type, `BYTEA`, which is variable length binary string. \n",
    "\n",
    "> Learn more\n",
    "> \n",
    "> For more details, visit:\n",
    "> [https://docs.yugabyte.com/preview/api/ysql/datatypes/type_binary/](https://docs.yugabyte.com/preview/api/ysql/datatypes/type_binary/)"
   ]
  },
  {
   "cell_type": "code",
   "execution_count": null,
   "metadata": {
    "vscode": {
     "languageId": "shellscript"
    }
   },
   "outputs": [],
   "source": [
    "%%bash -s \"$MY_NOTEBOOK_VOYAGER_TMP\"\n",
    "NOTEBOOK_VOYAGER_TMP=${1}\n",
    "\n",
    "SEARCH=\"GEOMETRY\"\n",
    "REPLACE=\"BYTEA\"\n",
    "FILE_PATH=$NOTEBOOK_VOYAGER_TMP/export-dir/schema/tables/table.sql\n",
    "\n",
    "sed -i \"s/$SEARCH/$REPLACE/\" $FILE_PATH"
   ]
  },
  {
   "cell_type": "markdown",
   "metadata": {},
   "source": [
    "Confirm the change to the file."
   ]
  },
  {
   "cell_type": "code",
   "execution_count": null,
   "metadata": {
    "vscode": {
     "languageId": "shellscript"
    }
   },
   "outputs": [],
   "source": [
    "%%bash -s \"$MY_NOTEBOOK_VOYAGER_TMP\"\n",
    "NOTEBOOK_VOYAGER_TMP=${1}\n",
    "\n",
    "FILE_PATH=$NOTEBOOK_VOYAGER_TMP/export-dir/schema/tables/table.sql\n",
    "\n",
    "cat $FILE_PATH  | grep -B 10 'BYTEA'"
   ]
  },
  {
   "cell_type": "markdown",
   "metadata": {},
   "source": [
    "#### Resolve the remaining errors."
   ]
  },
  {
   "cell_type": "code",
   "execution_count": null,
   "metadata": {
    "vscode": {
     "languageId": "shellscript"
    }
   },
   "outputs": [],
   "source": [
    "%%bash -s \"$MY_NOTEBOOK_VOYAGER_TMP\"\n",
    "NOTEBOOK_VOYAGER_TMP=${1}\n",
    " \n",
    "tail -n 2000 $NOTEBOOK_VOYAGER_TMP/export-dir/logs/yb-voyager.log | grep 'SQLSTATE'"
   ]
  },
  {
   "cell_type": "markdown",
   "metadata": {},
   "source": [
    "```\n",
    "DDL Execution Failed for \"CREATE OR REPLACE VIEW customer_list AS select cu.customer_id AS ID,concat(cu.first_name,' ',cu.last_name) AS name,a.address AS address,a.postal_code AS zip code,a.phone AS phone,city.city AS city,country.country AS country,CASE WHEN cu.active THEN 'active' ELSE '' END  AS notes,cu.store_id AS SID FROM (((customer cu join address a on (cu.address_id = a.address_id)) join city on (a.city_id = city.city_id)) join country on (city.country_id = country.country_id));\": ERROR: syntax error at or near \"code\" (SQLSTATE 42601)\n",
    "```\n"
   ]
  },
  {
   "cell_type": "markdown",
   "metadata": {},
   "source": [
    "The conversion portion is:"
   ]
  },
  {
   "cell_type": "code",
   "execution_count": null,
   "metadata": {
    "vscode": {
     "languageId": "shellscript"
    }
   },
   "outputs": [],
   "source": [
    "%%bash -s \"$MY_NOTEBOOK_VOYAGER_TMP\"\n",
    "NOTEBOOK_VOYAGER_TMP=${1}\n",
    "\n",
    "SEARCH=\"zip code\"\n",
    "REPLACE=\"zip_code\"\n",
    "FILE_PATH=$NOTEBOOK_VOYAGER_TMP/export-dir/schema/views/view.sql\n",
    "\n",
    "sed -i \"s/$SEARCH/$REPLACE/\" $FILE_PATH"
   ]
  },
  {
   "cell_type": "markdown",
   "metadata": {},
   "source": [
    "Verify the change."
   ]
  },
  {
   "cell_type": "code",
   "execution_count": null,
   "metadata": {
    "vscode": {
     "languageId": "shellscript"
    }
   },
   "outputs": [],
   "source": [
    "%%bash -s \"$MY_NOTEBOOK_VOYAGER_TMP\"\n",
    "NOTEBOOK_VOYAGER_TMP=${1}\n",
    "\n",
    "FILE_PATH=$NOTEBOOK_VOYAGER_TMP/export-dir/schema/views/view.sql\n",
    "\n",
    "cat $FILE_PATH  | grep 'zip_code'"
   ]
  },
  {
   "cell_type": "code",
   "execution_count": null,
   "metadata": {
    "vscode": {
     "languageId": "shellscript"
    }
   },
   "outputs": [],
   "source": [
    "%%bash -s \"$MY_MYSQL_DB_NAME\"  # create database\n",
    "DB_NAME=${1}\n",
    "\n",
    "mysql -h 0 -u root ${DB_NAME} -e \"DROP VIEW actor_info; \"  \n"
   ]
  },
  {
   "cell_type": "markdown",
   "metadata": {},
   "source": [
    "Import the schema again."
   ]
  },
  {
   "cell_type": "code",
   "execution_count": null,
   "metadata": {
    "vscode": {
     "languageId": "shellscript"
    }
   },
   "outputs": [],
   "source": [
    "\n",
    "%%bash -s \"$MY_DB_NAME\"  \"$MY_DB_PORT\" \"$MY_HOST_IPv4_01\" \"$MY_NOTEBOOK_VOYAGER_TMP\"\n",
    "DB_NAME=${1}\n",
    "DB_PORT=${2}\n",
    "DB_HOST=${3}\n",
    "NOTEBOOK_VOYAGER_TMP=${4}\n",
    "\n",
    "yb-voyager import schema  --start-clean  -y  \\\n",
    "  --export-dir $NOTEBOOK_VOYAGER_TMP/export-dir \\\n",
    "  --target-db-host ${DB_HOST} \\\n",
    "  --target-db-port  ${DB_PORT} \\\n",
    "  --target-db-name  ${DB_NAME} \\\n",
    "  --target-db-user \"ybvoyager\" \\\n",
    "  --target-db-password \"Password\" \\\n",
    "  --target-db-schema \"sakila\" > /dev/null\n",
    "  \n",
    "  \n",
    "       "
   ]
  },
  {
   "cell_type": "markdown",
   "metadata": {},
   "source": [
    "Another error!\n",
    "\n",
    " ```ERROR: argument of CASE/WHEN must be type boolean, not type smallint (SQLSTATE 42804)"
   ]
  },
  {
   "cell_type": "code",
   "execution_count": null,
   "metadata": {
    "vscode": {
     "languageId": "shellscript"
    }
   },
   "outputs": [],
   "source": [
    "%%bash -s \"$MY_NOTEBOOK_VOYAGER_TMP\"\n",
    "NOTEBOOK_VOYAGER_TMP=${1}\n",
    " \n",
    "tail -n 2000 $NOTEBOOK_VOYAGER_TMP/export-dir/logs/yb-voyager.log | grep 'SQLSTATE'"
   ]
  },
  {
   "cell_type": "markdown",
   "metadata": {},
   "source": [
    "```\n",
    "CREATE OR REPLACE VIEW customer_list AS select cu.customer_id AS ID,concat(cu.first_name,' ',cu.last_name) AS name,a.address AS address,a.postal_code AS zip_code,a.phone AS phone,city.city AS city,country.country AS country,CASE WHEN cu.active THEN 'active' ELSE '' END  AS notes,cu.store_id AS SID FROM (((customer cu join address a on (cu.address_id = a.address_id)) join city on (a.city_id = city.city_id)) join country on (city.country_id = country.country_id));\": ERROR: argument of CASE/WHEN must be type boolean, not type smallint (SQLSTATE 42804)\n",
    "2023-09-08 23:24:24 ERROR logging.go:29 error: ERROR: argument of CASE/WHEN must be type boolean, not type smallint (SQLSTATE 42804)\n",
    "```"
   ]
  },
  {
   "cell_type": "code",
   "execution_count": null,
   "metadata": {
    "vscode": {
     "languageId": "shellscript"
    }
   },
   "outputs": [],
   "source": [
    "%%bash -s \"$MY_NOTEBOOK_VOYAGER_TMP\"\n",
    "NOTEBOOK_VOYAGER_TMP=${1}\n",
    "\n",
    "FILE_PATH=$NOTEBOOK_VOYAGER_TMP/export-dir/schema/tables/table.sql\n",
    "\n",
    "cat $FILE_PATH  | grep -A 11 'CREATE TABLE customer'"
   ]
  },
  {
   "cell_type": "markdown",
   "metadata": {},
   "source": [
    "Update the table.sql file."
   ]
  },
  {
   "cell_type": "code",
   "execution_count": null,
   "metadata": {
    "vscode": {
     "languageId": "shellscript"
    }
   },
   "outputs": [],
   "source": [
    "%%bash -s \"$MY_NOTEBOOK_VOYAGER_TMP\"\n",
    "NOTEBOOK_VOYAGER_TMP=${1}\n",
    "\n",
    "SEARCH=\"active smallint NOT NULL DEFAULT 1\"\n",
    "REPLACE=\"active boolean NOT NULL DEFAULT TRUE\"\n",
    "FILE_PATH=$NOTEBOOK_VOYAGER_TMP/export-dir/schema/tables/table.sql\n",
    "\n",
    "sed -i \"s/$SEARCH/$REPLACE/\" $FILE_PATH\n"
   ]
  },
  {
   "cell_type": "markdown",
   "metadata": {},
   "source": [
    "verify the changes"
   ]
  },
  {
   "cell_type": "code",
   "execution_count": null,
   "metadata": {
    "vscode": {
     "languageId": "shellscript"
    }
   },
   "outputs": [],
   "source": [
    "%%bash -s \"$MY_NOTEBOOK_VOYAGER_TMP\"\n",
    "NOTEBOOK_VOYAGER_TMP=${1}\n",
    "\n",
    "FILE_PATH=$NOTEBOOK_VOYAGER_TMP/export-dir/schema/tables/table.sql\n",
    "\n",
    "cat $FILE_PATH  | grep -A 11 'CREATE TABLE customer'"
   ]
  },
  {
   "cell_type": "markdown",
   "metadata": {},
   "source": [
    "TODO: Rerun"
   ]
  },
  {
   "cell_type": "code",
   "execution_count": null,
   "metadata": {
    "vscode": {
     "languageId": "shellscript"
    }
   },
   "outputs": [],
   "source": [
    "Another error\n",
    "`2023-09-08 23:38:08 ERROR importData.go:942 DDL Execution Failed for \"CREATE OR REPLACE VIEW sales_by_store AS select concat(c.city,',',cy.country) AS store,concat(m.first_name,' ',m.last_name) AS manager,sum(p.amount) AS total_sales FROM (((((((payment p join rental r on (p.rental_id = r.rental_id)) join inventory i on (r.inventory_id = i.inventory_id)) join store s on (i.store_id = s.store_id)) join address a on (s.address_id = a.address_id)) join city c on (a.city_id = c.city_id)) join country cy on (c.country_id = cy.country_id)) join staff m on (s.manager_staff_id = m.staff_id)) group by s.store_id order by cy.country,c.city;\": ERROR: column \"c.city\" must appear in the GROUP BY clause or be used in an aggregate function (SQLSTATE 42803)\n",
    "2023-09-08 23:38:08 ERROR logging.go:29 error: ERROR: column \"c.city\" must appear in the GROUP BY clause or be used in an aggregate function (SQLSTATE 42803)`"
   ]
  },
  {
   "cell_type": "markdown",
   "metadata": {},
   "source": [
    "PostgreSQL, like most sensible DBMSs, does \"group by\" properly, insisting that everything that you select must be either \"grouped by\" or be aggregated through a function, like sum()."
   ]
  },
  {
   "cell_type": "code",
   "execution_count": null,
   "metadata": {
    "vscode": {
     "languageId": "sql"
    }
   },
   "outputs": [],
   "source": [
    "CREATE OR REPLACE VIEW sales_by_store AS \n",
    "select \n",
    "    s.store_id \n",
    "    concat(c.city,',',cy.country) AS store,\n",
    "    concat(m.first_name,' ',m.last_name) AS manager,\n",
    "    sum(p.amount) AS total_sales \n",
    "FROM (((((((payment p join rental r on (p.rental_id = r.rental_id)) join inventory i on (r.inventory_id = i.inventory_id)) join store s on (i.store_id = s.store_id)) join address a on (s.address_id = a.address_id)) join city c on (a.city_id = c.city_id)) join country cy on (c.country_id = cy.country_id)) join staff m on (s.manager_staff_id = m.staff_id))\n",
    " group by s.store_id , store, manager\n",
    " order by cy.country,c.city;"
   ]
  },
  {
   "cell_type": "markdown",
   "metadata": {},
   "source": [
    "## Import data\n",
    "Import the data to the target YugabyteDB database using the yb-voyager import data command."
   ]
  },
  {
   "cell_type": "code",
   "execution_count": null,
   "metadata": {
    "vscode": {
     "languageId": "shellscript"
    }
   },
   "outputs": [],
   "source": [
    "%%bash -s \"$MY_DB_NAME\"  \"$MY_DB_PORT\" \"$MY_HOST_IPv4_01\" \"$MY_NOTEBOOK_VOYAGER_TMP\"\n",
    "DB_NAME=${1}\n",
    "DB_PORT=${2}\n",
    "DB_HOST=${3}\n",
    "NOTEBOOK_VOYAGER_TMP=${4}\n",
    "\n",
    "yb-voyager import data  \\\n",
    "  --export-dir $NOTEBOOK_VOYAGER_TMP/export-dir \\\n",
    "  --target-db-host ${DB_HOST} \\\n",
    "  --target-db-port  ${DB_PORT} \\\n",
    "  --target-db-name  ${DB_NAME} \\\n",
    "  --target-db-user \"ybvoyager\" \\\n",
    "  --target-db-password \"Password\" \\\n",
    "  --target-db-schema \"sakila\" > /dev/null"
   ]
  },
  {
   "cell_type": "code",
   "execution_count": null,
   "metadata": {
    "vscode": {
     "languageId": "shellscript"
    }
   },
   "outputs": [],
   "source": [
    "%%bash -s \"$MY_MYSQL_DB_NAME\"  \"$MY_MYSQL_PORT\" \"$MY_HOST_IPv4_01\" \"$MY_NOTEBOOK_VOYAGER_TMP\"\n",
    "DB_NAME=${1}\n",
    "DB_PORT=${2}\n",
    "DB_HOST=${3}\n",
    "NOTEBOOK_VOYAGER_TMP=${4}\n",
    "\n",
    "yb-voyager import data status --export-dir $NOTEBOOK_VOYAGER_TMP/export-dir \n"
   ]
  },
  {
   "cell_type": "markdown",
   "metadata": {},
   "source": [
    "TODO?:\n",
    "\n",
    "Import from CSV, S3, and other \n",
    "https://docs.yugabyte.com/preview/yugabyte-voyager/migrate-steps/#import-data-file"
   ]
  },
  {
   "cell_type": "markdown",
   "metadata": {},
   "source": [
    "## Import indexes and triggers\n",
    "\n",
    "Import indexes and triggers to the target YugabyteDB database using the yb-voyager import schema command with an additional `--post-import-data` flag."
   ]
  },
  {
   "cell_type": "code",
   "execution_count": null,
   "metadata": {
    "vscode": {
     "languageId": "shellscript"
    }
   },
   "outputs": [],
   "source": [
    "%%bash -s \"$MY_MYSQL_DB_NAME\"  \"$MY_MYSQL_PORT\" \"$MY_HOST_IPv4_01\" \"$MY_NOTEBOOK_VOYAGER_TMP\"\n",
    "DB_NAME=${1}\n",
    "DB_PORT=${2}\n",
    "DB_HOST=${3}\n",
    "NOTEBOOK_VOYAGER_TMP=${4}\n",
    "\n",
    "yb-voyager import data  \\\n",
    "  --export-dir $NOTEBOOK_VOYAGER_TMP/export-dir \\\n",
    "  --target-db-host ${DB_HOST} \\\n",
    "  --target-db-port  ${DB_PORT} \\\n",
    "  --target-db-name  ${DB_NAME} \\\n",
    "  --target-db-user \"ybvoyager\" \\\n",
    "  --target-db-schema \"sakila\" \\\n",
    "  --post-import-data"
   ]
  },
  {
   "attachments": {},
   "cell_type": "markdown",
   "metadata": {
    "deletable": false,
    "editable": false
   },
   "source": [
    "## Verify migration\n",
    "After the schema and data import is complete, the automated part of the database migration process is considered complete. You should manually run validation queries on both the source and target database to ensure that the data is correctly migrated. A sample query to validate the databases can include checking the row count of each table."
   ]
  },
  {
   "attachments": {},
   "cell_type": "markdown",
   "metadata": {
    "deletable": false,
    "editable": false
   },
   "source": [
    "## Connect to YugabyteDB using the PostgreSQL Driver for Python"
   ]
  },
  {
   "cell_type": "code",
   "execution_count": null,
   "metadata": {
    "deletable": false,
    "editable": false
   },
   "outputs": [],
   "source": [
    "# Connect to db_ybu\n",
    "# Inspiration from https://medium.com/analytics-vidhya/postgresql-integration-with-jupyter-notebook-deb97579a38d\n",
    "import psycopg2\n",
    "import sqlalchemy as alc\n",
    "from sqlalchemy import create_engine\n",
    "\n",
    "# env_var.env\n",
    "db_host=MY_HOST_IPv4_01\n",
    "db_name=MY_DB_NAME\n",
    "\n",
    "connection_str='postgresql://yugabyte@'+db_host+':5433/'+db_name\n",
    "print(connection_str)\n",
    "engine = create_engine(connection_str)"
   ]
  },
  {
   "attachments": {},
   "cell_type": "markdown",
   "metadata": {
    "deletable": false,
    "editable": false
   },
   "source": [
    "#### Load SQL magic extension\n",
    ">IMPORTANT!\n",
    ">\n",
    "> To use SQL magic, you must run the following cell that loads the notebook extension."
   ]
  },
  {
   "cell_type": "code",
   "execution_count": null,
   "metadata": {},
   "outputs": [],
   "source": [
    "%reload_ext sql\n",
    "# creates connection for sql magic\n",
    "%sql {connection_str}"
   ]
  },
  {
   "attachments": {},
   "cell_type": "markdown",
   "metadata": {
    "deletable": false,
    "editable": false
   },
   "source": [
    "### Cleanup the migration user"
   ]
  },
  {
   "cell_type": "code",
   "execution_count": null,
   "metadata": {
    "vscode": {
     "languageId": "sql"
    }
   },
   "outputs": [],
   "source": [
    "%%sql \n",
    "\n",
    "REASSIGN OWNED BY ybvoyager TO yugabyte;\n",
    "DROP OWNED BY ybvoyager;\n",
    "DROP USER ybvoyager;"
   ]
  },
  {
   "attachments": {},
   "cell_type": "markdown",
   "metadata": {},
   "source": [
    "---\n",
    "Delete the /tmp directory"
   ]
  },
  {
   "cell_type": "code",
   "execution_count": null,
   "metadata": {
    "vscode": {
     "languageId": "shellscript"
    }
   },
   "outputs": [],
   "source": [
    "%%bash -s \"$MY_NOTEBOOK_VOYAGER_TMP\"\n",
    "NOTEBOOK_VOYAGER_TMP=${1}\n",
    "\n",
    "rm -rf $NOTEBOOK_VOYAGER_TMP/export-dir"
   ]
  },
  {
   "attachments": {},
   "cell_type": "markdown",
   "metadata": {
    "deletable": false,
    "editable": false
   },
   "source": [
    "---\n",
    "# 🌟 Well done! \n",
    "In this notebook, you completed the following:\n",
    "- Setup steps\n",
    "- Connect to YugabyteDB using ysqlsh\n",
    "  - Created the `db_ybu` database with `ysqlsh`\n",
    "  - Created utils\n",
    "  - Created tables and loaded data using DDL and DML scripts\n",
    "  - Connected to the database using a PostgreSQL driver for Python\n",
    "  - Executed queries with SQL Magic\n",
    "\n",
    "\n",
    "## 😊 Next up!\n",
    "Continue your learning by opening the next notebook, `02_Demystifying_table_sharding_tablets_and_data_distribution`. \n",
    "\n",
    "Or, if using GitPod, run the following cell:"
   ]
  },
  {
   "cell_type": "code",
   "execution_count": null,
   "metadata": {
    "vscode": {
     "languageId": "shellscript"
    }
   },
   "outputs": [],
   "source": [
    "%%bash\n",
    "gp open '02_Demystifying_table_sharding_tablets_and_data_distribution'"
   ]
  }
 ],
 "metadata": {
  "kernelspec": {
   "display_name": "Python 3.7.9 64-bit",
   "language": "python",
   "name": "python3"
  },
  "language_info": {
   "codemirror_mode": {
    "name": "ipython",
    "version": 3
   },
   "file_extension": ".py",
   "mimetype": "text/x-python",
   "name": "python",
   "nbconvert_exporter": "python",
   "pygments_lexer": "ipython3",
   "version": "3.11.2"
  },
  "orig_nbformat": 4,
  "vscode": {
   "interpreter": {
    "hash": "aee8b7b246df8f9039afb4144a1f6fd8d2ca17a180786b69acc140d282b71a49"
   }
  }
 },
 "nbformat": 4,
 "nbformat_minor": 2
}
