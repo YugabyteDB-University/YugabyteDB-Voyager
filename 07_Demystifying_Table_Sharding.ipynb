{
 "cells": [
  {
   "attachments": {},
   "cell_type": "markdown",
   "metadata": {},
   "source": [
    "<div style=\"width:100%; background-color: #000041\"><a target=\"_blank\" href=\"http://university.yugabyte.com\"><img src=\"assets/YBU_Logo.png\" /></a></div>\n",
    "\n",
    "> **YugabyteDB YSQL Development**\n",
    ">\n",
    "> Enroll for free at [Yugabyte University](https://university.yugabyte.com/).\n",
    ">"
   ]
  },
  {
   "attachments": {},
   "cell_type": "markdown",
   "metadata": {},
   "source": [
    "# Demystifying table sharding, tablets, and data distribution\n",
    "As a distributed SQL database, YugabyteDB stores data differently than a stand-alone, monolithic  database. Because data is stored differently, YugabyteDB reads and writes data differently as well.\n",
    "\n",
    "Like a monolithic relational databases, YugabyteDB stores data in tables. However, in YugabyteDB, a distributed database, a table consists of tablets. \n",
    "\n",
    "A tablet represents a table shard which contains a set of rows for the logical table. Tablets for a table often exists in a peer group of leader and followers. This group of tablet peers exists as a Raft consensus group. Each tablet is a customized RocksDB instance. RocksDB is a persistent key-value database. This architecture of a table existing as tablet peers in a Raft consensus group where each tablet is a customized RocksDB key-value database is called DocDB, Yugabyte's distributed document store.\n",
    "\n",
    "In this notebook, using Explain Plans, built-in functions, and custom utilities for YB-TServer metrics, you will learn:\n",
    "- how YugabyteDB stores data for a table in one or more tablets using either hash consistent sharding or range sharding\n",
    "- how YugabyteDB reads tablet data during query execution\n",
    "- how data persist to disk as SST files\n",
    "- the internals of SST files as both DocKey and SubDocKey"
   ]
  },
  {
   "attachments": {},
   "cell_type": "markdown",
   "metadata": {},
   "source": [
    "## 🛠️ Requirements\n",
    "Here are the requirements for this notebook:\n",
    "- ✅ Create the notebook variables in `01_Lab_Setup.ipynb`, which you previously did\n",
    "- ✅ Create the `ds_ybu` database, which you previously did\n",
    "- ☑️ Import the notebook variables, *which you must do next*\n",
    "- ☑️ Connect to the `ds_ybu` database, *which you must do next*\n",
    "- ☑️ Complete the following sections\n",
    "  -  Hash Sharding\n",
    "  -  Range Sharding\n",
    "  -  Comparing hash and range sharding\n",
    "  -  Summary\n",
    "\n",
    "\n",
    "\n",
    "### Select your notebook kernel\n",
    "- In the Notebook toolbar, click **Select Kernel**.\n",
    "<br>\n",
    "<img width=50% src=\"assets/01_01_Select_Kernel_Toolbar.png\" />\n",
    "\n",
    "- Next, in the dropdown, select **Python 3.8.13** or higher.\n",
    "<br>\n",
    "<img width=50% src=\"assets/01_02_Select_Kernel_Dropdown.png\" />\n",
    "\n",
    "That's it!"
   ]
  },
  {
   "attachments": {},
   "cell_type": "markdown",
   "metadata": {},
   "source": [
    "## ⛑️ Getting help\n",
    "The best way to get help from the Yugabyte University team is to post your question on YugabyteDB Community Slack in the #training or #yb-university channels. To sign up, visit [https://communityinviter.com/apps/yugabyte-db/register](https://communityinviter.com/apps/yugabyte-db/register)."
   ]
  },
  {
   "attachments": {},
   "cell_type": "markdown",
   "metadata": {},
   "source": [
    "---\n",
    "## 👣 Setup steps\n",
    "Here are the steps to setup this lab:\n",
    "- Import the notebook variables\n",
    "- Connect to `db_ybu` database\n",
    "- Load the SQL Magic extension for the connection\n",
    "- Create the prepared statements"
   ]
  },
  {
   "attachments": {},
   "cell_type": "markdown",
   "metadata": {},
   "source": [
    "### Import the notebook variables \n",
    "\n",
    "> ‼️ Important\n",
    "> \n",
    "> Do **NOT** skip running the following cell. \n",
    "> \n",
    "\n",
    "The following Python cell reads the stored variables created in the `01_Lab_Setup.ipynb` notebook. To run the script, select Execute Cell (Play Arrow) in the left gutter of the cell."
   ]
  },
  {
   "cell_type": "code",
   "execution_count": null,
   "metadata": {},
   "outputs": [],
   "source": [
    "# Use %store -r to read 01_Lab_Requirements_Setup variables\n",
    "%store -r MY_DB_NAME\n",
    "%store -r MY_YB_PATH\n",
    "%store -r MY_YB_PATH_DATA\n",
    "%store -r MY_GITPOD_WORKSPACE_URL\n",
    "%store -r MY_HOST_IPv4_01\n",
    "%store -r MY_HOST_IPv4_02\n",
    "%store -r MY_HOST_IPv4_03\n",
    "%store -r MY_NOTEBOOK_DIR\n",
    "%store -r MY_TSERVER_WEBSERVER_PORT\n",
    "%store -r MY_NOTEBOOK_DATA_FOLDER\n",
    "%store -r MY_YB_MASTER_HOST_GITPOD_URL\n",
    "%store -r MY_YB_TSERVER_HOST_GITPOD_URL"
   ]
  },
  {
   "attachments": {},
   "cell_type": "markdown",
   "metadata": {},
   "source": [
    "## Connect to the `db_ybu` database\n",
    "Run all the cells in this section:\n",
    "- Connect using Python and PostgreSQL driver\n",
    "- Load the SQL magic extension\n",
    "- Create the prepared statements"
   ]
  },
  {
   "attachments": {},
   "cell_type": "markdown",
   "metadata": {},
   "source": [
    "### Connect using Python and PostgreSQL driver"
   ]
  },
  {
   "cell_type": "code",
   "execution_count": null,
   "metadata": {},
   "outputs": [],
   "source": [
    "# connect use Python 3.7.9+\n",
    "import psycopg2\n",
    "import sqlalchemy as alc\n",
    "from sqlalchemy import create_engine\n",
    "\n",
    "db_host=MY_HOST_IPv4_01\n",
    "db_name=MY_DB_NAME\n",
    "\n",
    "connection_str='postgresql+psycopg2://yugabyte@'+db_host+':5433/'+db_name\n",
    "\n",
    "# engine = create_engine(connection_str)"
   ]
  },
  {
   "attachments": {},
   "cell_type": "markdown",
   "metadata": {},
   "source": [
    "### Load the SQL magic extension"
   ]
  },
  {
   "cell_type": "code",
   "execution_count": null,
   "metadata": {},
   "outputs": [],
   "source": [
    "%reload_ext sql\n",
    "\n",
    "# SQL magic for python connection string\n",
    "%sql {connection_str}"
   ]
  },
  {
   "attachments": {},
   "cell_type": "markdown",
   "metadata": {},
   "source": [
    "### Create the prepared statements"
   ]
  },
  {
   "attachments": {},
   "cell_type": "markdown",
   "metadata": {},
   "source": [
    "> IMPORTANT!\n",
    ">   \n",
    "> In order to create the prepared statements for the SQL magic connection, you must run the following cell!!!\n",
    "> \n",
    "> Do not skip this step.\n",
    "> "
   ]
  },
  {
   "cell_type": "code",
   "execution_count": null,
   "metadata": {},
   "outputs": [],
   "source": [
    "#%% python, but prepared statements as sql magic\n",
    "\n",
    "if (MY_YB_MASTER_HOST_GITPOD_URL is None):\n",
    "    a = %sql select fn_yb_create_stmts()\n",
    "else:\n",
    "    a = %sql select fn_yb_create_stmts(:MY_YB_MASTER_HOST_GITPOD_URL )\n",
    "print (a)"
   ]
  },
  {
   "attachments": {},
   "cell_type": "markdown",
   "metadata": {},
   "source": [
    "Confirm that the following query returns a count of 3 (for three prepared statements)."
   ]
  },
  {
   "cell_type": "code",
   "execution_count": null,
   "metadata": {
    "vscode": {
     "languageId": "sql"
    }
   },
   "outputs": [],
   "source": [
    "%%sql \n",
    "select count(*) from pg_prepared_statements where 1=1 and name in ('stmt_util_metrics_snap_tablet','stmt_util_metrics_snap_table','stmt_util_metrics_snap_reset')"
   ]
  },
  {
   "attachments": {},
   "cell_type": "markdown",
   "metadata": {},
   "source": [
    "---\n",
    "## Hash Sharding\n",
    "\n",
    "### q1 | Create a table with no Primary Key (PK)\n",
    "For this first example, without explicitly defining a primary key, you will create a table. Then, you will review the Explain Plan for a query, and also review the RocksDB metrics for the query."
   ]
  },
  {
   "cell_type": "code",
   "execution_count": null,
   "metadata": {
    "vscode": {
     "languageId": "sql"
    }
   },
   "outputs": [],
   "source": [
    "%%sql /* create table no PK and insert rows */\n",
    "drop table if exists tbl_no_pk;\n",
    "\n",
    "create table if not exists tbl_no_pk (k int, v text);\n",
    "\n",
    "insert into tbl_no_pk (k,v)\n",
    "select g.id, format('%s%s',chr(97+CAST(random() * 25 AS INTEGER)),chr(97+CAST(random() * 25 AS INTEGER)))\n",
    "from generate_series(1, 1000) AS g (id);"
   ]
  },
  {
   "attachments": {},
   "cell_type": "markdown",
   "metadata": {},
   "source": [
    "Describe the table. Where is the Primary Key?"
   ]
  },
  {
   "cell_type": "code",
   "execution_count": null,
   "metadata": {
    "vscode": {
     "languageId": "sql"
    }
   },
   "outputs": [],
   "source": [
    "%%bash -s \"$MY_YB_PATH\" \"$MY_DB_NAME\" #\\d+\n",
    "YB_PATH=${1}\n",
    "DB_NAME=${2}\n",
    "\n",
    "cd $YB_PATH\n",
    "\n",
    "./bin/ysqlsh -d ${DB_NAME} -c \"\\d+ tbl_no_pk\""
   ]
  },
  {
   "attachments": {},
   "cell_type": "markdown",
   "metadata": {},
   "source": [
    "#### q1a | Query the table for a value of k\n",
    "\n",
    "The following is a query that will show the Explain Plan for the query. The first statement resets the metrics that will be captured after running the query. The query itself has a `where` clause predicate for `k` . "
   ]
  },
  {
   "cell_type": "code",
   "execution_count": null,
   "metadata": {
    "vscode": {
     "languageId": "sql"
    }
   },
   "outputs": [],
   "source": [
    "%%sql /* explain plan */\n",
    "-- beta feature enabled by default, so turning off\n",
    "SET yb_enable_expression_pushdown=off;\n",
    "SHOW yb_enable_expression_pushdown;\n",
    "\n",
    "\n",
    "execute stmt_util_metrics_snap_reset;\n",
    "explain (analyze, costs off, verbose, timing on) \n",
    "select '' _\n",
    "    , k\n",
    "    , v\n",
    "from tbl_no_pk \n",
    "where 1=1 \n",
    "and  k=1000\n",
    "-- limit 30\n",
    ";"
   ]
  },
  {
   "attachments": {},
   "cell_type": "markdown",
   "metadata": {},
   "source": [
    "##### q1a | Explain Plan (above ^^)\n",
    "Because YugabyteDB reuses the PostgreSQL query layer, it is possible to view an Explain Plan for a query. The query optimizer generates the Explain Plan for the stated query execution.\n",
    "The Explain Plan for this query shows:\n",
    "- `Seq Scan on public.tbl_no_pk (actual time=7.912..11.720 rows=1 loops=1)`\n",
    "\n",
    "A `Seq Scan` is a full table scan, meaning that potentially all the rows in the table will be read.\n",
    "\n",
    "- `Rows Removed by Filter: 999`\n",
    "\n",
    "999 rows were removed, leaving the final single row.\n",
    "\n",
    "The Explain Plan infers how the query accesses tablet data, but does **NOT** show the metrics for tablet access. Using a custom utility, you can view the metrics for the query execution in the notebook cell below. To view the metrics, run the following cell that contains the prepared statement:"
   ]
  },
  {
   "cell_type": "code",
   "execution_count": null,
   "metadata": {
    "vscode": {
     "languageId": "sql"
    }
   },
   "outputs": [],
   "source": [
    "%%sql /* metrics */\n",
    "execute stmt_util_metrics_snap_table;"
   ]
  },
  {
   "attachments": {},
   "cell_type": "markdown",
   "metadata": {},
   "source": [
    "##### q1a | Metrics (above ^^)\n",
    "\n",
    "The Explain Plan revealed that in order to return the single row result, the query first reads 1000 rows and then filters out 999 rows.\n",
    "\n",
    "The Metrics reports shows that the query accesses 3 tablets for the table, `tbl_no_pk`. Each tablet has 1 seek of an offset in RocksDB, and then per offset, 900+ reads.\n",
    "\n",
    "Here is how to read the output of the Metrics report:\n",
    "- row_name `db_ybu | tbl_no_pk | https://7000-yugabytedbu-ysqlpe03whe-um13wtg7p0o.ws-us54.gitpod.io/table?id=00004000000030008000000000004039 | bc64657cf03842fab00a416cc67c8413 | L`\n",
    "  - database --> `db_ybu`\n",
    "  - table or index or materialized view  --> `tbl_no_pk`\n",
    "  - table_id --> `https://7000-yugabytedbu-ysqlpe03whe-um13wtg7p0o.ws-us54.gitpod.io/table?id=00004000000030008000000000004039` --> url to browser -->  table_id? --> `00004000000030008000000000004039`\n",
    "  - tablet_id --> `4aed1608c05d40edb7105b11abc629cd`\n",
    "  - isLeader --> `L`\n",
    "- rocksdb_number_db_seek\n",
    "  - The number of Seek() RocksDB API calls, which means the number of seeks for offsets \n",
    "- rocksdb_number_db_next\n",
    "  - The number of Next() RocksDB API calls, which means the number of reads from the offset\n",
    "- rows_inserted\n",
    "  - number of rows inserted "
   ]
  },
  {
   "attachments": {},
   "cell_type": "markdown",
   "metadata": {},
   "source": [
    "### View the Table details in the YB-Master web ui\n",
    "To better understand the Metrics report, you can view the details of a table in the YB-Master web ui.\n",
    "\n",
    "> Note\n",
    ">  \n",
    ">  In gitpod, only the `127.0.0.1` host is available on port 7000, and will show as `https://7000-yugabytedbu-ysqlpe03whe-um13wtg7p0o.ws-us54.gitpod.io/table?id=00004000000030008000000000004039` . You are not able to browse `127.0.0.2` or `127.0.0.3`\n",
    "\n",
    "Run the cell  below to get the URL to open in your web browser. If you are running cell this locally, comment and uncomment as directed."
   ]
  },
  {
   "cell_type": "code",
   "execution_count": null,
   "metadata": {},
   "outputs": [],
   "source": [
    "#%% python, but prepared statements as sql magic\n",
    "THIS_TABLE_NAME = 'tbl_no_pk'\n",
    "THIS_SCHEMA_NAME = 'public'\n",
    "DB_NAME = MY_DB_NAME\n",
    "\n",
    "## Comment out if local\n",
    "view_gitpod_url = %sql select fn_get_table_id_url(:MY_YB_MASTER_HOST_GITPOD_URL,7000,:DB_NAME,:THIS_SCHEMA_NAME,:THIS_TABLE_NAME ) as view_gitpod_url\n",
    "print (view_gitpod_url)\n",
    "\n",
    "## Uncomment if local\n",
    "# view_local_url = %sql select fn_get_table_id_url(:MY_HOST_IPv4_01,7000,:DB_NAME,:THIS_SCHEMA_NAME,:THIS_TABLE_NAME ) as view_local_url\n",
    "# print (view_local_url)"
   ]
  },
  {
   "attachments": {},
   "cell_type": "markdown",
   "metadata": {},
   "source": [
    "#### Review the Column section\n",
    "The column section shows details about each column in the table, index, or materialized view. In the column section for `tbl_no_pk`, you will see:\n",
    "\n",
    "\n",
    "| Column | ID\t| Type |\n",
    "|--------|------|------|\n",
    "| ybrowid    | 0\t| binary NOT NULL PARTITION KEY | \n",
    "| k\t         | 1\t| int32 NULLABLE NOT A PARTITION KEY | \n",
    "| v\t         | 2\t| string NULLABLE NOT A PARTITION KEY | \n",
    "\n",
    "<br/>\n",
    "\n",
    "> Important!\n",
    ">  \n",
    "> When you create a table without a Primary Key (PK), YugabyteDB creates a hidden primary key for you, `ybrowid`. You will see this hidden PK in the YB-Master web ui for the `tbl_no_pk` table.\n",
    "\n",
    "\n",
    "`ybrowid` functions as a hidden PK for a row with a random Universal Unique Identifier (UUID) value. Using  `\\d` or `\\d+` will not show the `ybrowid` primary key. It is not possible to query the `ybrowid` value.\n",
    "\n",
    "In the case of the `tbl_no_pk` table,  `ybrowid` is a hidden primary key that functions as the partition key."
   ]
  },
  {
   "attachments": {},
   "cell_type": "markdown",
   "metadata": {},
   "source": [
    "##### Partition Key\n",
    "When YugabyteDB processes an insert query for a row of data into a table with a consistent hash sharding strategy, YugabyteDB uses the shard key (shown as `PARTITION KEY`) to distribute the data among the tablet leaders. \n",
    "\n",
    "With consistent hash sharding, a partitioning algorithm distributes data evenly and randomly across shards. By computing a consistent hash on the partition key (or keys) of a given row, YugabyteDB knows where to insert the row among the tablet leaders.\n",
    "\n"
   ]
  },
  {
   "attachments": {},
   "cell_type": "markdown",
   "metadata": {},
   "source": [
    "#### Review the Tablet section\n",
    "For the given table, the Tablet section shows the details for the existing tablets. Of particular interest are the number of tablet leaders and the partition strategy. Here is an abridged example of the Tablet section for the `tbl_no_pk` table:\n",
    "\n",
    "| Tablet ID |\tPartition\t| SplitDepth\t| State\t| Hidden\t| Message\t| RaftConfig|\n",
    "|--|--|--|--|--|--|--|\n",
    "| some_uuid_1 |\t`hash_split: [0x5555, 0xAAAA)` |\t0\t| Running|\tfalse| Tablet reported with an active leader\t|<li>FOLLOWER: 127.0.0.1 <li>FOLLOWER: 127.0.0.3<li>LEADER: 127.0.0.2  |\n",
    "| some_uuid_2\t| `hash_split: [0xAAAA, 0xFFFF)`\t| 0 |  Running |false |\tTablet reported with an active leader |<li>FOLLOWER: 127.0.0.1 <li>LEADER: 127.0.0.3 <li>FOLLOWER: 127.0.0.2 |\n",
    "| some_uuid_3 <br>(tablet leader where the row lives) |\t`hash_split: [0x0000, 0x5555)` |\t0 |\tRunning | \tfalse\t| Tablet reported with an active leader |\t<li>LEADER: 127.0.0.1<li>FOLLOWER: 127.0.0.3<li>FOLLOWER: 127.0.0.2 |"
   ]
  },
  {
   "attachments": {},
   "cell_type": "markdown",
   "metadata": {},
   "source": [
    "##### Why are there three tablets each with a tablet_id ?\n",
    "\n",
    "Various properties and configurations determine the number of tablets for a specific table in a given YugabyteDB cluster. \n",
    "\n",
    "Your YugabyteDB cluster is a three node cluster. Each node runs two processes: a YB-Master process and a YB-TServer process. Your cluster has a replication factor of three, which means that each tablet leader will have two tablet followers. \n",
    "\n",
    "Certain flags specify the number of shards per YB-TServer. Your cluster has two specific flags: \n",
    "-  `yb_num_shards_per_tserver=1`\n",
    "-  `ysql_num_shards_per_tserver=1`\n",
    "\n",
    "These flags dictate that each YB-TServer process will initially create just one tablet leader for a given table with hash sharding.\n",
    "\n",
    "For this reason, with your three node cluster, a table will have a single tablet leader per node.  And since there are three nodes in your YugabyteDB cluster, there will be a total of three tablet leaders for a given table with hash sharding. The replication factor of three specifies that each tablet leader will have two tablet followers. "
   ]
  },
  {
   "attachments": {},
   "cell_type": "markdown",
   "metadata": {},
   "source": [
    "##### What is the `hash_split` value in the Partition column? \n",
    "\n",
    "For a table with hash sharding, each tablet has a Partition value that shows a  `hash_split` . The `hash_split` details a range of hexadecimal values. \n",
    "```\n",
    "hash_split: [0x0000, 0x5555)\n",
    "hash_split: [0x5555, 0xAAAA)\n",
    "hash_split: [0xAAAA, 0xFFFF)\n",
    "```\n",
    "The conversion of the above hexadecimal values to integer values is as follows:\n",
    "```\n",
    "0-21845\n",
    "21845-43690\n",
    "43690-65535\n",
    "```\n",
    "\n",
    "In other words, the Partition value for hash sharding represents a range of hexadecimal values starting with 0 and ending with 65535. Here is illustration of consistent hash sharding:\n",
    "\n",
    "<img  style=\"background-color:#FFF\" src=\"assets/hash_sharding.png\" >"
   ]
  },
  {
   "attachments": {},
   "cell_type": "markdown",
   "metadata": {},
   "source": [
    "In this illustration, the primary key (PK) is the partition key. In the table above, there is no declared primary key, but there is `ybrowid`. `ybrowid` functions as a hidden PK for a row with a random Universal Unique Identifier (UUID) value. As a result,  `ybrowid` serves as the partition key for the table without a declared PK.\n",
    "\n",
    "The hash value of the partition key results in a hexadecimal value. This value falls between the lower and upper values of a `hash_split` range for a tablet leader. \n",
    "\n",
    "YSQL has an built-in function that shows the integer form of the hash code: `yb_hash_code()` . This built-in function returns an integer, making it easier to interpret the hexadecimal values of a hash_splt range.\n",
    "\n",
    "However, because YugabyteDB does not expose `ybrowid` to a database user, it is not possible to use `yb_hash_code()` to determine what is the integer value for the hash code of `ybrowid`. "
   ]
  },
  {
   "attachments": {},
   "cell_type": "markdown",
   "metadata": {},
   "source": [
    "### q2 | Alter the table and add a Primary Key\n",
    "To help illuminate how YugabyteDB distributes data, you can a create primary key  for the `k` column of the table. Later, you will use the `yb_code_hash()` built-in function and the primary key to show where various rows live on a given tablet.\n",
    "\n",
    "Because there is not an existing primary key (PK) for `tbl_no_pk`, it is possible to add a one.\n",
    "\n",
    "> IMPORTANT\n",
    "> \n",
    "> Once you create a primary key on a table, you can not alter it.\n",
    "\n",
    "Here are examples of how to define a primary key for a single column, using either consistent hash sharding or range sharding:\n",
    " - `PRIMARY KEY (k)` for hash  [DEFAULT]\n",
    " - `PRIMARY KEY (k hash)` for hash\n",
    " - `PRIMARY KEY (k asc)` for range\n",
    "\n",
    "> NOTE\n",
    "> \n",
    "> In this scenario, when you add a primary key to a table that does not have one, YugabyteDB will need to recreate the entire table behind the scenes and distribute the data according to PK sharding algorithm, range or hash. The previous table with the table id will show the table name as table_name_temp_old. The newly created table will have a new table id.\n",
    "\n",
    "To rename the table and add a primary key using hash sharding, run the following cell:"
   ]
  },
  {
   "cell_type": "code",
   "execution_count": null,
   "metadata": {
    "vscode": {
     "languageId": "sql"
    }
   },
   "outputs": [],
   "source": [
    "%%sql /* alter table rename AND add PK */\n",
    "\n",
    "drop table if exists tbl_pk_hash;\n",
    "-- rename table\n",
    "alter table if exists tbl_no_pk rename to tbl_pk_hash;\n",
    "-- add PK as hash\n",
    "alter table tbl_pk_hash add primary key (k hash);"
   ]
  },
  {
   "attachments": {},
   "cell_type": "markdown",
   "metadata": {},
   "source": [
    "To view the definition of the renamed table, run the following cell:"
   ]
  },
  {
   "cell_type": "code",
   "execution_count": null,
   "metadata": {
    "vscode": {
     "languageId": "sql"
    }
   },
   "outputs": [],
   "source": [
    "%%bash -s \"$MY_YB_PATH\" \"$MY_DB_NAME\" #\\d+\n",
    "YB_PATH=${1}\n",
    "DB_NAME=${2}\n",
    "\n",
    "cd $YB_PATH\n",
    "\n",
    "./bin/ysqlsh -d ${DB_NAME} -c \"\\d+ tbl_pk_hash\""
   ]
  },
  {
   "attachments": {},
   "cell_type": "markdown",
   "metadata": {},
   "source": [
    "#### View the Table details in the YB-Master web ui\n",
    "In your web browser, open the following URL."
   ]
  },
  {
   "cell_type": "code",
   "execution_count": null,
   "metadata": {},
   "outputs": [],
   "source": [
    "#%% python, but prepared statements as sql magic\n",
    "THIS_TABLE_NAME = 'tbl_pk_hash'\n",
    "THIS_SCHEMA_NAME = 'public'\n",
    "DB_NAME = MY_DB_NAME\n",
    "\n",
    "## Comment out if local\n",
    "view_gitpod_url = %sql select fn_get_table_id_url(:MY_YB_MASTER_HOST_GITPOD_URL,7000,:DB_NAME,:THIS_SCHEMA_NAME,:THIS_TABLE_NAME ) as view_gitpod_url\n",
    "print (view_gitpod_url)\n",
    "\n",
    "## Uncomment if local\n",
    "# view_local_url = %sql select fn_get_table_id_url(:MY_HOST_IPv4_01,7000,:DB_NAME,:THIS_SCHEMA_NAME,:THIS_TABLE_NAME ) as view_local_url\n",
    "# print (view_local_url)"
   ]
  },
  {
   "attachments": {},
   "cell_type": "markdown",
   "metadata": {},
   "source": [
    "##### Review the Column section\n",
    "The column section shows details about each column in the table, index, or materialized view. In the column section for `tbl_pk_hash`, you will see:\n",
    "\n",
    "\n",
    "| Column | ID\t| Type |\n",
    "|--------|------|------|\n",
    "| k\t         | 1\t| int32 PARTITION KEY | \n",
    "| v\t         | 2\t| string NULLABLE NOT A PARTITION KEY | \n",
    "\n",
    "<br/>\n",
    "\n",
    "Because there is a primary key defined for this table, there is no `ybrowid` column."
   ]
  },
  {
   "attachments": {},
   "cell_type": "markdown",
   "metadata": {},
   "source": [
    "##### Partition Key\n",
    "When YugabyteDB processes an insert query for a row of data into a table with a consistent hash sharding strategy, YugabyteDB uses the shard key (shown as `PARTITION KEY`) to distribute the data among the tablet leaders. \n",
    "\n",
    "With consistent hash sharding, a partitioning algorithm distributes data evenly and randomly across shards. By computing a consistent hash on the partition key (or keys) of a given row, YugabyteDB knows where to insert the row among the tablet leaders.\n",
    "\n"
   ]
  },
  {
   "attachments": {},
   "cell_type": "markdown",
   "metadata": {},
   "source": [
    "##### Review the Tablet section\n",
    "The Tablet section shows the details for the existing tablets. Here is an abridged example of the Tablet section for the `tbl_pk_hash` table:\n",
    "\n",
    "| Tablet ID |\tPartition\t| SplitDepth\t| State\t| Hidden\t| Message\t| RaftConfig|\n",
    "|--|--|--|--|--|--|--|\n",
    "| some_uuid_1 |\t`hash_split: [0x5555, 0xAAAA)` |\t0\t| Running|\tfalse| Tablet reported with an active leader\t|<li>FOLLOWER: 127.0.0.1 <li>FOLLOWER: 127.0.0.3<li>LEADER: 127.0.0.2  |\n",
    "| some_uuid_2\t| `hash_split: [0xAAAA, 0xFFFF)`\t| 0 |  Running |false |\tTablet reported with an active leader |<li>FOLLOWER: 127.0.0.1 <li>LEADER: 127.0.0.3 <li>FOLLOWER: 127.0.0.2 |\n",
    "| some_uuid_3 <br>(tablet leader where the row lives) |\t`hash_split: [0x0000, 0x5555)` |\t0 |\tRunning | \tfalse\t| Tablet reported with an active leader |\t<li>LEADER: 127.0.0.1<li>FOLLOWER: 127.0.0.3<li>FOLLOWER: 127.0.0.2 |"
   ]
  },
  {
   "attachments": {},
   "cell_type": "markdown",
   "metadata": {},
   "source": [
    "##### What is the `hash_split` value in the Partition column? \n",
    "\n",
    "For a table with hash sharding, each tablet has a Partition value that shows a  `hash_split` . The `hash_split` details a range of hexadecimal values. \n",
    "```\n",
    "hash_split: [0x0000, 0x5555)\n",
    "hash_split: [0x5555, 0xAAAA)\n",
    "hash_split: [0xAAAA, 0xFFFF)\n",
    "```\n",
    "The conversion of the above hexadecimal values to integer values is as follows:\n",
    "```\n",
    "0-21845\n",
    "21845-43690\n",
    "43690-65535\n",
    "```\n",
    "\n",
    "`tbl_pk_hash` uses consistent hash sharding with the partition key being `k`.  All tablets will store rows using the hash coded values for `k`."
   ]
  },
  {
   "attachments": {},
   "cell_type": "markdown",
   "metadata": {},
   "source": [
    "#### q2a | yb_hash_code()\n",
    "YSQL has an built-in function that shows the integer form of a hash coded value, `yb_hash_code()`. \n",
    "\n",
    "Using `yb_hash_code()`, you can view the hash code value of the primary key, `k`, for `tbl_pk_hash`. \n",
    "\n",
    "The resulting integer value places the row in the the hash_split range of the tablets. To help make the conversion from hexadecimal to integer easier to comprehend, run the following cell.\n",
    "\n",
    "The query shows:\n",
    "- k, the primary key value\n",
    "- the `yb_hash_code()` integer for k\n",
    "- and hash_split hexadecimal range in integer form"
   ]
  },
  {
   "cell_type": "code",
   "execution_count": null,
   "metadata": {
    "vscode": {
     "languageId": "sql"
    }
   },
   "outputs": [],
   "source": [
    "%%sql /* query with hash buckets */\n",
    "select '' as _\n",
    "  , k\n",
    " -- , v\n",
    "  , yb_hash_code(k::int) as k_hash_code\n",
    "  , fn_find_hash_code_in_partition_hex_range(yb_hash_code( k::int),'hash_split: [0x0000, 0x5555)'::text) as col_0x0000_0x5555\n",
    "  , fn_find_hash_code_in_partition_hex_range(yb_hash_code( k::int),'hash_split: [0x5555, 0xAAAA)'::text) as col_0x5555_0xAAAA\n",
    "  , fn_find_hash_code_in_partition_hex_range(yb_hash_code( k::int),'hash_split: [0xAAAA, 0xFFFF)'::text) as col_0xAAAA_0xFFFF\n",
    "from tbl_pk_hash\n",
    "where 1=1 \n",
    "-- and k=123\n",
    "order by k asc\n",
    "-- order by k desc\n",
    "-- offset 330\n",
    "-- offset 660\n",
    "limit 30\n",
    ";\n"
   ]
  },
  {
   "attachments": {},
   "cell_type": "markdown",
   "metadata": {},
   "source": [
    "##### q2a | Observations\n",
    "The results show that the 30 returned rows are distributed among all of the hash_split ranges, meaning that each tablet leader is returning results. The results are sorted in an ascending order of K values."
   ]
  },
  {
   "attachments": {},
   "cell_type": "markdown",
   "metadata": {},
   "source": [
    "##### q2a | Experiment\n",
    "Question: \n",
    "- In the query cell above, comment out the `order by k asc` line. Rerun the query cell. What new observations can you make about the results?\n",
    "\n",
    "Answer:\n",
    "- The results are in the order of `k_hash_code`, not `k`.\n",
    "- YugabyteDB only returns `k_hash_code` ordered results and these 30 row sare from the first hash_split range, `0-21845`.\n",
    "- The `k_hash_code` ordering is how the internal LSM-Tree sorted the table inserts.\n",
    "- For the given tablet, the LSM-tree persists to disk as Sorted Sequence Tables (SST files).\n",
    "- The reads come from the SST file for the tablet. For this reason, you can rerun the query over and over again and still see the same \"order\" (`k_hash_code`) of \"unordered\" (`k`) results.\n",
    "\n",
    "\n",
    "Question: \n",
    "- In the query above, with the `order by k` line already commented out, uncomment the `offset 330` line. Rerun the query cell. What observations can you make about the results?\n",
    "\n",
    "Answer:\n",
    "- YugabyteDB only returns `k_hash_code` ordered results from the beginning of the offset, which spans two hash_split ranges, indicating that the hash sharding is more or less evenly split among the tablets.\n"
   ]
  },
  {
   "attachments": {},
   "cell_type": "markdown",
   "metadata": {},
   "source": [
    "#### q2b | View the explain plan and metrics\n",
    "Using the same query, you will generate an Explain Plan and the view the metrics.\n",
    "\n",
    "Just like the section before, you will then modify and rerun the query to answer various questions."
   ]
  },
  {
   "cell_type": "code",
   "execution_count": null,
   "metadata": {
    "vscode": {
     "languageId": "sql"
    }
   },
   "outputs": [],
   "source": [
    "%%sql /* explain plan */\n",
    "execute stmt_util_metrics_snap_reset;\n",
    "explain (costs off, analyze, verbose) \n",
    "select '' as _\n",
    "  , k\n",
    " -- , v\n",
    "  , yb_hash_code(k::int) as k_hash_code\n",
    "  , fn_find_hash_code_in_partition_hex_range(yb_hash_code( k::int),'hash_split: [0x0000, 0x5555)'::text) as col_0x0000_0x5555\n",
    "  , fn_find_hash_code_in_partition_hex_range(yb_hash_code( k::int),'hash_split: [0x5555, 0xAAAA)'::text) as col_0x5555_0xAAAA\n",
    "  , fn_find_hash_code_in_partition_hex_range(yb_hash_code( k::int),'hash_split: [0xAAAA, 0xFFFF)'::text) as col_0xAAAA_0xFFFF\n",
    "from tbl_pk_hash\n",
    "where 1=1 \n",
    "-- and k=123\n",
    "order by k asc\n",
    "-- order by k desc\n",
    "-- offset 330\n",
    "-- offset 660\n",
    "limit 30\n",
    ";"
   ]
  },
  {
   "attachments": {},
   "cell_type": "markdown",
   "metadata": {},
   "source": [
    "##### q2b | Explain Plan (above ^^)\n",
    "For the initial query with the `order by asc` clause, the Explain Plan shows that this is a `Seq Scan` query, and no index is being used:\n",
    "\n",
    "`-> Seq Scan on public.tbl_pk_hash (actual time=2.626..7.200 rows=1000 loops=1)`\n",
    "\n",
    "A `Seq Scan` results in potentially accessing all the rows in the table.  These means all tablet leaders will most likely process the query."
   ]
  },
  {
   "cell_type": "code",
   "execution_count": null,
   "metadata": {
    "vscode": {
     "languageId": "sql"
    }
   },
   "outputs": [],
   "source": [
    "%%sql\n",
    "execute stmt_util_metrics_snap_table;"
   ]
  },
  {
   "attachments": {},
   "cell_type": "markdown",
   "metadata": {},
   "source": [
    "##### q2b | Metrics (above ^^)\n",
    "In the initial query, the `Seq Scan` accesses all tablets leaders:\n",
    "\n",
    "| row_name| \trocksdb_number_db_seek | \trocksdb_number_db_next | \n",
    "|--|--|--|\n",
    "| db_ybu tbl_pk_hash link_table_id tablet_id_unq_1\t | 1 | \t689 |\n",
    "| db_ybu tbl_pk_hash link_table_id tablet_id_unq_2\t| 1\t| 641 |\n",
    "| db_ybu tbl_pk_hash link_table_id tablet_id_unq_3\t| 1\t| 667 |"
   ]
  },
  {
   "attachments": {},
   "cell_type": "markdown",
   "metadata": {},
   "source": [
    "##### q2b | Experiment\n",
    "Question: \n",
    "- In the query cell above, comment out the `order by k` line. Rerun the query cell. What new observations can you make about the results?\n",
    "\n",
    "Answer:\n",
    "- Even though the Explain Plan shows that this is a `Seq Scan` query:\n",
    "  - `-> Seq Scan on public.tbl_pk_hash (actual time=1.072..5.176 rows=30 loops=1`\n",
    "\n",
    "The table scan is only for the tablet that contains the hash_split range where 30 rows live.\n",
    "| row_name| \trocksdb_number_db_seek | \trocksdb_number_db_next | \n",
    "|--|--|--|\n",
    "| db_ybu tbl_pk_hash link_table_id tablet_id_unq_1\t | 1 | \t62 |\n",
    "\n",
    "- YugabyteDB returns the unordered results and from the first hash_split range, `0-21845`.\n",
    "- The \"unordered\" results are actually returned as they were ordered in the LSM-Tree as Sorted Sequence Tables (SST files). For this reason, you can rerun the query over and over again and still see the same \"order\" of \"unordered\" results. \n",
    "\n",
    "\n",
    "Question: \n",
    "- With the `order by k` line commented out, what happens when you uncomment the `offset 330` lines and run the  Explain Plan and Metrics cells again? How does the output of Explain Plan compare to the Metrics output?\n",
    "\n",
    "\n",
    "Answer:\n",
    "- YugabyteDB returns results from the beginning of the offset, which, if the hash sharding is more or less evenly split, should span two hash_split ranges. Even though the Explain Plan shows that this is a `Seq Scan` query:\n",
    "  - `-> Seq Scan on public.tbl_pk_hash (actual time=4.039..55.580 rows=360 loops=1)`\n",
    "\n",
    "The table scan is for the tablets that contains the hash_split ranges. This means full table scans for two tablet leaders.\n",
    "\n",
    "| row_name| \trocksdb_number_db_seek | \trocksdb_number_db_next | \n",
    "|--|--|--|\n",
    "| db_ybu tbl_pk_hash link_table_id tablet_id_unq_1\t | 1 | \t689 |\n",
    "| db_ybu tbl_pk_hash link_table_id tablet_id_unq_2\t| 1\t| 641 |\n"
   ]
  },
  {
   "attachments": {},
   "cell_type": "markdown",
   "metadata": {},
   "source": [
    "#### q2c | What's on disk?\n",
    "\n",
    "Take a look at how YugabyteDB stores data in DocDB as tablets. But first, let's create the table and define a more complex primary key, one that include a partition key for hash sharding and a clustering key for ordering.\n"
   ]
  },
  {
   "cell_type": "code",
   "execution_count": null,
   "metadata": {
    "vscode": {
     "languageId": "sql"
    }
   },
   "outputs": [],
   "source": [
    "%%sql /* alter table rename AND add PK */\n",
    "\n",
    "drop table if exists tbl_pk_hash_ck_asc;\n",
    "\n",
    "create table if not exists tbl_pk_hash_ck_asc (\n",
    "  k int, \n",
    "  v1 text, \n",
    "  v2 text,\n",
    "  v3 text,\n",
    "  -- primary key (k hash)\n",
    "  primary key (k hash, v1 asc)\n",
    "  --primary key (k hash, v1 asc, v2 asc) \n",
    ");\n",
    "\n",
    "\n",
    "insert into tbl_pk_hash_ck_asc (k,v1,v2,v3)\n",
    "select \n",
    " g.id,\n",
    " fn_random_chars(),\n",
    " fn_random_name(1,0),\n",
    " fn_random_name(0,1)\n",
    "from generate_series(1, 100) AS g (id);"
   ]
  },
  {
   "cell_type": "code",
   "execution_count": null,
   "metadata": {
    "vscode": {
     "languageId": "sql"
    }
   },
   "outputs": [],
   "source": [
    "%%bash -s \"$MY_YB_PATH\" \"$MY_DB_NAME\" #\\d+\n",
    "YB_PATH=${1}\n",
    "DB_NAME=${2}\n",
    "\n",
    "cd $YB_PATH\n",
    "\n",
    "./bin/ysqlsh -d ${DB_NAME} -c \"\\d+ tbl_pk_hash_ck_asc\""
   ]
  },
  {
   "attachments": {},
   "cell_type": "markdown",
   "metadata": {},
   "source": [
    "Save the table name as a variable."
   ]
  },
  {
   "cell_type": "code",
   "execution_count": null,
   "metadata": {},
   "outputs": [],
   "source": [
    "MY_OBJECT_NAME = \"tbl_pk_hash_ck_asc\"\n",
    "%store MY_OBJECT_NAME\n"
   ]
  },
  {
   "attachments": {},
   "cell_type": "markdown",
   "metadata": {},
   "source": [
    "Get the `table_id` for the table."
   ]
  },
  {
   "cell_type": "code",
   "execution_count": null,
   "metadata": {
    "vscode": {
     "languageId": "shellscript"
    }
   },
   "outputs": [],
   "source": [
    "%%bash -s \"$MY_YB_PATH\" \"$MY_DB_NAME\" \"$MY_OBJECT_NAME\"  --out MY_TABLE_ID\n",
    "\n",
    "YB_PATH=${1}\n",
    "DB_NAME=${2}\n",
    "OBJECT_NAME=${3}\n",
    "\n",
    "cd $YB_PATH\n",
    "MY_TABLE_ID=$(./bin/ysqlsh -d ${DB_NAME} -t -c \"select fn_get_table_id_from_pg('${DB_NAME}','public','${OBJECT_NAME}');\")\n",
    "\n",
    "echo $MY_TABLE_ID"
   ]
  },
  {
   "attachments": {},
   "cell_type": "markdown",
   "metadata": {},
   "source": [
    "Store the `table_id` for the table."
   ]
  },
  {
   "cell_type": "code",
   "execution_count": null,
   "metadata": {},
   "outputs": [],
   "source": [
    "%store MY_TABLE_ID\n",
    "print(MY_TABLE_ID)"
   ]
  },
  {
   "attachments": {},
   "cell_type": "markdown",
   "metadata": {},
   "source": [
    "Get the `tablet_id` for the tablet leader for the selected node host."
   ]
  },
  {
   "cell_type": "code",
   "execution_count": null,
   "metadata": {
    "vscode": {
     "languageId": "shellscript"
    }
   },
   "outputs": [],
   "source": [
    "%%bash -s \"$MY_DB_NAME\" \"$MY_OBJECT_NAME\" \"$MY_HOST_IPv4_01\" --out MY_TABLET_ID\n",
    "\n",
    "DB_NAME=${1}\n",
    "OBJECT_NAME=$( echo \"${2}\" | tr -d \" \")\n",
    "HOST_IPv4=$( echo \"${3}\" | tr -d \" \")\n",
    "# can use WORKSPACE_URL\n",
    "MY_URL=\"http://${HOST_IPv4}:8200/metrics\"\n",
    "\n",
    "TABLET_ID=`wget -cq  ${MY_URL}  -O - |  jq --raw-output ' .[] | select(.attributes.namespace_name==\"'$DB_NAME'\" and .type==\"tablet\" and .attributes.table_name==\"'$OBJECT_NAME'\") | {tablet_id: .id, metrics: .metrics[] | select(.name == (\"is_raft_leader\") ) | select(.value == 1) } | select(.tablet_id) | {tablet_id} | .tablet_id '`\n",
    "\n",
    "echo ${TABLET_ID}"
   ]
  },
  {
   "attachments": {},
   "cell_type": "markdown",
   "metadata": {},
   "source": [
    "Store the `tablet_id` for the tablet leader."
   ]
  },
  {
   "cell_type": "code",
   "execution_count": null,
   "metadata": {},
   "outputs": [],
   "source": [
    "%store MY_TABLET_ID\n",
    "print(MY_TABLET_ID)"
   ]
  },
  {
   "attachments": {},
   "cell_type": "markdown",
   "metadata": {},
   "source": [
    "Flush the WAL file to a SST file for the given table_id."
   ]
  },
  {
   "cell_type": "code",
   "execution_count": null,
   "metadata": {
    "vscode": {
     "languageId": "shellscript"
    }
   },
   "outputs": [],
   "source": [
    "%%bash -s \"$MY_YB_PATH\" \"$MY_HOST_IPv4_01\" \"$MY_TABLE_ID\" \n",
    "YB_PATH=$( echo \"${1}\" | tr -d \" \")\n",
    "HOST_IPv4=$( echo \"${2}\" | tr -d \" \")\n",
    "TABLE_ID=$( echo \"${3}\" | tr -d \" \")\n",
    "\n",
    "cd $YB_PATH/bin\n",
    "\n",
    "./yb-admin -init_master_addrs ${HOST_IPv4}:7100 flush_table_by_id ${TABLE_ID} 600"
   ]
  },
  {
   "attachments": {},
   "cell_type": "markdown",
   "metadata": {},
   "source": [
    "Dump and decode the SST file in human-readable form."
   ]
  },
  {
   "cell_type": "code",
   "execution_count": null,
   "metadata": {
    "vscode": {
     "languageId": "shellscript"
    }
   },
   "outputs": [],
   "source": [
    "%%bash -s \"$MY_YB_PATH\" \"$MY_YB_PATH_DATA\" \"$MY_TABLE_ID\" \"$MY_TABLET_ID\" # Import file path of Yugabyte and DB name\n",
    "YB_PATH=$( echo \"${1}\" | tr -d \" \")\n",
    "YB_PATH_DATA=$( echo \"${2}\" | tr -d \" \")\n",
    "TABLE_ID=$( echo \"${3}\" | tr -d \" \")\n",
    "TABLET_ID=$( echo \"${4}\" | tr -d \" \")\n",
    "\n",
    "cd $YB_PATH/bin/\n",
    "\n",
    "TABLE_ID_PATH=${YB_PATH_DATA}/node-1/disk-1/yb-data/tserver/data/rocksdb/table-${TABLE_ID}/tablet-${TABLET_ID}\n",
    "\n",
    "#ls -l  ${TABLE_ID_PATH}\n",
    "\n",
    "./sst_dump --command=scan --file=${TABLE_ID_PATH} --output_format=decoded_regulardb "
   ]
  },
  {
   "attachments": {},
   "cell_type": "markdown",
   "metadata": {},
   "source": [
    "You can go back to the beginning of  ***What's on disk?** an alter the Primary Key definition and run through the SST dump again. "
   ]
  },
  {
   "attachments": {},
   "cell_type": "markdown",
   "metadata": {},
   "source": [
    "---\n",
    "## Range Sharding\n",
    "Range sharding splits the rows of a table into contiguous ranges that respect the sort order of the table based on the primary key column values. Typically, a range sharded table begins with only one tablet. With more row insertions, the single tablet eventually splits into two or more tablets. As the data volume for the range sharded table continues to grow, so does the number of tablets for the table. YugabyteDB balances the number of tablet leaders across the YB-TServers in the cluster. \n",
    "Here is an illustrations of range sharding:"
   ]
  },
  {
   "attachments": {},
   "cell_type": "markdown",
   "metadata": {},
   "source": [
    "<img  style=\"background-color:#FFF\" src=\"assets/range_sharding.png\" >"
   ]
  },
  {
   "attachments": {},
   "cell_type": "markdown",
   "metadata": {},
   "source": [
    "A query that specifies a range of values for the primary key (shard / partition key) in the query predicate, will often benefit from the source table using a range sharding strategy."
   ]
  },
  {
   "attachments": {},
   "cell_type": "markdown",
   "metadata": {},
   "source": [
    "### q3 | Create a table with range sharding\n",
    "By running the following cell, you will create a table with a primary key that employs range sharding:"
   ]
  },
  {
   "cell_type": "code",
   "execution_count": null,
   "metadata": {
    "vscode": {
     "languageId": "sql"
    }
   },
   "outputs": [],
   "source": [
    "%%sql  /* create table no PK and insert rows */\n",
    "drop table if exists tbl_pk_range;\n",
    "\n",
    "create table if not exists tbl_pk_range (k int, v text, primary key (k asc)) ;\n",
    "\n",
    "insert into tbl_pk_range (k,v)\n",
    "select g.id, format('%s%s',chr(97+CAST(random() * 25 AS INTEGER)),chr(97+CAST(random() * 25 AS INTEGER)))\n",
    "from generate_series(1, 1000) AS g (id);"
   ]
  },
  {
   "attachments": {},
   "cell_type": "markdown",
   "metadata": {},
   "source": [
    "#### View in the YB-Master web ui for the table details\n",
    "To view the table details, copy and paste the following URL in your web browser:"
   ]
  },
  {
   "cell_type": "code",
   "execution_count": null,
   "metadata": {},
   "outputs": [],
   "source": [
    "#%% python, but prepared statements as sql magic\n",
    "THIS_TABLE_NAME = 'tbl_pk_range'\n",
    "THIS_SCHEMA_NAME = 'public'\n",
    "DB_NAME = MY_DB_NAME\n",
    "\n",
    "## Comment out if local\n",
    "view_gitpod_url = %sql select fn_get_table_id_url(:MY_YB_MASTER_HOST_GITPOD_URL,7000,:DB_NAME,:THIS_SCHEMA_NAME,:THIS_TABLE_NAME ) as view_gitpod_url\n",
    "print (view_gitpod_url)\n",
    "\n",
    "## Uncomment if local\n",
    "# view_local_url = %sql select fn_get_table_id_url(:MY_HOST_IPv4_01,7000,:DB_NAME,:THIS_SCHEMA_NAME,:THIS_TABLE_NAME ) as view_local_url\n",
    "# print (view_local_url)"
   ]
  },
  {
   "attachments": {},
   "cell_type": "markdown",
   "metadata": {},
   "source": [
    "##### Review the Column section\n",
    "In the column section for `tbl_pk_range`, you will see:\n",
    "\n",
    "\n",
    "| Column | ID\t| Type |\n",
    "|--------|------|------|\n",
    "| k\t         | 1\t| int32 NOT NULL NOT A PARTITION KEY | \n",
    "| v\t         | 2\t| string NULLABLE NOT A PARTITION KEY | \n",
    "\n",
    "<br/>\n",
    "\n",
    "> Note\n",
    ">  \n",
    "> There is no PARTITION KEY (shard key) for the `tbl_pk_range` table, which indicates the use of another sharding strategy. `k`, the primary key, only shows that the column can not contain a NULL value`.\n"
   ]
  },
  {
   "attachments": {},
   "cell_type": "markdown",
   "metadata": {},
   "source": [
    "##### Review the Tablet section\n",
    "The Tablet section shows the details for the existing tablets. Here is an abridged example of the Tablet section for the `tbl_pk_hash` table:\n",
    "\n",
    "| Tablet ID |\tPartition\t| SplitDepth\t| State\t| Hidden\t| Message\t| RaftConfig|\n",
    "|--|--|--|--|--|--|--|\n",
    "| some_uuid_1<br>`42ca468817c145c29145752718b7c6a7` |\t`range: [<start>, <end>)` |\t0\t| Running|\tfalse| Tablet reported with an active leader\t|<li>FOLLOWER: 127.0.0.1 <li>FOLLOWER: 127.0.0.3<li>LEADER: 127.0.0.2  |\n",
    "\n",
    "YugabyteDB will automatically split this tablet based on the size of the table on disk. The following global flags determine this behavior:\n",
    "\n",
    "```\n",
    "--tablet_force_split_threshold_bytes=107374182400 --> 10240 MB\n",
    "--tablet_split_high_phase_shard_count_per_node=24\n",
    "--tablet_split_high_phase_size_threshold_bytes=10737418240 --> 10240 MB\n",
    "--tablet_split_low_phase_shard_count_per_node=8\n",
    "--tablet_split_low_phase_size_threshold_bytes=536870912 --> 512 MB\n",
    "--tablet_split_size_threshold_bytes=0\n",
    "```\n",
    "\n",
    "The low phase indicate the threshold for the initial splits of the tablet. With more data volume, the threshold increases from 512 MB to over 10 GBs."
   ]
  },
  {
   "attachments": {},
   "cell_type": "markdown",
   "metadata": {},
   "source": [
    "#### q3a | Natural order\n",
    "Unlike the consistent hash sharding of `tbl_pk_hash`, `tbl_pk_range` preserves the order of the PK. To view the difference, run the following query cell:"
   ]
  },
  {
   "cell_type": "code",
   "execution_count": null,
   "metadata": {
    "vscode": {
     "languageId": "sql"
    }
   },
   "outputs": [],
   "source": [
    "%%sql /* query */\n",
    "select '' as _\n",
    "  , k\n",
    "from tbl_pk_range\n",
    "where 1=1 \n",
    "-- and k = 123\n",
    "and k between 100 and 200\n",
    "-- order by k desc\n",
    "limit 30\n",
    ";"
   ]
  },
  {
   "attachments": {},
   "cell_type": "markdown",
   "metadata": {},
   "source": [
    "The above result reveals that range sharding stores data in the specified order of the primary key definition, which by default is `asc`, ascending order.\n",
    "\n",
    "To view the explain plan for the query, run the following cell:"
   ]
  },
  {
   "cell_type": "code",
   "execution_count": null,
   "metadata": {
    "vscode": {
     "languageId": "sql"
    }
   },
   "outputs": [],
   "source": [
    "%%sql /* explain plan */\n",
    "execute stmt_util_metrics_snap_reset;\n",
    "explain (costs off, analyze, verbose) \n",
    "select '' as _\n",
    "  , k\n",
    "from tbl_pk_range\n",
    "where 1=1 \n",
    "-- and k = 123\n",
    "and k between 100 and 200\n",
    "-- order by k desc\n",
    "limit 30\n",
    ";"
   ]
  },
  {
   "attachments": {},
   "cell_type": "markdown",
   "metadata": {},
   "source": [
    "##### q3a | Explain Plan (above ^^)\n",
    "\n",
    "The Explain Plan shows that this query uses the PK index and reads just one row..\n",
    "- `-> Index Scan using tbl_pk_range_pkey on public.tbl_pk_range (actual time=1.972..1.983 rows=30 loops=1)`\n",
    "\n",
    "The Index Condition reflects the query predicate.\n",
    "\n",
    "- `Index Cond: ((tbl_pk_range.k >= 100) AND (tbl_pk_range.k <= 200))`\n",
    "\n",
    "To view the tablet metrics, run the following cell wit the prepared statement:"
   ]
  },
  {
   "cell_type": "code",
   "execution_count": null,
   "metadata": {
    "vscode": {
     "languageId": "sql"
    }
   },
   "outputs": [],
   "source": [
    "%%sql\n",
    "execute stmt_util_metrics_snap_table;"
   ]
  },
  {
   "attachments": {},
   "cell_type": "markdown",
   "metadata": {},
   "source": [
    "##### q3a | Metrics (above ^^)\n",
    "\n",
    "The Explain Plan revealed that the query uses the PK index. Because there is only one tablet at this time for the table with range sharding, the Metrics report shows that the query accesses a single tablet. There is just one seek for the offset and then about two reads per row (limit 30)."
   ]
  },
  {
   "attachments": {},
   "cell_type": "markdown",
   "metadata": {},
   "source": [
    "##### q3a | Experiment\n",
    "\n",
    "Question: \n",
    "- Uncomment the `order by k desc` line. Rerun the Explain Plan and the Metrics prepared statement. What new observations can you make? \n",
    "\n",
    "\n",
    "Answer:\n",
    "- The Explain Plan shows that query uses `-> Index Scan Backward` for the PK index.\n",
    "- The Metrics shows that the Index Scan Backward operations resulted in 64 seeks and only 62 reads. For thirty rows (`limit 30`), this means that there a two seeks per each backwards operation!\n",
    "\n",
    "\n",
    "| row_name| \trocksdb_number_db_seek | \trocksdb_number_db_next | \n",
    "|--|--|--|\n",
    "| db_ybu tbl_pk_range link_table_id tablet_id_unq_1\t | 64 | \t62 |\n",
    "\n",
    "\n",
    "When fetching rows in reverse order of the index, with `Index Scan Backward`, there is no next call to go backwards. Instead, there are two seeks to go backwards. For this reason, the range sharding order of the primary key (`asc` or `desc`) may not be optimal for queries with an `Index Scan Backward` plan. \n"
   ]
  },
  {
   "attachments": {},
   "cell_type": "markdown",
   "metadata": {},
   "source": [
    "---\n",
    "## Comparing hash and range sharding for tables\n",
    "For this challenge, you will the Explain Plan and Metrics report for two sets of queries, each with tables that implement hash and range sharding."
   ]
  },
  {
   "attachments": {},
   "cell_type": "markdown",
   "metadata": {},
   "source": [
    "### q4a | Query with single-key predicate\n",
    "To begin, run the following cell:"
   ]
  },
  {
   "cell_type": "code",
   "execution_count": null,
   "metadata": {
    "vscode": {
     "languageId": "sql"
    }
   },
   "outputs": [],
   "source": [
    "%%sql /* explain plan */\n",
    "execute stmt_util_metrics_snap_reset;\n",
    "explain (costs off, analyze, verbose) \n",
    "select '' as _\n",
    "  , k\n",
    "from tbl_pk_hash\n",
    "-- from tbl_pk_range\n",
    "where 1=1 \n",
    "and k = 123\n",
    "-- and k between 100 and 200\n",
    "-- order by k desc\n",
    "-- limit 30\n",
    ";\n"
   ]
  },
  {
   "attachments": {},
   "cell_type": "markdown",
   "metadata": {},
   "source": [
    "#### q4a | Explain Plan (above ^^)\n",
    "\n",
    "The Explain Plan shows that this query uses the PK index and reads just one row..\n",
    "- `Index Scan using tbl_pk_hash_pkey on public.tbl_pk_hash (actual time=1.428..1.429 rows=1 loops=1)`\n",
    "\n",
    "The Index Condition reflects the query predicate.\n",
    "\n",
    "- `Index Cond: (tbl_pk_hash.k = 123)`\n",
    "\n",
    "To view the tablet metrics, run the following cell wit the prepared statement:"
   ]
  },
  {
   "cell_type": "code",
   "execution_count": null,
   "metadata": {
    "vscode": {
     "languageId": "sql"
    }
   },
   "outputs": [],
   "source": [
    "%%sql\n",
    "execute stmt_util_metrics_snap_table;"
   ]
  },
  {
   "attachments": {},
   "cell_type": "markdown",
   "metadata": {},
   "source": [
    "#### q4a | Metrics (above ^^)\n",
    "\n",
    "The Explain Plan revealed that the query uses the PK index. \n",
    "The Metrics report shows that only one tablet is accessed, with one seek of the offset and two reads."
   ]
  },
  {
   "attachments": {},
   "cell_type": "markdown",
   "metadata": {},
   "source": [
    "#### q4a | Experiment\n",
    "\n",
    "Question: \n",
    "- In the Explain Plan cell, first comment out `from tbl_pk_hash` and then uncomment `from tbl_pk_range`. Rerun the Explain Plan and the Metrics prepared statement. What new observations can you make? \n",
    "\n",
    "\n",
    "Answer:\n",
    "- Besides being different tables and tablets, the Explain Plan and the Metrics report are essentially identical. Both Explain Plans use the PK index and both access one tablet.\n",
    "\n"
   ]
  },
  {
   "attachments": {},
   "cell_type": "markdown",
   "metadata": {},
   "source": [
    "### q4b | Query with key range in predicate\n",
    "To begin, run the following cell:"
   ]
  },
  {
   "cell_type": "code",
   "execution_count": null,
   "metadata": {
    "vscode": {
     "languageId": "sql"
    }
   },
   "outputs": [],
   "source": [
    "%%sql /* explain plan */\n",
    "execute stmt_util_metrics_snap_reset;\n",
    "explain (costs off, analyze, verbose) \n",
    "select '' as _\n",
    "  , k\n",
    "from tbl_pk_hash\n",
    "-- from tbl_pk_range\n",
    "where 1=1 \n",
    "-- and k = 123\n",
    "and k between 100 and 200\n",
    "order by k asc\n",
    "limit 30\n",
    ";\n"
   ]
  },
  {
   "attachments": {},
   "cell_type": "markdown",
   "metadata": {},
   "source": [
    "#### q4b | Explain Plan (above ^^)\n",
    "\n",
    "The initial Explain Plan shows that this query does not use the PK index for the range value query.\n",
    "- `-> Seq Scan on public.tbl_pk_hash (actual time=2.910..2.956 rows=101 loops=1`\n",
    "\n",
    "The `Filter` indicates that the YB-TServer for the client connection filtered the results, removing 899 rows. \n",
    "\n",
    "- `Filter: ((tbl_pk_hash.k >= 100) AND (tbl_pk_hash.k <= 200))`\n",
    "- `Rows Removed by Filter:  899`\n",
    "\n",
    "This means that the tablets (RocksDB) sent all reads to the YB-TServer to be filtered.\n",
    "\n",
    "To view the tablet metrics, run the following cell wit the prepared statement:"
   ]
  },
  {
   "cell_type": "code",
   "execution_count": null,
   "metadata": {
    "vscode": {
     "languageId": "sql"
    }
   },
   "outputs": [],
   "source": [
    "%%sql\n",
    "execute stmt_util_metrics_snap_table;"
   ]
  },
  {
   "attachments": {},
   "cell_type": "markdown",
   "metadata": {},
   "source": [
    "#### q4b | Metrics (above ^^)\n",
    "\n",
    "The initial Explain Plan reveals that the query requires a `Seq Scan`, which is full table scan. \n",
    "The Metrics report shows that query accesses all three tablets, with an 1 seek per tablet and over 600 reads."
   ]
  },
  {
   "attachments": {},
   "cell_type": "markdown",
   "metadata": {},
   "source": [
    "#### q4b | Experiment\n",
    "\n",
    "Question: \n",
    "- In the Explain Plan cell, first comment out `from tbl_pk_hash` and then uncomment `from tbl_pk_range`. Rerun the Explain Plan and the Metrics prepared statement. What new observations can you make? \n",
    "\n",
    "\n",
    "Answer:\n",
    "- The `from tbl_pk_range` is an extremely efficient query.\n",
    "- The query uses the PK index, `Index Scan using tbl_pk_range_pkey on public.tbl_pk_range (actual time=0.816..0.825 rows=30 loops=1`.\n",
    "- The YB-TServer for the client connection does not filter any rows. \n",
    "- Because the table employs range sharding, the query access the single tablet for the table using 1 seek for the offset, and about two reads per row (`limit 30`).\n",
    "\n"
   ]
  },
  {
   "attachments": {},
   "cell_type": "markdown",
   "metadata": {},
   "source": [
    "---\n",
    "## Summary\n",
    "In this notebook, you learned about how YugabyteDB uses two distinct sharding strategies for storing data in a distributed manner for tables in tablets:\n",
    "- consistent hash sharding\n",
    "- range sharding\n",
    "\n",
    "You specify the sharding strategy in the Primary Key definition of a table: `hash` for hash sharding, and either `asc` or `desc` for range sharding.\n",
    "By default, YSQL for YugabyteDB employs consistent hash sharding, even if a primary key is not defined.\n",
    "\n",
    "### Consistent hash sharding\n",
    "With consistent hash sharding, YugabyteDB evenly and randomly distributes data across tablets using a partitioning algorithm. By computing a consistent hash on the partition column values of that row, YugabyteDB places each row of the table into a tablet. By using the `yb_hash_code()` built-in function, you can view the integer form of a hash coded value.\n",
    "\n",
    "#### Benefits of hash sharding\n",
    "Because consistent hash sharding distributes data evenly across all the nodes in the cluster while also retaining the ability to horizontally scale (add or remove nodes) in a YugabyteDB cluster, the strategy is ideal for massively scalable workloads that require shard key predicate queries.\n",
    "\n",
    "#### Concerns with hash sharding\n",
    "However, performing range queries could be inefficient. Examples of range queries are finding rows greater than a lower bound or less than an upper bound (as opposed to point lookups).\n",
    "\n",
    "\n",
    "### Range sharding\n",
    "Range sharding involves splitting the rows of a table into contiguous ranges that respect the sort order of the table based on the primary key column values. YugabyteDB initially creates a single tablet leader for a table. with range sharding. As the data volume increases for the table, YugabyteDB dynamically splits the initial tablet into two or moore tablets. \n",
    "\n",
    "#### Benefits of range sharding\n",
    "Range harding allows efficiently querying a range of rows by the primary key values. Examples of such a query is to look up all keys that lie between a lower bound and an upper bound.\n",
    "\n",
    "\n",
    "#### Concerns with range sharding\n",
    "Range sharding can introduce a number of issues in practice and at scale. Starting out with a single tablet leader implies only a single node is handling all the user queries, making this node in the cluster \"hot\" in terms of CPU, Memory,  Network, and Disk utilization. To alleviate this side effect, the data volume must grow significantly in order for the tablet to split. Another concern is that the global ordering of keys across all the tablets itself generates hot spots. As a result, certain tablet will naturally have more activity than others, resulting in an node with increased utilization of CPU, Memory, Network, and Disk."
   ]
  },
  {
   "attachments": {},
   "cell_type": "markdown",
   "metadata": {},
   "source": [
    "---\n",
    "# 🌟🌟🌟 Well done! \n",
    "In this notebook, you completed the following:\n",
    "- Hash Sharding\n",
    "- Range Sharding\n",
    "- Comparing hash and range sharding\n",
    "- Summary"
   ]
  },
  {
   "attachments": {},
   "cell_type": "markdown",
   "metadata": {},
   "source": [
    "## 😊 Next Steps!\n",
    "Join our learning community at Yugabyte University and achieve recognition for your achievements. Enrollment and certification is FREE. Sign up today at:\n",
    "- [https://university.yugabyte.com/users/sign_up](https://university.yugabyte.com/users/sign_up)\n"
   ]
  }
 ],
 "metadata": {
  "interpreter": {
   "hash": "aee8b7b246df8f9039afb4144a1f6fd8d2ca17a180786b69acc140d282b71a49"
  },
  "kernelspec": {
   "display_name": "Python 3.7.9 64-bit",
   "language": "python",
   "name": "python3"
  },
  "language_info": {
   "codemirror_mode": {
    "name": "ipython",
    "version": 3
   },
   "file_extension": ".py",
   "mimetype": "text/x-python",
   "name": "python",
   "nbconvert_exporter": "python",
   "pygments_lexer": "ipython3",
   "version": "3.9.16"
  },
  "orig_nbformat": 4
 },
 "nbformat": 4,
 "nbformat_minor": 2
}
