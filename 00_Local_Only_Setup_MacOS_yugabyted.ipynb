{
 "cells": [
  {
   "attachments": {},
   "cell_type": "markdown",
   "metadata": {},
   "source": [
    "<div style=\"width:100%; background-color: #000041\"><a target=\"_blank\" href=\"http://university.yugabyte.com\"><img src=\"assets/YBU_Logo.png\" /></a></div>\n",
    "\n",
    "> **YugabyteDB DBA Fundamentals**\n",
    ">\n",
    "> Enroll for free  [Yugabyte University](https://university.yugabyte.com/).\n",
    ">\n",
    "\n",
    "## 🛠️ Requirements to run this locally\n",
    "Here are the requirements to run this notebook locally:\n",
    "- Download and install YugabyteDB\n",
    "- Update the `env_vars.env` file\n",
    "- Install Python 3.8 or higher\n",
    "- \n",
    "### Download and install YugabyteDB\n",
    "To run this notebook locally in VS Code on MacOs or Linux, you must download and install YugabyteDB:\n",
    "#### MacOS \n",
    "You can download YugabyteDB for the MacOS at [https://download.yugabyte.com/#macos](https://download.yugabyte.com/#macos).\n",
    "\n",
    "### Linux\n",
    "You can download YugabyteDB for Linux at [https://download.yugabyte.com/#linux](https://download.yugabyte.com/#linux).\n",
    "\n",
    "#### Docker\n",
    "You can download YugabyteDB for Docker at [https://download.yugabyte.com/#docker](https://download.yugabyte.com/#docker).\n",
    "\n",
    "## Update the `env_vars.env` file\n",
    "After installing YugabyteDB locally, you need to update these paths in `env_vars.env`:\n",
    "```\n",
    "MY_YB_PATH_LOCAL_2.16=/Users/seth/yugabyte/yugabyte-2.16.3.0\n",
    "MY_YB_PATH_LOCAL=/Users/seth/yugabyte/yugabyte-2.17.3.0\n",
    "MY_YB_PATH_DATA_LOCAL=/Users/seth/yugabyte-data\n",
    "```\n",
    "\n",
    "### Install Python 3.8 or higher\n",
    "For MacOs, PyEnv is probably the easiest way to install. You can learn more at:\n",
    "- [https://github.com/pyenv/pyenv](https://github.com/pyenv/pyenv)\n",
    "- [https://realpython.com/intro-to-pyenv/](https://realpython.com/intro-to-pyenv/)"
   ]
  },
  {
   "attachments": {},
   "cell_type": "markdown",
   "metadata": {},
   "source": [
    "---\n",
    "## Update the notebook dependencies."
   ]
  },
  {
   "cell_type": "code",
   "execution_count": null,
   "metadata": {},
   "outputs": [],
   "source": [
    "!pip install --upgrade pip\n",
    "!pip install ipython-sql~=0.5 --upgrade\n",
    "!pip install psycopg2-binary\n",
    "!pip install SQLAlchemy --upgrade \n",
    "!pip install sqlparse\n",
    "!pip install html2text\n",
    "!pip install jq"
   ]
  },
  {
   "attachments": {},
   "cell_type": "markdown",
   "metadata": {},
   "source": [
    "### Create the notebook variables \n",
    "\n",
    "> IMPORTANT!\n",
    "> \n",
    "> Do NOT skip editing and running this cell. \n",
    "> \n",
    "\n",
    "The following Python cell creates and stores the Jupyter notebook variables.\n",
    "- First, edit the script to select how to assign a value to `MY_SUDO`.\n",
    "- To run the script, select Execute Cell (Play Arrow in the cell side bar).\n",
    "- Verify the accuracy of the output values\n",
    "\n",
    "> About sudo and MacOS\n",
    "> You'll need to supply your sudo password to create the loopback addresses."
   ]
  },
  {
   "cell_type": "code",
   "execution_count": null,
   "metadata": {},
   "outputs": [],
   "source": [
    "# Env variables for Notebook\n",
    "import os\n",
    "\n",
    "env_vars = !cat env_vars.env\n",
    "for var in env_vars:\n",
    "    key, value = var.split('=')\n",
    "    os.environ[key] = value\n",
    " \n",
    "### BEGIN: Edit your MY_SUDO\n",
    "\n",
    "# Leave it blank forcing a strategy for notebook execution\n",
    "MY_SUDO=''\n",
    "\n",
    "# env_vars defines ENV_SUDO='psswrd'\n",
    "# MY_SUDO=os.environ.get('MY_SUDO')\n",
    "\n",
    "# bash_profile exports the variable, e.g., export GLOBAL_SUDO='psswrd' \n",
    "MY_SUDO=os.environ.get('GLOBAL_SUDO')\n",
    "\n",
    "### END: MY_SUDO\n",
    "\n",
    "\n",
    "# Create and assign notebook variables\n",
    "# env_vars defines the following\n",
    "MY_DB_NAME=os.environ.get('MY_DB_NAME')\n",
    "MY_YB_PATH=os.environ.get('MY_YB_PATH_LOCAL')\n",
    "MY_HOST_IPv4_01=os.environ.get('MY_HOST_IPv4_01')\n",
    "MY_HOST_IPv4_02=os.environ.get('MY_HOST_IPv4_02')\n",
    "MY_HOST_IPv4_03=os.environ.get('MY_HOST_IPv4_03')\n",
    "MY_TSERVER_WEBSERVER_PORT=os.environ.get('MY_TSERVER_WEBSERVER_PORT')\n",
    "\n",
    "# Store the note book values for other notebooks to use\n",
    "%store MY_SUDO\n",
    "%store MY_DB_NAME\n",
    "%store MY_YB_PATH\n",
    "%store MY_HOST_IPv4_01\n",
    "%store MY_HOST_IPv4_02\n",
    "%store MY_HOST_IPv4_03\n",
    "%store MY_TSERVER_WEBSERVER_PORT"
   ]
  },
  {
   "attachments": {},
   "cell_type": "markdown",
   "metadata": {},
   "source": [
    "### Create the loopback host aliases for MacOS\n",
    "> Important!\n",
    "> \n",
    "> The script requires the password for `sudo`.\n",
    "> \n",
    "> The bash cell utilizes the notebook variable, `MY_SUDO`.\n",
    "> \n",
    "> If you did not define the `MY_SUDO` notebook variable using one of the suggested options, you can copy this script into the terminal, which is interactive, and manually supply the password.\n",
    "\n",
    "The YugabyteDB local cluster for this lab requires that your create loop back aliases for your local host (127.0.0.1). The bash cell does the following:\n",
    "- Deletes existing aliases\n",
    "- Creates the loopback aliases from `127.0.0.2` to `127.0.0.7`"
   ]
  },
  {
   "cell_type": "code",
   "execution_count": null,
   "metadata": {
    "vscode": {
     "languageId": "shellscript"
    }
   },
   "outputs": [],
   "source": [
    "%%bash -s \"$MY_SUDO\"  # ifconfig aliases\n",
    "MY_SUDO=${1}\n",
    "\n",
    "if ifconfig lo0 | grep 127.0.0.[2-7] > /dev/null\n",
    "then\n",
    "    echo ${MY_SUDO} | sudo -S ifconfig lo0 delete 127.0.0.2\n",
    "    echo ${MY_SUDO} | sudo -S ifconfig lo0 delete 127.0.0.3\n",
    "    echo ${MY_SUDO} | sudo -S ifconfig lo0 delete 127.0.0.4\n",
    "    echo ${MY_SUDO} | sudo -S ifconfig lo0 delete 127.0.0.5\n",
    "    echo ${MY_SUDO} | sudo -S ifconfig lo0 delete 127.0.0.6\n",
    "    echo ${MY_SUDO} | sudo -S ifconfig lo0 delete 127.0.0.7\n",
    "fi\n",
    "\n",
    "echo ${MY_SUDO} | sudo -S ifconfig lo0 alias 127.0.0.2\n",
    "echo ${MY_SUDO} | sudo -S ifconfig lo0 alias 127.0.0.3\n",
    "echo ${MY_SUDO} | sudo -S ifconfig lo0 alias 127.0.0.4\n",
    "echo ${MY_SUDO} | sudo -S ifconfig lo0 alias 127.0.0.5\n",
    "echo ${MY_SUDO} | sudo -S ifconfig lo0 alias 127.0.0.6\n",
    "echo ${MY_SUDO} | sudo -S ifconfig lo0 alias 127.0.0.7\n",
    "\n",
    "echo ${MY_SUDO} | sudo ifconfig lo0"
   ]
  },
  {
   "attachments": {},
   "cell_type": "markdown",
   "metadata": {},
   "source": [
    "### Create a YugabyteDB local cluster\n",
    "- If a YugabyteDB local cluster is running, it will be stopped and destroyed using `yb-ctl`\n",
    "- To avoid the port 9000 conflict, specifies port `TSERVER_WEBSERVER_PORT` as `8200`"
   ]
  },
  {
   "cell_type": "code",
   "execution_count": 21,
   "metadata": {
    "vscode": {
     "languageId": "shellscript"
    }
   },
   "outputs": [
    {
     "name": "stdout",
     "output_type": "stream",
     "text": [
      "yb_num_shards_per_tserver=1,ysql_beta_features=false,ysql_num_shards_per_tserver=1,num_cpu=2\n",
      "yb_num_shards_per_tserver=1,ysql_num_shards_per_tserver=1,ysql_beta_features=false,webserver_port=8200,num_cpu=2\n",
      "/Users/seth/yugabyte/yugabyte-2.19.0.0\n",
      "Deleted logs at /Users/seth/var/logs.\n",
      "Deleted data at /Users/seth/var/data.\n",
      "Deleted conf file at /Users/seth/var/conf/yugabyted.conf.\n",
      "yugabyted is not running.\n",
      "Starting yugabyted...\n",
      "✅ System checks\n",
      "✅ YugabyteDB Started                  \n",
      "✅ UI ready         \n",
      "✅ Data placement constraint successfully verified                 \n",
      "\n",
      "⚠ WARNINGS:\n",
      "- Cluster started in an insecure mode without authentication and encryption enabled. For non-production use only, not to be used without firewalls blocking the internet traffic.\n",
      "\n",
      "\n",
      "+----------------------------------------------------------------------------------------------------------+\n",
      "|                                                yugabyted                                                 |\n",
      "+----------------------------------------------------------------------------------------------------------+\n",
      "| Status              :                                                                                    |\n",
      "| Replication Factor  : None                                                                               |\n",
      "| YugabyteDB UI       : http://127.0.0.1:15433                                                             |\n",
      "| JDBC                : jdbc:postgresql://127.0.0.1:5433/yugabyte?user=yugabyte&password=yugabyte          |\n",
      "| YSQL                : bin/ysqlsh   -U yugabyte -d yugabyte                                               |\n",
      "| YCQL                : bin/ycqlsh   -u cassandra                                                          |\n",
      "| Data Dir            : /Users/seth/yugabyte/yugabyte-2.19.0.0/node1/data                                  |\n",
      "| Log Dir             : /Users/seth/yugabyte/yugabyte-2.19.0.0/node1/logs                                  |\n",
      "| Universe UUID       : f705fa44-fa1f-48c1-b4ca-5715c86451bf                                               |\n",
      "+----------------------------------------------------------------------------------------------------------+\n",
      "🚀 YugabyteDB started successfully! To load a sample dataset, try 'yugabyted demo'.\n",
      "🎉 Join us on Slack at https://www.yugabyte.com/slack\n",
      "👕 Claim your free t-shirt at https://www.yugabyte.com/community-rewards/\n",
      "\n",
      "Process is interrupted.\n"
     ]
    }
   ],
   "source": [
    "%%bash -s \"$MY_YB_PATH\" \"$MY_TSERVER_WEBSERVER_PORT\" \"$MY_HOST_IPv4_01\" \"$MY_HOST_IPv4_02\" \"$MY_HOST_IPv4_03\" # yugabyted\n",
    "YB_PATH=${1}\n",
    "TSERVER_WEBSERVER_PORT=${2}\n",
    "HOST_IPv4_01=${3}\n",
    "HOST_IPv4_02=${4}\n",
    "HOST_IPv4_03=${5}\n",
    "\n",
    "MASTER_FLAGS=\"yb_num_shards_per_tserver=1,ysql_beta_features=false,ysql_num_shards_per_tserver=1,num_cpu=2\"\n",
    "TSERVER_FLAGS=\"yb_num_shards_per_tserver=1,ysql_num_shards_per_tserver=1,ysql_beta_features=false,webserver_port=\"${TSERVER_WEBSERVER_PORT}\",num_cpu=2\"\n",
    "echo $MASTER_FLAGS\n",
    "echo $TSERVER_FLAGS\n",
    "cd $YB_PATH\n",
    "\n",
    "echo $YB_PATH\n",
    "### Grep port 9000 for conflict\n",
    "# lsof -nP -iTCP -sTCP:LISTEN | grep 9000\n",
    "\n",
    "# Stop running cluster\n",
    "if  pgrep -x \"yb-tserver\" > /dev/null \n",
    "then\n",
    "    ./bin/yugabyted stop\n",
    "    sleep 3\n",
    "fi\n",
    "\n",
    "# Destroy cluster\n",
    "if echo `ps aux | grep yugabyted` | grep \"yugabyted start\"  > /dev/null \n",
    "then\n",
    "    ./bin/yugabyted destroy\n",
    "    sleep 3\n",
    "fi\n",
    "\n",
    "\n",
    "\n",
    "# Create cluster\n",
    "./bin/yugabyted start \\\n",
    "--advertise_address=${HOST_IPv4_01} \\\n",
    "--base_dir=${YB_PATH}/node1 \\\n",
    "--cloud_location=cloud1.region1.zone1 \\\n",
    "--fault_tolerance=zone \\\n",
    "--ui=true \\\n",
    "--tserver_flags=\"\"${TSERVER_FLAGS}\"\" \\\n",
    "--master_flags=\"\"${MASTER_FLAGS}\"\"\n",
    "\n",
    "\n",
    "# Create cluster\n",
    "./bin/yugabyted status\n",
    "sleep 3"
   ]
  },
  {
   "cell_type": "markdown",
   "metadata": {},
   "source": [
    "second step\n"
   ]
  },
  {
   "cell_type": "code",
   "execution_count": null,
   "metadata": {
    "vscode": {
     "languageId": "shellscript"
    }
   },
   "outputs": [],
   "source": [
    "%%bash -s \"$MY_YB_PATH\" \"$MY_TSERVER_WEBSERVER_PORT\" \"$MY_HOST_IPv4_01\" \"$MY_HOST_IPv4_02\" \"$MY_HOST_IPv4_03\" # yugabyted\n",
    "YB_PATH=${1}\n",
    "TSERVER_WEBSERVER_PORT=${2}\n",
    "HOST_IPv4_01=${3}\n",
    "HOST_IPv4_02=${4}\n",
    "HOST_IPv4_03=${5}\n",
    "\n",
    "MASTER_FLAGS=\"yb_num_shards_per_tserver=1,ysql_beta_features=false,ysql_num_shards_per_tserver=1,num_cpu=2\"\n",
    "TSERVER_FLAGS=\"yb_num_shards_per_tserver=1,ysql_num_shards_per_tserver=1,ysql_beta_features=false,webserver_port=\"${TSERVER_WEBSERVER_PORT}\",num_cpu=2\"\n",
    "\n",
    "cd $YB_PATH\n",
    "\n",
    "\n",
    "### Grep port 9000 for conflict\n",
    "# lsof -nP -iTCP -sTCP:LISTEN | grep 9000\n",
    "\n",
    "# Stop running cluster\n",
    "if  pgrep -x \"yb-tserver\" > /dev/null \n",
    "then\n",
    "    ./bin/yugabyted stop\n",
    "    sleep 3\n",
    "fi\n",
    "\n",
    "# Destroy cluster\n",
    "if echo `ps aux | grep yugabyted` | grep \"yugabyted start\"  > /dev/null \n",
    "then\n",
    "    ./bin/yugabyted destroy\n",
    "    sleep 1\n",
    "fi\n",
    "\n",
    "# Create cluster\n",
    "./bin/yugabyted start \\\n",
    "--advertise_address=${HOST_IPv4_01} \\\n",
    "--base_dir=${YB_PATH}/node1 \\\n",
    "--cloud_location=cloud1.region1.zone1 \\\n",
    "--fault_tolerance=zone \\\n",
    "--ui=true \\\n",
    "--tserver_flags=\"\"${TSERVER_FLAGS}\"\" \\\n",
    "--master_flags=\"\"${MASTER_FLAGS}\"\"\n",
    "\n",
    "sleep 15\n",
    "\n",
    "./bin/yugabyted start \\\n",
    "--advertise_address=${HOST_IPv4_02} \\\n",
    "--join=${HOST_IPv4_01} \\\n",
    "--base_dir=${YB_PATH}/node2 \\\n",
    "--cloud_location=cloud2.region2.zone2 \\\n",
    "--fault_tolerance=zone \\\n",
    "--ui=true \\\n",
    "--tserver_flags ${TSERVER_FLAGS} \\\n",
    "--master_flags ${MASTER_FLAGS}\n",
    "\n",
    "sleep 15\n",
    "\n",
    "./bin/yugabyted start \\\n",
    "--advertise_address=${HOST_IPv4_03} \\\n",
    "--join=${HOST_IPv4_01} \\\n",
    "--base_dir=${YB_PATH}/node3 \\\n",
    "--cloud_location=cloud3.region3.zone3 \\\n",
    "--fault_tolerance=zone \\\n",
    "--ui=true \\\n",
    "--tserver_flags ${TSERVER_FLAGS} \\\n",
    "--master_flags ${MASTER_FLAGS}\n",
    "\n",
    "\n",
    "\n",
    "## add node\n",
    "## ./bin/yb-ctl add_node --placement_info \"cloud1.region1.zone1\" \n",
    "\n",
    "# Output status\n",
    "./bin/yugabyted status"
   ]
  },
  {
   "attachments": {},
   "cell_type": "markdown",
   "metadata": {},
   "source": [
    "In the above, you'll see the status of the YugabyteDB cluster running locally."
   ]
  },
  {
   "attachments": {},
   "cell_type": "markdown",
   "metadata": {},
   "source": [
    "### YCQL API"
   ]
  },
  {
   "cell_type": "code",
   "execution_count": null,
   "metadata": {
    "vscode": {
     "languageId": "shellscript"
    }
   },
   "outputs": [],
   "source": [
    "%%bash -s \"$MY_YB_PATH\" \"$MY_TSERVER_WEBSERVER_PORT\"  # yb-ctl create\n",
    "YB_PATH=${1}\n",
    "TSERVER_WEBSERVER_PORT=${2}\n",
    "\n",
    "cd $YB_PATH\n",
    "\n",
    "# select version\n",
    "./bin/ycqlsh -e \"\n",
    "  select cql_version from system.local;\n",
    "  \"  "
   ]
  },
  {
   "attachments": {},
   "cell_type": "markdown",
   "metadata": {},
   "source": [
    "### YSQL API"
   ]
  },
  {
   "cell_type": "code",
   "execution_count": null,
   "metadata": {
    "vscode": {
     "languageId": "shellscript"
    }
   },
   "outputs": [],
   "source": [
    "%%bash -s \"$MY_YB_PATH\" \"$MY_DB_NAME\"  # create database\n",
    "YB_PATH=${1}\n",
    "DB_NAME=${2}\n",
    "\n",
    "cd $YB_PATH\n",
    "\n",
    "# select version\n",
    "./bin/ysqlsh -d yugabyte -c \"\n",
    "   select version();\n",
    "\"  "
   ]
  },
  {
   "attachments": {},
   "cell_type": "markdown",
   "metadata": {},
   "source": [
    "---\n",
    "# 🌟 Well done! \n",
    "In this notebook, you setup a running YugabyteDB cluster locally on your MacOs. You'r ready to move to the Lab."
   ]
  }
 ],
 "metadata": {
  "kernelspec": {
   "display_name": "Python 3.7.9 64-bit",
   "language": "python",
   "name": "python3"
  },
  "language_info": {
   "codemirror_mode": {
    "name": "ipython",
    "version": 3
   },
   "file_extension": ".py",
   "mimetype": "text/x-python",
   "name": "python",
   "nbconvert_exporter": "python",
   "pygments_lexer": "ipython3",
   "version": "3.9.16"
  },
  "orig_nbformat": 4,
  "vscode": {
   "interpreter": {
    "hash": "aee8b7b246df8f9039afb4144a1f6fd8d2ca17a180786b69acc140d282b71a49"
   }
  }
 },
 "nbformat": 4,
 "nbformat_minor": 2
}
