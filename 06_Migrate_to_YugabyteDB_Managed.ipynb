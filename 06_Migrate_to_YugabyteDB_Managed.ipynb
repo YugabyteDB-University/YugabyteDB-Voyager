{
 "cells": [
  {
   "attachments": {},
   "cell_type": "markdown",
   "metadata": {
    "deletable": false,
    "editable": false
   },
   "source": [
    "<div style=\"width:100%; background-color: #000041\"><a target=\"_blank\" href=\"http://university.yugabyte.com\"><img src=\"assets/YBU_Logo.png\" /></a></div><br>\n",
    "\n",
    "> **Migrate and Modernize with YugabyteDB Voyager**\n",
    ">\n",
    "> Enroll for free at [Yugabyte University](https://university.yugabyte.com/courses/YugabyteDB-Voyager).\n",
    ">\n",
    "\n",
    "<br>\n",
    "This notebook file is:\n",
    "\n",
    "`06_Migrate_to_YugabyteDB_Managed.ipynb`"
   ]
  },
  {
   "attachments": {},
   "cell_type": "markdown",
   "metadata": {},
   "source": [
    "## 🛠️ Requirements\n",
    "Here are the requirements for this notebook:\n",
    "- ✅ Create the notebook variables in `01_Lab_Setup.ipynb`, which you previously did\n",
    "- ✅ Create the `ds_ybu` database, which you previously did\n",
    "- ✅ Create a YugabyteDB Managed free, sandbox cluster at [https://cloud.yugabyte.com](https://cloud.yugabyte.com), *which you must do next*\n",
    "- ☑️ Import the notebook variables, *which you must do next*\n",
    "- ☑️ Creat *which you must do next*\n",
    "\n",
    "\n",
    "### Select your notebook kernel\n",
    "- In the Notebook toolbar, click **Select Kernel**.\n",
    "<br>\n",
    "<img width=50% src=\"assets/01_01_Select_Kernel_Toolbar.png\" />\n",
    "\n",
    "- Next, in the dropdown, select **Python 3.8.13** or higher.\n",
    "<br>\n",
    "<img width=50% src=\"assets/01_02_Select_Kernel_Dropdown.png\" />\n",
    "\n",
    "That's it!"
   ]
  },
  {
   "attachments": {},
   "cell_type": "markdown",
   "metadata": {},
   "source": [
    "## ⛑️ Getting help\n",
    "The best way to get help us from the Yugabyte University team. You can post your question in YugabyteDB Community Slack in the #training or #yb-university channels. Join our [community](https://communityinviter.com/apps/yugabyte-db/register)."
   ]
  },
  {
   "attachments": {},
   "cell_type": "markdown",
   "metadata": {
    "deletable": false,
    "editable": false
   },
   "source": [
    "## 👣 Set up steps for this notebook\n",
    "Here are the steps to setup this lab:\n",
    "\n",
    "- Import the notebook variables"
   ]
  },
  {
   "attachments": {},
   "cell_type": "markdown",
   "metadata": {
    "deletable": false,
    "editable": false
   },
   "source": [
    "### 👇 Import the notebook variables\n",
    "\n",
    "> 👉 IMPORTANT! 👈\n",
    "> \n",
    "> Do **NOT** skip running the following cell. \n",
    "> \n",
    "\n",
    "The following Python cell reads the stored variables created in the `01_Lab_Setup.ipynb` notebook. To run the script, select Execute Cell (Play Arrow) in the left gutter of the cell. \n",
    "\n",
    "👇 👇 👇 "
   ]
  },
  {
   "cell_type": "code",
   "execution_count": null,
   "metadata": {
    "deletable": false,
    "editable": false
   },
   "outputs": [],
   "source": [
    "# Use %store -r to read 01_Lab_Setup variables\n",
    "%store -r MY_YB_PATH\n",
    "%store -r MY_YB_PATH_DATA\n",
    "\n",
    "%store -r MY_GITPOD_WORKSPACE_URL\n",
    "\n",
    "%store -r MY_DB_NAME\n",
    "%store -r MY_DB_PORT\n",
    "%store -r MY_MYSQL_DB_NAME\n",
    "\n",
    "%store -r MY_HOST_IPv4_01\n",
    "%store -r MY_HOST_IPv4_02\n",
    "%store -r MY_HOST_IPv4_03\n",
    "\n",
    "%store -r MY_TSERVER_WEBSERVER_PORT\n",
    "%store -r MY_MYSQL_PORT\n",
    "\n",
    "%store -r MY_YB_MASTER_HOST_GITPOD_URL\n",
    "%store -r MY_YB_TSERVER_HOST_GITPOD_URL\n",
    "\n",
    "%store -r MY_NOTEBOOK_DIR\n",
    "%store -r MY_NOTEBOOK_DATA_FOLDER\n",
    "%store -r MY_NOTEBOOK_UTILS_FOLDER\n",
    "%store -r MY_NOTEBOOK_VOYAGER_TMP\n",
    "\n",
    "%store -r MY_UTIL_FUNCTIONS_FILE\n",
    "%store -r MY_UTIL_YBTSERVER_METRICS_FILE\n",
    "\n",
    "%store -r BETA_FAST_DATA_EXPORT"
   ]
  },
  {
   "cell_type": "markdown",
   "metadata": {},
   "source": [
    "---\n",
    "## Prepare YugabyteDB Managed\n",
    "- Create a sandbox cluster\n",
    "- Add this Gitpod to the IP Allow List\n",
    "- Download the `root.crt` file\n",
    "- Copy the DNS Host name\n",
    "- Create a target database and Voyager user"
   ]
  },
  {
   "cell_type": "markdown",
   "metadata": {},
   "source": [
    "### Create a sandbox cluster \n",
    "\n",
    "Create a YugabyteDB Managed free, sandbox cluster at [https://cloud.yugabyte.com](https://cloud.yugabyte.com).\n",
    "\n",
    "`Cluster Name` = migrate-mysql"
   ]
  },
  {
   "cell_type": "markdown",
   "metadata": {},
   "source": [
    "### Add this Gitpod to the IP Allow List\n",
    "Run the following to determine the public ip address of this Gitpod host."
   ]
  },
  {
   "cell_type": "code",
   "execution_count": null,
   "metadata": {
    "vscode": {
     "languageId": "shellscript"
    }
   },
   "outputs": [],
   "source": [
    "%%bash \n",
    "\n",
    "MY_GITPOD_IP_ADDRESS=`curl https://ipinfo.io/ip`\n",
    "echo $MY_GITPOD_IP_ADDRESS"
   ]
  },
  {
   "cell_type": "markdown",
   "metadata": {},
   "source": [
    "> No IP Address ???\n",
    ">\n",
    "> If you don't get an IP address, rerun the above again! It may make a few times."
   ]
  },
  {
   "cell_type": "markdown",
   "metadata": {},
   "source": [
    "In the YugabyteDB Managed console, in Networking, select **Add IP Address**.\n",
    "\n",
    "- `IP ALLOW LIST NAME` = gitpod\n",
    "- `DESCRIPTION` = gitpod\n",
    "- `IP ADDRESS` = Add Current IP Address , MY_GITPOD_IP_ADDRESS\n"
   ]
  },
  {
   "cell_type": "markdown",
   "metadata": {},
   "source": [
    "In Clusters, Actions, select `Add IP Allow List``.\n",
    "\n",
    "Next, select `Add Existing IP Allow List`.\n",
    "\n",
    "In the dialog, select `gitpod`.\n",
    "\n",
    "Select Confirm."
   ]
  },
  {
   "cell_type": "markdown",
   "metadata": {},
   "source": [
    "### Download the `root.crt` file"
   ]
  },
  {
   "cell_type": "markdown",
   "metadata": {},
   "source": [
    "Select Connect.\n",
    "\n",
    "In Connect to Cluster, select Connect to your Application.\n",
    "\n",
    "Select `Download CA Cert`.\n",
    "\n",
    "Copy this to your Gitpod VS Code environment into `\\tmp`. You can drag and drop.\n",
    "\n",
    "> 👉 IMPORTANT! 👈\n",
    "> - Copy your `root.crt` to the `\\tmp` directory in the file explorer of the Gitpod environment. You can literally drag and drop the file to the `\\tmp` in the Explore panel. There is file already there that you can ignore, `nada.txt`."
   ]
  },
  {
   "cell_type": "code",
   "execution_count": null,
   "metadata": {
    "vscode": {
     "languageId": "shellscript"
    }
   },
   "outputs": [],
   "source": [
    "%%bash -s \"$MY_NOTEBOOK_VOYAGER_TMP\"\n",
    "NOTEBOOK_VOYAGER_TMP=${1}\n",
    "echo $NOTEBOOK_VOYAGER_TMP\n",
    "cat  $NOTEBOOK_VOYAGER_TMP/root.crt"
   ]
  },
  {
   "cell_type": "markdown",
   "metadata": {},
   "source": [
    "### Copy the DNS Host name"
   ]
  },
  {
   "cell_type": "markdown",
   "metadata": {},
   "source": [
    "For YSQL, select Parameters.\n",
    "\n",
    "Copy Host, for example: \n",
    "\n",
    "`us-east-1.fb67380f-e7d8-4709-8fe0-5a7182146558.aws.ybdb.io`\n",
    "\n",
    "\n",
    "> 👉 IMPORTANT! 👈\n",
    ">\n",
    "> Make sure that your copy the host DNS name for your YugabyteDB Managed sandbox cluster."
   ]
  },
  {
   "cell_type": "markdown",
   "metadata": {},
   "source": [
    "### Create a target database and Voyager user\n",
    "\n",
    "Create the target database in your YugabyteDB cluster. The database name can be the same or different from the source database name. If the target database name is not provided, yb-voyager assumes the target database name to be yugabyte. If you do not want to import in the default yugabyte database, specify the name of the target database name using the --target-db-name argument to the yb-voyager import commands.\n",
    "\n",
    "```\n",
    "CREATE DATABASE target_db_name;\n",
    "```\n",
    "```\n",
    "CREATE USER ybvoyager PASSWORD 'password';\n",
    "GRANT yb_superuser TO ybvoyager;\n",
    "```\n"
   ]
  },
  {
   "cell_type": "markdown",
   "metadata": {},
   "source": [
    "> 👉 IMPORTANT! 👈\n",
    "> - Change the values in the variables for `ADD_HOST_HERE`, `ADD_USER_HERE`, `ADD_PASSWORD_HERE` \n",
    "> - Copy your `root.crt` to the `\\tmp` directory in the file explorer"
   ]
  },
  {
   "cell_type": "code",
   "execution_count": null,
   "metadata": {
    "vscode": {
     "languageId": "shellscript"
    }
   },
   "outputs": [],
   "source": [
    "%%bash -s \"$MY_YB_PATH\" \"$MY_DB_NAME\" \"$MY_NOTEBOOK_VOYAGER_TMP\" # create database\n",
    "YB_PATH=${1}\n",
    "DB_NAME=${2}\n",
    "NOTEBOOK_VOYAGER_TMP=${3}\n",
    "\n",
    "cd $YB_PATH\n",
    "echo $YB_PATH\n",
    "echo $NOTEBOOK_VOYAGER_TMP\n",
    "\n",
    "## IMPORTNAT: You must update these variables\n",
    "MY_YUGABYTEDB_MANAGED_HOST=ADD_HOST_HERE\n",
    "MY_YUGABYTEDB_MANAGED_YSQL_USER=ADD_USER_HERE\n",
    "MY_YUGABYTEDB_MANAGED_YSQL_PASSWORD=ADD_PASSWORD_HERE\n",
    "\n",
    "\n",
    "MY_YUGABYTEDB_MANAGED_PORT=5433\n",
    "MY_YUGABYTEDB_MANAGED_HOST_PORT=${MY_YUGABYTEDB_MANAGED_HOST}:${MY_YUGABYTEDB_MANAGED_PORT}\n",
    "MY_YUGABYTEDB_MANAGED_CRT=${NOTEBOOK_VOYAGER_TMP}/root.crt\n",
    "MY_YUGABYTEDB_MANAGED_CONN=\"postgresql://${MY_YUGABYTEDB_MANAGED_YSQL_USER}:${MY_YUGABYTEDB_MANAGED_YSQL_PASSWORD}@${MY_YUGABYTEDB_MANAGED_HOST_PORT}/yugabyte?ssl=true&sslmode=verify-full&sslrootcert=${MY_YUGABYTEDB_MANAGED_CRT}\"\n",
    "echo $MY_YUGABYTEDB_MANAGED_CONN\n",
    "\n",
    "./bin/ysqlsh $MY_YUGABYTEDB_MANAGED_CONN -c \"drop database if exists \"${DB_NAME}\";\" \n",
    "./bin/ysqlsh $MY_YUGABYTEDB_MANAGED_CONN -c \"create database \"${DB_NAME}\";\" \n",
    "./bin/ysqlsh $MY_YUGABYTEDB_MANAGED_CONN -c \"create user ybvoyager PASSWORD 'Yugabyte#1'; GRANT yb_superuser TO ybvoyager;\" \n"
   ]
  },
  {
   "cell_type": "markdown",
   "metadata": {},
   "source": [
    "Verify that the `ybvoyager` user can connect.\n",
    "\n",
    "> 👉 IMPORTANT! 👈\n",
    "> - Change the values in the variables for `ADD_HOST_HERE` \n",
    "> - Copy your `root.crt` to the `\\tmp` directory in the file explorer"
   ]
  },
  {
   "cell_type": "code",
   "execution_count": null,
   "metadata": {
    "vscode": {
     "languageId": "shellscript"
    }
   },
   "outputs": [],
   "source": [
    "%%bash -s \"$MY_YB_PATH\" \"$MY_DB_NAME\" \"$MY_NOTEBOOK_VOYAGER_TMP\" # create database\n",
    "YB_PATH=${1}\n",
    "DB_NAME=${2}\n",
    "NOTEBOOK_VOYAGER_TMP=${3}\n",
    "\n",
    "cd $YB_PATH\n",
    "echo $YB_PATH\n",
    "echo $NOTEBOOK_VOYAGER_TMP\n",
    "\n",
    "## IMPORTNAT: You must update these variables\n",
    "MY_YUGABYTEDB_MANAGED_HOST=ADD_HOST_HERE\n",
    "MY_YUGABYTEDB_MANAGED_YSQL_USER=ybvoyager\n",
    "MY_YUGABYTEDB_MANAGED_YSQL_PASSWORD=Yugabyte#1\n",
    "\n",
    "\n",
    "MY_YUGABYTEDB_MANAGED_PORT=5433\n",
    "MY_YUGABYTEDB_MANAGED_HOST_PORT=${MY_YUGABYTEDB_MANAGED_HOST}:${MY_YUGABYTEDB_MANAGED_PORT}\n",
    "MY_YUGABYTEDB_MANAGED_CRT=${NOTEBOOK_VOYAGER_TMP}/root.crt\n",
    "MY_YUGABYTEDB_MANAGED_CONN=\"postgresql://${MY_YUGABYTEDB_MANAGED_YSQL_USER}:${MY_YUGABYTEDB_MANAGED_YSQL_PASSWORD}@${MY_YUGABYTEDB_MANAGED_HOST_PORT}/yugabyte?ssl=true&sslmode=verify-full&sslrootcert=${MY_YUGABYTEDB_MANAGED_CRT}\"\n",
    "echo $MY_YUGABYTEDB_MANAGED_CONN\n",
    "\n",
    "./bin/ysqlsh $MY_YUGABYTEDB_MANAGED_CONN -c \"select 1;\" "
   ]
  },
  {
   "cell_type": "markdown",
   "metadata": {},
   "source": [
    "---\n",
    "## Import modified schema"
   ]
  },
  {
   "cell_type": "markdown",
   "metadata": {},
   "source": [
    "> 👉 IMPORTANT! 👈\n",
    "> - Change the values in the variables for `ADD_HOST_HERE`\n",
    "> - Copy your `root.crt` to the `\\tmp` directory in the file explorer"
   ]
  },
  {
   "cell_type": "code",
   "execution_count": null,
   "metadata": {
    "vscode": {
     "languageId": "shellscript"
    }
   },
   "outputs": [],
   "source": [
    "%%bash -s \"$MY_DB_NAME\"  \"$MY_DB_PORT\" \"$MY_HOST_IPv4_01\" \"$MY_NOTEBOOK_VOYAGER_TMP\"\n",
    "DB_NAME=${1}\n",
    "DB_PORT=${2}\n",
    "DB_HOST=${3}\n",
    "NOTEBOOK_VOYAGER_TMP=${4}\n",
    "\n",
    "## IMPORTNAT: You must update these variables\n",
    "MY_YUGABYTEDB_MANAGED_HOST=ADD_HOST_HERE\n",
    "MY_YUGABYTEDB_MANAGED_YSQL_USER=ybvoyager\n",
    "MY_YUGABYTEDB_MANAGED_YSQL_PASSWORD=Yugabyte#1\n",
    "\n",
    "\n",
    "MY_YUGABYTEDB_MANAGED_PORT=5433\n",
    "MY_YUGABYTEDB_MANAGED_HOST_PORT=${MY_YUGABYTEDB_MANAGED_HOST}:${MY_YUGABYTEDB_MANAGED_PORT}\n",
    "MY_YUGABYTEDB_MANAGED_CRT=${NOTEBOOK_VOYAGER_TMP}/root.crt\n",
    "MY_YUGABYTEDB_MANAGED_CONN=\"postgresql://${MY_YUGABYTEDB_MANAGED_YSQL_USER}:${MY_YUGABYTEDB_MANAGED_YSQL_PASSWORD}@${MY_YUGABYTEDB_MANAGED_HOST_PORT}/yugabyte?ssl=true&sslmode=verify-full&sslrootcert=${MY_YUGABYTEDB_MANAGED_CRT}\"\n",
    "echo $MY_YUGABYTEDB_MANAGED_CONN\n",
    "\n",
    "\n",
    "yb-voyager import schema  -y  \\\n",
    "  --start-clean \\\n",
    "  --export-dir $NOTEBOOK_VOYAGER_TMP/export-dir \\\n",
    "  --target-db-host ${MY_YUGABYTEDB_MANAGED_HOST} \\\n",
    "  --target-db-port  ${MY_YUGABYTEDB_MANAGED_PORT} \\\n",
    "  --target-db-name  ${DB_NAME} \\\n",
    "  --target-db-user ${MY_YUGABYTEDB_MANAGED_YSQL_USER} \\\n",
    "  --target-db-password ${MY_YUGABYTEDB_MANAGED_YSQL_PASSWORD} \\\n",
    "  --target-ssl-mode \"verify-full\" \\\n",
    "  --target-ssl-root-cert ${MY_YUGABYTEDB_MANAGED_CRT} \\\n",
    "  --target-db-schema \"sakila\" > /dev/null\n",
    "  "
   ]
  },
  {
   "cell_type": "markdown",
   "metadata": {},
   "source": [
    "#### Sanity check\n",
    "\n",
    "> 👉 IMPORTANT! 👈\n",
    "> - Change the values in the variables for `ADD_HOST_HERE`\n",
    "> - Copy your `root.crt` to the `\\tmp` directory in the file explorer"
   ]
  },
  {
   "cell_type": "code",
   "execution_count": null,
   "metadata": {
    "vscode": {
     "languageId": "shellscript"
    }
   },
   "outputs": [],
   "source": [
    "%%bash -s \"$MY_YB_PATH\" \"$MY_DB_NAME\" \"$MY_NOTEBOOK_VOYAGER_TMP\" # create database\n",
    "YB_PATH=${1}\n",
    "DB_NAME=${2}\n",
    "NOTEBOOK_VOYAGER_TMP=${3}\n",
    "\n",
    "cd $YB_PATH\n",
    "echo $YB_PATH\n",
    "echo $NOTEBOOK_VOYAGER_TMP\n",
    "\n",
    "## IMPORTNAT: You must update these variables\n",
    "MY_YUGABYTEDB_MANAGED_HOST=ADD_HOST_HERE\n",
    "MY_YUGABYTEDB_MANAGED_YSQL_USER=ybvoyager\n",
    "MY_YUGABYTEDB_MANAGED_YSQL_PASSWORD=Yugabyte#1\n",
    "\n",
    "\n",
    "MY_YUGABYTEDB_MANAGED_PORT=5433\n",
    "MY_YUGABYTEDB_MANAGED_HOST_PORT=${MY_YUGABYTEDB_MANAGED_HOST}:${MY_YUGABYTEDB_MANAGED_PORT}\n",
    "MY_YUGABYTEDB_MANAGED_CRT=${NOTEBOOK_VOYAGER_TMP}/root.crt\n",
    "MY_YUGABYTEDB_MANAGED_CONN=\"postgresql://${MY_YUGABYTEDB_MANAGED_YSQL_USER}:${MY_YUGABYTEDB_MANAGED_YSQL_PASSWORD}@${MY_YUGABYTEDB_MANAGED_HOST_PORT}/${DB_NAME}?ssl=true&sslmode=verify-full&sslrootcert=${MY_YUGABYTEDB_MANAGED_CRT}\"\n",
    "echo $MY_YUGABYTEDB_MANAGED_CONN\n",
    "\n",
    "./bin/ysqlsh $MY_YUGABYTEDB_MANAGED_CONN -c \"\\dn;\" \n"
   ]
  },
  {
   "cell_type": "markdown",
   "metadata": {},
   "source": [
    "---\n",
    "## Import source data\n",
    "Import the source data to the target YugabyteDB database using the `yb-voyager import data` command.\n",
    "\n",
    "> 👉 IMPORTANT! 👈\n",
    "> - Change the values in the variables for `ADD_HOST_HERE`\n",
    "> - Copy your `root.crt` to the `\\tmp` directory in the file explorer"
   ]
  },
  {
   "cell_type": "code",
   "execution_count": null,
   "metadata": {
    "vscode": {
     "languageId": "shellscript"
    }
   },
   "outputs": [],
   "source": [
    "%%bash -s \"$MY_DB_NAME\"  \"$MY_DB_PORT\" \"$MY_HOST_IPv4_01\" \"$MY_NOTEBOOK_VOYAGER_TMP\"\n",
    "DB_NAME=${1}\n",
    "DB_PORT=${2}\n",
    "DB_HOST=${3}\n",
    "NOTEBOOK_VOYAGER_TMP=${4}\n",
    "\n",
    "\n",
    "## IMPORTNAT: You must update these variables\n",
    "MY_YUGABYTEDB_MANAGED_HOST=ADD_HOST_HERE\n",
    "MY_YUGABYTEDB_MANAGED_YSQL_USER=ybvoyager\n",
    "MY_YUGABYTEDB_MANAGED_YSQL_PASSWORD=Yugabyte#1\n",
    "\n",
    "\n",
    "MY_YUGABYTEDB_MANAGED_PORT=5433\n",
    "MY_YUGABYTEDB_MANAGED_HOST_PORT=${MY_YUGABYTEDB_MANAGED_HOST}:${MY_YUGABYTEDB_MANAGED_PORT}\n",
    "MY_YUGABYTEDB_MANAGED_CRT=${NOTEBOOK_VOYAGER_TMP}/root.crt\n",
    "MY_YUGABYTEDB_MANAGED_CONN=\"postgresql://${MY_YUGABYTEDB_MANAGED_YSQL_USER}:${MY_YUGABYTEDB_MANAGED_YSQL_PASSWORD}@${MY_YUGABYTEDB_MANAGED_HOST_PORT}/${DB_NAME}?ssl=true&sslmode=verify-full&sslrootcert=${MY_YUGABYTEDB_MANAGED_CRT}\"\n",
    "echo $MY_YUGABYTEDB_MANAGED_CONN\n",
    "\n",
    "\n",
    "##update to use connection string, user, and SSL?\n",
    "yb-voyager import data  --start-clean  -y \\\n",
    "  --export-dir $NOTEBOOK_VOYAGER_TMP/export-dir \\\n",
    "  --target-db-host ${MY_YUGABYTEDB_MANAGED_HOST} \\\n",
    "  --target-db-port  ${MY_YUGABYTEDB_MANAGED_PORT} \\\n",
    "  --target-db-name  ${DB_NAME} \\\n",
    "  --target-db-user ${MY_YUGABYTEDB_MANAGED_YSQL_USER} \\\n",
    "  --target-db-password ${MY_YUGABYTEDB_MANAGED_YSQL_PASSWORD} \\\n",
    "  --target-ssl-mode \"verify-full\" \\\n",
    "  --target-ssl-root-cert ${MY_YUGABYTEDB_MANAGED_CRT} \\\n",
    "  --target-db-schema \"sakila\" > /dev/null"
   ]
  },
  {
   "cell_type": "markdown",
   "metadata": {},
   "source": [
    "You can check the status of the import."
   ]
  },
  {
   "cell_type": "code",
   "execution_count": null,
   "metadata": {
    "vscode": {
     "languageId": "shellscript"
    }
   },
   "outputs": [],
   "source": [
    "%%bash -s \"$MY_MYSQL_DB_NAME\"  \"$MY_MYSQL_PORT\" \"$MY_HOST_IPv4_01\" \"$MY_NOTEBOOK_VOYAGER_TMP\"\n",
    "DB_NAME=${1}\n",
    "DB_PORT=${2}\n",
    "DB_HOST=${3}\n",
    "NOTEBOOK_VOYAGER_TMP=${4}\n",
    "\n",
    "yb-voyager import data status --export-dir $NOTEBOOK_VOYAGER_TMP/export-dir \n"
   ]
  },
  {
   "cell_type": "markdown",
   "metadata": {},
   "source": [
    "---\n",
    "## Post Import Data\n",
    "After importing the data, rerun the import schema command, but this time, using the arguments, `post-import-data` and `refresh-mviews`.\n",
    "\n",
    "\n",
    "> 👉 IMPORTANT! 👈\n",
    "> - Change the values in the variables for `ADD_HOST_HERE` \n",
    "> - Copy your `root.crt` to the `\\tmp` directory in the file explorer\n"
   ]
  },
  {
   "cell_type": "code",
   "execution_count": null,
   "metadata": {
    "vscode": {
     "languageId": "shellscript"
    }
   },
   "outputs": [],
   "source": [
    "%%bash -s \"$MY_DB_NAME\"  \"$MY_DB_PORT\" \"$MY_HOST_IPv4_01\" \"$MY_NOTEBOOK_VOYAGER_TMP\"\n",
    "DB_NAME=${1}\n",
    "DB_PORT=${2}\n",
    "DB_HOST=${3}\n",
    "NOTEBOOK_VOYAGER_TMP=${4}\n",
    "\n",
    "\n",
    "## IMPORTNAT: You must update these variables\n",
    "MY_YUGABYTEDB_MANAGED_HOST=ADD_HOST_HERE\n",
    "MY_YUGABYTEDB_MANAGED_YSQL_USER=ybvoyager\n",
    "MY_YUGABYTEDB_MANAGED_YSQL_PASSWORD=Yugabyte#1\n",
    "\n",
    "\n",
    "MY_YUGABYTEDB_MANAGED_PORT=5433\n",
    "MY_YUGABYTEDB_MANAGED_HOST_PORT=${MY_YUGABYTEDB_MANAGED_HOST}:${MY_YUGABYTEDB_MANAGED_PORT}\n",
    "MY_YUGABYTEDB_MANAGED_CRT=${NOTEBOOK_VOYAGER_TMP}/root.crt\n",
    "MY_YUGABYTEDB_MANAGED_CONN=\"postgresql://${MY_YUGABYTEDB_MANAGED_YSQL_USER}:${MY_YUGABYTEDB_MANAGED_YSQL_PASSWORD}@${MY_YUGABYTEDB_MANAGED_HOST_PORT}/${DB_NAME}?ssl=true&sslmode=verify-full&sslrootcert=${MY_YUGABYTEDB_MANAGED_CRT}\"\n",
    "echo $MY_YUGABYTEDB_MANAGED_CONN\n",
    "\n",
    "\n",
    "##update to use connection string, user, and SSL?\n",
    "yb-voyager import schema  -y \\\n",
    "  --post-import-data \\\n",
    "  --refresh-mviews \\\n",
    "  --export-dir $NOTEBOOK_VOYAGER_TMP/export-dir \\\n",
    "  --target-db-host ${MY_YUGABYTEDB_MANAGED_HOST} \\\n",
    "  --target-db-port  ${MY_YUGABYTEDB_MANAGED_PORT} \\\n",
    "  --target-db-name  ${DB_NAME} \\\n",
    "  --target-db-user ${MY_YUGABYTEDB_MANAGED_YSQL_USER} \\\n",
    "  --target-db-password ${MY_YUGABYTEDB_MANAGED_YSQL_PASSWORD} \\\n",
    "  --target-ssl-mode \"verify-full\" \\\n",
    "  --target-ssl-root-cert ${MY_YUGABYTEDB_MANAGED_CRT} \\\n",
    "  --target-db-schema \"sakila\" > /dev/null"
   ]
  },
  {
   "attachments": {},
   "cell_type": "markdown",
   "metadata": {
    "deletable": false,
    "editable": false
   },
   "source": [
    "---\n",
    "## Verify migration\n",
    "After completing the migration of the schema and the data,the automated migration is finished. Next is the manual verification of the migration success. \n",
    "\n",
    "You need to manually validate the successful migration of database objects, including the post import data objects such as triggers and indexes.\n",
    "\n",
    "You also need to manually run validation queries on both the source and target database to ensure that the data is correctly migrated. A sample query to validate the databases can include checking the row count of each table.\n"
   ]
  },
  {
   "attachments": {},
   "cell_type": "markdown",
   "metadata": {
    "deletable": false,
    "editable": false
   },
   "source": [
    "### Connect to your cluster in YugabyteDB Managed using the PostgreSQL Driver for Python\n",
    "\n",
    "> 👉 IMPORTANT! 👈\n",
    "> - Change the values in the variables for `ADD_HOST_HERE`."
   ]
  },
  {
   "cell_type": "markdown",
   "metadata": {},
   "source": [
    "Copy the connection string from the above cell output into `conn_str`"
   ]
  },
  {
   "cell_type": "code",
   "execution_count": null,
   "metadata": {
    "deletable": false,
    "editable": false
   },
   "outputs": [],
   "source": [
    "# Connect to db_ybu in YugabyteDB Managed, requires you to update `ADD_HOST_HERE`\n",
    "\n",
    "import psycopg2\n",
    "import sqlalchemy as alc\n",
    "from sqlalchemy import create_engine\n",
    "\n",
    "\n",
    "db_name=MY_DB_NAME\n",
    "\n",
    "managed_host='ADD_HOST_HERE'\n",
    "\n",
    "connection_managed_str='postgresql://ybvoyager:Yugabyte#1@'+managed_host+':5433/'+db_name\n",
    "print(connection_managed_str)\n",
    "engine = create_engine(connection_managed_str)"
   ]
  },
  {
   "attachments": {},
   "cell_type": "markdown",
   "metadata": {
    "deletable": false,
    "editable": false
   },
   "source": [
    "#### Load SQL magic extension\n",
    ">IMPORTANT!\n",
    ">\n",
    "> To use SQL magic, you must run the following cell that loads the notebook extension."
   ]
  },
  {
   "cell_type": "code",
   "execution_count": null,
   "metadata": {},
   "outputs": [],
   "source": [
    "%reload_ext sql\n",
    "# creates connection for sql magic\n",
    "%sql {connection_managed_str}"
   ]
  },
  {
   "cell_type": "markdown",
   "metadata": {},
   "source": [
    "### Run queries to validate objects"
   ]
  },
  {
   "cell_type": "markdown",
   "metadata": {},
   "source": [
    "Verify the creation of indexes."
   ]
  },
  {
   "cell_type": "code",
   "execution_count": null,
   "metadata": {},
   "outputs": [],
   "source": [
    "%%sql\n",
    "select tablename, indexname, indexdef from pg_indexes where schemaname = 'sakila' order by tablename, indexname;"
   ]
  },
  {
   "cell_type": "markdown",
   "metadata": {},
   "source": [
    "Verify the creation of triggers."
   ]
  },
  {
   "cell_type": "code",
   "execution_count": null,
   "metadata": {},
   "outputs": [],
   "source": [
    "%%sql\n",
    "select  event_object_table AS table_name, trigger_name from information_schema.triggers where trigger_schema = 'sakila' group by table_name, trigger_name order by table_name, trigger_name;"
   ]
  },
  {
   "cell_type": "markdown",
   "metadata": {},
   "source": [
    "### Run queries"
   ]
  },
  {
   "cell_type": "code",
   "execution_count": null,
   "metadata": {},
   "outputs": [],
   "source": [
    "%%sql\n",
    "select * from sakila.actor where UPPER(first_name) = 'SCARLETT';"
   ]
  },
  {
   "cell_type": "code",
   "execution_count": null,
   "metadata": {},
   "outputs": [],
   "source": [
    "%%sql\n",
    "select count(distinct last_name) from sakila.actor;"
   ]
  },
  {
   "cell_type": "code",
   "execution_count": null,
   "metadata": {},
   "outputs": [],
   "source": [
    "%%sql\n",
    "select actor.actor_id, actor.first_name, actor.last_name,\n",
    "       count(actor_id) as film_count\n",
    "from sakila.actor join sakila.film_actor using (actor_id)\n",
    "group by actor_id\n",
    "order by film_count desc\n",
    "limit 1;"
   ]
  },
  {
   "attachments": {},
   "cell_type": "markdown",
   "metadata": {
    "deletable": false,
    "editable": false
   },
   "source": [
    "---\n",
    "\n",
    "## 😊 Next up!\n",
    "Continue your learning by opening the next notebook, `07_Demystifying_Table_Sharding.ipynb`. \n",
    "\n",
    "Or, to open the notebook from GitPod, run the following:"
   ]
  },
  {
   "cell_type": "code",
   "execution_count": null,
   "metadata": {
    "vscode": {
     "languageId": "shellscript"
    }
   },
   "outputs": [],
   "source": [
    "%%bash\n",
    "gp open '07_Demystifying_Table_Sharding.ipynb'"
   ]
  }
 ],
 "metadata": {
  "kernelspec": {
   "display_name": "Python 3.7.9 64-bit",
   "language": "python",
   "name": "python3"
  },
  "language_info": {
   "codemirror_mode": {
    "name": "ipython",
    "version": 3
   },
   "file_extension": ".py",
   "mimetype": "text/x-python",
   "name": "python",
   "nbconvert_exporter": "python",
   "pygments_lexer": "ipython3",
   "version": "3.11.2"
  },
  "orig_nbformat": 4,
  "vscode": {
   "interpreter": {
    "hash": "aee8b7b246df8f9039afb4144a1f6fd8d2ca17a180786b69acc140d282b71a49"
   }
  }
 },
 "nbformat": 4,
 "nbformat_minor": 2
}
