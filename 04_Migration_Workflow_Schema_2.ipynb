{
 "cells": [
  {
   "attachments": {},
   "cell_type": "markdown",
   "metadata": {
    "deletable": false,
    "editable": false
   },
   "source": [
    "<div style=\"width:100%; background-color: #000041\"><a target=\"_blank\" href=\"bit.ly/45U3TvK\"><img src=\"assets/YugabyteDB_DSS-Virtual_LinkedIn-Cover_1584x396.jpg\" /></a></div>\n",
    "\n",
    "<br>\n",
    "\n",
    "> **Migrate from MySQL to Distributed, Highly Available PostgreSQL!**\n",
    ">\n",
    "> Registration is free  [Distributed SQL Summit](bit.ly/45U3TvK).\n",
    ">\n",
    "\n",
    "This notebook file is:\n",
    "\n",
    "`04_Migration_Workflow_Schema_2.ipynb`"
   ]
  },
  {
   "attachments": {},
   "cell_type": "markdown",
   "metadata": {},
   "source": [
    "## 🛠️ Requirements\n",
    "Here are the requirements for this notebook:\n",
    "- ✅ Create the notebook variables in `01_Lab_Setup.ipynb`, which you previously did\n",
    "- ✅ Create the `ds_ybu` database, which you previously did\n",
    "- ☑️ Import the notebook variables, *which you must do next*\n",
    "- ☑️ Analyze, modify, an import the data *which you must do next*\n",
    "\n",
    "\n",
    "### Select your notebook kernel\n",
    "- In the Notebook toolbar, click **Select Kernel**.\n",
    "<br>\n",
    "<img width=50% src=\"assets/01_01_Select_Kernel_Toolbar.png\" />\n",
    "\n",
    "- Next, in the dropdown, select **Python 3.8.13** or higher.\n",
    "<br>\n",
    "<img width=50% src=\"assets/01_02_Select_Kernel_Dropdown.png\" />\n",
    "\n",
    "That's it!"
   ]
  },
  {
   "attachments": {},
   "cell_type": "markdown",
   "metadata": {},
   "source": [
    "## ⛑️ Getting help\n",
    "The best way to get help us from the Yugabyte University team. You can post your question in YugabyteDB Community Slack in the #training or #yb-university channels. Join our [community](https://communityinviter.com/apps/yugabyte-db/register)."
   ]
  },
  {
   "attachments": {},
   "cell_type": "markdown",
   "metadata": {
    "deletable": false,
    "editable": false
   },
   "source": [
    "## 👣 Set up steps for this notebook\n",
    "Here are the steps to setup this lab:\n",
    "\n",
    "- Import the notebook variables"
   ]
  },
  {
   "attachments": {},
   "cell_type": "markdown",
   "metadata": {
    "deletable": false,
    "editable": false
   },
   "source": [
    "### 👇 Import the notebook variables\n",
    "\n",
    "> 👉 IMPORTANT! 👈\n",
    "> \n",
    "> Do **NOT** skip running the following cell. \n",
    "> \n",
    "\n",
    "The following Python cell reads the stored variables created in the `01_Lab_Setup.ipynb` notebook. To run the script, select Execute Cell (Play Arrow) in the left gutter of the cell. \n",
    "\n",
    "👇 👇 👇 "
   ]
  },
  {
   "cell_type": "code",
   "execution_count": null,
   "metadata": {
    "deletable": false,
    "editable": false
   },
   "outputs": [],
   "source": [
    "# Use %store -r to read 01_Lab_Setup variables\n",
    "%store -r MY_YB_PATH\n",
    "%store -r MY_YB_PATH_DATA\n",
    "\n",
    "%store -r MY_GITPOD_WORKSPACE_URL\n",
    "\n",
    "%store -r MY_DB_NAME\n",
    "%store -r MY_DB_PORT\n",
    "%store -r MY_MYSQL_DB_NAME\n",
    "\n",
    "%store -r MY_HOST_IPv4_01\n",
    "%store -r MY_HOST_IPv4_02\n",
    "%store -r MY_HOST_IPv4_03\n",
    "\n",
    "%store -r MY_TSERVER_WEBSERVER_PORT\n",
    "%store -r MY_MYSQL_PORT\n",
    "\n",
    "%store -r MY_YB_MASTER_HOST_GITPOD_URL\n",
    "%store -r MY_YB_TSERVER_HOST_GITPOD_URL\n",
    "\n",
    "%store -r MY_NOTEBOOK_DIR\n",
    "%store -r MY_NOTEBOOK_DATA_FOLDER\n",
    "%store -r MY_NOTEBOOK_UTILS_FOLDER\n",
    "%store -r MY_NOTEBOOK_VOYAGER_TMP\n",
    "\n",
    "%store -r MY_UTIL_FUNCTIONS_FILE\n",
    "%store -r MY_UTIL_YBTSERVER_METRICS_FILE\n",
    "\n",
    "%store -r BETA_FAST_DATA_EXPORT"
   ]
  },
  {
   "cell_type": "markdown",
   "metadata": {},
   "source": [
    "---\n",
    "# Migration Workflow: Schema (2)\n",
    "\n",
    "\n",
    "<div style=\"width:100%; background-color: #000041\"><img src=\"assets/Migration_Workflow_03.png\" /></div>"
   ]
  },
  {
   "cell_type": "markdown",
   "metadata": {},
   "source": [
    "---\n",
    "# Import the modified schema\n",
    "\n",
    " `yb-voyager` imports the source database into the `public` schema of the target database. This is applicable only for MySQL and Oracle databases. \n",
    " \n",
    " By specifying `--target-db-schema` argument during import, you can instruct `yb-voyager` to create a non-public schema and use it for the import.\n",
    "\n"
   ]
  },
  {
   "cell_type": "code",
   "execution_count": null,
   "metadata": {
    "vscode": {
     "languageId": "shellscript"
    }
   },
   "outputs": [],
   "source": [
    "%%bash\n",
    "\n",
    "yb-voyager import schema --help"
   ]
  },
  {
   "cell_type": "markdown",
   "metadata": {},
   "source": [
    "Import the modified schema to the target YugabyteDB database using the `yb-voyager import schema` command."
   ]
  },
  {
   "cell_type": "code",
   "execution_count": null,
   "metadata": {
    "vscode": {
     "languageId": "shellscript"
    }
   },
   "outputs": [],
   "source": [
    "%%bash -s \"$MY_DB_NAME\"  \"$MY_DB_PORT\" \"$MY_HOST_IPv4_01\" \"$MY_NOTEBOOK_VOYAGER_TMP\"\n",
    "DB_NAME=${1}\n",
    "DB_PORT=${2}\n",
    "DB_HOST=${3}\n",
    "NOTEBOOK_VOYAGER_TMP=${4}\n",
    "\n",
    "yb-voyager import schema  --start-clean -y    \\\n",
    "  --export-dir $NOTEBOOK_VOYAGER_TMP/export-dir \\\n",
    "  --target-db-host ${DB_HOST} \\\n",
    "  --target-db-port  ${DB_PORT} \\\n",
    "  --target-db-name  ${DB_NAME} \\\n",
    "  --target-db-user \"ybvoyager\" \\\n",
    "  --target-db-password \"Password\" \\\n",
    "  --target-db-schema \"sakila\" > /dev/null\n"
   ]
  },
  {
   "cell_type": "markdown",
   "metadata": {},
   "source": [
    "We'll, that raised an error: \n",
    "\n",
    "`error: ERROR: in an aggregate with DISTINCT, ORDER BY expressions must appear in argument list (SQLSTATE 42P10)`\n",
    "\n",
    "There may be more than one!"
   ]
  },
  {
   "cell_type": "markdown",
   "metadata": {},
   "source": [
    "---\n",
    "## Resolve the schema errors"
   ]
  },
  {
   "cell_type": "markdown",
   "metadata": {},
   "source": [
    "Oh no! Errors!\n",
    "\n",
    "Grep the log files to get a better understanding of the related errors. Start with the first one that has to do with a table. Typically resolving errors with the DDL of a table will help solve other errors with views and other dependent objects."
   ]
  },
  {
   "cell_type": "code",
   "execution_count": null,
   "metadata": {
    "vscode": {
     "languageId": "shellscript"
    }
   },
   "outputs": [],
   "source": [
    "%%bash -s \"$MY_NOTEBOOK_VOYAGER_TMP\"\n",
    "NOTEBOOK_VOYAGER_TMP=${1}\n",
    "IMPORT_SCHEMA_LOG=yb-voyager-import-schema.log\n",
    " \n",
    "tail -n 2000 $NOTEBOOK_VOYAGER_TMP/export-dir/logs/$IMPORT_SCHEMA_LOG| grep 'SQLSTATE'"
   ]
  },
  {
   "cell_type": "markdown",
   "metadata": {},
   "source": [
    "`: ERROR: type \"geometry\" does not exist (SQLSTATE 42704)`\n",
    "```\n",
    "2023-09-08 17:52:40 ERROR importData.go:942 DDL Execution Failed for \"CREATE TABLE address (\\n\\taddress_id serial,\\n\\taddress varchar(50) NOT NULL,\\n\\taddress2 varchar(50),\\n\\tdistrict varchar(20) NOT NULL,\\n\\tcity_id integer NOT NULL,\\n\\tpostal_code varchar(10),\\n\\tphone varchar(20) NOT NULL,\\n\\tlocation GEOMETRY NOT NULL,\\n\\tlast_update timestamp NOT NULL DEFAULT CURRENT_TIMESTAMP,\\n\\tPRIMARY KEY (address_id)\\n) ;\": ERROR: type \"geometry\" does not exist (SQLSTATE 42704)\n",
    "```"
   ]
  },
  {
   "cell_type": "markdown",
   "metadata": {},
   "source": [
    "View the table definition from the source database as well as row."
   ]
  },
  {
   "cell_type": "code",
   "execution_count": null,
   "metadata": {
    "vscode": {
     "languageId": "shellscript"
    }
   },
   "outputs": [],
   "source": [
    "%%bash -s \"$MY_MYSQL_DB_NAME\"  # create database\n",
    "DB_NAME=${1}\n",
    "\n",
    "mysql -h 0 -u root ${DB_NAME} -e \"SHOW CREATE TABLE address; \"  \n",
    "mysql -h 0 -u root ${DB_NAME} -e \"select location from address where location is not null limit 1; \"  "
   ]
  },
  {
   "cell_type": "markdown",
   "metadata": {},
   "source": [
    "The GEOMETRY datatype for  MYSQL 8.0+ an be in several formats:\n",
    "- Well-Known Text (WKT) Format\n",
    "- Well-Known Binary (WKB) Format\n",
    "- Internal Geometry Storage Format\n",
    "\n",
    "> Learn more\n",
    "> \n",
    "> For more details, visit:\n",
    "> [https://docs.yugabyte.com/preview/api/ysql/datatypes/type_binary/](https://docs.yugabyte.com/preview/api/ysql/datatypes/type_binary/)"
   ]
  },
  {
   "cell_type": "markdown",
   "metadata": {},
   "source": [
    "Modify the DDL of the `address` table to use a different datatype in the export schema file. Change the data type to a binary data type, `BYTEA`, which is variable length binary string. "
   ]
  },
  {
   "cell_type": "code",
   "execution_count": null,
   "metadata": {
    "vscode": {
     "languageId": "shellscript"
    }
   },
   "outputs": [],
   "source": [
    "%%bash -s \"$MY_NOTEBOOK_VOYAGER_TMP\"\n",
    "NOTEBOOK_VOYAGER_TMP=${1}\n",
    "\n",
    "SEARCH=\"GEOMETRY\"\n",
    "REPLACE=\"BYTEA\"\n",
    "FILE_PATH=$NOTEBOOK_VOYAGER_TMP/export-dir/schema/tables/table.sql\n",
    "\n",
    "sed -i \"s/$SEARCH/$REPLACE/\" $FILE_PATH"
   ]
  },
  {
   "cell_type": "markdown",
   "metadata": {},
   "source": [
    "Confirm the change to the file."
   ]
  },
  {
   "cell_type": "code",
   "execution_count": null,
   "metadata": {
    "vscode": {
     "languageId": "shellscript"
    }
   },
   "outputs": [],
   "source": [
    "%%bash -s \"$MY_NOTEBOOK_VOYAGER_TMP\"\n",
    "NOTEBOOK_VOYAGER_TMP=${1}\n",
    "\n",
    "FILE_PATH=$NOTEBOOK_VOYAGER_TMP/export-dir/schema/tables/table.sql\n",
    "\n",
    "cat $FILE_PATH  | grep -B 10 'BYTEA'"
   ]
  },
  {
   "cell_type": "markdown",
   "metadata": {},
   "source": [
    "Resolve another error. In this case, look at the error for the view, `customer_list`."
   ]
  },
  {
   "cell_type": "code",
   "execution_count": null,
   "metadata": {
    "vscode": {
     "languageId": "shellscript"
    }
   },
   "outputs": [],
   "source": [
    "%%bash -s \"$MY_NOTEBOOK_VOYAGER_TMP\"\n",
    "NOTEBOOK_VOYAGER_TMP=${1}\n",
    "IMPORT_SCHEMA_LOG=yb-voyager-import-schema.log\n",
    " \n",
    "tail -n 2000 $NOTEBOOK_VOYAGER_TMP/export-dir/logs/$IMPORT_SCHEMA_LOG| grep 'SQLSTATE'"
   ]
  },
  {
   "cell_type": "markdown",
   "metadata": {},
   "source": [
    "```\n",
    "DDL Execution Failed for \"CREATE OR REPLACE VIEW customer_list AS select cu.customer_id AS ID,concat(cu.first_name,' ',cu.last_name) AS name,a.address AS address,a.postal_code AS zip code,a.phone AS phone,city.city AS city,country.country AS country,CASE WHEN cu.active THEN 'active' ELSE '' END  AS notes,cu.store_id AS SID FROM (((customer cu join address a on (cu.address_id = a.address_id)) join city on (a.city_id = city.city_id)) join country on (city.country_id = country.country_id));\": ERROR: syntax error at or near \"code\" (SQLSTATE 42601)\n",
    "```\n"
   ]
  },
  {
   "cell_type": "markdown",
   "metadata": {},
   "source": [
    "Use sed or the open editor to make your changes."
   ]
  },
  {
   "cell_type": "code",
   "execution_count": null,
   "metadata": {
    "vscode": {
     "languageId": "shellscript"
    }
   },
   "outputs": [],
   "source": [
    "%%bash -s \"$MY_NOTEBOOK_VOYAGER_TMP\"\n",
    "NOTEBOOK_VOYAGER_TMP=${1}\n",
    "\n",
    "SEARCH=\"zip code\"\n",
    "REPLACE=\"zip_code\"\n",
    "FILE_PATH=$NOTEBOOK_VOYAGER_TMP/export-dir/schema/views/view.sql\n",
    "\n",
    "sed -i \"s/$SEARCH/$REPLACE/\" $FILE_PATH\n",
    "gp open $FILE_PATH"
   ]
  },
  {
   "cell_type": "markdown",
   "metadata": {},
   "source": [
    "Verify the change."
   ]
  },
  {
   "cell_type": "code",
   "execution_count": null,
   "metadata": {
    "vscode": {
     "languageId": "shellscript"
    }
   },
   "outputs": [],
   "source": [
    "%%bash -s \"$MY_NOTEBOOK_VOYAGER_TMP\"\n",
    "NOTEBOOK_VOYAGER_TMP=${1}\n",
    "\n",
    "FILE_PATH=$NOTEBOOK_VOYAGER_TMP/export-dir/schema/views/view.sql\n",
    "\n",
    "cat $FILE_PATH  | grep 'zip_code'"
   ]
  },
  {
   "cell_type": "markdown",
   "metadata": {},
   "source": [
    "---\n",
    "## Rinse & Repeat: Import the modified schema (1)"
   ]
  },
  {
   "cell_type": "code",
   "execution_count": null,
   "metadata": {
    "vscode": {
     "languageId": "shellscript"
    }
   },
   "outputs": [],
   "source": [
    "%%bash -s \"$MY_DB_NAME\"  \"$MY_DB_PORT\" \"$MY_HOST_IPv4_01\" \"$MY_NOTEBOOK_VOYAGER_TMP\"\n",
    "DB_NAME=${1}\n",
    "DB_PORT=${2}\n",
    "DB_HOST=${3}\n",
    "NOTEBOOK_VOYAGER_TMP=${4}\n",
    "IMPORT_SCHEMA_LOG=yb-voyager-import-schema.log\n",
    "\n",
    "# delete the log so that we can get a fresh view\n",
    "rm -rf $NOTEBOOK_VOYAGER_TMP/export-dir/logs/$IMPORT_SCHEMA_LOG\n",
    "\n",
    "yb-voyager import schema  --start-clean  -y  \\\n",
    "  --export-dir $NOTEBOOK_VOYAGER_TMP/export-dir \\\n",
    "  --target-db-host ${DB_HOST} \\\n",
    "  --target-db-port  ${DB_PORT} \\\n",
    "  --target-db-name  ${DB_NAME} \\\n",
    "  --target-db-user \"ybvoyager\" \\\n",
    "  --target-db-password \"Password\" \\\n",
    "  --target-db-schema \"sakila\" > /dev/null\n"
   ]
  },
  {
   "cell_type": "markdown",
   "metadata": {},
   "source": [
    "Another error! \n",
    "\n",
    "See the view, `actor_info`.\n",
    "\n",
    "`ERROR: in an aggregate with DISTINCT, ORDER BY expressions must appear in argument list (SQLSTATE 42P10)`"
   ]
  },
  {
   "cell_type": "code",
   "execution_count": null,
   "metadata": {
    "vscode": {
     "languageId": "shellscript"
    }
   },
   "outputs": [],
   "source": [
    "%%bash -s \"$MY_NOTEBOOK_VOYAGER_TMP\"\n",
    "NOTEBOOK_VOYAGER_TMP=${1}\n",
    "IMPORT_SCHEMA_LOG=yb-voyager-import-schema.log\n",
    " \n",
    "tail -n 2000 $NOTEBOOK_VOYAGER_TMP/export-dir/logs/$IMPORT_SCHEMA_LOG| grep 'SQLSTATE'"
   ]
  },
  {
   "cell_type": "markdown",
   "metadata": {},
   "source": [
    "---\n",
    "## Rinse & Repeat: Resolve the schema errors (1)"
   ]
  },
  {
   "cell_type": "code",
   "execution_count": null,
   "metadata": {
    "vscode": {
     "languageId": "shellscript"
    }
   },
   "outputs": [],
   "source": [
    "%%bash -s \"$MY_NOTEBOOK_VOYAGER_TMP\"\n",
    "NOTEBOOK_VOYAGER_TMP=${1}\n",
    "\n",
    "FILE_PATH=$NOTEBOOK_VOYAGER_TMP/export-dir/schema/views/view.sql\n",
    "\n",
    "cat $FILE_PATH  | grep -A 1 'CREATE OR REPLACE VIEW actor_info'"
   ]
  },
  {
   "cell_type": "markdown",
   "metadata": {},
   "source": [
    "The challenge here has to do with the functions, `array_to_string() and array_agg()` . These are being used to replace the `group_concat()` built-in function of MySQL. The best solution, which is long, is to comment out the view, and after successfully importing the schema and data, do the following: \n",
    "- create the `_group_concat` function \n",
    "- create the `group_concat` aggregate function \n",
    "- create the `actor_info` view that uses the `group_concat` function \n",
    "\n",
    "It looks something like the following --> don't run this code"
   ]
  },
  {
   "cell_type": "code",
   "execution_count": null,
   "metadata": {
    "vscode": {
     "languageId": "sql"
    }
   },
   "outputs": [],
   "source": [
    "/* do not run this cell */\n",
    "CREATE FUNCTION _group_concat(text, text) RETURNS text\n",
    "    AS $_$\n",
    "SELECT CASE\n",
    "  WHEN $2 IS NULL THEN $1\n",
    "  WHEN $1 IS NULL THEN $2\n",
    "  ELSE $1 || ', ' || $2\n",
    "END\n",
    "$_$\n",
    "    LANGUAGE sql IMMUTABLE;\n",
    "\n",
    "\n",
    "ALTER FUNCTION sakila._group_concat(text, text) OWNER TO yugabyte;\n",
    "\n",
    "\n",
    "CREATE AGGREGATE group_concat(text) (\n",
    "    SFUNC = _group_concat,\n",
    "    STYPE = text\n",
    ");\n",
    "\n",
    "\n",
    "ALTER AGGREGATE sakila.group_concat(text) OWNER TO yugabyte;\n",
    "\n",
    "CREATE VIEW actor_info AS\n",
    "    SELECT a.actor_id, \n",
    "    a.first_name, \n",
    "    a.last_name, \n",
    "    group_concat(DISTINCT (((c.name)::text || ': '::text) || (SELECT group_concat((f.title)::text) AS group_concat FROM ((film f JOIN film_category fc ON ((f.film_id = fc.film_id))) JOIN film_actor fa ON ((f.film_id = fa.film_id))) WHERE ((fc.category_id = c.category_id) AND (fa.actor_id = a.actor_id)) GROUP BY fa.actor_id))) AS film_info \n",
    "    FROM (((actor a LEFT JOIN film_actor fa ON ((a.actor_id = fa.actor_id))) LEFT JOIN film_category fc ON ((fa.film_id = fc.film_id))) LEFT JOIN category c ON ((fc.category_id = c.category_id))) \n",
    "    GROUP BY a.actor_id, a.first_name, a.last_name;"
   ]
  },
  {
   "cell_type": "markdown",
   "metadata": {},
   "source": [
    "But for now, simply remove the distinct clause from the view."
   ]
  },
  {
   "cell_type": "code",
   "execution_count": null,
   "metadata": {
    "vscode": {
     "languageId": "sql"
    }
   },
   "outputs": [],
   "source": [
    "%%bash -s \"$MY_NOTEBOOK_VOYAGER_TMP\"\n",
    "NOTEBOOK_VOYAGER_TMP=${1}\n",
    "\n",
    "SEARCH=\"distinct\"\n",
    "REPLACE=\"\"\n",
    "FILE_PATH=$NOTEBOOK_VOYAGER_TMP/export-dir/schema/views/view.sql\n",
    "\n",
    "sed -i \"s/$SEARCH/$REPLACE/\" $FILE_PATH"
   ]
  },
  {
   "cell_type": "markdown",
   "metadata": {},
   "source": [
    "---\n",
    "## Rinse & Repeat: Import the modified schema (2)"
   ]
  },
  {
   "cell_type": "code",
   "execution_count": null,
   "metadata": {
    "vscode": {
     "languageId": "shellscript"
    }
   },
   "outputs": [],
   "source": [
    "%%bash -s \"$MY_DB_NAME\"  \"$MY_DB_PORT\" \"$MY_HOST_IPv4_01\" \"$MY_NOTEBOOK_VOYAGER_TMP\"\n",
    "DB_NAME=${1}\n",
    "DB_PORT=${2}\n",
    "DB_HOST=${3}\n",
    "NOTEBOOK_VOYAGER_TMP=${4}\n",
    "IMPORT_SCHEMA_LOG=yb-voyager-import-schema.log\n",
    "\n",
    "# delete the log so that we can get a fresh view\n",
    "rm -rf $NOTEBOOK_VOYAGER_TMP/export-dir/logs/$IMPORT_SCHEMA_LOG\n",
    "\n",
    "yb-voyager import schema  --start-clean  -y  \\\n",
    "  --export-dir $NOTEBOOK_VOYAGER_TMP/export-dir \\\n",
    "  --target-db-host ${DB_HOST} \\\n",
    "  --target-db-port  ${DB_PORT} \\\n",
    "  --target-db-name  ${DB_NAME} \\\n",
    "  --target-db-user \"ybvoyager\" \\\n",
    "  --target-db-password \"Password\" \\\n",
    "  --target-db-schema \"sakila\" > /dev/null\n"
   ]
  },
  {
   "cell_type": "markdown",
   "metadata": {},
   "source": [
    "Another error!\n",
    "\n",
    "`error: ERROR: argument of CASE/WHEN must be type boolean, not type smallint (SQLSTATE 42804)`"
   ]
  },
  {
   "cell_type": "markdown",
   "metadata": {},
   "source": [
    "Look at the log for more details."
   ]
  },
  {
   "cell_type": "code",
   "execution_count": null,
   "metadata": {
    "vscode": {
     "languageId": "shellscript"
    }
   },
   "outputs": [],
   "source": [
    "%%bash -s \"$MY_NOTEBOOK_VOYAGER_TMP\"\n",
    "NOTEBOOK_VOYAGER_TMP=${1}\n",
    "IMPORT_SCHEMA_LOG=yb-voyager-import-schema.log\n",
    " \n",
    "tail -n 2000 $NOTEBOOK_VOYAGER_TMP/export-dir/logs/$IMPORT_SCHEMA_LOG | grep 'SQLSTATE'"
   ]
  },
  {
   "cell_type": "markdown",
   "metadata": {},
   "source": [
    "```\n",
    " Execution Failed for \"CREATE OR REPLACE VIEW customer_list ....\n",
    " CASE WHEN cu.active THEN 'active' ELSE '' END \n",
    "```\n",
    "\n",
    "The `cu` alias is the  `customer` table, and the issue is with the `active` column."
   ]
  },
  {
   "cell_type": "code",
   "execution_count": null,
   "metadata": {
    "vscode": {
     "languageId": "shellscript"
    }
   },
   "outputs": [],
   "source": [
    "%%bash -s \"$MY_NOTEBOOK_VOYAGER_TMP\"\n",
    "NOTEBOOK_VOYAGER_TMP=${1}\n",
    "\n",
    "FILE_PATH=$NOTEBOOK_VOYAGER_TMP/export-dir/schema/tables/table.sql\n",
    "\n",
    "cat $FILE_PATH  | grep -A 11 'CREATE TABLE customer'"
   ]
  },
  {
   "cell_type": "markdown",
   "metadata": {},
   "source": [
    "The `active` column uses `smallint`. "
   ]
  },
  {
   "cell_type": "markdown",
   "metadata": {},
   "source": [
    "---\n",
    "## Rinse & Repeat: Resolve the schema errors (2)"
   ]
  },
  {
   "cell_type": "markdown",
   "metadata": {},
   "source": [
    "Update the `table.sql` file using sed or the editor. \n",
    "\n",
    "Change the `smallint` to a `boolean`."
   ]
  },
  {
   "cell_type": "code",
   "execution_count": null,
   "metadata": {
    "vscode": {
     "languageId": "shellscript"
    }
   },
   "outputs": [],
   "source": [
    "%%bash -s \"$MY_NOTEBOOK_VOYAGER_TMP\"\n",
    "NOTEBOOK_VOYAGER_TMP=${1}\n",
    "\n",
    "SEARCH=\"active smallint NOT NULL DEFAULT 1\"\n",
    "REPLACE=\"active boolean NOT NULL DEFAULT TRUE\"\n",
    "FILE_PATH=$NOTEBOOK_VOYAGER_TMP/export-dir/schema/tables/table.sql\n",
    "\n",
    "sed -i \"s/$SEARCH/$REPLACE/\" $FILE_PATH\n",
    "gp open $FILE_PATH\n"
   ]
  },
  {
   "cell_type": "markdown",
   "metadata": {},
   "source": [
    "Verify the changes"
   ]
  },
  {
   "cell_type": "code",
   "execution_count": null,
   "metadata": {
    "vscode": {
     "languageId": "shellscript"
    }
   },
   "outputs": [],
   "source": [
    "%%bash -s \"$MY_NOTEBOOK_VOYAGER_TMP\"\n",
    "NOTEBOOK_VOYAGER_TMP=${1}\n",
    "\n",
    "FILE_PATH=$NOTEBOOK_VOYAGER_TMP/export-dir/schema/tables/table.sql\n",
    "\n",
    "cat $FILE_PATH  | grep -A 11 'CREATE TABLE customer'"
   ]
  },
  {
   "cell_type": "markdown",
   "metadata": {},
   "source": [
    "---\n",
    "## Rinse & Repeat: Import the modified schema (3)"
   ]
  },
  {
   "cell_type": "markdown",
   "metadata": {},
   "source": [
    "Rerun `import schema` again."
   ]
  },
  {
   "cell_type": "code",
   "execution_count": null,
   "metadata": {
    "vscode": {
     "languageId": "shellscript"
    }
   },
   "outputs": [],
   "source": [
    "%%bash -s \"$MY_DB_NAME\"  \"$MY_DB_PORT\" \"$MY_HOST_IPv4_01\" \"$MY_NOTEBOOK_VOYAGER_TMP\"\n",
    "DB_NAME=${1}\n",
    "DB_PORT=${2}\n",
    "DB_HOST=${3}\n",
    "NOTEBOOK_VOYAGER_TMP=${4}\n",
    "IMPORT_SCHEMA_LOG=yb-voyager-import-schema.log\n",
    "\n",
    "# delete the log so that we can get a fresh view\n",
    "rm -rf $NOTEBOOK_VOYAGER_TMP/export-dir/logs/$IMPORT_SCHEMA_LOG\n",
    "\n",
    "yb-voyager import schema  --start-clean  -y  \\\n",
    "  --export-dir $NOTEBOOK_VOYAGER_TMP/export-dir \\\n",
    "  --target-db-host ${DB_HOST} \\\n",
    "  --target-db-port  ${DB_PORT} \\\n",
    "  --target-db-name  ${DB_NAME} \\\n",
    "  --target-db-user \"ybvoyager\" \\\n",
    "  --target-db-password \"Password\" \\\n",
    "  --target-db-schema \"sakila\" > /dev/null"
   ]
  },
  {
   "cell_type": "markdown",
   "metadata": {},
   "source": [
    "Oops! Another error:\n",
    "\n",
    "`error: ERROR: column \"c.city\" must appear in the GROUP BY clause or be used in an aggregate function (SQLSTATE 42803)`"
   ]
  },
  {
   "cell_type": "markdown",
   "metadata": {
    "vscode": {
     "languageId": "shellscript"
    }
   },
   "source": [
    "This error has to do the view, `sales_by_store`:\n",
    "\n",
    "```\n",
    "DDL Execution Failed for \"CREATE OR REPLACE VIEW sales_by_store AS select concat(c.city,',',cy.country) AS store,concat(m.first_name,' ',m.last_name) AS manager,sum(p.amount) AS total_sales FROM (((((((payment p join rental r on (p.rental_id = r.rental_id)) join inventory i on (r.inventory_id = i.inventory_id)) join store s on (i.store_id = s.store_id)) join address a on (s.address_id = a.address_id)) join city c on (a.city_id = c.city_id)) join country cy on (c.country_id = cy.country_id)) join staff m on (s.manager_staff_id = m.staff_id)) group by s.store_id order by cy.country,c.city;\": ERROR: column \"c.city\" must appear in the GROUP BY clause or be used in an aggregate function (SQLSTATE 42803)\n",
    "```"
   ]
  },
  {
   "cell_type": "markdown",
   "metadata": {},
   "source": [
    "---\n",
    "## Rinse & Repeat: Resolve the schema errors (3)"
   ]
  },
  {
   "cell_type": "markdown",
   "metadata": {},
   "source": [
    "PostgreSQL, like most sensible DBMSs, does \"group by\" properly, insisting that everything that you select must be either \"grouped by\" or be aggregated through a function, like sum(). "
   ]
  },
  {
   "cell_type": "code",
   "execution_count": null,
   "metadata": {
    "vscode": {
     "languageId": "sql"
    }
   },
   "outputs": [],
   "source": [
    "%%bash -s \"$MY_NOTEBOOK_VOYAGER_TMP\"\n",
    "NOTEBOOK_VOYAGER_TMP=${1}\n",
    "\n",
    "FILE_PATH=$NOTEBOOK_VOYAGER_TMP/export-dir/schema/views/view.sql\n",
    "\n",
    "gp open $FILE_PATH"
   ]
  },
  {
   "cell_type": "markdown",
   "metadata": {},
   "source": [
    "Use the editor to replace the view with the following:"
   ]
  },
  {
   "cell_type": "code",
   "execution_count": null,
   "metadata": {
    "vscode": {
     "languageId": "sql"
    }
   },
   "outputs": [],
   "source": [
    "CREATE OR REPLACE VIEW sales_by_store AS \n",
    "select \n",
    "    concat(c.city,',',cy.country) AS store,\n",
    "    concat(m.first_name,' ',m.last_name) AS manager,\n",
    "    sum(p.amount) AS total_sales \n",
    "FROM (((((((payment p join rental r on (p.rental_id = r.rental_id)) join inventory i on (r.inventory_id = i.inventory_id)) join store s on (i.store_id = s.store_id)) join address a on (s.address_id = a.address_id)) join city c on (a.city_id = c.city_id)) join country cy on (c.country_id = cy.country_id)) join staff m on (s.manager_staff_id = m.staff_id))\n",
    "group by c.city, cy.country, m.first_name, m.last_name\n",
    "order by cy.country, c.city;"
   ]
  },
  {
   "cell_type": "markdown",
   "metadata": {},
   "source": [
    "Save your changes."
   ]
  },
  {
   "cell_type": "markdown",
   "metadata": {},
   "source": [
    "---\n",
    "## Rinse & Repeat: Import the modified schema (4)"
   ]
  },
  {
   "cell_type": "markdown",
   "metadata": {},
   "source": [
    "Rerun `import schema` again."
   ]
  },
  {
   "cell_type": "code",
   "execution_count": null,
   "metadata": {
    "vscode": {
     "languageId": "shellscript"
    }
   },
   "outputs": [],
   "source": [
    "%%bash -s \"$MY_DB_NAME\"  \"$MY_DB_PORT\" \"$MY_HOST_IPv4_01\" \"$MY_NOTEBOOK_VOYAGER_TMP\"\n",
    "DB_NAME=${1}\n",
    "DB_PORT=${2}\n",
    "DB_HOST=${3}\n",
    "NOTEBOOK_VOYAGER_TMP=${4}\n",
    "IMPORT_SCHEMA_LOG=yb-voyager-import-schema.log\n",
    "\n",
    "# delete the log so that we can get a fresh view\n",
    "rm -rf $NOTEBOOK_VOYAGER_TMP/export-dir/logs/$IMPORT_SCHEMA_LOG\n",
    "\n",
    "yb-voyager import schema  --start-clean  -y  \\\n",
    "  --export-dir $NOTEBOOK_VOYAGER_TMP/export-dir \\\n",
    "  --target-db-host ${DB_HOST} \\\n",
    "  --target-db-port  ${DB_PORT} \\\n",
    "  --target-db-name  ${DB_NAME} \\\n",
    "  --target-db-user \"ybvoyager\" \\\n",
    "  --target-db-password \"Password\" \\\n",
    "  --target-db-schema \"sakila\" > /dev/null\n",
    "  "
   ]
  },
  {
   "cell_type": "markdown",
   "metadata": {},
   "source": [
    "Great! That worked!\n",
    "No errors! Nicely done 🙌 "
   ]
  },
  {
   "cell_type": "markdown",
   "metadata": {},
   "source": [
    "---\n",
    "## Sanity check: Verify the imported schema in YugabyteDB"
   ]
  },
  {
   "cell_type": "markdown",
   "metadata": {},
   "source": [
    "First, list the schemas using the `\\dn` meta command."
   ]
  },
  {
   "cell_type": "code",
   "execution_count": null,
   "metadata": {
    "vscode": {
     "languageId": "shellscript"
    }
   },
   "outputs": [],
   "source": [
    "%%bash -s \"$MY_YB_PATH\" \"$MY_DB_NAME\"  # create database\n",
    "YB_PATH=${1}\n",
    "DB_NAME=${2}\n",
    "\n",
    "cd $YB_PATH\n",
    "\n",
    "# meta commands\n",
    "\n",
    "./bin/ysqlsh -d ${DB_NAME} -U ybvoyager -c \"\\dn\""
   ]
  },
  {
   "cell_type": "markdown",
   "metadata": {},
   "source": [
    "Next, list the tables using the `\\dt` meta command."
   ]
  },
  {
   "cell_type": "code",
   "execution_count": null,
   "metadata": {
    "vscode": {
     "languageId": "shellscript"
    }
   },
   "outputs": [],
   "source": [
    "%%bash -s \"$MY_YB_PATH\" \"$MY_DB_NAME\"  # create database\n",
    "YB_PATH=${1}\n",
    "DB_NAME=${2}\n",
    "\n",
    "cd $YB_PATH\n",
    "\n",
    "# meta commands\n",
    "\n",
    "./bin/ysqlsh -d ${DB_NAME} -U ybvoyager -c \"\\dt sakila.\"\n"
   ]
  },
  {
   "cell_type": "markdown",
   "metadata": {
    "vscode": {
     "languageId": "shellscript"
    }
   },
   "source": [
    "Verify the views using the `\\dv` meta command."
   ]
  },
  {
   "cell_type": "code",
   "execution_count": null,
   "metadata": {
    "vscode": {
     "languageId": "shellscript"
    }
   },
   "outputs": [],
   "source": [
    "%%bash -s \"$MY_YB_PATH\" \"$MY_DB_NAME\"  # create database\n",
    "YB_PATH=${1}\n",
    "DB_NAME=${2}\n",
    "\n",
    "cd $YB_PATH\n",
    "\n",
    "./bin/ysqlsh -d ${DB_NAME} -U ybvoyager -c \"\\dv sakila.\""
   ]
  },
  {
   "cell_type": "markdown",
   "metadata": {},
   "source": [
    "Verify the index creation with a PostgreSQL query.\n"
   ]
  },
  {
   "cell_type": "code",
   "execution_count": null,
   "metadata": {
    "vscode": {
     "languageId": "shellscript"
    }
   },
   "outputs": [],
   "source": [
    "%%bash -s \"$MY_YB_PATH\" \"$MY_DB_NAME\"  # create database\n",
    "YB_PATH=${1}\n",
    "DB_NAME=${2}\n",
    "SQL_PG_INDEXES=\"select tablename, indexname, indexdef from pg_indexes where schemaname = 'sakila' order by tablename, indexname;\"\n",
    "cd $YB_PATH\n",
    "\n",
    "# query\n",
    "\n",
    "./bin/ysqlsh -d ${DB_NAME} -U ybvoyager -c \"${SQL_PG_INDEXES}\""
   ]
  },
  {
   "cell_type": "markdown",
   "metadata": {},
   "source": [
    "Verify the trigger creation with a PostgreSQL query."
   ]
  },
  {
   "cell_type": "code",
   "execution_count": null,
   "metadata": {
    "vscode": {
     "languageId": "shellscript"
    }
   },
   "outputs": [],
   "source": [
    "%%bash -s \"$MY_YB_PATH\" \"$MY_DB_NAME\"  # create database\n",
    "YB_PATH=${1}\n",
    "DB_NAME=${2}\n",
    "\n",
    "SQL_PG_TRIGGERS=\"select  event_object_table AS table_name, trigger_name from information_schema.triggers where trigger_schema = 'sakila' group by table_name, trigger_name order by table_name, trigger_name;\"\n",
    "\n",
    "\n",
    "cd $YB_PATH\n",
    "./bin/ysqlsh -d ${DB_NAME} -U ybvoyager -c \"${SQL_PG_TRIGGERS}\""
   ]
  },
  {
   "cell_type": "markdown",
   "metadata": {},
   "source": [
    "---\n",
    "## Export source data\n",
    "Export the source data from the source database using `yb-voyager`.  First, review the help for the command, `yb-voyager export data`.\n"
   ]
  },
  {
   "cell_type": "code",
   "execution_count": null,
   "metadata": {
    "vscode": {
     "languageId": "shellscript"
    }
   },
   "outputs": [],
   "source": [
    "%%bash\n",
    "\n",
    "yb-voyager export data --help"
   ]
  },
  {
   "cell_type": "markdown",
   "metadata": {},
   "source": [
    "\n",
    "> Note:\n",
    "> \n",
    "> The `source-db-schema` argument is not applicable to MySQL.\n",
    ">\n",
    "> The `-y` argument says yes to all prompts.\n",
    ">\n",
    "> BETA_FAST_DATA_EXPORT=1 is an environment variable.\n",
    "> "
   ]
  },
  {
   "cell_type": "markdown",
   "metadata": {},
   "source": [
    "Run the export data command."
   ]
  },
  {
   "cell_type": "code",
   "execution_count": null,
   "metadata": {
    "vscode": {
     "languageId": "shellscript"
    }
   },
   "outputs": [],
   "source": [
    "%%bash -s \"$MY_MYSQL_DB_NAME\"  \"$MY_MYSQL_PORT\" \"$MY_HOST_IPv4_01\" \"$MY_NOTEBOOK_VOYAGER_TMP\"\n",
    "DB_NAME=${1}\n",
    "DB_PORT=${2}\n",
    "DB_HOST=${3}\n",
    "NOTEBOOK_VOYAGER_TMP=${4}\n",
    "\n",
    "yb-voyager export data -y --start-clean --disable-pb --send-diagnostics false \\\n",
    "  --export-dir $NOTEBOOK_VOYAGER_TMP/export-dir \\\n",
    "  --source-db-type \"MYSQL\" \\\n",
    "  --source-db-host ${DB_HOST} \\\n",
    "  --source-db-port  ${DB_PORT} \\\n",
    "  --source-db-name  ${DB_NAME} \\\n",
    "  --source-db-user \"ybvoyager\" \\\n",
    "  --source-db-password \"Yugabyte#1\" > /dev/null\n",
    "  \n",
    "       "
   ]
  },
  {
   "cell_type": "markdown",
   "metadata": {},
   "source": [
    "> Problems?\n",
    "> \n",
    "> In case there are issues with the above and you need to kill the process, you can uncomment and run the following:"
   ]
  },
  {
   "cell_type": "code",
   "execution_count": null,
   "metadata": {
    "vscode": {
     "languageId": "shellscript"
    }
   },
   "outputs": [],
   "source": [
    "%%bash \n",
    "# ps -eaf | grep yb-voyager | grep -v grep | awk '{ print $2 }' | xargs kill -9\n",
    "# ps -aux | grep 'yb-voyager'"
   ]
  },
  {
   "cell_type": "markdown",
   "metadata": {},
   "source": [
    "Review the Voyager log file for the export."
   ]
  },
  {
   "cell_type": "code",
   "execution_count": null,
   "metadata": {
    "vscode": {
     "languageId": "shellscript"
    }
   },
   "outputs": [],
   "source": [
    "%%bash -s \"$MY_NOTEBOOK_VOYAGER_TMP\"\n",
    "NOTEBOOK_VOYAGER_TMP=${1}\n",
    "EXPORT_DATA_LOG=yb-voyager-export-data.log\n",
    "\n",
    "tail -n 200 $NOTEBOOK_VOYAGER_TMP/export-dir/logs/$EXPORT_DATA_LOG\n",
    "gp open $NOTEBOOK_VOYAGER_TMP/export-dir/logs/$EXPORT_DATA_LOG"
   ]
  },
  {
   "attachments": {},
   "cell_type": "markdown",
   "metadata": {
    "deletable": false,
    "editable": false
   },
   "source": [
    "---\n",
    "\n",
    "## 😊 Next up!\n",
    "Continue your learning by opening the next notebook, `05_Migration_Workflow_Import.ipynb`. \n",
    "\n",
    "Or, if using GitPod, run the following cell:"
   ]
  },
  {
   "cell_type": "code",
   "execution_count": null,
   "metadata": {
    "vscode": {
     "languageId": "shellscript"
    }
   },
   "outputs": [],
   "source": [
    "%%bash\n",
    "gp open '05_Migration_Workflow_Import.ipynb'"
   ]
  }
 ],
 "metadata": {
  "kernelspec": {
   "display_name": "Python 3.7.9 64-bit",
   "language": "python",
   "name": "python3"
  },
  "language_info": {
   "codemirror_mode": {
    "name": "ipython",
    "version": 3
   },
   "file_extension": ".py",
   "mimetype": "text/x-python",
   "name": "python",
   "nbconvert_exporter": "python",
   "pygments_lexer": "ipython3",
   "version": "3.11.2"
  },
  "orig_nbformat": 4,
  "vscode": {
   "interpreter": {
    "hash": "aee8b7b246df8f9039afb4144a1f6fd8d2ca17a180786b69acc140d282b71a49"
   }
  }
 },
 "nbformat": 4,
 "nbformat_minor": 2
}
