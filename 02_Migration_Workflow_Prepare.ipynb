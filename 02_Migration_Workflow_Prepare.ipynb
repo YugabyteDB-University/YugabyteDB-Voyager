{
 "cells": [
  {
   "attachments": {},
   "cell_type": "markdown",
   "metadata": {
    "deletable": false,
    "editable": false
   },
   "source": [
    "<div style=\"width:100%; background-color: #000041\"><a target=\"_blank\" href=\"http://university.yugabyte.com\"><img src=\"assets/YBU_Logo.png\" /></a></div><br>\n",
    "\n",
    "> **Migrate and Modernize with YugabyteDB Voyager**\n",
    ">\n",
    "> Enroll for free at [Yugabyte University](https://university.yugabyte.com/courses/YugabyteDB-Voyager).\n",
    ">\n",
    "\n",
    "<br>\n",
    "This notebook file is:\n",
    "\n",
    " `02_Migration_Workflow_Prepare.ipynb`"
   ]
  },
  {
   "attachments": {},
   "cell_type": "markdown",
   "metadata": {},
   "source": [
    "## 🛠️ Requirements\n",
    "Here are the requirements for this notebook:\n",
    "- ✅ Create the notebook variables in `01_Lab_Setup.ipynb`, which you previously did\n",
    "- ✅ Create the `ds_ybu` database, which you previously did\n",
    "- ☑️ A Python 3.12 or higher kernel for the notebook, *which you need to select right now!!!*\n",
    "- ☑️ Import the notebook variables, *which you must do next*\n",
    "- ☑️ Review the source database, *which you must do next*\n",
    "- ☑️ Prepare workflow,  *which you must do next*\n",
    "\n",
    "### Select your notebook kernel\n",
    "- In the Notebook toolbar, click **Select Kernel**.\n",
    "<br>\n",
    "<img width=50% src=\"assets/01_01_Select_Kernel_Toolbar.png\" />\n",
    "\n",
    "- Next, in the dropdown, select **Python 3.12** or higher.\n",
    "<br>\n",
    "<img width=50% src=\"assets/01_02_Select_Kernel_Dropdown.png\" />\n",
    "\n",
    "That's it!"
   ]
  },
  {
   "attachments": {},
   "cell_type": "markdown",
   "metadata": {},
   "source": [
    "## ⛑️ Getting help\n",
    "The best way to get help us from the Yugabyte University team. You can post your question in YugabyteDB Community Slack in the #training or #yb-university channels. Join our [community](https://communityinviter.com/apps/yugabyte-db/register)."
   ]
  },
  {
   "attachments": {},
   "cell_type": "markdown",
   "metadata": {
    "deletable": false,
    "editable": false
   },
   "source": [
    "## 👣 Set up steps for this notebook\n",
    "Here are the steps to setup this lab:\n",
    "\n",
    "- Import the notebook variables"
   ]
  },
  {
   "attachments": {},
   "cell_type": "markdown",
   "metadata": {
    "deletable": false,
    "editable": false
   },
   "source": [
    "### 👇 Import the notebook variables\n",
    "\n",
    "> 👉 IMPORTANT! 👈\n",
    "> \n",
    "> Do **NOT** skip running the following cell. \n",
    "> \n",
    "\n",
    "The following Python cell reads the stored variables created in the `01_Lab_Setup.ipynb` notebook. To run the script, select Execute Cell (Play Arrow) in the left gutter of the cell. \n",
    "\n",
    "👇 👇 👇 "
   ]
  },
  {
   "cell_type": "code",
   "execution_count": null,
   "metadata": {
    "deletable": false,
    "editable": false
   },
   "outputs": [],
   "source": [
    "# Use %store -r to read 01_Lab_Setup variables\n",
    "%store -r MY_YB_PATH\n",
    "%store -r MY_YB_PATH_DATA\n",
    "\n",
    "%store -r MY_GITPOD_WORKSPACE_URL\n",
    "\n",
    "%store -r MY_DB_NAME\n",
    "%store -r MY_DB_PORT\n",
    "%store -r MY_MYSQL_DB_NAME\n",
    "\n",
    "%store -r MY_HOST_IPv4_01\n",
    "%store -r MY_HOST_IPv4_02\n",
    "%store -r MY_HOST_IPv4_03\n",
    "\n",
    "%store -r MY_TSERVER_WEBSERVER_PORT\n",
    "%store -r MY_MYSQL_PORT\n",
    "\n",
    "%store -r MY_YB_MASTER_HOST_GITPOD_URL\n",
    "%store -r MY_YB_TSERVER_HOST_GITPOD_URL\n",
    "\n",
    "%store -r MY_NOTEBOOK_DIR\n",
    "%store -r MY_NOTEBOOK_DATA_FOLDER\n",
    "%store -r MY_NOTEBOOK_UTILS_FOLDER\n",
    "%store -r MY_NOTEBOOK_VOYAGER_TMP\n",
    "\n",
    "%store -r MY_UTIL_FUNCTIONS_FILE\n",
    "%store -r MY_UTIL_YBTSERVER_METRICS_FILE\n",
    "\n",
    "%store -r BETA_FAST_DATA_EXPORT"
   ]
  },
  {
   "attachments": {},
   "cell_type": "markdown",
   "metadata": {
    "deletable": false,
    "editable": false
   },
   "source": [
    "---\n",
    "# Review the MySQL database for migration to Highly Available PostgreSQL\n",
    "\n",
    "Here is the related schema for the Sakila database.\n",
    "\n",
    "<div style=\"width:100%; background-color: #000041\"><a target=\"_blank\" href=\"https://dev.mysql.com/doc/sakila/en/sakila-structure.html\"><img src=\"assets/sakila-schema.png\" /></a></div>\n",
    "\n",
    "Using `mysql`, you can execute MySQL statements.  The following commands are MySQL shell commands. "
   ]
  },
  {
   "cell_type": "markdown",
   "metadata": {},
   "source": [
    "To review the **tables** in the MySQL database, run the following cell:"
   ]
  },
  {
   "cell_type": "code",
   "execution_count": null,
   "metadata": {
    "vscode": {
     "languageId": "shellscript"
    }
   },
   "outputs": [],
   "source": [
    "%%bash -s \"$MY_MYSQL_DB_NAME\"  \n",
    "DB_NAME=${1}\n",
    "\n",
    "mysql -h 0 -u root ${DB_NAME} -e \"SHOW TABLE STATUS; \"  "
   ]
  },
  {
   "cell_type": "markdown",
   "metadata": {},
   "source": [
    "To review the **views** in the MySQL database, run the following cell:"
   ]
  },
  {
   "cell_type": "code",
   "execution_count": null,
   "metadata": {
    "vscode": {
     "languageId": "shellscript"
    }
   },
   "outputs": [],
   "source": [
    "%%bash -s \"$MY_MYSQL_DB_NAME\"  \n",
    "DB_NAME=${1}\n",
    "\n",
    "mysql -h 0 -u root ${DB_NAME} -e \"SHOW FULL TABLES WHERE Table_Type LIKE 'VIEW';\"\n"
   ]
  },
  {
   "cell_type": "markdown",
   "metadata": {},
   "source": [
    "To view all the **indexes** for the tables, run the following the following cell:"
   ]
  },
  {
   "cell_type": "code",
   "execution_count": null,
   "metadata": {
    "vscode": {
     "languageId": "shellscript"
    }
   },
   "outputs": [],
   "source": [
    "%%bash -s \"$MY_MYSQL_DB_NAME\" \n",
    "DB_NAME=${1}\n",
    "\n",
    "mysql -h 0 -u root ${DB_NAME} -e \"SELECT DISTINCT TABLE_NAME, INDEX_NAME FROM INFORMATION_SCHEMA.STATISTICS WHERE TABLE_SCHEMA = '${DB_NAME}'; \" "
   ]
  },
  {
   "cell_type": "markdown",
   "metadata": {},
   "source": [
    "To review the **user-defined functions** in the MySQL database, run the following cell:"
   ]
  },
  {
   "cell_type": "code",
   "execution_count": null,
   "metadata": {
    "vscode": {
     "languageId": "shellscript"
    }
   },
   "outputs": [],
   "source": [
    "%%bash -s \"$MY_MYSQL_DB_NAME\"  \n",
    "DB_NAME=${1}\n",
    "\n",
    "mysql -h 0 -u root ${DB_NAME} -e \"SHOW FUNCTION STATUS WHERE db = '${DB_NAME}'; \"  "
   ]
  },
  {
   "cell_type": "markdown",
   "metadata": {},
   "source": [
    "To review the **triggers** in the MySQL database, run the following cell:"
   ]
  },
  {
   "cell_type": "code",
   "execution_count": null,
   "metadata": {
    "vscode": {
     "languageId": "shellscript"
    }
   },
   "outputs": [],
   "source": [
    "%%bash -s \"$MY_MYSQL_DB_NAME\"  \n",
    "DB_NAME=${1}\n",
    "\n",
    "mysql -h 0 -u root ${DB_NAME} -e \"SHOW TRIGGERS;\""
   ]
  },
  {
   "cell_type": "markdown",
   "metadata": {},
   "source": [
    "To review the **stored procedures** in the MySQL database, run the following cell:"
   ]
  },
  {
   "cell_type": "code",
   "execution_count": null,
   "metadata": {
    "vscode": {
     "languageId": "shellscript"
    }
   },
   "outputs": [],
   "source": [
    "%%bash -s \"$MY_MYSQL_DB_NAME\"  \n",
    "DB_NAME=${1}\n",
    "\n",
    "mysql -h 0 -u root ${DB_NAME} -e \"SHOW PROCEDURE STATUS WHERE db = '${DB_NAME}'; \"   \n"
   ]
  },
  {
   "cell_type": "markdown",
   "metadata": {},
   "source": [
    "---\n",
    "# Workflow: Prepare\n",
    "\n",
    "\n",
    "<div style=\"width:100%; background-color: #000041\"><img src=\"assets/MVOY100_03_1-Prepare.png\" /></div>"
   ]
  },
  {
   "cell_type": "markdown",
   "metadata": {},
   "source": [
    "## Install YB-Voyager\n",
    "\n",
    "Good news! This notebook environment in Gitpod already has YB-Voyager installed.  If you are curious about how to install YugabyteDB Voyager in your environment, check out these resources:\n",
    "- [Download YugabteDB Voyager](https://download.yugabyte.com/migrate)\n",
    "- [Install YugabyteDB Voyager](https://docs.yugabyte.com/preview/yugabyte-voyager/install-yb-voyager/)"
   ]
  },
  {
   "cell_type": "markdown",
   "metadata": {},
   "source": [
    "## Prepare MySQL source"
   ]
  },
  {
   "cell_type": "code",
   "execution_count": null,
   "metadata": {},
   "outputs": [],
   "source": [
    "from __future__ import print_function\n",
    "from datetime import date, datetime, timedelta\n",
    "import mysql.connector\n",
    "\n",
    "# env_var.env\n",
    "db_host=MY_HOST_IPv4_01\n",
    "db_name=MY_MYSQL_DB_NAME\n",
    "db_port=MY_MYSQL_PORT\n",
    "\n",
    "# sql statements for grants for ybvoyager user\n",
    "SQL_STATEMENTS = {} \n",
    "\n",
    "SQL_STATEMENTS['create_user_1'] = (\"CREATE USER 'ybvoyager'@'127.0.0.1' IDENTIFIED WITH  mysql_native_password BY 'Yugabyte#1'\")\n",
    "#SQL_STATEMENTS['create_user_2'] = (\"CREATE USER 'ybvoyager'@'locahost' IDENTIFIED WITH  mysql_native_password BY 'Yugabyte#1'\")\n",
    "\n",
    "SQL_STATEMENTS['grant_process_1'] = (\"GRANT PROCESS ON *.* TO 'ybvoyager'@'127.0.0.1'\")\n",
    "#SQL_STATEMENTS['grant_process_2'] = (\"GRANT PROCESS ON *.* TO 'ybvoyager'@'localhost'\")\n",
    "\n",
    "SQL_STATEMENTS['grant_select_1'] = (\"GRANT SELECT ON sakila.* TO 'ybvoyager'@'127.0.0.1'\")\n",
    "#SQL_STATEMENTS['grant_select_2'] = (\"GRANT SELECT ON sakila.* TO 'ybvoyager'@'localhost'\")\n",
    "\n",
    "SQL_STATEMENTS['grant_show_view_1'] = (\"GRANT SHOW VIEW ON sakila.* TO 'ybvoyager'@'127.0.0.1'\")\n",
    "#SQL_STATEMENTS['grant_show_view_2'] = (\"GRANT SHOW VIEW ON sakila.* TO 'ybvoyager'@'localhost'\")\n",
    "\n",
    "SQL_STATEMENTS['grant_trigger_1'] = (\"GRANT TRIGGER ON sakila.* TO 'ybvoyager'@'127.0.0.1'\")\n",
    "#SQL_STATEMENTS['grant_trigger_2'] = (\"GRANT TRIGGER ON sakila.* TO 'ybvoyager'@'localhost'\")\n",
    "\n",
    "SQL_STATEMENTS['grant_flush_1'] = (\"GRANT FLUSH_TABLES ON *.* TO 'ybvoyager'@'127.0.0.1'\")\n",
    "#SQL_STATEMENTS['grant_flush_2'] = (\"GRANT FLUSH_TABLES ON *.* TO 'ybvoyager'@'localhost'\")\n",
    "\n",
    "SQL_STATEMENTS['grant_replication_1'] = (\"GRANT REPLICATION CLIENT ON *.* TO 'ybvoyager'@'127.0.0.1'\")\n",
    "#SQL_STATEMENTS['grant_replication_2'] = (\"GRANT REPLICATION CLIENT ON *.* TO 'ybvoyager'@'localhost'\")\n",
    "\n",
    "SQL_STATEMENTS['grant_routine_1'] = (\"GRANT SHOW_ROUTINE ON *.* TO 'ybvoyager'@'127.0.0.1'\")\n",
    "#SQL_STATEMENTS['grant_routine_2'] = (\"GRANT SHOW_ROUTINE ON *.* TO 'ybvoyager'@'localhost'\")\n",
    "\n",
    "\n",
    "# Create connection\n",
    "cnx = mysql.connector.connect(user='root',\n",
    "                              host='127.0.0.1',\n",
    "                              database=db_name)\n",
    "cursor = cnx.cursor()\n",
    "\n",
    "# Execute statements\n",
    "for sql_name in SQL_STATEMENTS:\n",
    "    sql_statement = SQL_STATEMENTS[sql_name]\n",
    "    try:\n",
    "        print(\"Running sql statement  {}: \".format(sql_name), end='')\n",
    "        cursor.execute(sql_statement)\n",
    "    except mysql.connector.Error as err:\n",
    "        print(err.msg)\n",
    "    else:\n",
    "        print(\"OK\")\n",
    "\n",
    "cursor.close()"
   ]
  },
  {
   "cell_type": "markdown",
   "metadata": {},
   "source": [
    "## Prepare YugabyteDB target"
   ]
  },
  {
   "cell_type": "markdown",
   "metadata": {},
   "source": [
    "Create the target database in your YugabyteDB cluster. The database name can be the same or different from the source database name. If the target database name is not provided, yb-voyager assumes the target database name to be yugabyte. If you do not want to import in the default yugabyte database, specify the name of the target database name using the --target-db-name argument to the yb-voyager import commands.\n",
    "\n",
    "```\n",
    "CREATE DATABASE target_db_name;\n",
    "``````\n",
    "\n",
    "### Create a user with SUPERUSER role.\n",
    "\n",
    "For a local YugabyteDB cluster or YugabyteDB Anywhere, create a user and role with the superuser privileges using the following command:\n",
    "\n",
    "```\n",
    "CREATE USER ybvoyager SUPERUSER PASSWORD 'password';\n",
    "```\n",
    "\n",
    "For YugabyteDB Managed, create a user with yb_superuser role using the following command:\n",
    "\n",
    "```\n",
    "CREATE USER ybvoyager PASSWORD 'password';\n",
    "GRANT yb_superuser TO ybvoyager;\n",
    "```"
   ]
  },
  {
   "cell_type": "code",
   "execution_count": null,
   "metadata": {
    "vscode": {
     "languageId": "shellscript"
    }
   },
   "outputs": [],
   "source": [
    "%%bash -s \"$MY_YB_PATH\" \"$MY_DB_NAME\"  \n",
    "YB_PATH=${1}\n",
    "DB_NAME=${2}\n",
    "\n",
    "cd $YB_PATH\n",
    "\n",
    "./bin/ysqlsh -d yugabyte -c \"drop user if exists ybvoyager;\"  \n",
    "./bin/ysqlsh -d yugabyte -c \"create user ybvoyager SUPERUSER PASSWORD 'password';\"  \n",
    "\n",
    "./bin/ysqlsh -d yugabyte -c \"\\l\"  "
   ]
  },
  {
   "attachments": {},
   "cell_type": "markdown",
   "metadata": {
    "deletable": false,
    "editable": false
   },
   "source": [
    "---\n",
    "\n",
    "## 😊 Next up!\n",
    "Continue your learning by opening the next notebook, `03_Migration_Workflow_Migrate_Schema_1.ipynb`. \n",
    "\n",
    "Or, if using GitPod, run the following cell:"
   ]
  },
  {
   "cell_type": "code",
   "execution_count": null,
   "metadata": {
    "vscode": {
     "languageId": "shellscript"
    }
   },
   "outputs": [],
   "source": [
    "%%bash\n",
    "gp open '03_Migration_Workflow_Migrate_Schema_1.ipynb'"
   ]
  }
 ],
 "metadata": {
  "kernelspec": {
   "display_name": "Python 3.7.9 64-bit",
   "language": "python",
   "name": "python3"
  },
  "language_info": {
   "codemirror_mode": {
    "name": "ipython",
    "version": 3
   },
   "file_extension": ".py",
   "mimetype": "text/x-python",
   "name": "python",
   "nbconvert_exporter": "python",
   "pygments_lexer": "ipython3",
   "version": "3.11.2"
  },
  "orig_nbformat": 4,
  "vscode": {
   "interpreter": {
    "hash": "aee8b7b246df8f9039afb4144a1f6fd8d2ca17a180786b69acc140d282b71a49"
   }
  }
 },
 "nbformat": 4,
 "nbformat_minor": 2
}
