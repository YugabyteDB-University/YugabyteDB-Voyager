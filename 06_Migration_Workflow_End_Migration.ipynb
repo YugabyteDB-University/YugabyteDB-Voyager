{
 "cells": [
  {
   "attachments": {},
   "cell_type": "markdown",
   "metadata": {
    "deletable": false,
    "editable": false
   },
   "source": [
    "<div style=\"width:100%; background-color: #000041\"><a target=\"_blank\" href=\"http://university.yugabyte.com\"><img src=\"assets/YBU_Logo.png\" /></a></div><br>\n",
    "\n",
    "> **Migrate and Modernize with YugabyteDB Voyager**\n",
    ">\n",
    "> Enroll for free at [Yugabyte University](https://university.yugabyte.com/courses/YugabyteDB-Voyager).\n",
    ">\n",
    "\n",
    "<br>\n",
    "This notebook file is:\n",
    "\n",
    "`06_Migration_Workflow_End_Migration.ipynb`\n"
   ]
  },
  {
   "attachments": {},
   "cell_type": "markdown",
   "metadata": {},
   "source": [
    "## 🛠️ Requirements\n",
    "Here are the requirements for this notebook:\n",
    "- ✅ Create the notebook variables in `01_Lab_Setup.ipynb`, which you previously did\n",
    "- ✅ Create the `ds_ybu` database, which you previously did\n",
    "- ☑️ A Python 3.12 or higher kernel for the notebook, *which you need to select right now!!!*\n",
    "- ☑️ Import the notebook variables, *which you must do next*\n",
    "- ☑️ Migrate data workflow, *which you must do next*\n",
    "\n",
    "\n",
    "### Select your notebook kernel\n",
    "- In the Notebook toolbar, click **Select Kernel**.\n",
    "<br>\n",
    "<img width=50% src=\"assets/01_01_Select_Kernel_Toolbar.png\" />\n",
    "\n",
    "- Next, in the dropdown, select **Python 3.12** or higher.\n",
    "<br>\n",
    "<img width=50% src=\"assets/01_02_Select_Kernel_Dropdown.png\" />\n",
    "\n",
    "That's it!"
   ]
  },
  {
   "attachments": {},
   "cell_type": "markdown",
   "metadata": {},
   "source": [
    "## ⛑️ Getting help\n",
    "The best way to get help us from the Yugabyte University team. You can post your question in YugabyteDB Community Slack in the #training or #yb-university channels. Join our [community](https://communityinviter.com/apps/yugabyte-db/register)."
   ]
  },
  {
   "attachments": {},
   "cell_type": "markdown",
   "metadata": {
    "deletable": false,
    "editable": false
   },
   "source": [
    "## 👣 Set up steps for this notebook\n",
    "Here are the steps to setup this lab:\n",
    "\n",
    "- Import the notebook variables"
   ]
  },
  {
   "attachments": {},
   "cell_type": "markdown",
   "metadata": {
    "deletable": false,
    "editable": false
   },
   "source": [
    "### 👇 Import the notebook variables\n",
    "\n",
    "> 👉 IMPORTANT! 👈\n",
    "> \n",
    "> Do **NOT** skip running the following cell. \n",
    "> \n",
    "\n",
    "The following Python cell reads the stored variables created in the `01_Lab_Setup.ipynb` notebook. To run the script, select Execute Cell (Play Arrow) in the left gutter of the cell. \n",
    "\n",
    "👇 👇 👇 "
   ]
  },
  {
   "cell_type": "code",
   "execution_count": null,
   "metadata": {
    "deletable": false,
    "editable": false
   },
   "outputs": [],
   "source": [
    "# Use %store -r to read 01_Lab_Setup variables\n",
    "%store -r \n",
    "%config SqlMagic.autopandas=False\n",
    "# %config SqlMagic.named_parameters=True\n",
    "%config SqlMagic.displaylimit=30\n",
    "%config SqlMagic.displaycon=False"
   ]
  },
  {
   "cell_type": "markdown",
   "metadata": {},
   "source": [
    "**Update the notebook styling**"
   ]
  },
  {
   "cell_type": "code",
   "execution_count": null,
   "metadata": {},
   "outputs": [],
   "source": [
    "from IPython.core.display import HTML\n",
    "def css_styling():\n",
    "    styles = open(\"./styles/custom.css\", \"r\").read()\n",
    "    return HTML(styles)\n",
    "css_styling()"
   ]
  },
  {
   "cell_type": "markdown",
   "metadata": {},
   "source": [
    "---\n",
    "# Workflow: Migrate data\n",
    "\n",
    "\n",
    "<div style=\"width:100%; background-color: #000041\"><img src=\"assets/MVOY100_04_1-End_Migration.png\" /></div>"
   ]
  },
  {
   "cell_type": "markdown",
   "metadata": {},
   "source": [
    "---\n",
    "## End migration\n",
    "To complete the migration, the next workflow is to end it using the Voyager CLI. The `end migration` command cleans up the export directory as well as clears out Voyager's internal state.\n"
   ]
  },
  {
   "cell_type": "code",
   "execution_count": null,
   "metadata": {
    "vscode": {
     "languageId": "shellscript"
    }
   },
   "outputs": [],
   "source": [
    "%%bash\n",
    "\n",
    "yb-voyager end migration --help"
   ]
  },
  {
   "cell_type": "markdown",
   "metadata": {},
   "source": [
    "Before running this command, create a backup directory for the migrated schema and data."
   ]
  },
  {
   "cell_type": "code",
   "execution_count": null,
   "metadata": {
    "vscode": {
     "languageId": "shellscript"
    }
   },
   "outputs": [],
   "source": [
    "%%bash -s \"$NB_NOTEBOOK_VOYAGER_TMP\"\n",
    "\n",
    "NOTEBOOK_VOYAGER_TMP=${1}\n",
    "echo $NOTEBOOK_VOYAGER_TMP\n",
    "rm -rf $NOTEBOOK_VOYAGER_TMP/backup-dir\n",
    "mkdir $NOTEBOOK_VOYAGER_TMP/backup-dir\n",
    "cp -r $NOTEBOOK_VOYAGER_TMP/export-dir  $NOTEBOOK_VOYAGER_TMP/my-export-dir"
   ]
  },
  {
   "cell_type": "markdown",
   "metadata": {},
   "source": [
    "Run the `end migration` command."
   ]
  },
  {
   "cell_type": "code",
   "execution_count": null,
   "metadata": {
    "vscode": {
     "languageId": "shellscript"
    }
   },
   "outputs": [],
   "source": [
    "%%bash -s \"$NB_NOTEBOOK_VOYAGER_TMP\" \"$TARGET_DB_PASSWORD\"\n",
    "NOTEBOOK_VOYAGER_TMP=${1}\n",
    "export TARGET_DB_PASSWORD=${2}\n",
    "#echo $NOTEBOOK_VOYAGER_TMP\n",
    "#echo $TARGET_DB_PASSWORD\n",
    "printenv TARGET_DB_PASSWORD\n",
    "\n",
    "yb-voyager end migration -y \\\n",
    "  --export-dir $NOTEBOOK_VOYAGER_TMP/export-dir \\\n",
    "  --backup-dir $NOTEBOOK_VOYAGER_TMP/backup-dir \\\n",
    "  --backup-data-files true \\\n",
    "  --backup-schema-files true \\\n",
    "  --backup-log-files false \\\n",
    "  --save-migration-reports false \n"
   ]
  },
  {
   "cell_type": "markdown",
   "metadata": {},
   "source": [
    "### Connect to YugabyteDB using the PostgreSQL Driver for Python"
   ]
  },
  {
   "cell_type": "code",
   "execution_count": null,
   "metadata": {},
   "outputs": [],
   "source": [
    "# Connect to db_ybu\n",
    "# Inspiration from https://medium.com/analytics-vidhya/postgresql-integration-with-jupyter-notebook-deb97579a38d\n",
    "import psycopg2\n",
    "import sqlalchemy as alc\n",
    "from sqlalchemy import create_engine\n",
    "\n",
    "# env_var.env\n",
    "db_host=MY_HOST_IPv4_01\n",
    "db_name=MY_DB_NAME\n",
    "\n",
    "connection_str='postgresql://yugabyte@'+db_host+':5433/'+db_name\n",
    "print(connection_str)\n",
    "engine = create_engine(connection_str)"
   ]
  },
  {
   "cell_type": "markdown",
   "metadata": {},
   "source": [
    "#### Load SQL magic extension\n",
    ">IMPORTANT!\n",
    ">\n",
    "> To use SQL magic, you must run the following cell that loads the notebook extension."
   ]
  },
  {
   "cell_type": "code",
   "execution_count": null,
   "metadata": {},
   "outputs": [],
   "source": [
    "%reload_ext sql\n",
    "# creates connection for sql magic\n",
    "%sql {connection_str}"
   ]
  },
  {
   "attachments": {},
   "cell_type": "markdown",
   "metadata": {
    "deletable": false,
    "editable": false
   },
   "source": [
    "### Cleanup the migration user\n",
    "On the YugabyteDB target database, the `ybvoyager` needs to be dropped."
   ]
  },
  {
   "cell_type": "code",
   "execution_count": null,
   "metadata": {
    "vscode": {
     "languageId": "sql"
    }
   },
   "outputs": [],
   "source": [
    "%%sql \n",
    "\n",
    "REASSIGN OWNED BY ybvoyager TO yugabyte;\n",
    "DROP OWNED BY ybvoyager;\n",
    "DROP USER ybvoyager;"
   ]
  },
  {
   "attachments": {},
   "cell_type": "markdown",
   "metadata": {
    "deletable": false,
    "editable": false
   },
   "source": [
    "---\n",
    "\n",
    "## 😊 Next up!\n",
    "Continue your learning by opening the next notebook, `07_Migrate_to_YugabyteDB_Managed.ipynb`. \n",
    "\n",
    "Or, to open the notebook from GitPod, run the following:"
   ]
  },
  {
   "cell_type": "code",
   "execution_count": null,
   "metadata": {
    "vscode": {
     "languageId": "shellscript"
    }
   },
   "outputs": [],
   "source": [
    "%%bash\n",
    "gp open '07_Migrate_to_YugabyteDB_Managed.ipynb'"
   ]
  }
 ],
 "metadata": {
  "kernelspec": {
   "display_name": "Python 3.7.9 64-bit",
   "language": "python",
   "name": "python3"
  },
  "language_info": {
   "codemirror_mode": {
    "name": "ipython",
    "version": 3
   },
   "file_extension": ".py",
   "mimetype": "text/x-python",
   "name": "python",
   "nbconvert_exporter": "python",
   "pygments_lexer": "ipython3",
   "version": "3.11.2"
  },
  "orig_nbformat": 4,
  "vscode": {
   "interpreter": {
    "hash": "aee8b7b246df8f9039afb4144a1f6fd8d2ca17a180786b69acc140d282b71a49"
   }
  }
 },
 "nbformat": 4,
 "nbformat_minor": 2
}
